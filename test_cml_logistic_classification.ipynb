{
 "cells": [
  {
   "cell_type": "code",
   "execution_count": 1,
   "metadata": {},
   "outputs": [],
   "source": [
    "from sklearn.model_selection import train_test_split\n",
    "from sklearn import datasets\n",
    "from sklearn.metrics import accuracy_score\n",
    "import matplotlib.pyplot as plt\n",
    "from logistic_classification import LogisticClassification\n",
    "import numpy as np\n",
    "from collections import Counter\n",
    "import numpy as np\n",
    "import pandas as pd"
   ]
  },
  {
   "cell_type": "code",
   "execution_count": 2,
   "metadata": {},
   "outputs": [
    {
     "name": "stdout",
     "output_type": "stream",
     "text": [
      "<class 'pandas.core.frame.DataFrame'>\n",
      "RangeIndex: 13378 entries, 0 to 13377\n",
      "Columns: 105 entries, Unnamed: 0 to type\n",
      "dtypes: float64(51), int64(3), object(51)\n",
      "memory usage: 10.7+ MB\n"
     ]
    },
    {
     "name": "stderr",
     "output_type": "stream",
     "text": [
      "/var/folders/mw/x398f5s545bffd989r6xpm100000gp/T/ipykernel_4563/3159828883.py:1: DtypeWarning: Columns (33) have mixed types. Specify dtype option on import or set low_memory=False.\n",
      "  df = pd.read_csv(\"immoscout_cleaned_lat_lon_fixed_v7.csv\")\n"
     ]
    }
   ],
   "source": [
    "df = pd.read_csv(\"immoscout_cleaned_lat_lon_fixed_v7.csv\")\n",
    "df.info()"
   ]
  },
  {
   "cell_type": "code",
   "execution_count": 3,
   "metadata": {},
   "outputs": [
    {
     "data": {
      "text/plain": [
       "21"
      ]
     },
     "execution_count": 3,
     "metadata": {},
     "output_type": "execute_result"
    }
   ],
   "source": [
    "len(df[\"type\"].unique())"
   ]
  },
  {
   "cell_type": "code",
   "execution_count": 4,
   "metadata": {},
   "outputs": [
    {
     "data": {
      "text/plain": [
       "array(['penthouse', 'terrace-house', 'detached-house', 'flat',\n",
       "       'stepped-house', 'farmhouse', 'semi-detached-house',\n",
       "       'stepped-apartment', 'duplex-maisonette', 'attic-flat', 'loft',\n",
       "       'chalet', 'villa', 'attic-room', 'secondary-suite', 'castle',\n",
       "       'detached-secondary-suite', 'studio',\n",
       "       'furnished-residential-property', 'rustico', 'single-room'],\n",
       "      dtype=object)"
      ]
     },
     "execution_count": 4,
     "metadata": {},
     "output_type": "execute_result"
    }
   ],
   "source": [
    "df[\"type\"].unique()"
   ]
  },
  {
   "cell_type": "code",
   "execution_count": 5,
   "metadata": {},
   "outputs": [
    {
     "data": {
      "text/plain": [
       "{'penthouse': 0,\n",
       " 'terrace-house': 1,\n",
       " 'detached-house': 2,\n",
       " 'flat': 3,\n",
       " 'stepped-house': 4,\n",
       " 'farmhouse': 5,\n",
       " 'semi-detached-house': 6,\n",
       " 'stepped-apartment': 7,\n",
       " 'duplex-maisonette': 8,\n",
       " 'attic-flat': 9,\n",
       " 'loft': 10,\n",
       " 'chalet': 11,\n",
       " 'villa': 12,\n",
       " 'attic-room': 13,\n",
       " 'secondary-suite': 14,\n",
       " 'castle': 15,\n",
       " 'detached-secondary-suite': 16,\n",
       " 'studio': 17,\n",
       " 'furnished-residential-property': 18,\n",
       " 'rustico': 19,\n",
       " 'single-room': 20}"
      ]
     },
     "execution_count": 5,
     "metadata": {},
     "output_type": "execute_result"
    }
   ],
   "source": [
    "# array to dict with python built in\n",
    "types_nrs = dict(enumerate(df[\"type\"].unique()))\n",
    "types_name = {v: k for k, v in types_nrs.items()}\n",
    "types_name"
   ]
  },
  {
   "cell_type": "code",
   "execution_count": 6,
   "metadata": {},
   "outputs": [],
   "source": [
    "# rename column type with type_dict\n",
    "df[\"type\"] = df[\"type\"].map(types_name)"
   ]
  },
  {
   "cell_type": "code",
   "execution_count": 7,
   "metadata": {},
   "outputs": [
    {
     "data": {
      "text/html": [
       "<div>\n",
       "<style scoped>\n",
       "    .dataframe tbody tr th:only-of-type {\n",
       "        vertical-align: middle;\n",
       "    }\n",
       "\n",
       "    .dataframe tbody tr th {\n",
       "        vertical-align: top;\n",
       "    }\n",
       "\n",
       "    .dataframe thead th {\n",
       "        text-align: right;\n",
       "    }\n",
       "</style>\n",
       "<table border=\"1\" class=\"dataframe\">\n",
       "  <thead>\n",
       "    <tr style=\"text-align: right;\">\n",
       "      <th></th>\n",
       "      <th>Unnamed: 0</th>\n",
       "      <th>lat</th>\n",
       "      <th>lon</th>\n",
       "      <th>index</th>\n",
       "      <th>ForestDensityL</th>\n",
       "      <th>ForestDensityM</th>\n",
       "      <th>ForestDensityS</th>\n",
       "      <th>Latitude</th>\n",
       "      <th>Longitude</th>\n",
       "      <th>NoisePollutionRailwayL</th>\n",
       "      <th>...</th>\n",
       "      <th>gde_population</th>\n",
       "      <th>gde_private_apartments</th>\n",
       "      <th>gde_social_help_quota</th>\n",
       "      <th>gde_tax</th>\n",
       "      <th>gde_workers_sector1</th>\n",
       "      <th>gde_workers_sector2</th>\n",
       "      <th>gde_workers_sector3</th>\n",
       "      <th>gde_workers_total</th>\n",
       "      <th>price_cleaned</th>\n",
       "      <th>type</th>\n",
       "    </tr>\n",
       "  </thead>\n",
       "  <tbody>\n",
       "    <tr>\n",
       "      <th>0</th>\n",
       "      <td>0</td>\n",
       "      <td>47.417100</td>\n",
       "      <td>8.085600</td>\n",
       "      <td>16620</td>\n",
       "      <td>0.511176</td>\n",
       "      <td>0.286451</td>\n",
       "      <td>0.090908</td>\n",
       "      <td>47.415927</td>\n",
       "      <td>8.085840</td>\n",
       "      <td>0.0</td>\n",
       "      <td>...</td>\n",
       "      <td>1545.0</td>\n",
       "      <td>686.0</td>\n",
       "      <td>2.234259</td>\n",
       "      <td>5.89</td>\n",
       "      <td>14.0</td>\n",
       "      <td>9.0</td>\n",
       "      <td>308.0</td>\n",
       "      <td>331.0</td>\n",
       "      <td>1150000.0</td>\n",
       "      <td>0</td>\n",
       "    </tr>\n",
       "    <tr>\n",
       "      <th>1</th>\n",
       "      <td>1</td>\n",
       "      <td>47.419500</td>\n",
       "      <td>8.082700</td>\n",
       "      <td>16620</td>\n",
       "      <td>0.511176</td>\n",
       "      <td>0.286451</td>\n",
       "      <td>0.090908</td>\n",
       "      <td>47.415927</td>\n",
       "      <td>8.085840</td>\n",
       "      <td>0.0</td>\n",
       "      <td>...</td>\n",
       "      <td>1545.0</td>\n",
       "      <td>686.0</td>\n",
       "      <td>2.234259</td>\n",
       "      <td>5.89</td>\n",
       "      <td>14.0</td>\n",
       "      <td>9.0</td>\n",
       "      <td>308.0</td>\n",
       "      <td>331.0</td>\n",
       "      <td>1420000.0</td>\n",
       "      <td>1</td>\n",
       "    </tr>\n",
       "    <tr>\n",
       "      <th>2</th>\n",
       "      <td>2</td>\n",
       "      <td>47.403300</td>\n",
       "      <td>8.033000</td>\n",
       "      <td>17812</td>\n",
       "      <td>0.163362</td>\n",
       "      <td>0.095877</td>\n",
       "      <td>0.001911</td>\n",
       "      <td>47.397416</td>\n",
       "      <td>8.043150</td>\n",
       "      <td>0.0</td>\n",
       "      <td>...</td>\n",
       "      <td>21036.0</td>\n",
       "      <td>10149.0</td>\n",
       "      <td>3.549010</td>\n",
       "      <td>6.05</td>\n",
       "      <td>37.0</td>\n",
       "      <td>3092.0</td>\n",
       "      <td>30364.0</td>\n",
       "      <td>33493.0</td>\n",
       "      <td>720000.0</td>\n",
       "      <td>0</td>\n",
       "    </tr>\n",
       "    <tr>\n",
       "      <th>3</th>\n",
       "      <td>3</td>\n",
       "      <td>47.415643</td>\n",
       "      <td>8.085423</td>\n",
       "      <td>16620</td>\n",
       "      <td>0.511176</td>\n",
       "      <td>0.286451</td>\n",
       "      <td>0.090908</td>\n",
       "      <td>47.415927</td>\n",
       "      <td>8.085840</td>\n",
       "      <td>0.0</td>\n",
       "      <td>...</td>\n",
       "      <td>1545.0</td>\n",
       "      <td>686.0</td>\n",
       "      <td>2.234259</td>\n",
       "      <td>5.89</td>\n",
       "      <td>14.0</td>\n",
       "      <td>9.0</td>\n",
       "      <td>308.0</td>\n",
       "      <td>331.0</td>\n",
       "      <td>1430000.0</td>\n",
       "      <td>2</td>\n",
       "    </tr>\n",
       "    <tr>\n",
       "      <th>4</th>\n",
       "      <td>4</td>\n",
       "      <td>47.403824</td>\n",
       "      <td>8.048288</td>\n",
       "      <td>12716</td>\n",
       "      <td>0.333865</td>\n",
       "      <td>0.279276</td>\n",
       "      <td>0.145835</td>\n",
       "      <td>47.404870</td>\n",
       "      <td>8.052781</td>\n",
       "      <td>0.0</td>\n",
       "      <td>...</td>\n",
       "      <td>6081.0</td>\n",
       "      <td>2638.0</td>\n",
       "      <td>1.708126</td>\n",
       "      <td>6.30</td>\n",
       "      <td>65.0</td>\n",
       "      <td>349.0</td>\n",
       "      <td>941.0</td>\n",
       "      <td>1355.0</td>\n",
       "      <td>995000.0</td>\n",
       "      <td>3</td>\n",
       "    </tr>\n",
       "  </tbody>\n",
       "</table>\n",
       "<p>5 rows × 55 columns</p>\n",
       "</div>"
      ],
      "text/plain": [
       "   Unnamed: 0        lat       lon  index  ForestDensityL  ForestDensityM  \\\n",
       "0           0  47.417100  8.085600  16620        0.511176        0.286451   \n",
       "1           1  47.419500  8.082700  16620        0.511176        0.286451   \n",
       "2           2  47.403300  8.033000  17812        0.163362        0.095877   \n",
       "3           3  47.415643  8.085423  16620        0.511176        0.286451   \n",
       "4           4  47.403824  8.048288  12716        0.333865        0.279276   \n",
       "\n",
       "   ForestDensityS   Latitude  Longitude  NoisePollutionRailwayL  ...  \\\n",
       "0        0.090908  47.415927   8.085840                     0.0  ...   \n",
       "1        0.090908  47.415927   8.085840                     0.0  ...   \n",
       "2        0.001911  47.397416   8.043150                     0.0  ...   \n",
       "3        0.090908  47.415927   8.085840                     0.0  ...   \n",
       "4        0.145835  47.404870   8.052781                     0.0  ...   \n",
       "\n",
       "   gde_population  gde_private_apartments  gde_social_help_quota  gde_tax  \\\n",
       "0          1545.0                   686.0               2.234259     5.89   \n",
       "1          1545.0                   686.0               2.234259     5.89   \n",
       "2         21036.0                 10149.0               3.549010     6.05   \n",
       "3          1545.0                   686.0               2.234259     5.89   \n",
       "4          6081.0                  2638.0               1.708126     6.30   \n",
       "\n",
       "   gde_workers_sector1  gde_workers_sector2  gde_workers_sector3  \\\n",
       "0                 14.0                  9.0                308.0   \n",
       "1                 14.0                  9.0                308.0   \n",
       "2                 37.0               3092.0              30364.0   \n",
       "3                 14.0                  9.0                308.0   \n",
       "4                 65.0                349.0                941.0   \n",
       "\n",
       "   gde_workers_total  price_cleaned  type  \n",
       "0              331.0      1150000.0     0  \n",
       "1              331.0      1420000.0     1  \n",
       "2            33493.0       720000.0     0  \n",
       "3              331.0      1430000.0     2  \n",
       "4             1355.0       995000.0     3  \n",
       "\n",
       "[5 rows x 55 columns]"
      ]
     },
     "execution_count": 7,
     "metadata": {},
     "output_type": "execute_result"
    }
   ],
   "source": [
    "# keep only numeric columns\n",
    "df = df.select_dtypes(include=np.number)\n",
    "df.head()"
   ]
  },
  {
   "cell_type": "markdown",
   "metadata": {},
   "source": [
    "# DROP NAN"
   ]
  },
  {
   "cell_type": "code",
   "execution_count": 8,
   "metadata": {},
   "outputs": [],
   "source": [
    "# drop rows with nan\n",
    "df = df.dropna()"
   ]
  },
  {
   "cell_type": "code",
   "execution_count": 9,
   "metadata": {},
   "outputs": [],
   "source": [
    "# make Matrix y as target with column type\n",
    "y = df[\"type\"].values\n",
    "# make Matrix X as features with all columns except type\n",
    "X = df.drop([\"type\"], axis=1).values"
   ]
  },
  {
   "cell_type": "code",
   "execution_count": 10,
   "metadata": {},
   "outputs": [
    {
     "data": {
      "text/plain": [
       "(3516, 54)"
      ]
     },
     "execution_count": 10,
     "metadata": {},
     "output_type": "execute_result"
    }
   ],
   "source": [
    "X.shape"
   ]
  },
  {
   "cell_type": "code",
   "execution_count": 11,
   "metadata": {},
   "outputs": [
    {
     "data": {
      "text/plain": [
       "(3516,)"
      ]
     },
     "execution_count": 11,
     "metadata": {},
     "output_type": "execute_result"
    }
   ],
   "source": [
    "y.shape"
   ]
  },
  {
   "cell_type": "code",
   "execution_count": 12,
   "metadata": {},
   "outputs": [],
   "source": [
    "X = (X - X.mean(axis = 0)) / X.std(axis = 0) # standardization of features"
   ]
  },
  {
   "cell_type": "code",
   "execution_count": 13,
   "metadata": {},
   "outputs": [
    {
     "name": "stdout",
     "output_type": "stream",
     "text": [
      "(2109, 54) (1407, 54) (2109,) (1407,)\n"
     ]
    }
   ],
   "source": [
    "X_train, X_test, y_train, y_test = train_test_split(X, y, test_size=0.4)\n",
    "# print all shapes\n",
    "print(X_train.shape, X_test.shape, y_train.shape, y_test.shape)"
   ]
  },
  {
   "cell_type": "code",
   "execution_count": 14,
   "metadata": {},
   "outputs": [
    {
     "name": "stdout",
     "output_type": "stream",
     "text": [
      "{0: 0, 1: 0, 2: 0, 3: 0, 4: 0, 5: 0, 6: 0, 7: 0, 8: 0, 9: 0, 10: 0, 11: 0, 12: 0, 13: 0, 14: 0, 15: 0, 16: 0, 17: 0, 18: 0, 19: 0, 20: 0}\n"
     ]
    }
   ],
   "source": [
    "# create 20 models in one line\n",
    "models = [LogisticClassification(lr=0.0001, n_iters=5000) for _ in range(20)]\n",
    "models_pred = dict.fromkeys(range(0, 21), 0)\n",
    "accuracy_dict = dict.fromkeys(range(0, 21), 0)\n",
    "print(accuracy_dict)"
   ]
  },
  {
   "cell_type": "code",
   "execution_count": 15,
   "metadata": {},
   "outputs": [
    {
     "data": {
      "text/plain": [
       "((2109, 54), (2109,))"
      ]
     },
     "execution_count": 15,
     "metadata": {},
     "output_type": "execute_result"
    }
   ],
   "source": [
    "X_train.shape, y_train.shape"
   ]
  },
  {
   "cell_type": "code",
   "execution_count": 16,
   "metadata": {},
   "outputs": [
    {
     "name": "stdout",
     "output_type": "stream",
     "text": [
      "Counter({0: 1356, 1: 51}) Counter({0: 1352, 1: 55})\n",
      "0.9260838663823738\n"
     ]
    }
   ],
   "source": [
    "# fit one model\n",
    "models[0].fit(X_train, np.where(y_train == 0, 1, 0))\n",
    "# predict one model\n",
    "y_pred = models[0].predict(X_test)\n",
    "# calculate accuracy\n",
    "accuracy = accuracy_score(np.where(y_test == 0, 1, 0), y_pred)\n",
    "# count values in y_pred\n",
    "print(Counter(y_pred), Counter(np.where(y_test == 0, 1, 0)))\n",
    "print(accuracy)"
   ]
  },
  {
   "cell_type": "code",
   "execution_count": 17,
   "metadata": {},
   "outputs": [],
   "source": [
    "# fit the models\n",
    "for idx, model in enumerate(models):\n",
    "    model.fit(X_train, np.where(y_train == idx, 1, 0))"
   ]
  },
  {
   "cell_type": "code",
   "execution_count": 18,
   "metadata": {},
   "outputs": [],
   "source": [
    "# predict the models\n",
    "for idx, model in enumerate(models):\n",
    "    models_pred[idx] = model.predict(X_test)"
   ]
  },
  {
   "cell_type": "code",
   "execution_count": 19,
   "metadata": {},
   "outputs": [
    {
     "name": "stdout",
     "output_type": "stream",
     "text": [
      "Accuracy of model penthouse                      is       0.93\n",
      "Accuracy of model terrace-house                  is       0.91\n",
      "Accuracy of model detached-house                 is       0.75\n",
      "Accuracy of model flat                           is       0.71\n",
      "Accuracy of model stepped-house                  is       0.98\n",
      "Accuracy of model farmhouse                      is       0.99\n",
      "Accuracy of model semi-detached-house            is       0.93\n",
      "Accuracy of model stepped-apartment              is       0.98\n",
      "Accuracy of model duplex-maisonette              is       0.93\n",
      "Accuracy of model attic-flat                     is       0.93\n",
      "Accuracy of model loft                           is       0.99\n",
      "Accuracy of model chalet                         is       0.95\n",
      "Accuracy of model villa                          is       0.91\n",
      "Accuracy of model attic-room                     is       1.00\n",
      "Accuracy of model secondary-suite                is       1.00\n",
      "Accuracy of model castle                         is       1.00\n",
      "Accuracy of model detached-secondary-suite       is       1.00\n",
      "Accuracy of model studio                         is       1.00\n",
      "Accuracy of model furnished-residential-property is       1.00\n",
      "Accuracy of model rustico                        is       1.00\n"
     ]
    }
   ],
   "source": [
    "# get the accuracy\n",
    "for idx in range(len(models)):\n",
    "    accuracy_dict[idx] = accuracy_score(np.where(y_test == idx, 1, 0), models_pred[idx])\n",
    "    print(\"Accuracy of model {0:<30s} is {1:10.2f}\".format(types_nrs[idx], accuracy_dict[idx]))"
   ]
  },
  {
   "cell_type": "code",
   "execution_count": 20,
   "metadata": {},
   "outputs": [
    {
     "name": "stdout",
     "output_type": "stream",
     "text": [
      "(1, 54) (1407,)\n",
      "{0: array([-32953.50164288]),\n",
      " 1: array([-40974.93578823]),\n",
      " 2: array([817690.97224673]),\n",
      " 3: array([-1207820.17489207]),\n",
      " 4: array([-14131.89195639]),\n",
      " 5: array([-12888.94958588]),\n",
      " 6: array([-24139.44569301]),\n",
      " 7: array([-15655.4145675]),\n",
      " 8: array([-32668.25148255]),\n",
      " 9: array([-24056.80137322]),\n",
      " 10: array([-19576.83436239]),\n",
      " 11: array([-4430.85060309]),\n",
      " 12: array([53352.73913472]),\n",
      " 13: array([-18777.22959075]),\n",
      " 14: array([-16336.37408679]),\n",
      " 15: array([-15846.14066192]),\n",
      " 16: array([-16336.37408679]),\n",
      " 17: array([-21293.97335184]),\n",
      " 18: array([-16336.37408679]),\n",
      " 19: array([-16792.28887771]),\n",
      " 20: 0}\n"
     ]
    }
   ],
   "source": [
    "# get first row of df without column type\n",
    "from pprint import pprint\n",
    "x_feat = df.iloc[0, :-1].values.reshape(1, -1)\n",
    "print(x_feat.shape, y_test.shape)\n",
    "pred_test = dict.fromkeys(range(0, 21), 0)\n",
    "accuracy_test = dict.fromkeys(range(0, 21), 0)\n",
    "for idx, model in enumerate(models):\n",
    "    pred_test[idx] = model.predict_proba(x_feat)\n",
    "pprint(pred_test)\n"
   ]
  },
  {
   "cell_type": "code",
   "execution_count": 21,
   "metadata": {},
   "outputs": [],
   "source": [
    "def sigmoid(x, w, b):\n",
    "    return 1 / (1 + np.exp(-(np.dot(x, w) + b)))"
   ]
  },
  {
   "cell_type": "code",
   "execution_count": 22,
   "metadata": {},
   "outputs": [
    {
     "name": "stderr",
     "output_type": "stream",
     "text": [
      "/var/folders/mw/x398f5s545bffd989r6xpm100000gp/T/ipykernel_4563/2597234316.py:2: RuntimeWarning: overflow encountered in exp\n",
      "  return 1 / (1 + np.exp(-(np.dot(x, w) + b)))\n"
     ]
    },
    {
     "data": {
      "text/plain": [
       "array([0.])"
      ]
     },
     "execution_count": 22,
     "metadata": {},
     "output_type": "execute_result"
    }
   ],
   "source": [
    "# calc sigmoid for first model\n",
    "sigmoid(x_feat, models[0].weights, models[0].bias)"
   ]
  },
  {
   "cell_type": "code",
   "execution_count": 23,
   "metadata": {},
   "outputs": [
    {
     "name": "stdout",
     "output_type": "stream",
     "text": [
      "[-0.08288764 -0.22718178 -0.31726389  0.0083078   0.07459457 -0.02478321\n",
      " -0.00254197  0.27503665  0.0744312   0.13024455 -0.12022889  0.01695864\n",
      "  0.02782622 -0.08486151  0.09317863  0.13081436 -0.11776112  0.00992385\n",
      "  0.10672941 -0.07067804 -0.01142572  0.0846718  -0.12811986  0.11634054\n",
      "  0.47441586  0.06112201  0.05948219 -0.01800001  0.02785342 -0.04603688\n",
      "  0.03988076  0.01143221 -0.02889388  0.01901128  0.39904291  0.26060442\n",
      "  0.07895971  0.76656445  0.07053983  0.22855829  0.10968101  0.12773631\n",
      "  0.34310883  0.576203    0.17317234 -0.38154349  0.3876961   0.01977001\n",
      "  0.18975303  0.02026564  0.06765521 -0.04349697 -0.03401115 -0.06216459] -0.4046948832705351\n"
     ]
    }
   ],
   "source": [
    "# print first weights and bias\n",
    "print(models[0].weights, models[0].bias)"
   ]
  },
  {
   "cell_type": "code",
   "execution_count": null,
   "metadata": {},
   "outputs": [],
   "source": []
  }
 ],
 "metadata": {
  "kernelspec": {
   "display_name": "Python 3.10.6 64-bit",
   "language": "python",
   "name": "python3"
  },
  "language_info": {
   "codemirror_mode": {
    "name": "ipython",
    "version": 3
   },
   "file_extension": ".py",
   "mimetype": "text/x-python",
   "name": "python",
   "nbconvert_exporter": "python",
   "pygments_lexer": "ipython3",
   "version": "3.10.6"
  },
  "orig_nbformat": 4,
  "vscode": {
   "interpreter": {
    "hash": "aee8b7b246df8f9039afb4144a1f6fd8d2ca17a180786b69acc140d282b71a49"
   }
  }
 },
 "nbformat": 4,
 "nbformat_minor": 2
}
