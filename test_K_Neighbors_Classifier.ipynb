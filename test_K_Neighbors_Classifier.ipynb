{
 "cells": [
  {
   "cell_type": "code",
   "execution_count": 1,
   "metadata": {
    "cell_id": "30a8a31271d943e3810720b68a433c99",
    "deepnote_cell_height": 345,
    "deepnote_cell_type": "code",
    "deepnote_to_be_reexecuted": false,
    "execution_millis": 2123,
    "execution_start": 1666355025247,
    "source_hash": "54b48820",
    "tags": []
   },
   "outputs": [],
   "source": [
    "import numpy as np\n",
    "import pandas as pd\n",
    "import seaborn as sns\n",
    "import matplotlib.pyplot as plt\n",
    "\n",
    "from tqdm import tqdm\n",
    "from sklearn.neighbors import KNeighborsClassifier\n",
    "from sklearn.model_selection import train_test_split"
   ]
  },
  {
   "cell_type": "code",
   "execution_count": 2,
   "metadata": {
    "cell_id": "00002-ed06f97a-4428-4307-a24a-409601fb792a",
    "deepnote_cell_height": 117,
    "deepnote_cell_type": "code",
    "deepnote_to_be_reexecuted": false,
    "execution_millis": 298,
    "execution_start": 1666355027374,
    "source_hash": "8f6ec427"
   },
   "outputs": [],
   "source": [
    "data = pd.read_csv(\"https://raw.githubusercontent.com/Immobilienrechner-Challenge/data/main/clean.csv\")\n",
    "data = data[['price', 'zip_code', 'living_space', 'rooms', 'type']].copy()"
   ]
  },
  {
   "cell_type": "code",
   "execution_count": 3,
   "metadata": {
    "cell_id": "00004-2e86e3f9-eb77-4fe4-89d2-15c3e9b7b8e1",
    "deepnote_cell_height": 226,
    "deepnote_cell_type": "code",
    "deepnote_output_heights": [
     134
    ],
    "deepnote_to_be_reexecuted": false,
    "execution_millis": 3,
    "execution_start": 1666355027679,
    "source_hash": "15e5de1b"
   },
   "outputs": [
    {
     "data": {
      "text/plain": [
       "array(['penthouse', 'terrace-house', 'detached-house', 'flat',\n",
       "       'stepped-house', 'farmhouse', 'semi-detached-house',\n",
       "       'stepped-apartment', 'duplex-maisonette', 'attic-flat', 'loft',\n",
       "       'chalet', 'villa', 'attic-room', 'secondary-suite', 'castle',\n",
       "       'detached-secondary-suite', 'studio',\n",
       "       'furnished-residential-property', 'rustico', 'single-room'],\n",
       "      dtype=object)"
      ]
     },
     "execution_count": 3,
     "metadata": {},
     "output_type": "execute_result"
    }
   ],
   "source": [
    "data[\"type\"].unique()"
   ]
  },
  {
   "cell_type": "code",
   "execution_count": 4,
   "metadata": {
    "cell_id": "b24ebf59e0504eacb6d4d8f1ce09fcec",
    "deepnote_cell_height": 731,
    "deepnote_cell_type": "code",
    "deepnote_output_heights": [
     20
    ],
    "deepnote_to_be_reexecuted": false,
    "execution_millis": 151,
    "execution_start": 1666355027685,
    "source_hash": "1912f9aa",
    "tags": []
   },
   "outputs": [
    {
     "name": "stdout",
     "output_type": "stream",
     "text": [
      "13069\n"
     ]
    },
    {
     "data": {
      "text/html": [
       "<div>\n",
       "<style scoped>\n",
       "    .dataframe tbody tr th:only-of-type {\n",
       "        vertical-align: middle;\n",
       "    }\n",
       "\n",
       "    .dataframe tbody tr th {\n",
       "        vertical-align: top;\n",
       "    }\n",
       "\n",
       "    .dataframe thead th {\n",
       "        text-align: right;\n",
       "    }\n",
       "</style>\n",
       "<table border=\"1\" class=\"dataframe\">\n",
       "  <thead>\n",
       "    <tr style=\"text-align: right;\">\n",
       "      <th></th>\n",
       "      <th>price</th>\n",
       "      <th>zip_code</th>\n",
       "      <th>living_space</th>\n",
       "      <th>rooms</th>\n",
       "      <th>type</th>\n",
       "    </tr>\n",
       "  </thead>\n",
       "  <tbody>\n",
       "    <tr>\n",
       "      <th>0</th>\n",
       "      <td>1150000.0</td>\n",
       "      <td>5023</td>\n",
       "      <td>100.0</td>\n",
       "      <td>3.5</td>\n",
       "      <td>penthouse</td>\n",
       "    </tr>\n",
       "    <tr>\n",
       "      <th>1</th>\n",
       "      <td>1420000.0</td>\n",
       "      <td>5023</td>\n",
       "      <td>156.0</td>\n",
       "      <td>4.5</td>\n",
       "      <td>terrace-house</td>\n",
       "    </tr>\n",
       "    <tr>\n",
       "      <th>2</th>\n",
       "      <td>720000.0</td>\n",
       "      <td>5022</td>\n",
       "      <td>93.0</td>\n",
       "      <td>2.5</td>\n",
       "      <td>penthouse</td>\n",
       "    </tr>\n",
       "    <tr>\n",
       "      <th>3</th>\n",
       "      <td>1430000.0</td>\n",
       "      <td>5023</td>\n",
       "      <td>154.0</td>\n",
       "      <td>4.5</td>\n",
       "      <td>detached-house</td>\n",
       "    </tr>\n",
       "    <tr>\n",
       "      <th>4</th>\n",
       "      <td>995000.0</td>\n",
       "      <td>5022</td>\n",
       "      <td>142.0</td>\n",
       "      <td>4.5</td>\n",
       "      <td>flat</td>\n",
       "    </tr>\n",
       "    <tr>\n",
       "      <th>...</th>\n",
       "      <td>...</td>\n",
       "      <td>...</td>\n",
       "      <td>...</td>\n",
       "      <td>...</td>\n",
       "      <td>...</td>\n",
       "    </tr>\n",
       "    <tr>\n",
       "      <th>13064</th>\n",
       "      <td>1101000.0</td>\n",
       "      <td>8610</td>\n",
       "      <td>70.0</td>\n",
       "      <td>2.5</td>\n",
       "      <td>flat</td>\n",
       "    </tr>\n",
       "    <tr>\n",
       "      <th>13065</th>\n",
       "      <td>1750000.0</td>\n",
       "      <td>8604</td>\n",
       "      <td>NaN</td>\n",
       "      <td>8.0</td>\n",
       "      <td>semi-detached-house</td>\n",
       "    </tr>\n",
       "    <tr>\n",
       "      <th>13066</th>\n",
       "      <td>1415000.0</td>\n",
       "      <td>8472</td>\n",
       "      <td>150.0</td>\n",
       "      <td>6.5</td>\n",
       "      <td>terrace-house</td>\n",
       "    </tr>\n",
       "    <tr>\n",
       "      <th>13067</th>\n",
       "      <td>1465000.0</td>\n",
       "      <td>8483</td>\n",
       "      <td>145.0</td>\n",
       "      <td>6.0</td>\n",
       "      <td>detached-house</td>\n",
       "    </tr>\n",
       "    <tr>\n",
       "      <th>13068</th>\n",
       "      <td>2750000.0</td>\n",
       "      <td>8405</td>\n",
       "      <td>385.0</td>\n",
       "      <td>7.5</td>\n",
       "      <td>detached-house</td>\n",
       "    </tr>\n",
       "  </tbody>\n",
       "</table>\n",
       "<p>13069 rows × 5 columns</p>\n",
       "</div>"
      ],
      "text/plain": [
       "           price  zip_code  living_space  rooms                 type\n",
       "0      1150000.0      5023         100.0    3.5            penthouse\n",
       "1      1420000.0      5023         156.0    4.5        terrace-house\n",
       "2       720000.0      5022          93.0    2.5            penthouse\n",
       "3      1430000.0      5023         154.0    4.5       detached-house\n",
       "4       995000.0      5022         142.0    4.5                 flat\n",
       "...          ...       ...           ...    ...                  ...\n",
       "13064  1101000.0      8610          70.0    2.5                 flat\n",
       "13065  1750000.0      8604           NaN    8.0  semi-detached-house\n",
       "13066  1415000.0      8472         150.0    6.5        terrace-house\n",
       "13067  1465000.0      8483         145.0    6.0       detached-house\n",
       "13068  2750000.0      8405         385.0    7.5       detached-house\n",
       "\n",
       "[13069 rows x 5 columns]"
      ]
     },
     "execution_count": 4,
     "metadata": {},
     "output_type": "execute_result"
    }
   ],
   "source": [
    "print(len(data))\n",
    "data"
   ]
  },
  {
   "cell_type": "code",
   "execution_count": 5,
   "metadata": {
    "cell_id": "fcd49562de5448a79b6b7be0ad451d3f",
    "deepnote_cell_height": 321,
    "deepnote_cell_type": "code",
    "deepnote_output_heights": [
     229
    ],
    "deepnote_to_be_reexecuted": false,
    "execution_millis": 6,
    "execution_start": 1666355027834,
    "source_hash": "27835d78",
    "tags": []
   },
   "outputs": [
    {
     "data": {
      "text/plain": [
       "living_space    1069\n",
       "price           1025\n",
       "rooms            582\n",
       "zip_code           0\n",
       "type               0\n",
       "dtype: int64"
      ]
     },
     "execution_count": 5,
     "metadata": {},
     "output_type": "execute_result"
    }
   ],
   "source": [
    "data.isna().sum().sort_values(ascending = False)"
   ]
  },
  {
   "cell_type": "code",
   "execution_count": 6,
   "metadata": {
    "cell_id": "3452170aaf3a4c8ea5d5cdbefe0895c4",
    "deepnote_cell_height": 130,
    "deepnote_cell_type": "code",
    "deepnote_output_heights": [
     20
    ],
    "deepnote_to_be_reexecuted": false,
    "execution_millis": 2,
    "execution_start": 1666355027883,
    "source_hash": "7e7d9889",
    "tags": []
   },
   "outputs": [
    {
     "data": {
      "text/plain": [
       "10923"
      ]
     },
     "execution_count": 6,
     "metadata": {},
     "output_type": "execute_result"
    }
   ],
   "source": [
    "data = data.dropna()\n",
    "len(data)"
   ]
  },
  {
   "cell_type": "code",
   "execution_count": 7,
   "metadata": {
    "cell_id": "00008-956099e5-782e-4e8a-865b-e923f2147947",
    "deepnote_cell_height": 148,
    "deepnote_cell_type": "code",
    "deepnote_to_be_reexecuted": false,
    "execution_millis": 0,
    "execution_start": 1666355027884,
    "source_hash": "cb6f131b"
   },
   "outputs": [],
   "source": [
    "y_cols = [\"type\"]\n",
    "X_cols = list(set(data.columns) - set(y_cols))\n",
    "\n",
    "X = data[X_cols].values\n",
    "y = data[y_cols].values.ravel()"
   ]
  },
  {
   "cell_type": "code",
   "execution_count": 8,
   "metadata": {
    "cell_id": "00011-323c4c4d-d773-497f-9854-c40bb318c7c9",
    "deepnote_cell_height": 94,
    "deepnote_cell_type": "code",
    "deepnote_to_be_reexecuted": false,
    "execution_millis": 43,
    "execution_start": 1666355027884,
    "source_hash": "9010a866"
   },
   "outputs": [],
   "source": [
    "X_train, X_test, y_train, y_test = train_test_split(X, y, test_size=0.3)"
   ]
  },
  {
   "cell_type": "code",
   "execution_count": 9,
   "metadata": {},
   "outputs": [
    {
     "name": "stderr",
     "output_type": "stream",
     "text": [
      "100%|██████████| 31/31 [00:01<00:00, 29.17it/s]\n"
     ]
    }
   ],
   "source": [
    "scores = np.array([(i, KNeighborsClassifier(i).fit(X_train, y_train).score(X_test, y_test)) for i in tqdm(range(1, 32))])"
   ]
  },
  {
   "cell_type": "code",
   "execution_count": 10,
   "metadata": {},
   "outputs": [
    {
     "data": {
      "image/png": "[encoded data removed]",
      "text/plain": [
       "<Figure size 640x480 with 1 Axes>"
      ]
     },
     "metadata": {},
     "output_type": "display_data"
    }
   ],
   "source": [
    "plt.plot(scores[:,0], scores[:,1])\n",
    "plt.xticks(np.linspace(1, 31, 11))\n",
    "plt.grid()\n",
    "plt.show()"
   ]
  },
  {
   "cell_type": "code",
   "execution_count": 11,
   "metadata": {},
   "outputs": [
    {
     "name": "stdout",
     "output_type": "stream",
     "text": [
      "actual:  ['detached-house' 'flat' 'flat' 'detached-house' 'flat']\n",
      "predicted:  ['detached-house' 'flat' 'flat' 'detached-house' 'detached-house']\n"
     ]
    }
   ],
   "source": [
    "model = KNeighborsClassifier(16).fit(X_train, y_train)\n",
    "\n",
    "print(\"actual: \", y_test[:5])\n",
    "print(\"predicted: \", model.predict(X_test[:5]))"
   ]
  }
 ],
 "metadata": {
  "deepnote": {},
  "deepnote_execution_queue": [],
  "deepnote_notebook_id": "6c26fc27-bbb2-493c-9413-b94209517f23",
  "deepnote_persisted_session": {
   "createdAt": "2022-10-14T15:00:36.060Z"
  },
  "kernelspec": {
   "display_name": "Python 3.10.8 64-bit",
   "language": "python",
   "name": "python3"
  },
  "language_info": {
   "codemirror_mode": {
    "name": "ipython",
    "version": 3
   },
   "file_extension": ".py",
   "mimetype": "text/x-python",
   "name": "python",
   "nbconvert_exporter": "python",
   "pygments_lexer": "ipython3",
   "version": "3.10.8"
  },
  "orig_nbformat": 4,
  "vscode": {
   "interpreter": {
    "hash": "b0fa6594d8f4cbf19f97940f81e996739fb7646882a419484c72d19e05852a7e"
   }
  }
 },
 "nbformat": 4,
 "nbformat_minor": 2
}
