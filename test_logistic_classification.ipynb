{
 "cells": [
  {
   "cell_type": "code",
   "execution_count": 1,
   "metadata": {},
   "outputs": [],
   "source": [
    "from sklearn.model_selection import train_test_split\n",
    "from sklearn import datasets\n",
    "from sklearn.metrics import accuracy_score\n",
    "import matplotlib.pyplot as plt\n",
    "from logistic_classification import LogisticClassification\n",
    "import numpy as np\n",
    "from collections import Counter\n",
    "import numpy as np\n",
    "import pandas as pd\n",
    "import utils.remove_cols as remove_cols"
   ]
  },
  {
   "cell_type": "markdown",
   "metadata": {},
   "source": [
    "# IMPORTIEREN"
   ]
  },
  {
   "cell_type": "code",
   "execution_count": 2,
   "metadata": {},
   "outputs": [
    {
     "name": "stderr",
     "output_type": "stream",
     "text": [
      "/var/folders/mw/x398f5s545bffd989r6xpm100000gp/T/ipykernel_62801/2143901549.py:1: DtypeWarning: Columns (33) have mixed types. Specify dtype option on import or set low_memory=False.\n",
      "  df = pd.read_csv(\"immoscout_cleaned_lat_lon_fixed_v7.csv\")\n"
     ]
    }
   ],
   "source": [
    "df = pd.read_csv(\"immoscout_cleaned_lat_lon_fixed_v7.csv\")"
   ]
  },
  {
   "cell_type": "markdown",
   "metadata": {},
   "source": [
    "# BEREINIGEN / IMPUTIEREN"
   ]
  },
  {
   "cell_type": "code",
   "execution_count": null,
   "metadata": {},
   "outputs": [],
   "source": []
  },
  {
   "cell_type": "markdown",
   "metadata": {},
   "source": [
    "# TRANSFORMIEREN"
   ]
  },
  {
   "cell_type": "code",
   "execution_count": 3,
   "metadata": {},
   "outputs": [],
   "source": [
    "# create dictionary with object-type information\n",
    "types_nrs = dict(enumerate(df[\"type\"].unique()))\n",
    "types_name = {v: k for k, v in types_nrs.items()}\n",
    "# change object-type to numeric value\n",
    "df[\"type\"] = df[\"type\"].map(types_name)\n",
    "\n",
    "# keep only cols with type int or float\n",
    "df = df.select_dtypes(include=[\"int64\", \"float64\"])\n",
    "# remove specific columns\n",
    "df_remove = pd.read_excel(\"fixtures/remove_cols.xlsx\")\n",
    "df_remove = remove_cols.remove_chars_space(df_remove, \"feature\")\n",
    "dct = remove_cols.get_dct_from_df(df_remove)\n",
    "assert len(dct) == len(df.columns)\n",
    "df = df[[k for k, v in dct.items() if v == 1]]\n",
    "\n",
    "# test\n",
    "assert len(df.columns) == 30\n",
    "assert df.values.shape[0] != 0"
   ]
  },
  {
   "cell_type": "markdown",
   "metadata": {},
   "source": [
    "# MODEL (PREPARE DATA)"
   ]
  },
  {
   "cell_type": "code",
   "execution_count": 4,
   "metadata": {},
   "outputs": [],
   "source": [
    "# drop nan because the model can't handle them\n",
    "df = df.dropna() # 1016 / 13378 = 7.6% of data is lost\n",
    "# make Matrix y as target with column type\n",
    "y = df[\"type\"].values[:, np.newaxis]\n",
    "# make Matrix X as features with all columns except type\n",
    "X = df.drop([\"type\"], axis=1).values\n",
    "assert type(y) == np.ndarray\n",
    "assert type(X) == np.ndarray\n",
    "# standardize X\n",
    "X = (X - X.mean(axis=0)) / X.std(axis=0)\n",
    "# split data into train and test\n",
    "X_train, X_test, y_train, y_test = train_test_split(X, y, test_size=0.2)"
   ]
  },
  {
   "cell_type": "markdown",
   "metadata": {},
   "source": [
    "# MODEL (PREPARE MODEL)"
   ]
  },
  {
   "cell_type": "code",
   "execution_count": 5,
   "metadata": {},
   "outputs": [
    {
     "name": "stdout",
     "output_type": "stream",
     "text": [
      " models := <class 'logistic_classification.LogisticClassification'>\n",
      " models_pred := <class 'dict'>\n",
      " accuracy_dict := <class 'dict'>\n",
      "\n"
     ]
    }
   ],
   "source": [
    "# create 20 models and store them in a list\n",
    "models = [LogisticClassification(lr=0.01, n_iters=2000) for _ in range(21)]\n",
    "# create a dictionary with the models as keys and the predictions as values\n",
    "models_pred = dict.fromkeys(range(0, 21), 0)\n",
    "# create a dictionary with the models as keys and the accuracy as values\n",
    "models_accuracies = dict.fromkeys(range(0, 21), 0)\n",
    "print(\" models := {}\\n models_pred := {}\\n accuracy_dict := {}\\n\".format(type(models[0]), type(models_pred), type(models_accuracies)))"
   ]
  },
  {
   "cell_type": "code",
   "execution_count": 6,
   "metadata": {},
   "outputs": [
    {
     "name": "stdout",
     "output_type": "stream",
     "text": [
      "Accuracy: 0.504650222401941\n"
     ]
    }
   ],
   "source": [
    "# fit one model and see what the accuracy is\n",
    "models[0].fit(X_train, np.where(y_train == 0, 1, 0))\n",
    "# predict one model\n",
    "y_pred = models[0].predict(X_test)\n",
    "# calculate accuracy\n",
    "accuracy = accuracy_score(np.where(y_test == 0, 1, 0), y_pred)\n",
    "print(\"Accuracy: {}\".format(accuracy))"
   ]
  },
  {
   "cell_type": "code",
   "execution_count": 7,
   "metadata": {},
   "outputs": [
    {
     "data": {
      "text/plain": [
       "[<matplotlib.lines.Line2D at 0x2a1656f20>]"
      ]
     },
     "execution_count": 7,
     "metadata": {},
     "output_type": "execute_result"
    },
    {
     "data": {
      "image/png": "[encoded data removed]",
      "text/plain": [
       "<Figure size 640x480 with 1 Axes>"
      ]
     },
     "metadata": {},
     "output_type": "display_data"
    }
   ],
   "source": [
    "# plost cost_hist\n",
    "plt.plot(models[0].cost_hist)"
   ]
  },
  {
   "cell_type": "markdown",
   "metadata": {},
   "source": [
    "\\begin{align}\n",
    "\\hat{y} & = \\sigma(Xw + b) \\\\ \\\\\n",
    "\\ L(\\hat{y}, y) & =  -y * \\ln({\\hat{y}}) + (1-y) * \\ln({1 - \\hat{y}}) \\\\ \\\\\n",
    "\\ C(\\theta) & = \\frac{1}{N} * \\sum_{i=1}^N L \\left( \\hat{y} (x^{(i)}, \\theta), y^{(i)} \\right) \\\\ \\\\\n",
    "\\ \\nabla C & = (\\frac{\\partial C}{\\partial w}, \\frac{\\partial C}{\\partial b})^T \\\\ \\\\\n",
    "\\frac{\\partial C}{\\partial w} & = X^T \\left(\\frac{\\partial C}{\\partial L} * \\hat{y} * (1 - \\hat{y}) \\right) * \\frac{1}{N} \\\\ \\\\\n",
    "\\frac{\\partial C}{\\partial b} & = \\frac{1}{N} * \\sum_{\\hat{y}} \\left(\\frac{\\partial C}{\\partial L} * \\hat{y} * (1 - \\hat{y}) \\right)\n",
    "\\end{align}"
   ]
  },
  {
   "cell_type": "code",
   "execution_count": null,
   "metadata": {},
   "outputs": [],
   "source": []
  },
  {
   "cell_type": "code",
   "execution_count": null,
   "metadata": {},
   "outputs": [],
   "source": []
  },
  {
   "cell_type": "code",
   "execution_count": null,
   "metadata": {},
   "outputs": [],
   "source": []
  }
 ],
 "metadata": {
  "kernelspec": {
   "display_name": "Python 3.10.6 64-bit",
   "language": "python",
   "name": "python3"
  },
  "language_info": {
   "codemirror_mode": {
    "name": "ipython",
    "version": 3
   },
   "file_extension": ".py",
   "mimetype": "text/x-python",
   "name": "python",
   "nbconvert_exporter": "python",
   "pygments_lexer": "ipython3",
   "version": "3.10.6"
  },
  "orig_nbformat": 4,
  "vscode": {
   "interpreter": {
    "hash": "7e1998ff7f8aa20ada591c520b972326324e5ea05489af9e422744c7c09f6dad"
   }
  }
 },
 "nbformat": 4,
 "nbformat_minor": 2
}
