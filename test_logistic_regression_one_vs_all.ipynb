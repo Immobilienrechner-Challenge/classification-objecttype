{
 "cells": [
  {
   "cell_type": "code",
   "execution_count": 73,
   "metadata": {},
   "outputs": [],
   "source": [
    "from sklearn.model_selection import train_test_split\n",
    "from sklearn import datasets\n",
    "from sklearn.metrics import accuracy_score\n",
    "import matplotlib.pyplot as plt\n",
    "from logistic_regression_one_vs_all import LogisticRegressionOneVsAll\n",
    "import numpy as np\n",
    "from collections import Counter\n",
    "import numpy as np\n",
    "import pandas as pd"
   ]
  },
  {
   "cell_type": "code",
   "execution_count": 74,
   "metadata": {},
   "outputs": [
    {
     "name": "stderr",
     "output_type": "stream",
     "text": [
      "/var/folders/mw/x398f5s545bffd989r6xpm100000gp/T/ipykernel_73585/2143901549.py:1: DtypeWarning: Columns (33) have mixed types. Specify dtype option on import or set low_memory=False.\n",
      "  df = pd.read_csv(\"immoscout_cleaned_lat_lon_fixed_v7.csv\")\n"
     ]
    }
   ],
   "source": [
    "df = pd.read_csv(\"immoscout_cleaned_lat_lon_fixed_v7.csv\")"
   ]
  },
  {
   "cell_type": "code",
   "execution_count": 75,
   "metadata": {},
   "outputs": [
    {
     "data": {
      "text/plain": [
       "21"
      ]
     },
     "execution_count": 75,
     "metadata": {},
     "output_type": "execute_result"
    }
   ],
   "source": [
    "len(df[\"type\"].unique())"
   ]
  },
  {
   "cell_type": "code",
   "execution_count": 76,
   "metadata": {},
   "outputs": [
    {
     "data": {
      "text/plain": [
       "array(['penthouse', 'terrace-house', 'detached-house', 'flat',\n",
       "       'stepped-house', 'farmhouse', 'semi-detached-house',\n",
       "       'stepped-apartment', 'duplex-maisonette', 'attic-flat', 'loft',\n",
       "       'chalet', 'villa', 'attic-room', 'secondary-suite', 'castle',\n",
       "       'detached-secondary-suite', 'studio',\n",
       "       'furnished-residential-property', 'rustico', 'single-room'],\n",
       "      dtype=object)"
      ]
     },
     "execution_count": 76,
     "metadata": {},
     "output_type": "execute_result"
    }
   ],
   "source": [
    "df[\"type\"].unique()"
   ]
  },
  {
   "cell_type": "code",
   "execution_count": 77,
   "metadata": {},
   "outputs": [
    {
     "data": {
      "text/plain": [
       "{'penthouse': 0,\n",
       " 'terrace-house': 1,\n",
       " 'detached-house': 2,\n",
       " 'flat': 3,\n",
       " 'stepped-house': 4,\n",
       " 'farmhouse': 5,\n",
       " 'semi-detached-house': 6,\n",
       " 'stepped-apartment': 7,\n",
       " 'duplex-maisonette': 8,\n",
       " 'attic-flat': 9,\n",
       " 'loft': 10,\n",
       " 'chalet': 11,\n",
       " 'villa': 12,\n",
       " 'attic-room': 13,\n",
       " 'secondary-suite': 14,\n",
       " 'castle': 15,\n",
       " 'detached-secondary-suite': 16,\n",
       " 'studio': 17,\n",
       " 'furnished-residential-property': 18,\n",
       " 'rustico': 19,\n",
       " 'single-room': 20}"
      ]
     },
     "execution_count": 77,
     "metadata": {},
     "output_type": "execute_result"
    }
   ],
   "source": [
    "# array to dict with python built in\n",
    "type_dict_key_zero = dict(enumerate(df[\"type\"].unique()))\n",
    "type_dict_key_penthouse = {v: k for k, v in type_dict_key_zero.items()}\n",
    "type_dict_key_penthouse"
   ]
  },
  {
   "cell_type": "code",
   "execution_count": 78,
   "metadata": {},
   "outputs": [],
   "source": [
    "# rename column type with type_dict\n",
    "df[\"type\"] = df[\"type\"].map(type_dict_key_penthouse)"
   ]
  },
  {
   "cell_type": "code",
   "execution_count": 79,
   "metadata": {},
   "outputs": [
    {
     "data": {
      "text/html": [
       "<div>\n",
       "<style scoped>\n",
       "    .dataframe tbody tr th:only-of-type {\n",
       "        vertical-align: middle;\n",
       "    }\n",
       "\n",
       "    .dataframe tbody tr th {\n",
       "        vertical-align: top;\n",
       "    }\n",
       "\n",
       "    .dataframe thead th {\n",
       "        text-align: right;\n",
       "    }\n",
       "</style>\n",
       "<table border=\"1\" class=\"dataframe\">\n",
       "  <thead>\n",
       "    <tr style=\"text-align: right;\">\n",
       "      <th></th>\n",
       "      <th>Unnamed: 0</th>\n",
       "      <th>lat</th>\n",
       "      <th>lon</th>\n",
       "      <th>index</th>\n",
       "      <th>ForestDensityL</th>\n",
       "      <th>ForestDensityM</th>\n",
       "      <th>ForestDensityS</th>\n",
       "      <th>Latitude</th>\n",
       "      <th>Longitude</th>\n",
       "      <th>NoisePollutionRailwayL</th>\n",
       "      <th>...</th>\n",
       "      <th>gde_population</th>\n",
       "      <th>gde_private_apartments</th>\n",
       "      <th>gde_social_help_quota</th>\n",
       "      <th>gde_tax</th>\n",
       "      <th>gde_workers_sector1</th>\n",
       "      <th>gde_workers_sector2</th>\n",
       "      <th>gde_workers_sector3</th>\n",
       "      <th>gde_workers_total</th>\n",
       "      <th>price_cleaned</th>\n",
       "      <th>type</th>\n",
       "    </tr>\n",
       "  </thead>\n",
       "  <tbody>\n",
       "    <tr>\n",
       "      <th>0</th>\n",
       "      <td>0</td>\n",
       "      <td>47.417100</td>\n",
       "      <td>8.085600</td>\n",
       "      <td>16620</td>\n",
       "      <td>0.511176</td>\n",
       "      <td>0.286451</td>\n",
       "      <td>0.090908</td>\n",
       "      <td>47.415927</td>\n",
       "      <td>8.085840</td>\n",
       "      <td>0.0</td>\n",
       "      <td>...</td>\n",
       "      <td>1545.0</td>\n",
       "      <td>686.0</td>\n",
       "      <td>2.234259</td>\n",
       "      <td>5.89</td>\n",
       "      <td>14.0</td>\n",
       "      <td>9.0</td>\n",
       "      <td>308.0</td>\n",
       "      <td>331.0</td>\n",
       "      <td>1150000.0</td>\n",
       "      <td>0</td>\n",
       "    </tr>\n",
       "    <tr>\n",
       "      <th>1</th>\n",
       "      <td>1</td>\n",
       "      <td>47.419500</td>\n",
       "      <td>8.082700</td>\n",
       "      <td>16620</td>\n",
       "      <td>0.511176</td>\n",
       "      <td>0.286451</td>\n",
       "      <td>0.090908</td>\n",
       "      <td>47.415927</td>\n",
       "      <td>8.085840</td>\n",
       "      <td>0.0</td>\n",
       "      <td>...</td>\n",
       "      <td>1545.0</td>\n",
       "      <td>686.0</td>\n",
       "      <td>2.234259</td>\n",
       "      <td>5.89</td>\n",
       "      <td>14.0</td>\n",
       "      <td>9.0</td>\n",
       "      <td>308.0</td>\n",
       "      <td>331.0</td>\n",
       "      <td>1420000.0</td>\n",
       "      <td>1</td>\n",
       "    </tr>\n",
       "    <tr>\n",
       "      <th>2</th>\n",
       "      <td>2</td>\n",
       "      <td>47.403300</td>\n",
       "      <td>8.033000</td>\n",
       "      <td>17812</td>\n",
       "      <td>0.163362</td>\n",
       "      <td>0.095877</td>\n",
       "      <td>0.001911</td>\n",
       "      <td>47.397416</td>\n",
       "      <td>8.043150</td>\n",
       "      <td>0.0</td>\n",
       "      <td>...</td>\n",
       "      <td>21036.0</td>\n",
       "      <td>10149.0</td>\n",
       "      <td>3.549010</td>\n",
       "      <td>6.05</td>\n",
       "      <td>37.0</td>\n",
       "      <td>3092.0</td>\n",
       "      <td>30364.0</td>\n",
       "      <td>33493.0</td>\n",
       "      <td>720000.0</td>\n",
       "      <td>0</td>\n",
       "    </tr>\n",
       "    <tr>\n",
       "      <th>3</th>\n",
       "      <td>3</td>\n",
       "      <td>47.415643</td>\n",
       "      <td>8.085423</td>\n",
       "      <td>16620</td>\n",
       "      <td>0.511176</td>\n",
       "      <td>0.286451</td>\n",
       "      <td>0.090908</td>\n",
       "      <td>47.415927</td>\n",
       "      <td>8.085840</td>\n",
       "      <td>0.0</td>\n",
       "      <td>...</td>\n",
       "      <td>1545.0</td>\n",
       "      <td>686.0</td>\n",
       "      <td>2.234259</td>\n",
       "      <td>5.89</td>\n",
       "      <td>14.0</td>\n",
       "      <td>9.0</td>\n",
       "      <td>308.0</td>\n",
       "      <td>331.0</td>\n",
       "      <td>1430000.0</td>\n",
       "      <td>2</td>\n",
       "    </tr>\n",
       "    <tr>\n",
       "      <th>4</th>\n",
       "      <td>4</td>\n",
       "      <td>47.403824</td>\n",
       "      <td>8.048288</td>\n",
       "      <td>12716</td>\n",
       "      <td>0.333865</td>\n",
       "      <td>0.279276</td>\n",
       "      <td>0.145835</td>\n",
       "      <td>47.404870</td>\n",
       "      <td>8.052781</td>\n",
       "      <td>0.0</td>\n",
       "      <td>...</td>\n",
       "      <td>6081.0</td>\n",
       "      <td>2638.0</td>\n",
       "      <td>1.708126</td>\n",
       "      <td>6.30</td>\n",
       "      <td>65.0</td>\n",
       "      <td>349.0</td>\n",
       "      <td>941.0</td>\n",
       "      <td>1355.0</td>\n",
       "      <td>995000.0</td>\n",
       "      <td>3</td>\n",
       "    </tr>\n",
       "  </tbody>\n",
       "</table>\n",
       "<p>5 rows × 55 columns</p>\n",
       "</div>"
      ],
      "text/plain": [
       "   Unnamed: 0        lat       lon  index  ForestDensityL  ForestDensityM  \\\n",
       "0           0  47.417100  8.085600  16620        0.511176        0.286451   \n",
       "1           1  47.419500  8.082700  16620        0.511176        0.286451   \n",
       "2           2  47.403300  8.033000  17812        0.163362        0.095877   \n",
       "3           3  47.415643  8.085423  16620        0.511176        0.286451   \n",
       "4           4  47.403824  8.048288  12716        0.333865        0.279276   \n",
       "\n",
       "   ForestDensityS   Latitude  Longitude  NoisePollutionRailwayL  ...  \\\n",
       "0        0.090908  47.415927   8.085840                     0.0  ...   \n",
       "1        0.090908  47.415927   8.085840                     0.0  ...   \n",
       "2        0.001911  47.397416   8.043150                     0.0  ...   \n",
       "3        0.090908  47.415927   8.085840                     0.0  ...   \n",
       "4        0.145835  47.404870   8.052781                     0.0  ...   \n",
       "\n",
       "   gde_population  gde_private_apartments  gde_social_help_quota  gde_tax  \\\n",
       "0          1545.0                   686.0               2.234259     5.89   \n",
       "1          1545.0                   686.0               2.234259     5.89   \n",
       "2         21036.0                 10149.0               3.549010     6.05   \n",
       "3          1545.0                   686.0               2.234259     5.89   \n",
       "4          6081.0                  2638.0               1.708126     6.30   \n",
       "\n",
       "   gde_workers_sector1  gde_workers_sector2  gde_workers_sector3  \\\n",
       "0                 14.0                  9.0                308.0   \n",
       "1                 14.0                  9.0                308.0   \n",
       "2                 37.0               3092.0              30364.0   \n",
       "3                 14.0                  9.0                308.0   \n",
       "4                 65.0                349.0                941.0   \n",
       "\n",
       "   gde_workers_total  price_cleaned  type  \n",
       "0              331.0      1150000.0     0  \n",
       "1              331.0      1420000.0     1  \n",
       "2            33493.0       720000.0     0  \n",
       "3              331.0      1430000.0     2  \n",
       "4             1355.0       995000.0     3  \n",
       "\n",
       "[5 rows x 55 columns]"
      ]
     },
     "execution_count": 79,
     "metadata": {},
     "output_type": "execute_result"
    }
   ],
   "source": [
    "# keep only numeric columns\n",
    "df = df.select_dtypes(include=np.number)\n",
    "df.head()"
   ]
  },
  {
   "cell_type": "code",
   "execution_count": 80,
   "metadata": {},
   "outputs": [],
   "source": [
    "# make Matrix y as target with column type\n",
    "y = df[\"type\"].values\n",
    "# make Matrix X as features with all columns except type\n",
    "X = df.drop([\"type\"], axis=1).values"
   ]
  },
  {
   "cell_type": "code",
   "execution_count": 81,
   "metadata": {},
   "outputs": [
    {
     "data": {
      "text/plain": [
       "(13378, 54)"
      ]
     },
     "execution_count": 81,
     "metadata": {},
     "output_type": "execute_result"
    }
   ],
   "source": [
    "X.shape"
   ]
  },
  {
   "cell_type": "code",
   "execution_count": 82,
   "metadata": {},
   "outputs": [
    {
     "data": {
      "text/plain": [
       "(13378,)"
      ]
     },
     "execution_count": 82,
     "metadata": {},
     "output_type": "execute_result"
    }
   ],
   "source": [
    "y.shape"
   ]
  },
  {
   "cell_type": "code",
   "execution_count": 83,
   "metadata": {},
   "outputs": [],
   "source": [
    "X_train, X_test, y_train, y_test = train_test_split(X, y, test_size=0.2)"
   ]
  },
  {
   "cell_type": "code",
   "execution_count": 84,
   "metadata": {},
   "outputs": [],
   "source": [
    "X = (X - X.mean(axis = 0)) / X.std(axis = 0) # standardization of features"
   ]
  },
  {
   "cell_type": "code",
   "execution_count": 85,
   "metadata": {},
   "outputs": [],
   "source": [
    "# create 20 models\n",
    "m1 = LogisticRegressionOneVsAll()\n",
    "m2 = LogisticRegressionOneVsAll()\n",
    "m3 = LogisticRegressionOneVsAll()\n",
    "m4 = LogisticRegressionOneVsAll()\n",
    "m5 = LogisticRegressionOneVsAll()\n",
    "m6 = LogisticRegressionOneVsAll()\n",
    "m7 = LogisticRegressionOneVsAll()\n",
    "m8 = LogisticRegressionOneVsAll()\n",
    "m9 = LogisticRegressionOneVsAll()\n",
    "m10 = LogisticRegressionOneVsAll()\n",
    "m11 = LogisticRegressionOneVsAll()\n",
    "m12 = LogisticRegressionOneVsAll()\n",
    "m13 = LogisticRegressionOneVsAll()\n",
    "m14 = LogisticRegressionOneVsAll()\n",
    "m15 = LogisticRegressionOneVsAll()\n",
    "m16 = LogisticRegressionOneVsAll()\n",
    "m17 = LogisticRegressionOneVsAll()\n",
    "m18 = LogisticRegressionOneVsAll()\n",
    "m19 = LogisticRegressionOneVsAll()\n",
    "m20 = LogisticRegressionOneVsAll()\n",
    "m21 = LogisticRegressionOneVsAll()\n",
    "# put in list\n",
    "models = [m1, m2, m3, m4, m5, m6, m7, m8, m9, m10, m11, m12, m13, m14, m15, m16, m17, m18, m19, m20, m21]\n",
    "# create dict with m1 - m21 as key and 0 as value\n",
    "model_dict = dict.fromkeys(models, 0)\n",
    "accuracy_dict = dict.fromkeys(models, 0)"
   ]
  },
  {
   "cell_type": "code",
   "execution_count": 86,
   "metadata": {},
   "outputs": [
    {
     "ename": "KeyboardInterrupt",
     "evalue": "",
     "output_type": "error",
     "traceback": [
      "\u001b[0;31m---------------------------------------------------------------------------\u001b[0m",
      "\u001b[0;31mKeyboardInterrupt\u001b[0m                         Traceback (most recent call last)",
      "\u001b[1;32m/Users/haris.alic/Library/CloudStorage/OneDrive-Personal/02. FHNW/3-semester/3-semester-cml1/haris_private/logistic_regression_immoscout.ipynb Cell 14\u001b[0m in \u001b[0;36m<cell line: 2>\u001b[0;34m()\u001b[0m\n\u001b[1;32m      <a href='vscode-notebook-cell:/Users/haris.alic/Library/CloudStorage/OneDrive-Personal/02.%20FHNW/3-semester/3-semester-cml1/haris_private/logistic_regression_immoscout.ipynb#X20sZmlsZQ%3D%3D?line=0'>1</a>\u001b[0m \u001b[39m# fit the models\u001b[39;00m\n\u001b[1;32m      <a href='vscode-notebook-cell:/Users/haris.alic/Library/CloudStorage/OneDrive-Personal/02.%20FHNW/3-semester/3-semester-cml1/haris_private/logistic_regression_immoscout.ipynb#X20sZmlsZQ%3D%3D?line=1'>2</a>\u001b[0m \u001b[39mfor\u001b[39;00m idx, model \u001b[39min\u001b[39;00m \u001b[39menumerate\u001b[39m(models):\n\u001b[0;32m----> <a href='vscode-notebook-cell:/Users/haris.alic/Library/CloudStorage/OneDrive-Personal/02.%20FHNW/3-semester/3-semester-cml1/haris_private/logistic_regression_immoscout.ipynb#X20sZmlsZQ%3D%3D?line=2'>3</a>\u001b[0m     model\u001b[39m.\u001b[39;49mfit(X_train, np\u001b[39m.\u001b[39;49mwhere(y_train \u001b[39m==\u001b[39;49m idx, \u001b[39m1\u001b[39;49m, \u001b[39m-\u001b[39;49m\u001b[39m1\u001b[39;49m))\n\u001b[1;32m      <a href='vscode-notebook-cell:/Users/haris.alic/Library/CloudStorage/OneDrive-Personal/02.%20FHNW/3-semester/3-semester-cml1/haris_private/logistic_regression_immoscout.ipynb#X20sZmlsZQ%3D%3D?line=3'>4</a>\u001b[0m \u001b[39m# predict the models\u001b[39;00m\n\u001b[1;32m      <a href='vscode-notebook-cell:/Users/haris.alic/Library/CloudStorage/OneDrive-Personal/02.%20FHNW/3-semester/3-semester-cml1/haris_private/logistic_regression_immoscout.ipynb#X20sZmlsZQ%3D%3D?line=4'>5</a>\u001b[0m \u001b[39mfor\u001b[39;00m idx, model \u001b[39min\u001b[39;00m \u001b[39menumerate\u001b[39m(models):\n",
      "File \u001b[0;32m~/Library/CloudStorage/OneDrive-Personal/02. FHNW/3-semester/3-semester-cml1/haris_private/logistic_regression_matrix.py:34\u001b[0m, in \u001b[0;36mLogisticRegressionMatrix.fit\u001b[0;34m(self, X, y)\u001b[0m\n\u001b[1;32m     32\u001b[0m y_linear \u001b[39m=\u001b[39m \u001b[39mself\u001b[39m\u001b[39m.\u001b[39mlinear_model(X)\n\u001b[1;32m     33\u001b[0m y_pred \u001b[39m=\u001b[39m np\u001b[39m.\u001b[39marray([\u001b[39m1\u001b[39m \u001b[39mif\u001b[39;00m i \u001b[39m>\u001b[39m \u001b[39m0.5\u001b[39m \u001b[39melse\u001b[39;00m \u001b[39m-\u001b[39m\u001b[39m1\u001b[39m \u001b[39mfor\u001b[39;00m i \u001b[39min\u001b[39;00m \u001b[39mself\u001b[39m\u001b[39m.\u001b[39msigmoid(y_linear)])\n\u001b[0;32m---> 34\u001b[0m dw, db \u001b[39m=\u001b[39m \u001b[39mself\u001b[39;49m\u001b[39m.\u001b[39;49mgradient(X, y, y_pred)\n\u001b[1;32m     35\u001b[0m \u001b[39mself\u001b[39m\u001b[39m.\u001b[39mupdate_params(dw, db)\n",
      "File \u001b[0;32m~/Library/CloudStorage/OneDrive-Personal/02. FHNW/3-semester/3-semester-cml1/haris_private/logistic_regression_matrix.py:63\u001b[0m, in \u001b[0;36mLogisticRegressionMatrix.gradient\u001b[0;34m(self, X, y, y_pred)\u001b[0m\n\u001b[1;32m     61\u001b[0m \u001b[39mdef\u001b[39;00m \u001b[39mgradient\u001b[39m(\u001b[39mself\u001b[39m, X, y, y_pred):\n\u001b[1;32m     62\u001b[0m     dw \u001b[39m=\u001b[39m (\u001b[39m1\u001b[39m \u001b[39m/\u001b[39m \u001b[39mself\u001b[39m\u001b[39m.\u001b[39mn_samples) \u001b[39m*\u001b[39m X\u001b[39m.\u001b[39mT \u001b[39m@\u001b[39m (y_pred \u001b[39m-\u001b[39m y)\n\u001b[0;32m---> 63\u001b[0m     db \u001b[39m=\u001b[39m (\u001b[39m1\u001b[39m \u001b[39m/\u001b[39m \u001b[39mself\u001b[39m\u001b[39m.\u001b[39mn_samples) \u001b[39m*\u001b[39m np\u001b[39m.\u001b[39;49msum(y_pred \u001b[39m-\u001b[39;49m y)\n\u001b[1;32m     64\u001b[0m     \u001b[39mreturn\u001b[39;00m dw, db\n",
      "File \u001b[0;32m<__array_function__ internals>:177\u001b[0m, in \u001b[0;36msum\u001b[0;34m(*args, **kwargs)\u001b[0m\n",
      "File \u001b[0;32m/Library/Frameworks/Python.framework/Versions/3.10/lib/python3.10/site-packages/debugpy/_vendored/pydevd/_pydevd_bundle/pydevd_trace_dispatch_regular.py:326\u001b[0m, in \u001b[0;36mThreadTracer.__call__\u001b[0;34m(self, frame, event, arg)\u001b[0m\n\u001b[1;32m    323\u001b[0m         \u001b[39mself\u001b[39m\u001b[39m.\u001b[39m_args \u001b[39m=\u001b[39m args\n\u001b[1;32m    324\u001b[0m \u001b[39m# ENDIF\u001b[39;00m\n\u001b[0;32m--> 326\u001b[0m     \u001b[39mdef\u001b[39;00m \u001b[39m__call__\u001b[39m(\u001b[39mself\u001b[39m, frame, event, arg):\n\u001b[1;32m    327\u001b[0m         \u001b[39m''' This is the callback used when we enter some context in the debugger.\u001b[39;00m\n\u001b[1;32m    328\u001b[0m \n\u001b[1;32m    329\u001b[0m \u001b[39m        We also decorate the thread we are in with info about the debugging.\u001b[39;00m\n\u001b[0;32m   (...)\u001b[0m\n\u001b[1;32m    337\u001b[0m \u001b[39m            This is the global debugger (this method should actually be added as a method to it).\u001b[39;00m\n\u001b[1;32m    338\u001b[0m \u001b[39m        '''\u001b[39;00m\n\u001b[1;32m    339\u001b[0m         \u001b[39m# IFDEF CYTHON\u001b[39;00m\n\u001b[1;32m    340\u001b[0m         \u001b[39m# cdef str filename;\u001b[39;00m\n\u001b[1;32m    341\u001b[0m         \u001b[39m# cdef str base;\u001b[39;00m\n\u001b[0;32m   (...)\u001b[0m\n\u001b[1;32m    350\u001b[0m         \u001b[39m# DEBUG = 'code_to_debug' in frame.f_code.co_filename\u001b[39;00m\n\u001b[1;32m    351\u001b[0m         \u001b[39m# if DEBUG: print('ENTER: trace_dispatch: %s %s %s %s' % (frame.f_code.co_filename, frame.f_lineno, event, frame.f_code.co_name))\u001b[39;00m\n",
      "\u001b[0;31mKeyboardInterrupt\u001b[0m: "
     ]
    }
   ],
   "source": [
    "# fit the models\n",
    "for idx, model in enumerate(models):\n",
    "    model.fit(X_train, np.where(y_train == idx, 1, -1))\n",
    "# predict the models\n",
    "for idx, model in enumerate(models):\n",
    "    model_dict[0] = model.predict(X_test)\n",
    "# get the accuracy\n",
    "for idx, model in enumerate(models):\n",
    "    accuracy_dict[0] = accuracy_score(np.where(y_test == idx, 1, -1), model_dict[0])\n",
    "    print(\"Accuracy of model {} is {}\".format(idx, accuracy_dict[0]))"
   ]
  },
  {
   "cell_type": "code",
   "execution_count": null,
   "metadata": {},
   "outputs": [
    {
     "ename": "ValueError",
     "evalue": "matmul: Input operand 1 has a mismatch in its core dimension 0, with gufunc signature (n?,k),(k,m?)->(n?,m?) (size 54 is different from 55)",
     "output_type": "error",
     "traceback": [
      "\u001b[0;31m---------------------------------------------------------------------------\u001b[0m",
      "\u001b[0;31mValueError\u001b[0m                                Traceback (most recent call last)",
      "\u001b[1;32m/Users/haris.alic/Library/CloudStorage/OneDrive-Personal/02. FHNW/3-semester/3-semester-cml1/haris_private/logistic_regression_immoscout.ipynb Cell 15\u001b[0m in \u001b[0;36m<cell line: 4>\u001b[0;34m()\u001b[0m\n\u001b[1;32m      <a href='vscode-notebook-cell:/Users/haris.alic/Library/CloudStorage/OneDrive-Personal/02.%20FHNW/3-semester/3-semester-cml1/haris_private/logistic_regression_immoscout.ipynb#X21sZmlsZQ%3D%3D?line=2'>3</a>\u001b[0m \u001b[39m# loop through all models\u001b[39;00m\n\u001b[1;32m      <a href='vscode-notebook-cell:/Users/haris.alic/Library/CloudStorage/OneDrive-Personal/02.%20FHNW/3-semester/3-semester-cml1/haris_private/logistic_regression_immoscout.ipynb#X21sZmlsZQ%3D%3D?line=3'>4</a>\u001b[0m \u001b[39mfor\u001b[39;00m idx, model \u001b[39min\u001b[39;00m \u001b[39menumerate\u001b[39m(models):\n\u001b[1;32m      <a href='vscode-notebook-cell:/Users/haris.alic/Library/CloudStorage/OneDrive-Personal/02.%20FHNW/3-semester/3-semester-cml1/haris_private/logistic_regression_immoscout.ipynb#X21sZmlsZQ%3D%3D?line=4'>5</a>\u001b[0m     \u001b[39m# predict the first row of df\u001b[39;00m\n\u001b[0;32m----> <a href='vscode-notebook-cell:/Users/haris.alic/Library/CloudStorage/OneDrive-Personal/02.%20FHNW/3-semester/3-semester-cml1/haris_private/logistic_regression_immoscout.ipynb#X21sZmlsZQ%3D%3D?line=5'>6</a>\u001b[0m     model_dict[\u001b[39m0\u001b[39m] \u001b[39m=\u001b[39m model\u001b[39m.\u001b[39;49mpredict(df\u001b[39m.\u001b[39;49miloc[\u001b[39m0\u001b[39;49m]\u001b[39m.\u001b[39;49mvalues)\n\u001b[1;32m      <a href='vscode-notebook-cell:/Users/haris.alic/Library/CloudStorage/OneDrive-Personal/02.%20FHNW/3-semester/3-semester-cml1/haris_private/logistic_regression_immoscout.ipynb#X21sZmlsZQ%3D%3D?line=6'>7</a>\u001b[0m     \u001b[39m# get the accuracy\u001b[39;00m\n\u001b[1;32m      <a href='vscode-notebook-cell:/Users/haris.alic/Library/CloudStorage/OneDrive-Personal/02.%20FHNW/3-semester/3-semester-cml1/haris_private/logistic_regression_immoscout.ipynb#X21sZmlsZQ%3D%3D?line=7'>8</a>\u001b[0m     accuracy_dict[\u001b[39m0\u001b[39m] \u001b[39m=\u001b[39m accuracy_score(np\u001b[39m.\u001b[39mwhere(y_test \u001b[39m==\u001b[39m idx, \u001b[39m1\u001b[39m, \u001b[39m-\u001b[39m\u001b[39m1\u001b[39m), model_dict[\u001b[39m0\u001b[39m])\n",
      "File \u001b[0;32m~/Library/CloudStorage/OneDrive-Personal/02. FHNW/3-semester/3-semester-cml1/haris_private/logistic_regression_matrix.py:48\u001b[0m, in \u001b[0;36mLogisticRegressionMatrix.predict\u001b[0;34m(self, X)\u001b[0m\n\u001b[1;32m     38\u001b[0m \u001b[39mdef\u001b[39;00m \u001b[39mpredict\u001b[39m(\u001b[39mself\u001b[39m, X):\n\u001b[1;32m     39\u001b[0m     \u001b[39m# y_pred_list = []\u001b[39;00m\n\u001b[1;32m     40\u001b[0m     \u001b[39m# for idx, x_i in enumerate(X):\u001b[39;00m\n\u001b[0;32m   (...)\u001b[0m\n\u001b[1;32m     46\u001b[0m     \u001b[39m#     y_pred_list.append(y_pred)\u001b[39;00m\n\u001b[1;32m     47\u001b[0m     \u001b[39m# return y_pred_list\u001b[39;00m\n\u001b[0;32m---> 48\u001b[0m     y_linear \u001b[39m=\u001b[39m \u001b[39mself\u001b[39;49m\u001b[39m.\u001b[39;49mlinear_model(X)\n\u001b[1;32m     49\u001b[0m     y_pred \u001b[39m=\u001b[39m \u001b[39mself\u001b[39m\u001b[39m.\u001b[39msigmoid(y_linear)\n\u001b[1;32m     50\u001b[0m     \u001b[39mreturn\u001b[39;00m [\u001b[39m1\u001b[39m \u001b[39mif\u001b[39;00m i \u001b[39m>\u001b[39m \u001b[39m0.5\u001b[39m \u001b[39melse\u001b[39;00m \u001b[39m-\u001b[39m\u001b[39m1\u001b[39m \u001b[39mfor\u001b[39;00m i \u001b[39min\u001b[39;00m y_pred]\n",
      "File \u001b[0;32m~/Library/CloudStorage/OneDrive-Personal/02. FHNW/3-semester/3-semester-cml1/haris_private/logistic_regression_matrix.py:54\u001b[0m, in \u001b[0;36mLogisticRegressionMatrix.linear_model\u001b[0;34m(self, X)\u001b[0m\n\u001b[1;32m     53\u001b[0m \u001b[39mdef\u001b[39;00m \u001b[39mlinear_model\u001b[39m(\u001b[39mself\u001b[39m, X):\n\u001b[0;32m---> 54\u001b[0m     \u001b[39mreturn\u001b[39;00m X \u001b[39m@\u001b[39;49m \u001b[39mself\u001b[39;49m\u001b[39m.\u001b[39;49mweights \u001b[39m+\u001b[39m \u001b[39mself\u001b[39m\u001b[39m.\u001b[39mbias\n",
      "\u001b[0;31mValueError\u001b[0m: matmul: Input operand 1 has a mismatch in its core dimension 0, with gufunc signature (n?,k),(k,m?)->(n?,m?) (size 54 is different from 55)"
     ]
    }
   ],
   "source": [
    "# get first row of df without column type\n",
    "df.iloc[0, :-1]\n",
    "# loop through all models\n",
    "for idx, model in enumerate(models):\n",
    "    # get the probability of the first row\n",
    "    model.predict_proba(df.iloc[0, :-1].values.reshape(1, -1))\n",
    "    # print the probability of the first row\n",
    "    print(\"Probability of type {} is {}\".format(idx, model.predict_proba(df.iloc[0, :-1].values.reshape(1, -1))))"
   ]
  },
  {
   "cell_type": "code",
   "execution_count": null,
   "metadata": {},
   "outputs": [],
   "source": []
  }
 ],
 "metadata": {
  "kernelspec": {
   "display_name": "Python 3.10.6 64-bit",
   "language": "python",
   "name": "python3"
  },
  "language_info": {
   "codemirror_mode": {
    "name": "ipython",
    "version": 3
   },
   "file_extension": ".py",
   "mimetype": "text/x-python",
   "name": "python",
   "nbconvert_exporter": "python",
   "pygments_lexer": "ipython3",
   "version": "3.10.6"
  },
  "orig_nbformat": 4,
  "vscode": {
   "interpreter": {
    "hash": "aee8b7b246df8f9039afb4144a1f6fd8d2ca17a180786b69acc140d282b71a49"
   }
  }
 },
 "nbformat": 4,
 "nbformat_minor": 2
}
