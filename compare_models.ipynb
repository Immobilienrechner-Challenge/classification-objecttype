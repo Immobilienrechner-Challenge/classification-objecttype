{
 "cells": [
  {
   "cell_type": "markdown",
   "metadata": {},
   "source": [
    "# 3 Klassifikation des Objekttyps (1/4)\n",
    "Ziel dieser Aufgabe ist es, ein Modell zu erstellen, welches durch beliebige Metriken eine akkurate Vorhersage über den Typ der Immobilie erstellt.\n",
    "\n",
    "Wir vergleichen hier drei Ansätze miteinander"
   ]
  },
  {
   "cell_type": "markdown",
   "metadata": {},
   "source": [
    "## Importieren der benötigten Libraries und Daten"
   ]
  },
  {
   "cell_type": "code",
   "execution_count": 42,
   "metadata": {
    "cell_id": "30a8a31271d943e3810720b68a433c99",
    "deepnote_cell_height": 345,
    "deepnote_cell_type": "code",
    "deepnote_to_be_reexecuted": false,
    "execution_millis": 2123,
    "execution_start": 1666355025247,
    "source_hash": "54b48820",
    "tags": []
   },
   "outputs": [],
   "source": [
    "import torch\n",
    "import numpy as np\n",
    "import pandas as pd\n",
    "import matplotlib.pyplot as plt\n",
    "from sklearn.preprocessing import StandardScaler\n",
    "from sklearn.multiclass import OneVsRestClassifier\n",
    "from sklearn.metrics import recall_score, precision_score, f1_score\n",
    "from sklearn.model_selection import train_test_split\n",
    "from utils.gabonisator import Gabonisator\n",
    "from sklearn.neighbors import KNeighborsClassifier\n",
    "from sklearn.ensemble import RandomForestClassifier\n",
    "from tqdm.notebook import tqdm"
   ]
  },
  {
   "cell_type": "markdown",
   "metadata": {},
   "source": [
    "Die Daten beziehen wir aus unserem Data Repository auf GitHub."
   ]
  },
  {
   "cell_type": "code",
   "execution_count": null,
   "metadata": {
    "cell_id": "00002-ed06f97a-4428-4307-a24a-409601fb792a",
    "deepnote_cell_height": 117,
    "deepnote_cell_type": "code",
    "deepnote_to_be_reexecuted": false,
    "execution_millis": 298,
    "execution_start": 1666355027374,
    "source_hash": "8f6ec427"
   },
   "outputs": [],
   "source": [
    "# read clean data + plz data\n",
    "data = pd.read_csv(\n",
    "    \"https://raw.githubusercontent.com/Immobilienrechner-Challenge/data/main/clean.csv\"\n",
    ")\n",
    "data = data[[\"price\", \"zip_code\", \"living_space\", \"rooms\", \"type\"]]\n",
    "plz = pd.read_csv(\n",
    "    \"https://raw.githubusercontent.com/Immobilienrechner-Challenge/data/main/plz_data.csv\"\n",
    ")"
   ]
  },
  {
   "cell_type": "markdown",
   "metadata": {},
   "source": [
    "## Datenverarbeitung"
   ]
  },
  {
   "cell_type": "markdown",
   "metadata": {},
   "source": [
    "Um unsere kategorialen Zielvariable Type vorherzusagen, müssen wir sie in Dummies umwandeln, da wir nur numerische Werte berechnen können."
   ]
  },
  {
   "cell_type": "markdown",
   "metadata": {},
   "source": [
    "Zunächst kombinieren wir unseren reduzierten Wohnungsdatensatz mit unserem Postleitzahl Datensatz, um weitere Features zu erhalten."
   ]
  },
  {
   "cell_type": "code",
   "execution_count": null,
   "metadata": {
    "cell_id": "b24ebf59e0504eacb6d4d8f1ce09fcec",
    "deepnote_cell_height": 731,
    "deepnote_cell_type": "code",
    "deepnote_output_heights": [
     20
    ],
    "deepnote_to_be_reexecuted": false,
    "execution_millis": 151,
    "execution_start": 1666355027685,
    "source_hash": "1912f9aa",
    "tags": []
   },
   "outputs": [],
   "source": [
    "# join clean data with plz data on plz\n",
    "data = pd.get_dummies(data, columns=[\"type\"])\n",
    "data = data.merge(plz, how=\"inner\", left_on=\"zip_code\", right_on=\"PLZ\")\n",
    "data = data.drop(columns=[\"PLZ\", \"zip_code\"])"
   ]
  },
  {
   "cell_type": "markdown",
   "metadata": {},
   "source": [
    "Da unser Datensatz nur wenig NAs hat, verwerfen wir diese Observationen. Uns bleiben noch um die 11000 Datensätze."
   ]
  },
  {
   "cell_type": "code",
   "execution_count": null,
   "metadata": {
    "cell_id": "3452170aaf3a4c8ea5d5cdbefe0895c4",
    "deepnote_cell_height": 130,
    "deepnote_cell_type": "code",
    "deepnote_output_heights": [
     20
    ],
    "deepnote_to_be_reexecuted": false,
    "execution_millis": 2,
    "execution_start": 1666355027883,
    "source_hash": "7e7d9889",
    "tags": []
   },
   "outputs": [],
   "source": [
    "# drop NAs\n",
    "data = data.dropna()\n",
    "# print new number of observations\n",
    "len(data)"
   ]
  },
  {
   "cell_type": "markdown",
   "metadata": {},
   "source": [
    "Unsere Daten spalten wir danach in Features und Zielvariablen."
   ]
  },
  {
   "cell_type": "code",
   "execution_count": null,
   "metadata": {
    "cell_id": "00008-956099e5-782e-4e8a-865b-e923f2147947",
    "deepnote_cell_height": 148,
    "deepnote_cell_type": "code",
    "deepnote_to_be_reexecuted": false,
    "execution_millis": 0,
    "execution_start": 1666355027884,
    "source_hash": "cb6f131b"
   },
   "outputs": [],
   "source": [
    "# define columns for X and y\n",
    "y_cols = data.columns[data.columns.str.startswith(\"type_\")]\n",
    "X_cols = list(set(data._get_numeric_data().columns) - set(y_cols))\n",
    "\n",
    "# convert pandas data to numpy arrays\n",
    "X = data[X_cols].values\n",
    "y = data[y_cols].values"
   ]
  },
  {
   "cell_type": "markdown",
   "metadata": {},
   "source": [
    "Danach skalieren wir unsere Features mit einem StandardScaler auf die Werte aus unserem ganzen Datensatz."
   ]
  },
  {
   "cell_type": "code",
   "execution_count": null,
   "metadata": {
    "cell_id": "00011-323c4c4d-d773-497f-9854-c40bb318c7c9",
    "deepnote_cell_height": 94,
    "deepnote_cell_type": "code",
    "deepnote_to_be_reexecuted": false,
    "execution_millis": 43,
    "execution_start": 1666355027884,
    "source_hash": "9010a866"
   },
   "outputs": [],
   "source": [
    "# scale data to whole dataset\n",
    "scaler = StandardScaler().fit(X)\n",
    "X = scaler.transform(X)"
   ]
  },
  {
   "cell_type": "markdown",
   "metadata": {},
   "source": [
    "Unsere Daten unterteilen wir danach auf Trainings- und Validierungsdaten."
   ]
  },
  {
   "cell_type": "code",
   "execution_count": null,
   "metadata": {},
   "outputs": [],
   "source": [
    "# split train and val data (70%/30%)\n",
    "X_train, X_val, y_train, y_val = train_test_split(X, y, test_size=0.3, random_state=420)"
   ]
  },
  {
   "cell_type": "markdown",
   "metadata": {},
   "source": [
    "Hier wandeln wir unsere Numpy Werte in Float32 Werte, damit die Berechnung durch PyTorch effizienter verlauft."
   ]
  },
  {
   "cell_type": "code",
   "execution_count": null,
   "metadata": {},
   "outputs": [],
   "source": [
    "# create tensors from numpy arrays\n",
    "X_train_pytorch = torch.from_numpy(X_train.astype(np.float32))\n",
    "X_val_pytorch = torch.from_numpy(X_val.astype(np.float32))\n",
    "y_train_pytorch = torch.from_numpy(y_train.astype(np.float32))\n",
    "y_val_pytorch = torch.from_numpy(y_val.astype(np.float32))"
   ]
  },
  {
   "cell_type": "markdown",
   "metadata": {},
   "source": [
    "# Modelle"
   ]
  },
  {
   "cell_type": "markdown",
   "metadata": {},
   "source": [
    "## Neuronal Network"
   ]
  },
  {
   "cell_type": "markdown",
   "metadata": {},
   "source": [
    "Die Architektur unseres neuronalen Netzes sieht so aus:\n",
    "\n",
    "<svg xmlns=\"http://www.w3.org/2000/svg\" style=\"cursor: move; background: white;\" width=\"380\" height=\"185\"><g transform=\"translate(-743.5554710569938,-326.8616196843533)scale(1.1)\"><polygon class=\"poly\" id=\"fc_0\" style=\"fill: rgb(224, 224, 224); stroke: black; stroke-width: 0.67px; opacity: 0.45;\" points=\"718.5,344.6489719263484 728.5,344.6489719263484 828.2020561473032,444.3510280736516 818.2020561473032,444.3510280736516\"></polygon><polygon class=\"poly\" id=\"fc_1\" style=\"fill: rgb(224, 224, 224); stroke: black; stroke-width: 0.67px; opacity: 0.45;\" points=\"830.2020561473032,371.87258300203047 840.2020561473032,371.87258300203047 885.4568901432423,417.1274169979695 875.4568901432423,417.1274169979695\"></polygon><polygon class=\"poly\" id=\"fc_2\" style=\"fill: rgb(224, 224, 224); stroke: black; stroke-width: 0.67px; opacity: 0.45;\" points=\"887.4568901432422,371.87258300203047 897.4568901432422,371.87258300203047 942.7117241391812,417.1274169979695 932.7117241391812,417.1274169979695\"></polygon><polygon class=\"poly\" id=\"fc_3\" style=\"fill: rgb(224, 224, 224); stroke: black; stroke-width: 0.67px; opacity: 0.45;\" points=\"944.7117241391812,387.07537879754125 954.7117241391812,387.07537879754125 969.5609665440987,401.92462120245875 959.5609665440987,401.92462120245875\"></polygon><line class=\"line\" id=\"fc_0\" style=\"stroke: black; stroke-width: 0.335px; stroke-opacity: 0.45; opacity: 0;\" x1=\"NaN\" y1=\"NaN\" x2=\"818.2020561473032\" y2=\"444.3510280736516\"></line><line class=\"line\" id=\"fc_0\" style=\"stroke: black; stroke-width: 0.335px; stroke-opacity: 0.45; opacity: 0;\" x1=\"NaN\" y1=\"NaN\" x2=\"718.5\" y2=\"344.6489719263484\"></line><line class=\"line\" id=\"fc_1\" style=\"stroke: black; stroke-width: 0.335px; stroke-opacity: 0.45; opacity: 1;\" x1=\"828.2020561473032\" y1=\"444.3510280736516\" x2=\"875.4568901432422\" y2=\"417.1274169979695\"></line><line class=\"line\" id=\"fc_1\" style=\"stroke: black; stroke-width: 0.335px; stroke-opacity: 0.45; opacity: 1;\" x1=\"728.5\" y1=\"344.6489719263484\" x2=\"830.2020561473032\" y2=\"371.87258300203047\"></line><line class=\"line\" id=\"fc_2\" style=\"stroke: black; stroke-width: 0.335px; stroke-opacity: 0.45; opacity: 1;\" x1=\"885.4568901432422\" y1=\"417.1274169979695\" x2=\"932.7117241391812\" y2=\"417.1274169979695\"></line><line class=\"line\" id=\"fc_2\" style=\"stroke: black; stroke-width: 0.335px; stroke-opacity: 0.45; opacity: 1;\" x1=\"840.2020561473032\" y1=\"371.87258300203047\" x2=\"887.4568901432422\" y2=\"371.87258300203047\"></line><line class=\"line\" id=\"fc_3\" style=\"stroke: black; stroke-width: 0.335px; stroke-opacity: 0.45; opacity: 1;\" x1=\"942.7117241391812\" y1=\"417.1274169979695\" x2=\"959.5609665440987\" y2=\"401.92462120245875\"></line><line class=\"line\" id=\"fc_3\" style=\"stroke: black; stroke-width: 0.335px; stroke-opacity: 0.45; opacity: 1;\" x1=\"897.4568901432422\" y1=\"371.87258300203047\" x2=\"944.7117241391812\" y2=\"387.07537879754125\"></line><text class=\"info\" dy=\"-0.3em\" style=\"font-size: 16px;\" font-family=\"sans-serif\" x=\"718.5\" y=\"329.6489719263484\">1x141</text><text class=\"info\" dy=\"-0.3em\" style=\"font-size: 16px;\" font-family=\"sans-serif\" x=\"830.2020561473032\" y=\"356.87258300203047\">1x64</text><text class=\"info\" dy=\"-0.3em\" style=\"font-size: 16px;\" font-family=\"sans-serif\" x=\"887.4568901432422\" y=\"356.87258300203047\">1x64</text><text class=\"info\" dy=\"-0.3em\" style=\"font-size: 16px;\" font-family=\"sans-serif\" x=\"944.7117241391812\" y=\"372.07537879754125\">1x21</text></g></svg>"
   ]
  },
  {
   "cell_type": "markdown",
   "metadata": {},
   "source": [
    "Dieses Modell erstellen wir danach und definieren eine Learning Rate, eine Lossfunction und ein Optimizer.\n",
    "Als Lossfunction nehmen wir die Binary-Crossentropy und als Optimizer Adam.\n",
    "Danach trainieren wir unser Modell und speichern unsere Losses nach jeder Epoche."
   ]
  },
  {
   "cell_type": "code",
   "execution_count": null,
   "metadata": {},
   "outputs": [],
   "source": [
    "# create model\n",
    "model = Gabonisator(X.shape[1], y.shape[1])\n",
    "\n",
    "# define learning rate, loss function and optimizer\n",
    "learning_rate = 0.00003\n",
    "lossf = torch.nn.BCELoss()\n",
    "optim = torch.optim.Adam(model.parameters(), lr=learning_rate)\n",
    "\n",
    "# loss tracker\n",
    "loss_train_arr = []\n",
    "loss_val_arr = []\n",
    "\n",
    "# define iterations and iterate (training)\n",
    "n_epochs = 10000\n",
    "for epoch in range(n_epochs):\n",
    "    # forward prop\n",
    "    y_pred = model(X_train_pytorch)\n",
    "    # loss function\n",
    "    loss_train = lossf(y_pred, y_train_pytorch)\n",
    "    # back prop\n",
    "    loss_train.backward()\n",
    "    # update params with optimizer\n",
    "    optim.step()\n",
    "    # empty gradients\n",
    "    optim.zero_grad()\n",
    "\n",
    "    # forward prop val data\n",
    "    y_pred_val = model(X_val_pytorch)\n",
    "    # get loss of validation data\n",
    "    loss_val = lossf(y_pred_val, y_val_pytorch)\n",
    "    # save losses\n",
    "    loss_train_arr.append(loss_train.item())\n",
    "    loss_val_arr.append(loss_val.item())\n",
    "\n",
    "    # print info every 500 epochs\n",
    "    if (epoch + 1) % 500 == 0:\n",
    "        print(\n",
    "            f\"Epoch: {(epoch + 1): >5}/{n_epochs} | Loss train: {loss_train_arr[-1]:.4f} | Loss val: {loss_val_arr[-1]:.4f}\"\n",
    "        )\n",
    "\n",
    "# print final data\n",
    "with torch.no_grad():\n",
    "    print(\"---\")\n",
    "    print(f\"Final Run\")\n",
    "    print(\n",
    "        f\"Epoch: {(epoch + 1): >5}/{n_epochs} | Loss train: {loss_train_arr[-1]:.4f} | Loss val: {loss_val_arr[-1]:.4f}\"\n",
    "    )\n",
    "    print(\n",
    "        f\"   Best val loss: {np.min(loss_val_arr):.4f} at Epoch {np.argmin(loss_val_arr) + 1}\"\n",
    "    )"
   ]
  },
  {
   "cell_type": "markdown",
   "metadata": {},
   "source": [
    "Um einen Überblick zu erhalten, wie gut das Modell jetzt trainiert wurde, visualisieren wir unsere Losses nach jeder Epoche."
   ]
  },
  {
   "cell_type": "code",
   "execution_count": null,
   "metadata": {},
   "outputs": [],
   "source": [
    "# visualize score\n",
    "ymin = np.min(loss_val_arr) - 0.05\n",
    "ymax = np.max(loss_val_arr) + 0.15\n",
    "plt.figure(figsize=(16, 6), dpi=200)\n",
    "plt.title(\"detecting overfitting via train and validation losses\")\n",
    "plt.xlabel(\"epochs\")\n",
    "plt.ylabel(\"losses\")\n",
    "plt.axvspan(\n",
    "    np.argmin(loss_val_arr),\n",
    "    len(loss_val_arr),\n",
    "    (np.min(loss_val_arr) - ymin) / (ymax - ymin),\n",
    "    1,\n",
    "    color=\"#F5F200\",\n",
    "    alpha=0.3,\n",
    "    label=\"overfitting\",\n",
    ")\n",
    "plt.axvspan(\n",
    "    0,\n",
    "    len(loss_val_arr),\n",
    "    0,\n",
    "    (np.min(loss_val_arr) - ymin) / (ymax - ymin),\n",
    "    color=\"#52F748\",\n",
    "    alpha=0.2,\n",
    "    label=\"optimizing potential\",\n",
    ")\n",
    "plt.plot(loss_val_arr, color=\"#9166FF\", label=\"loss validation\")\n",
    "plt.plot(loss_train_arr, color=\"#E02420\", label=\"loss train\")\n",
    "plt.ylim(ymin, ymax)\n",
    "plt.xlim(0, len(loss_val_arr))\n",
    "plt.xticks([np.argmin(loss_val_arr)])\n",
    "plt.yticks([np.min(loss_val_arr)])\n",
    "plt.grid()\n",
    "plt.legend()\n",
    "plt.show()"
   ]
  },
  {
   "cell_type": "markdown",
   "metadata": {},
   "source": [
    "Wie wir hier erkennen können, passiert nach einer bestimmten Zahl Iterationen overfitting, da der Loss Wert unseres Validierungsdatensatzes steigt, anstatt zu sinken. Um dies zu bekämpfen, muss das Modell selbst erkennen, dass Overfitting stattfindet und frühzeitig abbrechen. Dafür implemntieren wir ein Early Stopping, welches überprüft, ob der letzte Loss Wert kleiner ist, als der aktuelle. Falls dies der Fall ist, hört das Modell auf zu trainieren."
   ]
  },
  {
   "cell_type": "code",
   "execution_count": null,
   "metadata": {},
   "outputs": [],
   "source": [
    "# create model\n",
    "model = Gabonisator(X.shape[1], y.shape[1])\n",
    "\n",
    "# define learning rate, loss function and optimizer\n",
    "learning_rate = 0.00003\n",
    "lossf = torch.nn.BCELoss()\n",
    "optim = torch.optim.Adam(model.parameters(), lr=learning_rate)\n",
    "\n",
    "# loss tracker\n",
    "loss_train_arr = []\n",
    "loss_val_arr = []\n",
    "\n",
    "# define iterations and iterate (training)\n",
    "n_epochs = 10000\n",
    "for epoch in range(n_epochs):\n",
    "    # forward prop\n",
    "    y_pred = model(X_train_pytorch)\n",
    "    # loss function\n",
    "    loss_train = lossf(y_pred, y_train_pytorch)\n",
    "    # back prop\n",
    "    loss_train.backward()\n",
    "    # update params with optimizer\n",
    "    optim.step()\n",
    "    # empty gradients\n",
    "    optim.zero_grad()\n",
    "\n",
    "    # forward prop val data\n",
    "    y_pred_val = model(X_val_pytorch)\n",
    "    # get loss of validation data\n",
    "    loss_val = lossf(y_pred_val, y_val_pytorch)\n",
    "    # save losses\n",
    "    loss_train_arr.append(loss_train.item())\n",
    "    loss_val_arr.append(loss_val.item())\n",
    "\n",
    "    # loss val goes up too much -> EarlyStop\n",
    "    if np.round(np.min(loss_val_arr), 4) != np.round(loss_val.item(), 4):\n",
    "        print(\"Early Stopping!\")\n",
    "        break\n",
    "\n",
    "    # print info every 500 epochs\n",
    "    if (epoch + 1) % 500 == 0:\n",
    "        print(\n",
    "            f\"Epoch: {(epoch + 1): >5}/{n_epochs} | Loss train: {loss_train_arr[-1]:.4f} | Loss val: {loss_val_arr[-1]:.4f}\"\n",
    "        )\n",
    "\n",
    "# print final data\n",
    "with torch.no_grad():\n",
    "    accuracy = (\n",
    "        (model(X_val_pytorch).argmax(axis=1) == y_val_pytorch.argmax(axis=1)).sum() / y_val.shape[0]\n",
    "    ).item()\n",
    "    print(\"---\")\n",
    "    print(f\"Final Run\")\n",
    "    print(\n",
    "        f\"Epoch: {(epoch): >5}/{n_epochs} | Loss train: {loss_train_arr[-1]:.4f} | Loss val: {loss_val_arr[-1]:.4f} | Score: {accuracy:.4f}\"\n",
    "    )\n"
   ]
  },
  {
   "cell_type": "markdown",
   "metadata": {},
   "source": [
    "Jetzt visualisieren wir unsere Ergebnisse anhand der gleichen Visualisierung wie vorhin."
   ]
  },
  {
   "cell_type": "code",
   "execution_count": null,
   "metadata": {},
   "outputs": [],
   "source": [
    "# visualize score\n",
    "ymin = np.min(loss_val_arr) - 0.05\n",
    "ymax = np.max(loss_val_arr) + 0.15\n",
    "plt.figure(figsize=(16, 6), dpi=200)\n",
    "plt.title(\"detecting overfitting via train and validation losses\")\n",
    "plt.xlabel(\"epochs\")\n",
    "plt.ylabel(\"losses\")\n",
    "plt.axvspan(\n",
    "    np.argmin(loss_val_arr),\n",
    "    len(loss_val_arr),\n",
    "    (np.min(loss_val_arr) - ymin) / (ymax - ymin),\n",
    "    1,\n",
    "    color=\"#F5F200\",\n",
    "    alpha=0.3,\n",
    "    label=\"overfitting\",\n",
    ")\n",
    "plt.axvspan(\n",
    "    0,\n",
    "    len(loss_val_arr),\n",
    "    0,\n",
    "    (np.min(loss_val_arr) - ymin) / (ymax - ymin),\n",
    "    color=\"#52F748\",\n",
    "    alpha=0.2,\n",
    "    label=\"optimizing potential\",\n",
    ")\n",
    "plt.plot(loss_val_arr, color=\"#9166FF\", label=\"loss validation\")\n",
    "plt.plot(loss_train_arr, color=\"#E02420\", label=\"loss train\")\n",
    "plt.ylim(ymin, ymax)\n",
    "plt.xlim(0, len(loss_val_arr))\n",
    "plt.xticks([np.argmin(loss_val_arr)])\n",
    "plt.yticks([np.min(loss_val_arr)])\n",
    "plt.grid()\n",
    "plt.legend()\n",
    "plt.show()"
   ]
  },
  {
   "cell_type": "code",
   "execution_count": null,
   "metadata": {},
   "outputs": [],
   "source": [
    "def get_score_for_continous_multioutput(y_pred_continous, y_true, score_type):\n",
    "    '''\n",
    "    Compute different scores where y_pred is a continuous-multioutput\n",
    "\n",
    "    Returns\n",
    "    -------\n",
    "    f1_score or precision_score or recall_scource from sklearn.metrics\n",
    "    '''\n",
    "    indices = [np.argmax(x) for x in y_pred_continous]\n",
    "    zeros = [np.zeros(len(x)) for x in y_pred_continous]\n",
    "    y_pred = list()\n",
    "    for x, ind in zip(zeros, indices):\n",
    "        x[ind] = 1\n",
    "        y_pred.append(x)\n",
    "    if score_type == \"f1_score\":\n",
    "        return f1_score(y_true, y_pred, average=\"weighted\", zero_division=1)\n",
    "    elif score_type == \"precision_score\":\n",
    "        return precision_score(y_true, y_pred, average=\"weighted\", zero_division=1)\n",
    "    elif score_type == \"recall_score\":\n",
    "        return recall_score(y_true, y_pred, average=\"weighted\", zero_division=1)"
   ]
  },
  {
   "cell_type": "code",
   "execution_count": null,
   "metadata": {},
   "outputs": [],
   "source": [
    "y_pred_np = model(X_val_pytorch).detach().numpy()\n",
    "y_val_np = y_val_pytorch.numpy()"
   ]
  },
  {
   "cell_type": "code",
   "execution_count": null,
   "metadata": {},
   "outputs": [],
   "source": [
    "print(\n",
    "    \"\"\"\n",
    "    Unser {} bricht jetzt frühzeitig ab und verhindert somit overfitting.\\n\n",
    "    Unsere {} ist mit diesem Modell ca. {}%,\\n\n",
    "    Unser {} ist mit diesem Modell ca. {}%,\\n\n",
    "    Unsere {} ist mit diesem Modell ca. {}%,\\n\n",
    "    Unser {} ist mit diesem Modell ca. {}%\n",
    "    \"\"\".format(\n",
    "        model.__class__.__name__,\n",
    "        \"Accuracy\",\n",
    "        np.round(accuracy, 2),\n",
    "        \"F1 Score\",\n",
    "        np.round(get_score_for_continous_multioutput(y_pred_np, y_val_np, \"f1_score\"), 2),\n",
    "        \"Precision\",\n",
    "        np.round(get_score_for_continous_multioutput(y_pred_np, y_val_np, \"precision_score\"), 2),\n",
    "        \"Recall\",\n",
    "        np.round(get_score_for_continous_multioutput(y_pred_np, y_val_np, \"recall_score\"), 2)\n",
    "    )\n",
    ")"
   ]
  },
  {
   "cell_type": "markdown",
   "metadata": {},
   "source": [
    "## K Neighbors Classifier"
   ]
  },
  {
   "cell_type": "code",
   "execution_count": 30,
   "metadata": {},
   "outputs": [],
   "source": [
    "data_ = pd.read_csv(\"https://raw.githubusercontent.com/Immobilienrechner-Challenge/data/main/clean.csv\")\n",
    "data_ = data_[['price', 'zip_code', 'living_space', 'rooms', 'type']].copy()"
   ]
  },
  {
   "cell_type": "markdown",
   "metadata": {},
   "source": [
    "Da unser Datensatz nur wenig NAs hat, verwerfen wir diese Observationen. Uns bleiben noch um die 11000 Datensätze."
   ]
  },
  {
   "cell_type": "code",
   "execution_count": 31,
   "metadata": {},
   "outputs": [],
   "source": [
    "data_ = data_.dropna()"
   ]
  },
  {
   "cell_type": "markdown",
   "metadata": {},
   "source": [
    "Unsere Daten spalten wir danach in Features und Zielvariablen"
   ]
  },
  {
   "cell_type": "code",
   "execution_count": 32,
   "metadata": {},
   "outputs": [],
   "source": [
    "y_cols = [\"type\"]\n",
    "X_cols = list(set(data_.columns) - set(y_cols))\n",
    "\n",
    "X = data_[X_cols].values\n",
    "y = data_[y_cols].values.ravel()"
   ]
  },
  {
   "cell_type": "markdown",
   "metadata": {},
   "source": [
    "Unsere Daten unterteilen wir danach auf Trainings- und Validierungsdaten."
   ]
  },
  {
   "cell_type": "code",
   "execution_count": 33,
   "metadata": {},
   "outputs": [],
   "source": [
    "X_train, X_val, y_train, y_val = train_test_split(X, y, test_size=0.3)"
   ]
  },
  {
   "cell_type": "markdown",
   "metadata": {},
   "source": [
    "Hier trainieren wir mehrere Modelle, welche wir anhand verschiedener Anzahl Neighbors erstellen. Für jedes Modell berechnen wir die Accuracy und speichern diese ab."
   ]
  },
  {
   "cell_type": "code",
   "execution_count": 37,
   "metadata": {},
   "outputs": [
    {
     "data": {
      "application/vnd.jupyter.widget-view+json": {
       "model_id": "40d841dbcd3d433a97580378c5c7e092",
       "version_major": 2,
       "version_minor": 0
      },
      "text/plain": [
       "  0%|          | 0/31 [00:00<?, ?it/s]"
      ]
     },
     "metadata": {},
     "output_type": "display_data"
    }
   ],
   "source": [
    "accuracies = np.array(\n",
    "    [\n",
    "        (i, KNeighborsClassifier(i).fit(X_train, y_train).score(X_val, y_val)) for i in tqdm(range(1, 32))\n",
    "    ]\n",
    ")"
   ]
  },
  {
   "cell_type": "markdown",
   "metadata": {},
   "source": [
    "Um zu entscheiden, wieviel Neighbors man für das Modell nehmen soll, visualisieren wir hier die Accuracy für jeden Wert."
   ]
  },
  {
   "cell_type": "code",
   "execution_count": 38,
   "metadata": {},
   "outputs": [
    {
     "data": {
      "image/png": "[encoded data removed]",
      "text/plain": [
       "<Figure size 3200x1200 with 1 Axes>"
      ]
     },
     "metadata": {},
     "output_type": "display_data"
    }
   ],
   "source": [
    "plt.figure(figsize=(16, 6), dpi=200)\n",
    "plt.title(\"Determining which number of neighbors results in the best accuracy\")\n",
    "plt.xlabel(\"Number of neighbors\")\n",
    "plt.ylabel(\"Accuracy with validation data\")\n",
    "plt.plot(accuracies[:,0], accuracies[:,1])\n",
    "plt.xticks(np.linspace(1, 31, 11))\n",
    "plt.grid()\n",
    "plt.show()"
   ]
  },
  {
   "cell_type": "code",
   "execution_count": null,
   "metadata": {},
   "outputs": [],
   "source": [
    "# TODO y_val is not numeric -> use from sklearn.preprocessing import OneHotEncoder"
   ]
  },
  {
   "cell_type": "code",
   "execution_count": 44,
   "metadata": {},
   "outputs": [
    {
     "name": "stdout",
     "output_type": "stream",
     "text": [
      "['detached-house' 'flat' 'flat' ... 'flat' 'detached-house' 'flat']\n"
     ]
    },
    {
     "ename": "ValueError",
     "evalue": "Classification metrics can't handle a mix of multiclass and unknown targets",
     "output_type": "error",
     "traceback": [
      "\u001b[0;31m---------------------------------------------------------------------------\u001b[0m",
      "\u001b[0;31mValueError\u001b[0m                                Traceback (most recent call last)",
      "Cell \u001b[0;32mIn [44], line 5\u001b[0m\n\u001b[1;32m      3\u001b[0m accuracy \u001b[39m=\u001b[39m clf\u001b[39m.\u001b[39mscore(X_val, y_val)\n\u001b[1;32m      4\u001b[0m \u001b[39mprint\u001b[39m(clf\u001b[39m.\u001b[39mpredict(X_val))\n\u001b[0;32m----> 5\u001b[0m f1score \u001b[39m=\u001b[39m get_score_for_continous_multioutput(clf\u001b[39m.\u001b[39;49mpredict(X_val), y_val, \u001b[39m\"\u001b[39;49m\u001b[39mf1_score\u001b[39;49m\u001b[39m\"\u001b[39;49m)\n\u001b[1;32m      6\u001b[0m precision \u001b[39m=\u001b[39m get_score_for_continous_multioutput(clf\u001b[39m.\u001b[39mpredict(X_val), y_val, \u001b[39m\"\u001b[39m\u001b[39mprecision_score\u001b[39m\u001b[39m\"\u001b[39m)\n\u001b[1;32m      7\u001b[0m recall \u001b[39m=\u001b[39m get_score_for_continous_multioutput(clf\u001b[39m.\u001b[39mpredict(X_val), y_val, \u001b[39m\"\u001b[39m\u001b[39mrecall_score\u001b[39m\u001b[39m\"\u001b[39m)\n",
      "Cell \u001b[0;32mIn [13], line 16\u001b[0m, in \u001b[0;36mget_score_for_continous_multioutput\u001b[0;34m(y_pred_continous, y_true, score_type)\u001b[0m\n\u001b[1;32m     14\u001b[0m     y_pred\u001b[39m.\u001b[39mappend(x)\n\u001b[1;32m     15\u001b[0m \u001b[39mif\u001b[39;00m score_type \u001b[39m==\u001b[39m \u001b[39m\"\u001b[39m\u001b[39mf1_score\u001b[39m\u001b[39m\"\u001b[39m:\n\u001b[0;32m---> 16\u001b[0m     \u001b[39mreturn\u001b[39;00m f1_score(y_true, y_pred, average\u001b[39m=\u001b[39;49m\u001b[39m\"\u001b[39;49m\u001b[39mweighted\u001b[39;49m\u001b[39m\"\u001b[39;49m, zero_division\u001b[39m=\u001b[39;49m\u001b[39m1\u001b[39;49m)\n\u001b[1;32m     17\u001b[0m \u001b[39melif\u001b[39;00m score_type \u001b[39m==\u001b[39m \u001b[39m\"\u001b[39m\u001b[39mprecision_score\u001b[39m\u001b[39m\"\u001b[39m:\n\u001b[1;32m     18\u001b[0m     \u001b[39mreturn\u001b[39;00m precision_score(y_true, y_pred, average\u001b[39m=\u001b[39m\u001b[39m\"\u001b[39m\u001b[39mweighted\u001b[39m\u001b[39m\"\u001b[39m, zero_division\u001b[39m=\u001b[39m\u001b[39m1\u001b[39m)\n",
      "File \u001b[0;32m/opt/conda/lib/python3.10/site-packages/sklearn/metrics/_classification.py:1136\u001b[0m, in \u001b[0;36mf1_score\u001b[0;34m(y_true, y_pred, labels, pos_label, average, sample_weight, zero_division)\u001b[0m\n\u001b[1;32m   1001\u001b[0m \u001b[39mdef\u001b[39;00m \u001b[39mf1_score\u001b[39m(\n\u001b[1;32m   1002\u001b[0m     y_true,\n\u001b[1;32m   1003\u001b[0m     y_pred,\n\u001b[0;32m   (...)\u001b[0m\n\u001b[1;32m   1009\u001b[0m     zero_division\u001b[39m=\u001b[39m\u001b[39m\"\u001b[39m\u001b[39mwarn\u001b[39m\u001b[39m\"\u001b[39m,\n\u001b[1;32m   1010\u001b[0m ):\n\u001b[1;32m   1011\u001b[0m     \u001b[39m\"\"\"Compute the F1 score, also known as balanced F-score or F-measure.\u001b[39;00m\n\u001b[1;32m   1012\u001b[0m \n\u001b[1;32m   1013\u001b[0m \u001b[39m    The F1 score can be interpreted as a harmonic mean of the precision and\u001b[39;00m\n\u001b[0;32m   (...)\u001b[0m\n\u001b[1;32m   1134\u001b[0m \u001b[39m    array([0.66666667, 1.        , 0.66666667])\u001b[39;00m\n\u001b[1;32m   1135\u001b[0m \u001b[39m    \"\"\"\u001b[39;00m\n\u001b[0;32m-> 1136\u001b[0m     \u001b[39mreturn\u001b[39;00m fbeta_score(\n\u001b[1;32m   1137\u001b[0m         y_true,\n\u001b[1;32m   1138\u001b[0m         y_pred,\n\u001b[1;32m   1139\u001b[0m         beta\u001b[39m=\u001b[39;49m\u001b[39m1\u001b[39;49m,\n\u001b[1;32m   1140\u001b[0m         labels\u001b[39m=\u001b[39;49mlabels,\n\u001b[1;32m   1141\u001b[0m         pos_label\u001b[39m=\u001b[39;49mpos_label,\n\u001b[1;32m   1142\u001b[0m         average\u001b[39m=\u001b[39;49maverage,\n\u001b[1;32m   1143\u001b[0m         sample_weight\u001b[39m=\u001b[39;49msample_weight,\n\u001b[1;32m   1144\u001b[0m         zero_division\u001b[39m=\u001b[39;49mzero_division,\n\u001b[1;32m   1145\u001b[0m     )\n",
      "File \u001b[0;32m/opt/conda/lib/python3.10/site-packages/sklearn/metrics/_classification.py:1277\u001b[0m, in \u001b[0;36mfbeta_score\u001b[0;34m(y_true, y_pred, beta, labels, pos_label, average, sample_weight, zero_division)\u001b[0m\n\u001b[1;32m   1148\u001b[0m \u001b[39mdef\u001b[39;00m \u001b[39mfbeta_score\u001b[39m(\n\u001b[1;32m   1149\u001b[0m     y_true,\n\u001b[1;32m   1150\u001b[0m     y_pred,\n\u001b[0;32m   (...)\u001b[0m\n\u001b[1;32m   1157\u001b[0m     zero_division\u001b[39m=\u001b[39m\u001b[39m\"\u001b[39m\u001b[39mwarn\u001b[39m\u001b[39m\"\u001b[39m,\n\u001b[1;32m   1158\u001b[0m ):\n\u001b[1;32m   1159\u001b[0m     \u001b[39m\"\"\"Compute the F-beta score.\u001b[39;00m\n\u001b[1;32m   1160\u001b[0m \n\u001b[1;32m   1161\u001b[0m \u001b[39m    The F-beta score is the weighted harmonic mean of precision and recall,\u001b[39;00m\n\u001b[0;32m   (...)\u001b[0m\n\u001b[1;32m   1274\u001b[0m \u001b[39m    array([0.71..., 0.        , 0.        ])\u001b[39;00m\n\u001b[1;32m   1275\u001b[0m \u001b[39m    \"\"\"\u001b[39;00m\n\u001b[0;32m-> 1277\u001b[0m     _, _, f, _ \u001b[39m=\u001b[39m precision_recall_fscore_support(\n\u001b[1;32m   1278\u001b[0m         y_true,\n\u001b[1;32m   1279\u001b[0m         y_pred,\n\u001b[1;32m   1280\u001b[0m         beta\u001b[39m=\u001b[39;49mbeta,\n\u001b[1;32m   1281\u001b[0m         labels\u001b[39m=\u001b[39;49mlabels,\n\u001b[1;32m   1282\u001b[0m         pos_label\u001b[39m=\u001b[39;49mpos_label,\n\u001b[1;32m   1283\u001b[0m         average\u001b[39m=\u001b[39;49maverage,\n\u001b[1;32m   1284\u001b[0m         warn_for\u001b[39m=\u001b[39;49m(\u001b[39m\"\u001b[39;49m\u001b[39mf-score\u001b[39;49m\u001b[39m\"\u001b[39;49m,),\n\u001b[1;32m   1285\u001b[0m         sample_weight\u001b[39m=\u001b[39;49msample_weight,\n\u001b[1;32m   1286\u001b[0m         zero_division\u001b[39m=\u001b[39;49mzero_division,\n\u001b[1;32m   1287\u001b[0m     )\n\u001b[1;32m   1288\u001b[0m     \u001b[39mreturn\u001b[39;00m f\n",
      "File \u001b[0;32m/opt/conda/lib/python3.10/site-packages/sklearn/metrics/_classification.py:1563\u001b[0m, in \u001b[0;36mprecision_recall_fscore_support\u001b[0;34m(y_true, y_pred, beta, labels, pos_label, average, warn_for, sample_weight, zero_division)\u001b[0m\n\u001b[1;32m   1561\u001b[0m \u001b[39mif\u001b[39;00m beta \u001b[39m<\u001b[39m \u001b[39m0\u001b[39m:\n\u001b[1;32m   1562\u001b[0m     \u001b[39mraise\u001b[39;00m \u001b[39mValueError\u001b[39;00m(\u001b[39m\"\u001b[39m\u001b[39mbeta should be >=0 in the F-beta score\u001b[39m\u001b[39m\"\u001b[39m)\n\u001b[0;32m-> 1563\u001b[0m labels \u001b[39m=\u001b[39m _check_set_wise_labels(y_true, y_pred, average, labels, pos_label)\n\u001b[1;32m   1565\u001b[0m \u001b[39m# Calculate tp_sum, pred_sum, true_sum ###\u001b[39;00m\n\u001b[1;32m   1566\u001b[0m samplewise \u001b[39m=\u001b[39m average \u001b[39m==\u001b[39m \u001b[39m\"\u001b[39m\u001b[39msamples\u001b[39m\u001b[39m\"\u001b[39m\n",
      "File \u001b[0;32m/opt/conda/lib/python3.10/site-packages/sklearn/metrics/_classification.py:1364\u001b[0m, in \u001b[0;36m_check_set_wise_labels\u001b[0;34m(y_true, y_pred, average, labels, pos_label)\u001b[0m\n\u001b[1;32m   1361\u001b[0m \u001b[39mif\u001b[39;00m average \u001b[39mnot\u001b[39;00m \u001b[39min\u001b[39;00m average_options \u001b[39mand\u001b[39;00m average \u001b[39m!=\u001b[39m \u001b[39m\"\u001b[39m\u001b[39mbinary\u001b[39m\u001b[39m\"\u001b[39m:\n\u001b[1;32m   1362\u001b[0m     \u001b[39mraise\u001b[39;00m \u001b[39mValueError\u001b[39;00m(\u001b[39m\"\u001b[39m\u001b[39maverage has to be one of \u001b[39m\u001b[39m\"\u001b[39m \u001b[39m+\u001b[39m \u001b[39mstr\u001b[39m(average_options))\n\u001b[0;32m-> 1364\u001b[0m y_type, y_true, y_pred \u001b[39m=\u001b[39m _check_targets(y_true, y_pred)\n\u001b[1;32m   1365\u001b[0m \u001b[39m# Convert to Python primitive type to avoid NumPy type / Python str\u001b[39;00m\n\u001b[1;32m   1366\u001b[0m \u001b[39m# comparison. See https://github.com/numpy/numpy/issues/6784\u001b[39;00m\n\u001b[1;32m   1367\u001b[0m present_labels \u001b[39m=\u001b[39m unique_labels(y_true, y_pred)\u001b[39m.\u001b[39mtolist()\n",
      "File \u001b[0;32m/opt/conda/lib/python3.10/site-packages/sklearn/metrics/_classification.py:93\u001b[0m, in \u001b[0;36m_check_targets\u001b[0;34m(y_true, y_pred)\u001b[0m\n\u001b[1;32m     90\u001b[0m     y_type \u001b[39m=\u001b[39m {\u001b[39m\"\u001b[39m\u001b[39mmulticlass\u001b[39m\u001b[39m\"\u001b[39m}\n\u001b[1;32m     92\u001b[0m \u001b[39mif\u001b[39;00m \u001b[39mlen\u001b[39m(y_type) \u001b[39m>\u001b[39m \u001b[39m1\u001b[39m:\n\u001b[0;32m---> 93\u001b[0m     \u001b[39mraise\u001b[39;00m \u001b[39mValueError\u001b[39;00m(\n\u001b[1;32m     94\u001b[0m         \u001b[39m\"\u001b[39m\u001b[39mClassification metrics can\u001b[39m\u001b[39m'\u001b[39m\u001b[39mt handle a mix of \u001b[39m\u001b[39m{0}\u001b[39;00m\u001b[39m and \u001b[39m\u001b[39m{1}\u001b[39;00m\u001b[39m targets\u001b[39m\u001b[39m\"\u001b[39m\u001b[39m.\u001b[39mformat(\n\u001b[1;32m     95\u001b[0m             type_true, type_pred\n\u001b[1;32m     96\u001b[0m         )\n\u001b[1;32m     97\u001b[0m     )\n\u001b[1;32m     99\u001b[0m \u001b[39m# We can't have more than one value on y_type => The set is no more needed\u001b[39;00m\n\u001b[1;32m    100\u001b[0m y_type \u001b[39m=\u001b[39m y_type\u001b[39m.\u001b[39mpop()\n",
      "\u001b[0;31mValueError\u001b[0m: Classification metrics can't handle a mix of multiclass and unknown targets"
     ]
    }
   ],
   "source": [
    "neighbors = int(accuracies[:, :1].ravel()[np.argmax(accuracies[:, 1:])])\n",
    "clf = OneVsRestClassifier(KNeighborsClassifier(neighbors)).fit(X_train, y_train)\n",
    "accuracy = clf.score(X_val, y_val)\n",
    "print(clf.predict(X_val))\n",
    "f1score = get_score_for_continous_multioutput(clf.predict(X_val), y_val, \"f1_score\")\n",
    "precision = get_score_for_continous_multioutput(clf.predict(X_val), y_val, \"precision_score\")\n",
    "recall = get_score_for_continous_multioutput(clf.predict(X_val), y_val, \"recall_score\")"
   ]
  },
  {
   "cell_type": "code",
   "execution_count": null,
   "metadata": {},
   "outputs": [],
   "source": [
    "print(\n",
    "    '''\n",
    "    Aus dem obigen Plot kann man sehen, welches Modell die höchste Accuracy hat.\\n\n",
    "    Wir setzen für den {} die Anzhal {} = {}\\n\n",
    "    und erhalten damit eine {} von ca. {}%,\\n\n",
    "    Unser {} ist mit diesem Modell ca. {}%,\\n\n",
    "    Unsere {} ist mit diesem Modell ca. {}%,\\n\n",
    "    Unser {} ist mit diesem Modell ca. {}%\n",
    "    '''.format(\n",
    "        model.__class__.__name__,\n",
    "        \"neighbors\",\n",
    "        neighbors,\n",
    "        \"Accuracy\",\n",
    "        np.round(accuracy, 2),\n",
    "        \"F1 Score\",\n",
    "        np.round(f1score, 2),\n",
    "        \"Precision\",\n",
    "        np.round(precision, 2),\n",
    "        \"Recall\",\n",
    "        np.round(recall, 2)\n",
    "    )\n",
    ")"
   ]
  },
  {
   "cell_type": "markdown",
   "metadata": {},
   "source": [
    "## Random Forest Classifier"
   ]
  },
  {
   "cell_type": "markdown",
   "metadata": {},
   "source": [
    "Hier trainieren wir mehrere Modelle, welche wir anhand verschiedener Anzahl Neighbors erstellen. Für jedes Modell berechnen wir die Accuracy und speichern diese ab."
   ]
  },
  {
   "cell_type": "code",
   "execution_count": null,
   "metadata": {},
   "outputs": [],
   "source": [
    "accuracies = np.array(\n",
    "    [(i, RandomForestClassifier(n_estimators=i).fit(X_train, y_train).score(X_val, y_val)) for i in tqdm(range(10, 20))]\n",
    ")"
   ]
  },
  {
   "cell_type": "markdown",
   "metadata": {},
   "source": [
    "Um zu entscheiden, wieviel Neighbors man für das Modell nehmen soll, visualisieren wir hier die Accuracy für jeden Wert."
   ]
  },
  {
   "cell_type": "code",
   "execution_count": null,
   "metadata": {},
   "outputs": [],
   "source": [
    "plt.figure(figsize=(16, 6), dpi=200)\n",
    "plt.title(\"Determining which number of neighbors results in the best accuracy\")\n",
    "plt.xlabel(\"Number of trees\")\n",
    "plt.ylabel(\"Accuracy with validation data\")\n",
    "plt.plot(accuracies[:,0], accuracies[:,1])\n",
    "plt.xticks(np.linspace(10, 19, 10))\n",
    "plt.grid()\n",
    "plt.show()"
   ]
  },
  {
   "cell_type": "code",
   "execution_count": null,
   "metadata": {},
   "outputs": [],
   "source": [
    "n_estimators = int(accuracies[:, :1].ravel()[np.argmax(accuracies[:, 1:])])\n",
    "model = RandomForestClassifier(n_estimators=n_estimators).fit(X_train, y_train)\n",
    "accuracy = model.score(X_val, y_val)\n",
    "f1score = get_score_for_continous_multioutput(model.predict(X_val), y_val, \"f1_score\")\n",
    "precision = get_score_for_continous_multioutput(model.predict(X_val), y_val_np, \"precision_score\")\n",
    "recall = get_score_for_continous_multioutput(model.predict(X_val), y_val_np, \"recall_score\")"
   ]
  },
  {
   "cell_type": "code",
   "execution_count": null,
   "metadata": {},
   "outputs": [],
   "source": [
    "print(\n",
    "    '''\n",
    "    Aus dem obigen Plot kann man sehen, welches Modell die höchste Accuracy hat.\\n\n",
    "    Wir setzen für den {} den Parameter {} = {} (number of trees in the model)\\n\n",
    "    und erhalten damit eine {} von ca. {}%,\\n\n",
    "    Unser {} ist mit diesem Modell ca. {}%,\\n\n",
    "    Unsere {} ist mit diesem Modell ca. {}%,\\n\n",
    "    Unser {} ist mit diesem Modell ca. {}%\n",
    "    '''.format(\n",
    "        model.__class__.__name__,\n",
    "        \"n_estimators\",\n",
    "        n_estimators,\n",
    "        \"Accuracy\",\n",
    "        np.round(accuracy, 2),\n",
    "        \"F1 Score\",\n",
    "        np.round(f1score, 2),\n",
    "        \"Precision\",\n",
    "        np.round(precision, 2),\n",
    "        \"Recall\",\n",
    "        np.round(recall, 2)\n",
    "    )\n",
    ")"
   ]
  },
  {
   "cell_type": "code",
   "execution_count": null,
   "metadata": {},
   "outputs": [],
   "source": []
  }
 ],
 "metadata": {
  "deepnote": {},
  "deepnote_execution_queue": [],
  "deepnote_notebook_id": "6c26fc27-bbb2-493c-9413-b94209517f23",
  "deepnote_persisted_session": {
   "createdAt": "2022-10-14T15:00:36.060Z"
  },
  "kernelspec": {
   "display_name": "Python 3.10.6 ('base')",
   "language": "python",
   "name": "python3"
  },
  "language_info": {
   "codemirror_mode": {
    "name": "ipython",
    "version": 3
   },
   "file_extension": ".py",
   "mimetype": "text/x-python",
   "name": "python",
   "nbconvert_exporter": "python",
   "pygments_lexer": "ipython3",
   "version": "3.10.6"
  },
  "orig_nbformat": 4,
  "vscode": {
   "interpreter": {
    "hash": "d4d1e4263499bec80672ea0156c357c1ee493ec2b1c70f0acce89fc37c4a6abe"
   }
  }
 },
 "nbformat": 4,
 "nbformat_minor": 2
}
