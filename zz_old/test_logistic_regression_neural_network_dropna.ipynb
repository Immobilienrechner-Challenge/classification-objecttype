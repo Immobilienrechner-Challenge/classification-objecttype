{
 "cells": [
  {
   "cell_type": "code",
   "metadata": {
    "cell_id": "30a8a31271d943e3810720b68a433c99",
    "tags": [],
    "deepnote_to_be_reexecuted": false,
    "source_hash": "54b48820",
    "execution_start": 1666355025247,
    "execution_millis": 2123,
    "deepnote_cell_type": "code",
    "deepnote_cell_height": 345
   },
   "source": "import numpy as np\nimport pandas as pd\nimport seaborn as sns\nimport matplotlib.pyplot as plt\n\nfrom sklearn.model_selection import train_test_split\n\nfrom keras.utils import normalize\nfrom keras.models import Sequential\nfrom keras.layers import Dense\nfrom keras.metrics import BinaryAccuracy, AUC\nfrom keras.regularizers import l1_l2\n\nfrom tensorflow.keras.callbacks import EarlyStopping",
   "execution_count": 1,
   "outputs": [
    {
     "name": "stderr",
     "text": "2022-10-21 12:23:46.377368: I tensorflow/core/util/util.cc:169] oneDNN custom operations are on. You may see slightly different numerical results due to floating-point round-off errors from different computation orders. To turn them off, set the environment variable `TF_ENABLE_ONEDNN_OPTS=0`.\n",
     "output_type": "stream"
    }
   ]
  },
  {
   "cell_type": "code",
   "source": "data = pd.read_csv(\"https://raw.githubusercontent.com/Immobilienrechner-Challenge/data/main/clean.csv\")\ndata = data[['price', 'zip_code', 'living_space', 'rooms', 'type']]\nplz  = pd.read_csv(\"https://raw.githubusercontent.com/Immobilienrechner-Challenge/data/main/plz_data.csv\") ",
   "metadata": {
    "cell_id": "00002-ed06f97a-4428-4307-a24a-409601fb792a",
    "deepnote_to_be_reexecuted": false,
    "source_hash": "8f6ec427",
    "execution_start": 1666355027374,
    "execution_millis": 298,
    "deepnote_cell_type": "code",
    "deepnote_cell_height": 117
   },
   "execution_count": 2,
   "outputs": []
  },
  {
   "cell_type": "code",
   "metadata": {
    "cell_id": "00004-2e86e3f9-eb77-4fe4-89d2-15c3e9b7b8e1",
    "deepnote_to_be_reexecuted": false,
    "source_hash": "15e5de1b",
    "execution_start": 1666355027679,
    "execution_millis": 3,
    "deepnote_cell_type": "code",
    "deepnote_cell_height": 226,
    "deepnote_output_heights": [
     134
    ]
   },
   "source": "data[\"type\"].unique()",
   "execution_count": 3,
   "outputs": [
    {
     "output_type": "execute_result",
     "execution_count": 3,
     "data": {
      "text/plain": "array(['penthouse', 'terrace-house', 'detached-house', 'flat',\n       'stepped-house', 'farmhouse', 'semi-detached-house',\n       'stepped-apartment', 'duplex-maisonette', 'attic-flat', 'loft',\n       'chalet', 'villa', 'attic-room', 'secondary-suite', 'castle',\n       'detached-secondary-suite', 'studio',\n       'furnished-residential-property', 'rustico', 'single-room'],\n      dtype=object)"
     },
     "metadata": {}
    }
   ]
  },
  {
   "cell_type": "code",
   "source": "data = pd.get_dummies(data, columns=[\"type\"])\ndata = data.merge(plz, how = 'inner', left_on = \"zip_code\", right_on = \"PLZ\")\ndata = data.drop(columns = \"PLZ\")\n\nprint(len(data))\ndata",
   "metadata": {
    "cell_id": "b24ebf59e0504eacb6d4d8f1ce09fcec",
    "tags": [],
    "deepnote_to_be_reexecuted": false,
    "source_hash": "1912f9aa",
    "execution_start": 1666355027685,
    "execution_millis": 151,
    "deepnote_cell_type": "code",
    "deepnote_cell_height": 731,
    "deepnote_output_heights": [
     20
    ]
   },
   "execution_count": 4,
   "outputs": [
    {
     "name": "stdout",
     "text": "13068\n",
     "output_type": "stream"
    },
    {
     "output_type": "execute_result",
     "execution_count": 4,
     "data": {
      "application/vnd.deepnote.dataframe.v3+json": {
       "column_count": 163,
       "row_count": 13068,
       "columns": [
        {
         "name": "price",
         "dtype": "float64",
         "stats": {
          "unique_count": 1327,
          "nan_count": 1011,
          "min": "1.0",
          "max": "45000000.0",
          "histogram": [
           {
            "bin_start": 1,
            "bin_end": 4500000.9,
            "count": 11832
           },
           {
            "bin_start": 4500000.9,
            "bin_end": 9000000.8,
            "count": 177
           },
           {
            "bin_start": 9000000.8,
            "bin_end": 13500000.700000001,
            "count": 22
           },
           {
            "bin_start": 13500000.700000001,
            "bin_end": 18000000.6,
            "count": 12
           },
           {
            "bin_start": 18000000.6,
            "bin_end": 22500000.5,
            "count": 11
           },
           {
            "bin_start": 22500000.5,
            "bin_end": 27000000.400000002,
            "count": 1
           },
           {
            "bin_start": 27000000.400000002,
            "bin_end": 31500000.300000004,
            "count": 1
           },
           {
            "bin_start": 31500000.300000004,
            "bin_end": 36000000.2,
            "count": 0
           },
           {
            "bin_start": 36000000.2,
            "bin_end": 40500000.1,
            "count": 0
           },
           {
            "bin_start": 40500000.1,
            "bin_end": 45000000,
            "count": 1
           }
          ]
         }
        },
        {
         "name": "zip_code",
         "dtype": "int64",
         "stats": {
          "unique_count": 1943,
          "nan_count": 0,
          "min": "1000",
          "max": "9658",
          "histogram": [
           {
            "bin_start": 1000,
            "bin_end": 1865.8,
            "count": 2805
           },
           {
            "bin_start": 1865.8,
            "bin_end": 2731.6,
            "count": 1516
           },
           {
            "bin_start": 2731.6,
            "bin_end": 3597.3999999999996,
            "count": 743
           },
           {
            "bin_start": 3597.3999999999996,
            "bin_end": 4463.2,
            "count": 1470
           },
           {
            "bin_start": 4463.2,
            "bin_end": 5329,
            "count": 843
           },
           {
            "bin_start": 5329,
            "bin_end": 6194.799999999999,
            "count": 781
           },
           {
            "bin_start": 6194.799999999999,
            "bin_end": 7060.599999999999,
            "count": 3029
           },
           {
            "bin_start": 7060.599999999999,
            "bin_end": 7926.4,
            "count": 194
           },
           {
            "bin_start": 7926.4,
            "bin_end": 8792.2,
            "count": 878
           },
           {
            "bin_start": 8792.2,
            "bin_end": 9658,
            "count": 809
           }
          ]
         }
        },
        {
         "name": "living_space",
         "dtype": "float64",
         "stats": {
          "unique_count": 665,
          "nan_count": 692,
          "min": "1.0",
          "max": "9681.0",
          "histogram": [
           {
            "bin_start": 1,
            "bin_end": 969,
            "count": 12263
           },
           {
            "bin_start": 969,
            "bin_end": 1937,
            "count": 80
           },
           {
            "bin_start": 1937,
            "bin_end": 2905,
            "count": 14
           },
           {
            "bin_start": 2905,
            "bin_end": 3873,
            "count": 2
           },
           {
            "bin_start": 3873,
            "bin_end": 4841,
            "count": 6
           },
           {
            "bin_start": 4841,
            "bin_end": 5809,
            "count": 3
           },
           {
            "bin_start": 5809,
            "bin_end": 6777,
            "count": 5
           },
           {
            "bin_start": 6777,
            "bin_end": 7745,
            "count": 0
           },
           {
            "bin_start": 7745,
            "bin_end": 8713,
            "count": 1
           },
           {
            "bin_start": 8713,
            "bin_end": 9681,
            "count": 2
           }
          ]
         }
        },
        {
         "name": "rooms",
         "dtype": "float64",
         "stats": {
          "unique_count": 42,
          "nan_count": 582,
          "min": "1.5",
          "max": "29.0",
          "histogram": [
           {
            "bin_start": 1.5,
            "bin_end": 4.25,
            "count": 3645
           },
           {
            "bin_start": 4.25,
            "bin_end": 7,
            "count": 7063
           },
           {
            "bin_start": 7,
            "bin_end": 9.75,
            "count": 1264
           },
           {
            "bin_start": 9.75,
            "bin_end": 12.5,
            "count": 329
           },
           {
            "bin_start": 12.5,
            "bin_end": 15.25,
            "count": 114
           },
           {
            "bin_start": 15.25,
            "bin_end": 18,
            "count": 29
           },
           {
            "bin_start": 18,
            "bin_end": 20.75,
            "count": 28
           },
           {
            "bin_start": 20.75,
            "bin_end": 23.5,
            "count": 11
           },
           {
            "bin_start": 23.5,
            "bin_end": 26.25,
            "count": 2
           },
           {
            "bin_start": 26.25,
            "bin_end": 29,
            "count": 1
           }
          ]
         }
        },
        {
         "name": "type_attic-flat",
         "dtype": "uint8",
         "stats": {
          "unique_count": 2,
          "nan_count": 0,
          "min": "0",
          "max": "1",
          "histogram": [
           {
            "bin_start": 0,
            "bin_end": 0.1,
            "count": 12829
           },
           {
            "bin_start": 0.1,
            "bin_end": 0.2,
            "count": 0
           },
           {
            "bin_start": 0.2,
            "bin_end": 0.30000000000000004,
            "count": 0
           },
           {
            "bin_start": 0.30000000000000004,
            "bin_end": 0.4,
            "count": 0
           },
           {
            "bin_start": 0.4,
            "bin_end": 0.5,
            "count": 0
           },
           {
            "bin_start": 0.5,
            "bin_end": 0.6000000000000001,
            "count": 0
           },
           {
            "bin_start": 0.6000000000000001,
            "bin_end": 0.7000000000000001,
            "count": 0
           },
           {
            "bin_start": 0.7000000000000001,
            "bin_end": 0.8,
            "count": 0
           },
           {
            "bin_start": 0.8,
            "bin_end": 0.9,
            "count": 0
           },
           {
            "bin_start": 0.9,
            "bin_end": 1,
            "count": 239
           }
          ]
         }
        },
        {
         "name": "type_attic-room",
         "dtype": "uint8",
         "stats": {
          "unique_count": 2,
          "nan_count": 0,
          "min": "0",
          "max": "1",
          "histogram": [
           {
            "bin_start": 0,
            "bin_end": 0.1,
            "count": 13062
           },
           {
            "bin_start": 0.1,
            "bin_end": 0.2,
            "count": 0
           },
           {
            "bin_start": 0.2,
            "bin_end": 0.30000000000000004,
            "count": 0
           },
           {
            "bin_start": 0.30000000000000004,
            "bin_end": 0.4,
            "count": 0
           },
           {
            "bin_start": 0.4,
            "bin_end": 0.5,
            "count": 0
           },
           {
            "bin_start": 0.5,
            "bin_end": 0.6000000000000001,
            "count": 0
           },
           {
            "bin_start": 0.6000000000000001,
            "bin_end": 0.7000000000000001,
            "count": 0
           },
           {
            "bin_start": 0.7000000000000001,
            "bin_end": 0.8,
            "count": 0
           },
           {
            "bin_start": 0.8,
            "bin_end": 0.9,
            "count": 0
           },
           {
            "bin_start": 0.9,
            "bin_end": 1,
            "count": 6
           }
          ]
         }
        },
        {
         "name": "type_castle",
         "dtype": "uint8",
         "stats": {
          "unique_count": 2,
          "nan_count": 0,
          "min": "0",
          "max": "1",
          "histogram": [
           {
            "bin_start": 0,
            "bin_end": 0.1,
            "count": 13059
           },
           {
            "bin_start": 0.1,
            "bin_end": 0.2,
            "count": 0
           },
           {
            "bin_start": 0.2,
            "bin_end": 0.30000000000000004,
            "count": 0
           },
           {
            "bin_start": 0.30000000000000004,
            "bin_end": 0.4,
            "count": 0
           },
           {
            "bin_start": 0.4,
            "bin_end": 0.5,
            "count": 0
           },
           {
            "bin_start": 0.5,
            "bin_end": 0.6000000000000001,
            "count": 0
           },
           {
            "bin_start": 0.6000000000000001,
            "bin_end": 0.7000000000000001,
            "count": 0
           },
           {
            "bin_start": 0.7000000000000001,
            "bin_end": 0.8,
            "count": 0
           },
           {
            "bin_start": 0.8,
            "bin_end": 0.9,
            "count": 0
           },
           {
            "bin_start": 0.9,
            "bin_end": 1,
            "count": 9
           }
          ]
         }
        },
        {
         "name": "type_chalet",
         "dtype": "uint8"
        },
        {
         "name": "type_detached-house",
         "dtype": "uint8"
        },
        {
         "name": "type_detached-secondary-suite",
         "dtype": "uint8"
        },
        {
         "name": "type_duplex-maisonette",
         "dtype": "uint8"
        },
        {
         "name": "type_farmhouse",
         "dtype": "uint8"
        },
        {
         "name": "type_flat",
         "dtype": "uint8"
        },
        {
         "name": "type_furnished-residential-property",
         "dtype": "uint8"
        },
        {
         "name": "type_loft",
         "dtype": "uint8"
        },
        {
         "name": "type_penthouse",
         "dtype": "uint8"
        },
        {
         "name": "type_rustico",
         "dtype": "uint8"
        },
        {
         "name": "type_secondary-suite",
         "dtype": "uint8"
        },
        {
         "name": "type_semi-detached-house",
         "dtype": "uint8"
        },
        {
         "name": "type_single-room",
         "dtype": "uint8"
        },
        {
         "name": "type_stepped-apartment",
         "dtype": "uint8"
        },
        {
         "name": "type_stepped-house",
         "dtype": "uint8"
        },
        {
         "name": "type_studio",
         "dtype": "uint8"
        },
        {
         "name": "type_terrace-house",
         "dtype": "uint8"
        },
        {
         "name": "type_villa",
         "dtype": "uint8"
        },
        {
         "name": "gde_politics_sp",
         "dtype": "float64"
        },
        {
         "name": "RiversAndLakesM",
         "dtype": "float64"
        },
        {
         "name": "gde_politics_glp",
         "dtype": "float64"
        },
        {
         "name": "RiversAndLakesS",
         "dtype": "float64"
        },
        {
         "name": "gde_politics_pda",
         "dtype": "float64"
        },
        {
         "name": "gde_politics_svp",
         "dtype": "float64"
        },
        {
         "name": "RiversAndLakesL",
         "dtype": "float64"
        },
        {
         "name": "gde_area_forest_percentage",
         "dtype": "float64"
        },
        {
         "name": "gde_politics_gps",
         "dtype": "float64"
        },
        {
         "name": "gde_area_agriculture_percentage",
         "dtype": "float64"
        },
        {
         "name": "NoisePollutionRoadM",
         "dtype": "float64"
        },
        {
         "name": "gde_private_apartments",
         "dtype": "float64"
        },
        {
         "name": "Latitude",
         "dtype": "float64"
        },
        {
         "name": "gde_population",
         "dtype": "float64"
        },
        {
         "name": "WorkplaceDensityM",
         "dtype": "float64"
        },
        {
         "name": "NoisePollutionRailwayS",
         "dtype": "float64"
        },
        {
         "name": "gde_politics_evp",
         "dtype": "float64"
        },
        {
         "name": "gde_workers_sector1",
         "dtype": "float64"
        },
        {
         "name": "NoisePollutionRoadL",
         "dtype": "float64"
        },
        {
         "name": "PopulationDensityM",
         "dtype": "float64"
        },
        {
         "name": "gde_empty_apartments",
         "dtype": "float64"
        },
        {
         "name": "gde_workers_sector3",
         "dtype": "float64"
        },
        {
         "name": "ForestDensityM",
         "dtype": "float64"
        },
        {
         "name": "WorkplaceDensityS",
         "dtype": "float64"
        },
        {
         "name": "gde_area_settlement_percentage",
         "dtype": "float64"
        },
        {
         "name": "WorkplaceDensityL",
         "dtype": "float64"
        },
        {
         "name": "ForestDensityL",
         "dtype": "float64"
        },
        {
         "name": "gde_average_house_hold",
         "dtype": "float64"
        },
        {
         "name": "NoisePollutionRailwayM",
         "dtype": "float64"
        },
        {
         "name": "gde_workers_sector2",
         "dtype": "float64"
        },
        {
         "name": "Longitude",
         "dtype": "float64"
        },
        {
         "name": "NoisePollutionRailwayL",
         "dtype": "float64"
        },
        {
         "name": "gde_politics_fdp",
         "dtype": "float64"
        },
        {
         "name": "gde_social_help_quota",
         "dtype": "float64"
        },
        {
         "name": "gde_area_nonproductive_percentage",
         "dtype": "float64"
        },
        {
         "name": "gde_foreigners_percentage",
         "dtype": "float64"
        },
        {
         "name": "NoisePollutionRoadS",
         "dtype": "float64"
        },
        {
         "name": "gde_pop_per_km2",
         "dtype": "float64"
        },
        {
         "name": "distanceToTrainStation",
         "dtype": "float64"
        },
        {
         "name": "gde_politics_cvp",
         "dtype": "float64"
        },
        {
         "name": "ForestDensityS",
         "dtype": "float64"
        },
        {
         "name": "gde_new_homes_per_1000",
         "dtype": "float64"
        },
        {
         "name": "gde_workers_total",
         "dtype": "float64"
        },
        {
         "name": "PopulationDensityL",
         "dtype": "float64"
        },
        {
         "name": "PopulationDensityS",
         "dtype": "float64"
        },
        {
         "name": "gde_politics_rights",
         "dtype": "float64"
        },
        {
         "name": "gde_politics_bdp",
         "dtype": "float64"
        },
        {
         "name": "gde_tax",
         "dtype": "float64"
        },
        {
         "name": "PLZ_Group_1000",
         "dtype": "int64"
        },
        {
         "name": "PLZ_Group_1100",
         "dtype": "int64"
        },
        {
         "name": "PLZ_Group_1200",
         "dtype": "int64"
        },
        {
         "name": "PLZ_Group_1300",
         "dtype": "int64"
        },
        {
         "name": "PLZ_Group_1400",
         "dtype": "int64"
        },
        {
         "name": "PLZ_Group_1500",
         "dtype": "int64"
        },
        {
         "name": "PLZ_Group_1600",
         "dtype": "int64"
        },
        {
         "name": "PLZ_Group_1700",
         "dtype": "int64"
        },
        {
         "name": "PLZ_Group_1800",
         "dtype": "int64"
        },
        {
         "name": "PLZ_Group_1900",
         "dtype": "int64"
        },
        {
         "name": "PLZ_Group_2000",
         "dtype": "int64"
        },
        {
         "name": "PLZ_Group_2100",
         "dtype": "int64"
        },
        {
         "name": "PLZ_Group_2200",
         "dtype": "int64"
        },
        {
         "name": "PLZ_Group_2300",
         "dtype": "int64"
        },
        {
         "name": "PLZ_Group_2400",
         "dtype": "int64"
        },
        {
         "name": "PLZ_Group_2500",
         "dtype": "int64"
        },
        {
         "name": "PLZ_Group_2600",
         "dtype": "int64"
        },
        {
         "name": "PLZ_Group_2700",
         "dtype": "int64"
        },
        {
         "name": "PLZ_Group_2800",
         "dtype": "int64"
        },
        {
         "name": "PLZ_Group_2900",
         "dtype": "int64"
        },
        {
         "name": "PLZ_Group_3000",
         "dtype": "int64"
        },
        {
         "name": "PLZ_Group_3100",
         "dtype": "int64"
        },
        {
         "name": "PLZ_Group_3200",
         "dtype": "int64"
        },
        {
         "name": "PLZ_Group_3300",
         "dtype": "int64"
        },
        {
         "name": "PLZ_Group_3400",
         "dtype": "int64"
        },
        {
         "name": "PLZ_Group_3500",
         "dtype": "int64"
        },
        {
         "name": "PLZ_Group_3600",
         "dtype": "int64"
        },
        {
         "name": "PLZ_Group_3700",
         "dtype": "int64"
        },
        {
         "name": "PLZ_Group_3800",
         "dtype": "int64"
        },
        {
         "name": "PLZ_Group_3900",
         "dtype": "int64"
        },
        {
         "name": "PLZ_Group_4000",
         "dtype": "int64"
        },
        {
         "name": "PLZ_Group_4100",
         "dtype": "int64"
        },
        {
         "name": "PLZ_Group_4200",
         "dtype": "int64"
        },
        {
         "name": "PLZ_Group_4300",
         "dtype": "int64"
        },
        {
         "name": "PLZ_Group_4400",
         "dtype": "int64"
        },
        {
         "name": "PLZ_Group_4500",
         "dtype": "int64"
        },
        {
         "name": "PLZ_Group_4600",
         "dtype": "int64"
        },
        {
         "name": "PLZ_Group_4700",
         "dtype": "int64"
        },
        {
         "name": "PLZ_Group_4800",
         "dtype": "int64"
        },
        {
         "name": "PLZ_Group_4900",
         "dtype": "int64"
        },
        {
         "name": "PLZ_Group_5000",
         "dtype": "int64"
        },
        {
         "name": "PLZ_Group_5100",
         "dtype": "int64"
        },
        {
         "name": "PLZ_Group_5200",
         "dtype": "int64"
        },
        {
         "name": "PLZ_Group_5300",
         "dtype": "int64"
        },
        {
         "name": "PLZ_Group_5400",
         "dtype": "int64"
        },
        {
         "name": "PLZ_Group_5500",
         "dtype": "int64"
        },
        {
         "name": "PLZ_Group_5600",
         "dtype": "int64"
        },
        {
         "name": "PLZ_Group_5700",
         "dtype": "int64"
        },
        {
         "name": "PLZ_Group_5800",
         "dtype": "int64"
        },
        {
         "name": "PLZ_Group_5900",
         "dtype": "int64"
        },
        {
         "name": "PLZ_Group_6000",
         "dtype": "int64"
        },
        {
         "name": "PLZ_Group_6100",
         "dtype": "int64"
        },
        {
         "name": "PLZ_Group_6200",
         "dtype": "int64"
        },
        {
         "name": "PLZ_Group_6300",
         "dtype": "int64"
        },
        {
         "name": "PLZ_Group_6400",
         "dtype": "int64"
        },
        {
         "name": "PLZ_Group_6500",
         "dtype": "int64"
        },
        {
         "name": "PLZ_Group_6600",
         "dtype": "int64"
        },
        {
         "name": "PLZ_Group_6700",
         "dtype": "int64"
        },
        {
         "name": "PLZ_Group_6800",
         "dtype": "int64"
        },
        {
         "name": "PLZ_Group_6900",
         "dtype": "int64"
        },
        {
         "name": "PLZ_Group_7000",
         "dtype": "int64"
        },
        {
         "name": "PLZ_Group_7100",
         "dtype": "int64"
        },
        {
         "name": "PLZ_Group_7200",
         "dtype": "int64"
        },
        {
         "name": "PLZ_Group_7300",
         "dtype": "int64"
        },
        {
         "name": "PLZ_Group_7400",
         "dtype": "int64"
        },
        {
         "name": "PLZ_Group_7500",
         "dtype": "int64"
        },
        {
         "name": "PLZ_Group_7600",
         "dtype": "int64"
        },
        {
         "name": "PLZ_Group_7700",
         "dtype": "int64"
        },
        {
         "name": "PLZ_Group_7800",
         "dtype": "int64"
        },
        {
         "name": "PLZ_Group_7900",
         "dtype": "int64"
        },
        {
         "name": "PLZ_Group_8000",
         "dtype": "int64"
        },
        {
         "name": "PLZ_Group_8100",
         "dtype": "int64"
        },
        {
         "name": "PLZ_Group_8200",
         "dtype": "int64"
        },
        {
         "name": "PLZ_Group_8300",
         "dtype": "int64"
        },
        {
         "name": "PLZ_Group_8400",
         "dtype": "int64"
        },
        {
         "name": "PLZ_Group_8500",
         "dtype": "int64"
        },
        {
         "name": "PLZ_Group_8600",
         "dtype": "int64"
        },
        {
         "name": "PLZ_Group_8700",
         "dtype": "int64"
        },
        {
         "name": "PLZ_Group_8800",
         "dtype": "int64"
        },
        {
         "name": "PLZ_Group_8900",
         "dtype": "int64"
        },
        {
         "name": "PLZ_Group_9000",
         "dtype": "int64"
        },
        {
         "name": "PLZ_Group_9100",
         "dtype": "int64"
        },
        {
         "name": "PLZ_Group_9200",
         "dtype": "int64"
        },
        {
         "name": "PLZ_Group_9300",
         "dtype": "int64"
        },
        {
         "name": "PLZ_Group_9400",
         "dtype": "int64"
        },
        {
         "name": "PLZ_Group_9500",
         "dtype": "int64"
        },
        {
         "name": "PLZ_Group_9600",
         "dtype": "int64"
        },
        {
         "name": "PLZ_Group_9700",
         "dtype": "int64"
        },
        {
         "name": "PLZ_Group_9800",
         "dtype": "int64"
        },
        {
         "name": "PLZ_Group_9900",
         "dtype": "int64"
        },
        {
         "name": "_deepnote_index_column",
         "dtype": "int64"
        }
       ],
       "rows": [
        {
         "price": "1150000.0",
         "zip_code": "5023",
         "living_space": "100.0",
         "rooms": "3.5",
         "type_attic-flat": "0",
         "type_attic-room": "0",
         "type_castle": "0",
         "type_chalet": "0",
         "type_detached-house": "0",
         "type_detached-secondary-suite": "0",
         "type_duplex-maisonette": "0",
         "type_farmhouse": "0",
         "type_flat": "0",
         "type_furnished-residential-property": "0",
         "type_loft": "0",
         "type_penthouse": "1",
         "type_rustico": "0",
         "type_secondary-suite": "0",
         "type_semi-detached-house": "0",
         "type_single-room": "0",
         "type_stepped-apartment": "0",
         "type_stepped-house": "0",
         "type_studio": "0",
         "type_terrace-house": "0",
         "type_villa": "0",
         "gde_politics_sp": "20.392804699000003",
         "RiversAndLakesM": "0.0018113817490726",
         "gde_politics_glp": "6.0572687225",
         "RiversAndLakesS": "0.0118710714307242",
         "gde_politics_pda": "0.1637518766556637",
         "gde_politics_svp": "30.8094713656",
         "RiversAndLakesL": "0.0821698280693361",
         "gde_area_forest_percentage": "51.44927536229999",
         "gde_politics_gps": "7.066813509499999",
         "gde_area_agriculture_percentage": "30.676328502400004",
         "NoisePollutionRoadM": "0.067047626047332",
         "gde_private_apartments": "686.0",
         "Latitude": "47.4159269",
         "gde_population": "1545.0",
         "WorkplaceDensityM": "0.0521201856730648",
         "NoisePollutionRailwayS": "0.0",
         "gde_politics_evp": "3.359030837",
         "gde_workers_sector1": "14.0",
         "NoisePollutionRoadL": "0.0582979379946271",
         "PopulationDensityM": "0.2095297398560906",
         "gde_empty_apartments": "1.9946808511",
         "gde_workers_sector3": "308.0",
         "ForestDensityM": "0.2864510208821959",
         "WorkplaceDensityS": "0.0989513422818792",
         "gde_area_settlement_percentage": "13.2850241546",
         "WorkplaceDensityL": "0.0301693757471317",
         "ForestDensityL": "0.5111756483642033",
         "gde_average_house_hold": "2.23",
         "NoisePollutionRailwayM": "0.0",
         "gde_workers_sector2": "9.0",
         "Longitude": "8.0858398",
         "NoisePollutionRailwayL": "0.0",
         "gde_politics_fdp": "18.3553597651",
         "gde_social_help_quota": "2.2342586324",
         "gde_area_nonproductive_percentage": "4.5893719807",
         "gde_foreigners_percentage": "9.25566343",
         "NoisePollutionRoadS": "0.1038503253796095",
         "gde_pop_per_km2": "376.829268293",
         "distanceToTrainStation": "3.0384665928009302",
         "gde_politics_cvp": "4.5796622614",
         "ForestDensityS": "0.0909078094589692",
         "gde_new_homes_per_1000": "4.739336492900001",
         "gde_workers_total": "331.0",
         "PopulationDensityL": "0.0929137474087486",
         "PopulationDensityS": "0.3666736198025309",
         "gde_politics_rights": "0.2202643172",
         "gde_politics_bdp": "5.8737151248",
         "gde_tax": "5.89",
         "PLZ_Group_1000": "0",
         "PLZ_Group_1100": "0",
         "PLZ_Group_1200": "0",
         "PLZ_Group_1300": "0",
         "PLZ_Group_1400": "0",
         "PLZ_Group_1500": "0",
         "PLZ_Group_1600": "0",
         "PLZ_Group_1700": "0",
         "PLZ_Group_1800": "0",
         "PLZ_Group_1900": "0",
         "PLZ_Group_2000": "0",
         "PLZ_Group_2100": "0",
         "PLZ_Group_2200": "0",
         "PLZ_Group_2300": "0",
         "PLZ_Group_2400": "0",
         "PLZ_Group_2500": "0",
         "PLZ_Group_2600": "0",
         "PLZ_Group_2700": "0",
         "PLZ_Group_2800": "0",
         "PLZ_Group_2900": "0",
         "PLZ_Group_3000": "0",
         "PLZ_Group_3100": "0",
         "PLZ_Group_3200": "0",
         "PLZ_Group_3300": "0",
         "PLZ_Group_3400": "0",
         "PLZ_Group_3500": "0",
         "PLZ_Group_3600": "0",
         "PLZ_Group_3700": "0",
         "PLZ_Group_3800": "0",
         "PLZ_Group_3900": "0",
         "PLZ_Group_4000": "0",
         "PLZ_Group_4100": "0",
         "PLZ_Group_4200": "0",
         "PLZ_Group_4300": "0",
         "PLZ_Group_4400": "0",
         "PLZ_Group_4500": "0",
         "PLZ_Group_4600": "0",
         "PLZ_Group_4700": "0",
         "PLZ_Group_4800": "0",
         "PLZ_Group_4900": "0",
         "PLZ_Group_5000": "1",
         "PLZ_Group_5100": "0",
         "PLZ_Group_5200": "0",
         "PLZ_Group_5300": "0",
         "PLZ_Group_5400": "0",
         "PLZ_Group_5500": "0",
         "PLZ_Group_5600": "0",
         "PLZ_Group_5700": "0",
         "PLZ_Group_5800": "0",
         "PLZ_Group_5900": "0",
         "PLZ_Group_6000": "0",
         "PLZ_Group_6100": "0",
         "PLZ_Group_6200": "0",
         "PLZ_Group_6300": "0",
         "PLZ_Group_6400": "0",
         "PLZ_Group_6500": "0",
         "PLZ_Group_6600": "0",
         "PLZ_Group_6700": "0",
         "PLZ_Group_6800": "0",
         "PLZ_Group_6900": "0",
         "PLZ_Group_7000": "0",
         "PLZ_Group_7100": "0",
         "PLZ_Group_7200": "0",
         "PLZ_Group_7300": "0",
         "PLZ_Group_7400": "0",
         "PLZ_Group_7500": "0",
         "PLZ_Group_7600": "0",
         "PLZ_Group_7700": "0",
         "PLZ_Group_7800": "0",
         "PLZ_Group_7900": "0",
         "PLZ_Group_8000": "0",
         "PLZ_Group_8100": "0",
         "PLZ_Group_8200": "0",
         "PLZ_Group_8300": "0",
         "PLZ_Group_8400": "0",
         "PLZ_Group_8500": "0",
         "PLZ_Group_8600": "0",
         "PLZ_Group_8700": "0",
         "PLZ_Group_8800": "0",
         "PLZ_Group_8900": "0",
         "PLZ_Group_9000": "0",
         "PLZ_Group_9100": "0",
         "PLZ_Group_9200": "0",
         "PLZ_Group_9300": "0",
         "PLZ_Group_9400": "0",
         "PLZ_Group_9500": "0",
         "PLZ_Group_9600": "0",
         "PLZ_Group_9700": "0",
         "PLZ_Group_9800": "0",
         "PLZ_Group_9900": "0",
         "_deepnote_index_column": "0"
        },
        {
         "price": "1420000.0",
         "zip_code": "5023",
         "living_space": "156.0",
         "rooms": "4.5",
         "type_attic-flat": "0",
         "type_attic-room": "0",
         "type_castle": "0",
         "type_chalet": "0",
         "type_detached-house": "0",
         "type_detached-secondary-suite": "0",
         "type_duplex-maisonette": "0",
         "type_farmhouse": "0",
         "type_flat": "0",
         "type_furnished-residential-property": "0",
         "type_loft": "0",
         "type_penthouse": "0",
         "type_rustico": "0",
         "type_secondary-suite": "0",
         "type_semi-detached-house": "0",
         "type_single-room": "0",
         "type_stepped-apartment": "0",
         "type_stepped-house": "0",
         "type_studio": "0",
         "type_terrace-house": "1",
         "type_villa": "0",
         "gde_politics_sp": "20.392804699000003",
         "RiversAndLakesM": "0.0018113817490726",
         "gde_politics_glp": "6.0572687225",
         "RiversAndLakesS": "0.0118710714307242",
         "gde_politics_pda": "0.1637518766556637",
         "gde_politics_svp": "30.8094713656",
         "RiversAndLakesL": "0.0821698280693361",
         "gde_area_forest_percentage": "51.44927536229999",
         "gde_politics_gps": "7.066813509499999",
         "gde_area_agriculture_percentage": "30.676328502400004",
         "NoisePollutionRoadM": "0.067047626047332",
         "gde_private_apartments": "686.0",
         "Latitude": "47.4159269",
         "gde_population": "1545.0",
         "WorkplaceDensityM": "0.0521201856730648",
         "NoisePollutionRailwayS": "0.0",
         "gde_politics_evp": "3.359030837",
         "gde_workers_sector1": "14.0",
         "NoisePollutionRoadL": "0.0582979379946271",
         "PopulationDensityM": "0.2095297398560906",
         "gde_empty_apartments": "1.9946808511",
         "gde_workers_sector3": "308.0",
         "ForestDensityM": "0.2864510208821959",
         "WorkplaceDensityS": "0.0989513422818792",
         "gde_area_settlement_percentage": "13.2850241546",
         "WorkplaceDensityL": "0.0301693757471317",
         "ForestDensityL": "0.5111756483642033",
         "gde_average_house_hold": "2.23",
         "NoisePollutionRailwayM": "0.0",
         "gde_workers_sector2": "9.0",
         "Longitude": "8.0858398",
         "NoisePollutionRailwayL": "0.0",
         "gde_politics_fdp": "18.3553597651",
         "gde_social_help_quota": "2.2342586324",
         "gde_area_nonproductive_percentage": "4.5893719807",
         "gde_foreigners_percentage": "9.25566343",
         "NoisePollutionRoadS": "0.1038503253796095",
         "gde_pop_per_km2": "376.829268293",
         "distanceToTrainStation": "3.0384665928009302",
         "gde_politics_cvp": "4.5796622614",
         "ForestDensityS": "0.0909078094589692",
         "gde_new_homes_per_1000": "4.739336492900001",
         "gde_workers_total": "331.0",
         "PopulationDensityL": "0.0929137474087486",
         "PopulationDensityS": "0.3666736198025309",
         "gde_politics_rights": "0.2202643172",
         "gde_politics_bdp": "5.8737151248",
         "gde_tax": "5.89",
         "PLZ_Group_1000": "0",
         "PLZ_Group_1100": "0",
         "PLZ_Group_1200": "0",
         "PLZ_Group_1300": "0",
         "PLZ_Group_1400": "0",
         "PLZ_Group_1500": "0",
         "PLZ_Group_1600": "0",
         "PLZ_Group_1700": "0",
         "PLZ_Group_1800": "0",
         "PLZ_Group_1900": "0",
         "PLZ_Group_2000": "0",
         "PLZ_Group_2100": "0",
         "PLZ_Group_2200": "0",
         "PLZ_Group_2300": "0",
         "PLZ_Group_2400": "0",
         "PLZ_Group_2500": "0",
         "PLZ_Group_2600": "0",
         "PLZ_Group_2700": "0",
         "PLZ_Group_2800": "0",
         "PLZ_Group_2900": "0",
         "PLZ_Group_3000": "0",
         "PLZ_Group_3100": "0",
         "PLZ_Group_3200": "0",
         "PLZ_Group_3300": "0",
         "PLZ_Group_3400": "0",
         "PLZ_Group_3500": "0",
         "PLZ_Group_3600": "0",
         "PLZ_Group_3700": "0",
         "PLZ_Group_3800": "0",
         "PLZ_Group_3900": "0",
         "PLZ_Group_4000": "0",
         "PLZ_Group_4100": "0",
         "PLZ_Group_4200": "0",
         "PLZ_Group_4300": "0",
         "PLZ_Group_4400": "0",
         "PLZ_Group_4500": "0",
         "PLZ_Group_4600": "0",
         "PLZ_Group_4700": "0",
         "PLZ_Group_4800": "0",
         "PLZ_Group_4900": "0",
         "PLZ_Group_5000": "1",
         "PLZ_Group_5100": "0",
         "PLZ_Group_5200": "0",
         "PLZ_Group_5300": "0",
         "PLZ_Group_5400": "0",
         "PLZ_Group_5500": "0",
         "PLZ_Group_5600": "0",
         "PLZ_Group_5700": "0",
         "PLZ_Group_5800": "0",
         "PLZ_Group_5900": "0",
         "PLZ_Group_6000": "0",
         "PLZ_Group_6100": "0",
         "PLZ_Group_6200": "0",
         "PLZ_Group_6300": "0",
         "PLZ_Group_6400": "0",
         "PLZ_Group_6500": "0",
         "PLZ_Group_6600": "0",
         "PLZ_Group_6700": "0",
         "PLZ_Group_6800": "0",
         "PLZ_Group_6900": "0",
         "PLZ_Group_7000": "0",
         "PLZ_Group_7100": "0",
         "PLZ_Group_7200": "0",
         "PLZ_Group_7300": "0",
         "PLZ_Group_7400": "0",
         "PLZ_Group_7500": "0",
         "PLZ_Group_7600": "0",
         "PLZ_Group_7700": "0",
         "PLZ_Group_7800": "0",
         "PLZ_Group_7900": "0",
         "PLZ_Group_8000": "0",
         "PLZ_Group_8100": "0",
         "PLZ_Group_8200": "0",
         "PLZ_Group_8300": "0",
         "PLZ_Group_8400": "0",
         "PLZ_Group_8500": "0",
         "PLZ_Group_8600": "0",
         "PLZ_Group_8700": "0",
         "PLZ_Group_8800": "0",
         "PLZ_Group_8900": "0",
         "PLZ_Group_9000": "0",
         "PLZ_Group_9100": "0",
         "PLZ_Group_9200": "0",
         "PLZ_Group_9300": "0",
         "PLZ_Group_9400": "0",
         "PLZ_Group_9500": "0",
         "PLZ_Group_9600": "0",
         "PLZ_Group_9700": "0",
         "PLZ_Group_9800": "0",
         "PLZ_Group_9900": "0",
         "_deepnote_index_column": "1"
        },
        {
         "price": "1430000.0",
         "zip_code": "5023",
         "living_space": "154.0",
         "rooms": "4.5",
         "type_attic-flat": "0",
         "type_attic-room": "0",
         "type_castle": "0",
         "type_chalet": "0",
         "type_detached-house": "1",
         "type_detached-secondary-suite": "0",
         "type_duplex-maisonette": "0",
         "type_farmhouse": "0",
         "type_flat": "0",
         "type_furnished-residential-property": "0",
         "type_loft": "0",
         "type_penthouse": "0",
         "type_rustico": "0",
         "type_secondary-suite": "0",
         "type_semi-detached-house": "0",
         "type_single-room": "0",
         "type_stepped-apartment": "0",
         "type_stepped-house": "0",
         "type_studio": "0",
         "type_terrace-house": "0",
         "type_villa": "0",
         "gde_politics_sp": "20.392804699000003",
         "RiversAndLakesM": "0.0018113817490726",
         "gde_politics_glp": "6.0572687225",
         "RiversAndLakesS": "0.0118710714307242",
         "gde_politics_pda": "0.1637518766556637",
         "gde_politics_svp": "30.8094713656",
         "RiversAndLakesL": "0.0821698280693361",
         "gde_area_forest_percentage": "51.44927536229999",
         "gde_politics_gps": "7.066813509499999",
         "gde_area_agriculture_percentage": "30.676328502400004",
         "NoisePollutionRoadM": "0.067047626047332",
         "gde_private_apartments": "686.0",
         "Latitude": "47.4159269",
         "gde_population": "1545.0",
         "WorkplaceDensityM": "0.0521201856730648",
         "NoisePollutionRailwayS": "0.0",
         "gde_politics_evp": "3.359030837",
         "gde_workers_sector1": "14.0",
         "NoisePollutionRoadL": "0.0582979379946271",
         "PopulationDensityM": "0.2095297398560906",
         "gde_empty_apartments": "1.9946808511",
         "gde_workers_sector3": "308.0",
         "ForestDensityM": "0.2864510208821959",
         "WorkplaceDensityS": "0.0989513422818792",
         "gde_area_settlement_percentage": "13.2850241546",
         "WorkplaceDensityL": "0.0301693757471317",
         "ForestDensityL": "0.5111756483642033",
         "gde_average_house_hold": "2.23",
         "NoisePollutionRailwayM": "0.0",
         "gde_workers_sector2": "9.0",
         "Longitude": "8.0858398",
         "NoisePollutionRailwayL": "0.0",
         "gde_politics_fdp": "18.3553597651",
         "gde_social_help_quota": "2.2342586324",
         "gde_area_nonproductive_percentage": "4.5893719807",
         "gde_foreigners_percentage": "9.25566343",
         "NoisePollutionRoadS": "0.1038503253796095",
         "gde_pop_per_km2": "376.829268293",
         "distanceToTrainStation": "3.0384665928009302",
         "gde_politics_cvp": "4.5796622614",
         "ForestDensityS": "0.0909078094589692",
         "gde_new_homes_per_1000": "4.739336492900001",
         "gde_workers_total": "331.0",
         "PopulationDensityL": "0.0929137474087486",
         "PopulationDensityS": "0.3666736198025309",
         "gde_politics_rights": "0.2202643172",
         "gde_politics_bdp": "5.8737151248",
         "gde_tax": "5.89",
         "PLZ_Group_1000": "0",
         "PLZ_Group_1100": "0",
         "PLZ_Group_1200": "0",
         "PLZ_Group_1300": "0",
         "PLZ_Group_1400": "0",
         "PLZ_Group_1500": "0",
         "PLZ_Group_1600": "0",
         "PLZ_Group_1700": "0",
         "PLZ_Group_1800": "0",
         "PLZ_Group_1900": "0",
         "PLZ_Group_2000": "0",
         "PLZ_Group_2100": "0",
         "PLZ_Group_2200": "0",
         "PLZ_Group_2300": "0",
         "PLZ_Group_2400": "0",
         "PLZ_Group_2500": "0",
         "PLZ_Group_2600": "0",
         "PLZ_Group_2700": "0",
         "PLZ_Group_2800": "0",
         "PLZ_Group_2900": "0",
         "PLZ_Group_3000": "0",
         "PLZ_Group_3100": "0",
         "PLZ_Group_3200": "0",
         "PLZ_Group_3300": "0",
         "PLZ_Group_3400": "0",
         "PLZ_Group_3500": "0",
         "PLZ_Group_3600": "0",
         "PLZ_Group_3700": "0",
         "PLZ_Group_3800": "0",
         "PLZ_Group_3900": "0",
         "PLZ_Group_4000": "0",
         "PLZ_Group_4100": "0",
         "PLZ_Group_4200": "0",
         "PLZ_Group_4300": "0",
         "PLZ_Group_4400": "0",
         "PLZ_Group_4500": "0",
         "PLZ_Group_4600": "0",
         "PLZ_Group_4700": "0",
         "PLZ_Group_4800": "0",
         "PLZ_Group_4900": "0",
         "PLZ_Group_5000": "1",
         "PLZ_Group_5100": "0",
         "PLZ_Group_5200": "0",
         "PLZ_Group_5300": "0",
         "PLZ_Group_5400": "0",
         "PLZ_Group_5500": "0",
         "PLZ_Group_5600": "0",
         "PLZ_Group_5700": "0",
         "PLZ_Group_5800": "0",
         "PLZ_Group_5900": "0",
         "PLZ_Group_6000": "0",
         "PLZ_Group_6100": "0",
         "PLZ_Group_6200": "0",
         "PLZ_Group_6300": "0",
         "PLZ_Group_6400": "0",
         "PLZ_Group_6500": "0",
         "PLZ_Group_6600": "0",
         "PLZ_Group_6700": "0",
         "PLZ_Group_6800": "0",
         "PLZ_Group_6900": "0",
         "PLZ_Group_7000": "0",
         "PLZ_Group_7100": "0",
         "PLZ_Group_7200": "0",
         "PLZ_Group_7300": "0",
         "PLZ_Group_7400": "0",
         "PLZ_Group_7500": "0",
         "PLZ_Group_7600": "0",
         "PLZ_Group_7700": "0",
         "PLZ_Group_7800": "0",
         "PLZ_Group_7900": "0",
         "PLZ_Group_8000": "0",
         "PLZ_Group_8100": "0",
         "PLZ_Group_8200": "0",
         "PLZ_Group_8300": "0",
         "PLZ_Group_8400": "0",
         "PLZ_Group_8500": "0",
         "PLZ_Group_8600": "0",
         "PLZ_Group_8700": "0",
         "PLZ_Group_8800": "0",
         "PLZ_Group_8900": "0",
         "PLZ_Group_9000": "0",
         "PLZ_Group_9100": "0",
         "PLZ_Group_9200": "0",
         "PLZ_Group_9300": "0",
         "PLZ_Group_9400": "0",
         "PLZ_Group_9500": "0",
         "PLZ_Group_9600": "0",
         "PLZ_Group_9700": "0",
         "PLZ_Group_9800": "0",
         "PLZ_Group_9900": "0",
         "_deepnote_index_column": "2"
        },
        {
         "price": "550000.0",
         "zip_code": "5023",
         "living_space": "124.0",
         "rooms": "4.5",
         "type_attic-flat": "0",
         "type_attic-room": "0",
         "type_castle": "0",
         "type_chalet": "0",
         "type_detached-house": "0",
         "type_detached-secondary-suite": "0",
         "type_duplex-maisonette": "0",
         "type_farmhouse": "0",
         "type_flat": "0",
         "type_furnished-residential-property": "0",
         "type_loft": "0",
         "type_penthouse": "0",
         "type_rustico": "0",
         "type_secondary-suite": "0",
         "type_semi-detached-house": "0",
         "type_single-room": "0",
         "type_stepped-apartment": "0",
         "type_stepped-house": "0",
         "type_studio": "0",
         "type_terrace-house": "1",
         "type_villa": "0",
         "gde_politics_sp": "20.392804699000003",
         "RiversAndLakesM": "0.0018113817490726",
         "gde_politics_glp": "6.0572687225",
         "RiversAndLakesS": "0.0118710714307242",
         "gde_politics_pda": "0.1637518766556637",
         "gde_politics_svp": "30.8094713656",
         "RiversAndLakesL": "0.0821698280693361",
         "gde_area_forest_percentage": "51.44927536229999",
         "gde_politics_gps": "7.066813509499999",
         "gde_area_agriculture_percentage": "30.676328502400004",
         "NoisePollutionRoadM": "0.067047626047332",
         "gde_private_apartments": "686.0",
         "Latitude": "47.4159269",
         "gde_population": "1545.0",
         "WorkplaceDensityM": "0.0521201856730648",
         "NoisePollutionRailwayS": "0.0",
         "gde_politics_evp": "3.359030837",
         "gde_workers_sector1": "14.0",
         "NoisePollutionRoadL": "0.0582979379946271",
         "PopulationDensityM": "0.2095297398560906",
         "gde_empty_apartments": "1.9946808511",
         "gde_workers_sector3": "308.0",
         "ForestDensityM": "0.2864510208821959",
         "WorkplaceDensityS": "0.0989513422818792",
         "gde_area_settlement_percentage": "13.2850241546",
         "WorkplaceDensityL": "0.0301693757471317",
         "ForestDensityL": "0.5111756483642033",
         "gde_average_house_hold": "2.23",
         "NoisePollutionRailwayM": "0.0",
         "gde_workers_sector2": "9.0",
         "Longitude": "8.0858398",
         "NoisePollutionRailwayL": "0.0",
         "gde_politics_fdp": "18.3553597651",
         "gde_social_help_quota": "2.2342586324",
         "gde_area_nonproductive_percentage": "4.5893719807",
         "gde_foreigners_percentage": "9.25566343",
         "NoisePollutionRoadS": "0.1038503253796095",
         "gde_pop_per_km2": "376.829268293",
         "distanceToTrainStation": "3.0384665928009302",
         "gde_politics_cvp": "4.5796622614",
         "ForestDensityS": "0.0909078094589692",
         "gde_new_homes_per_1000": "4.739336492900001",
         "gde_workers_total": "331.0",
         "PopulationDensityL": "0.0929137474087486",
         "PopulationDensityS": "0.3666736198025309",
         "gde_politics_rights": "0.2202643172",
         "gde_politics_bdp": "5.8737151248",
         "gde_tax": "5.89",
         "PLZ_Group_1000": "0",
         "PLZ_Group_1100": "0",
         "PLZ_Group_1200": "0",
         "PLZ_Group_1300": "0",
         "PLZ_Group_1400": "0",
         "PLZ_Group_1500": "0",
         "PLZ_Group_1600": "0",
         "PLZ_Group_1700": "0",
         "PLZ_Group_1800": "0",
         "PLZ_Group_1900": "0",
         "PLZ_Group_2000": "0",
         "PLZ_Group_2100": "0",
         "PLZ_Group_2200": "0",
         "PLZ_Group_2300": "0",
         "PLZ_Group_2400": "0",
         "PLZ_Group_2500": "0",
         "PLZ_Group_2600": "0",
         "PLZ_Group_2700": "0",
         "PLZ_Group_2800": "0",
         "PLZ_Group_2900": "0",
         "PLZ_Group_3000": "0",
         "PLZ_Group_3100": "0",
         "PLZ_Group_3200": "0",
         "PLZ_Group_3300": "0",
         "PLZ_Group_3400": "0",
         "PLZ_Group_3500": "0",
         "PLZ_Group_3600": "0",
         "PLZ_Group_3700": "0",
         "PLZ_Group_3800": "0",
         "PLZ_Group_3900": "0",
         "PLZ_Group_4000": "0",
         "PLZ_Group_4100": "0",
         "PLZ_Group_4200": "0",
         "PLZ_Group_4300": "0",
         "PLZ_Group_4400": "0",
         "PLZ_Group_4500": "0",
         "PLZ_Group_4600": "0",
         "PLZ_Group_4700": "0",
         "PLZ_Group_4800": "0",
         "PLZ_Group_4900": "0",
         "PLZ_Group_5000": "1",
         "PLZ_Group_5100": "0",
         "PLZ_Group_5200": "0",
         "PLZ_Group_5300": "0",
         "PLZ_Group_5400": "0",
         "PLZ_Group_5500": "0",
         "PLZ_Group_5600": "0",
         "PLZ_Group_5700": "0",
         "PLZ_Group_5800": "0",
         "PLZ_Group_5900": "0",
         "PLZ_Group_6000": "0",
         "PLZ_Group_6100": "0",
         "PLZ_Group_6200": "0",
         "PLZ_Group_6300": "0",
         "PLZ_Group_6400": "0",
         "PLZ_Group_6500": "0",
         "PLZ_Group_6600": "0",
         "PLZ_Group_6700": "0",
         "PLZ_Group_6800": "0",
         "PLZ_Group_6900": "0",
         "PLZ_Group_7000": "0",
         "PLZ_Group_7100": "0",
         "PLZ_Group_7200": "0",
         "PLZ_Group_7300": "0",
         "PLZ_Group_7400": "0",
         "PLZ_Group_7500": "0",
         "PLZ_Group_7600": "0",
         "PLZ_Group_7700": "0",
         "PLZ_Group_7800": "0",
         "PLZ_Group_7900": "0",
         "PLZ_Group_8000": "0",
         "PLZ_Group_8100": "0",
         "PLZ_Group_8200": "0",
         "PLZ_Group_8300": "0",
         "PLZ_Group_8400": "0",
         "PLZ_Group_8500": "0",
         "PLZ_Group_8600": "0",
         "PLZ_Group_8700": "0",
         "PLZ_Group_8800": "0",
         "PLZ_Group_8900": "0",
         "PLZ_Group_9000": "0",
         "PLZ_Group_9100": "0",
         "PLZ_Group_9200": "0",
         "PLZ_Group_9300": "0",
         "PLZ_Group_9400": "0",
         "PLZ_Group_9500": "0",
         "PLZ_Group_9600": "0",
         "PLZ_Group_9700": "0",
         "PLZ_Group_9800": "0",
         "PLZ_Group_9900": "0",
         "_deepnote_index_column": "3"
        },
        {
         "price": "720000.0",
         "zip_code": "5022",
         "living_space": "93.0",
         "rooms": "2.5",
         "type_attic-flat": "0",
         "type_attic-room": "0",
         "type_castle": "0",
         "type_chalet": "0",
         "type_detached-house": "0",
         "type_detached-secondary-suite": "0",
         "type_duplex-maisonette": "0",
         "type_farmhouse": "0",
         "type_flat": "0",
         "type_furnished-residential-property": "0",
         "type_loft": "0",
         "type_penthouse": "1",
         "type_rustico": "0",
         "type_secondary-suite": "0",
         "type_semi-detached-house": "0",
         "type_single-room": "0",
         "type_stepped-apartment": "0",
         "type_stepped-house": "0",
         "type_studio": "0",
         "type_terrace-house": "0",
         "type_villa": "0",
         "gde_politics_sp": "20.4595244456",
         "RiversAndLakesM": "0.1414731975610172",
         "gde_politics_glp": "6.5028052364",
         "RiversAndLakesS": "0.0918054478813124",
         "gde_politics_pda": "0.3870439760946096",
         "gde_politics_svp": "27.5901683142",
         "RiversAndLakesL": "0.1095861846724958",
         "gde_area_forest_percentage": "49.7056349874",
         "gde_politics_gps": "7.4779588565",
         "gde_area_agriculture_percentage": "33.1370899916",
         "NoisePollutionRoadM": "0.1329330885658624",
         "gde_private_apartments": "2638.0",
         "Latitude": "47.404870447",
         "gde_population": "6081.0",
         "WorkplaceDensityM": "0.038007938007938",
         "NoisePollutionRailwayS": "0.0",
         "gde_politics_evp": "5.0066791344",
         "gde_workers_sector1": "65.0",
         "NoisePollutionRoadL": "0.1334981288523627",
         "PopulationDensityM": "0.1369843339269058",
         "gde_empty_apartments": "0.6915629322",
         "gde_workers_sector3": "941.0",
         "ForestDensityM": "0.2792762060976747",
         "WorkplaceDensityS": "0.0555090071219103",
         "gde_area_settlement_percentage": "15.9798149706",
         "WorkplaceDensityL": "0.0469499064774209",
         "ForestDensityL": "0.3338645858292834",
         "gde_average_house_hold": "2.28",
         "NoisePollutionRailwayM": "0.0",
         "gde_workers_sector2": "349.0",
         "Longitude": "8.052780535",
         "NoisePollutionRailwayL": "0.0",
         "gde_politics_fdp": "19.1584290676",
         "gde_social_help_quota": "1.7081260365000002",
         "gde_area_nonproductive_percentage": "1.1774600505",
         "gde_foreigners_percentage": "15.9019898",
         "NoisePollutionRoadS": "0.2359174567763524",
         "gde_pop_per_km2": "511.008403361",
         "distanceToTrainStation": "1.4602445707934362",
         "gde_politics_cvp": "5.7280256479",
         "ForestDensityS": "0.1458351747563474",
         "gde_new_homes_per_1000": "1.1608623549",
         "gde_workers_total": "1355.0",
         "PopulationDensityL": "0.1909856542889402",
         "PopulationDensityS": "0.2045486700622524",
         "gde_politics_rights": "0.8923323537000001",
         "gde_politics_bdp": "5.2177397809",
         "gde_tax": "6.3",
         "PLZ_Group_1000": "0",
         "PLZ_Group_1100": "0",
         "PLZ_Group_1200": "0",
         "PLZ_Group_1300": "0",
         "PLZ_Group_1400": "0",
         "PLZ_Group_1500": "0",
         "PLZ_Group_1600": "0",
         "PLZ_Group_1700": "0",
         "PLZ_Group_1800": "0",
         "PLZ_Group_1900": "0",
         "PLZ_Group_2000": "0",
         "PLZ_Group_2100": "0",
         "PLZ_Group_2200": "0",
         "PLZ_Group_2300": "0",
         "PLZ_Group_2400": "0",
         "PLZ_Group_2500": "0",
         "PLZ_Group_2600": "0",
         "PLZ_Group_2700": "0",
         "PLZ_Group_2800": "0",
         "PLZ_Group_2900": "0",
         "PLZ_Group_3000": "0",
         "PLZ_Group_3100": "0",
         "PLZ_Group_3200": "0",
         "PLZ_Group_3300": "0",
         "PLZ_Group_3400": "0",
         "PLZ_Group_3500": "0",
         "PLZ_Group_3600": "0",
         "PLZ_Group_3700": "0",
         "PLZ_Group_3800": "0",
         "PLZ_Group_3900": "0",
         "PLZ_Group_4000": "0",
         "PLZ_Group_4100": "0",
         "PLZ_Group_4200": "0",
         "PLZ_Group_4300": "0",
         "PLZ_Group_4400": "0",
         "PLZ_Group_4500": "0",
         "PLZ_Group_4600": "0",
         "PLZ_Group_4700": "0",
         "PLZ_Group_4800": "0",
         "PLZ_Group_4900": "0",
         "PLZ_Group_5000": "1",
         "PLZ_Group_5100": "0",
         "PLZ_Group_5200": "0",
         "PLZ_Group_5300": "0",
         "PLZ_Group_5400": "0",
         "PLZ_Group_5500": "0",
         "PLZ_Group_5600": "0",
         "PLZ_Group_5700": "0",
         "PLZ_Group_5800": "0",
         "PLZ_Group_5900": "0",
         "PLZ_Group_6000": "0",
         "PLZ_Group_6100": "0",
         "PLZ_Group_6200": "0",
         "PLZ_Group_6300": "0",
         "PLZ_Group_6400": "0",
         "PLZ_Group_6500": "0",
         "PLZ_Group_6600": "0",
         "PLZ_Group_6700": "0",
         "PLZ_Group_6800": "0",
         "PLZ_Group_6900": "0",
         "PLZ_Group_7000": "0",
         "PLZ_Group_7100": "0",
         "PLZ_Group_7200": "0",
         "PLZ_Group_7300": "0",
         "PLZ_Group_7400": "0",
         "PLZ_Group_7500": "0",
         "PLZ_Group_7600": "0",
         "PLZ_Group_7700": "0",
         "PLZ_Group_7800": "0",
         "PLZ_Group_7900": "0",
         "PLZ_Group_8000": "0",
         "PLZ_Group_8100": "0",
         "PLZ_Group_8200": "0",
         "PLZ_Group_8300": "0",
         "PLZ_Group_8400": "0",
         "PLZ_Group_8500": "0",
         "PLZ_Group_8600": "0",
         "PLZ_Group_8700": "0",
         "PLZ_Group_8800": "0",
         "PLZ_Group_8900": "0",
         "PLZ_Group_9000": "0",
         "PLZ_Group_9100": "0",
         "PLZ_Group_9200": "0",
         "PLZ_Group_9300": "0",
         "PLZ_Group_9400": "0",
         "PLZ_Group_9500": "0",
         "PLZ_Group_9600": "0",
         "PLZ_Group_9700": "0",
         "PLZ_Group_9800": "0",
         "PLZ_Group_9900": "0",
         "_deepnote_index_column": "4"
        },
        {
         "price": "995000.0",
         "zip_code": "5022",
         "living_space": "142.0",
         "rooms": "4.5",
         "type_attic-flat": "0",
         "type_attic-room": "0",
         "type_castle": "0",
         "type_chalet": "0",
         "type_detached-house": "0",
         "type_detached-secondary-suite": "0",
         "type_duplex-maisonette": "0",
         "type_farmhouse": "0",
         "type_flat": "1",
         "type_furnished-residential-property": "0",
         "type_loft": "0",
         "type_penthouse": "0",
         "type_rustico": "0",
         "type_secondary-suite": "0",
         "type_semi-detached-house": "0",
         "type_single-room": "0",
         "type_stepped-apartment": "0",
         "type_stepped-house": "0",
         "type_studio": "0",
         "type_terrace-house": "0",
         "type_villa": "0",
         "gde_politics_sp": "20.4595244456",
         "RiversAndLakesM": "0.1414731975610172",
         "gde_politics_glp": "6.5028052364",
         "RiversAndLakesS": "0.0918054478813124",
         "gde_politics_pda": "0.3870439760946096",
         "gde_politics_svp": "27.5901683142",
         "RiversAndLakesL": "0.1095861846724958",
         "gde_area_forest_percentage": "49.7056349874",
         "gde_politics_gps": "7.4779588565",
         "gde_area_agriculture_percentage": "33.1370899916",
         "NoisePollutionRoadM": "0.1329330885658624",
         "gde_private_apartments": "2638.0",
         "Latitude": "47.404870447",
         "gde_population": "6081.0",
         "WorkplaceDensityM": "0.038007938007938",
         "NoisePollutionRailwayS": "0.0",
         "gde_politics_evp": "5.0066791344",
         "gde_workers_sector1": "65.0",
         "NoisePollutionRoadL": "0.1334981288523627",
         "PopulationDensityM": "0.1369843339269058",
         "gde_empty_apartments": "0.6915629322",
         "gde_workers_sector3": "941.0",
         "ForestDensityM": "0.2792762060976747",
         "WorkplaceDensityS": "0.0555090071219103",
         "gde_area_settlement_percentage": "15.9798149706",
         "WorkplaceDensityL": "0.0469499064774209",
         "ForestDensityL": "0.3338645858292834",
         "gde_average_house_hold": "2.28",
         "NoisePollutionRailwayM": "0.0",
         "gde_workers_sector2": "349.0",
         "Longitude": "8.052780535",
         "NoisePollutionRailwayL": "0.0",
         "gde_politics_fdp": "19.1584290676",
         "gde_social_help_quota": "1.7081260365000002",
         "gde_area_nonproductive_percentage": "1.1774600505",
         "gde_foreigners_percentage": "15.9019898",
         "NoisePollutionRoadS": "0.2359174567763524",
         "gde_pop_per_km2": "511.008403361",
         "distanceToTrainStation": "1.4602445707934362",
         "gde_politics_cvp": "5.7280256479",
         "ForestDensityS": "0.1458351747563474",
         "gde_new_homes_per_1000": "1.1608623549",
         "gde_workers_total": "1355.0",
         "PopulationDensityL": "0.1909856542889402",
         "PopulationDensityS": "0.2045486700622524",
         "gde_politics_rights": "0.8923323537000001",
         "gde_politics_bdp": "5.2177397809",
         "gde_tax": "6.3",
         "PLZ_Group_1000": "0",
         "PLZ_Group_1100": "0",
         "PLZ_Group_1200": "0",
         "PLZ_Group_1300": "0",
         "PLZ_Group_1400": "0",
         "PLZ_Group_1500": "0",
         "PLZ_Group_1600": "0",
         "PLZ_Group_1700": "0",
         "PLZ_Group_1800": "0",
         "PLZ_Group_1900": "0",
         "PLZ_Group_2000": "0",
         "PLZ_Group_2100": "0",
         "PLZ_Group_2200": "0",
         "PLZ_Group_2300": "0",
         "PLZ_Group_2400": "0",
         "PLZ_Group_2500": "0",
         "PLZ_Group_2600": "0",
         "PLZ_Group_2700": "0",
         "PLZ_Group_2800": "0",
         "PLZ_Group_2900": "0",
         "PLZ_Group_3000": "0",
         "PLZ_Group_3100": "0",
         "PLZ_Group_3200": "0",
         "PLZ_Group_3300": "0",
         "PLZ_Group_3400": "0",
         "PLZ_Group_3500": "0",
         "PLZ_Group_3600": "0",
         "PLZ_Group_3700": "0",
         "PLZ_Group_3800": "0",
         "PLZ_Group_3900": "0",
         "PLZ_Group_4000": "0",
         "PLZ_Group_4100": "0",
         "PLZ_Group_4200": "0",
         "PLZ_Group_4300": "0",
         "PLZ_Group_4400": "0",
         "PLZ_Group_4500": "0",
         "PLZ_Group_4600": "0",
         "PLZ_Group_4700": "0",
         "PLZ_Group_4800": "0",
         "PLZ_Group_4900": "0",
         "PLZ_Group_5000": "1",
         "PLZ_Group_5100": "0",
         "PLZ_Group_5200": "0",
         "PLZ_Group_5300": "0",
         "PLZ_Group_5400": "0",
         "PLZ_Group_5500": "0",
         "PLZ_Group_5600": "0",
         "PLZ_Group_5700": "0",
         "PLZ_Group_5800": "0",
         "PLZ_Group_5900": "0",
         "PLZ_Group_6000": "0",
         "PLZ_Group_6100": "0",
         "PLZ_Group_6200": "0",
         "PLZ_Group_6300": "0",
         "PLZ_Group_6400": "0",
         "PLZ_Group_6500": "0",
         "PLZ_Group_6600": "0",
         "PLZ_Group_6700": "0",
         "PLZ_Group_6800": "0",
         "PLZ_Group_6900": "0",
         "PLZ_Group_7000": "0",
         "PLZ_Group_7100": "0",
         "PLZ_Group_7200": "0",
         "PLZ_Group_7300": "0",
         "PLZ_Group_7400": "0",
         "PLZ_Group_7500": "0",
         "PLZ_Group_7600": "0",
         "PLZ_Group_7700": "0",
         "PLZ_Group_7800": "0",
         "PLZ_Group_7900": "0",
         "PLZ_Group_8000": "0",
         "PLZ_Group_8100": "0",
         "PLZ_Group_8200": "0",
         "PLZ_Group_8300": "0",
         "PLZ_Group_8400": "0",
         "PLZ_Group_8500": "0",
         "PLZ_Group_8600": "0",
         "PLZ_Group_8700": "0",
         "PLZ_Group_8800": "0",
         "PLZ_Group_8900": "0",
         "PLZ_Group_9000": "0",
         "PLZ_Group_9100": "0",
         "PLZ_Group_9200": "0",
         "PLZ_Group_9300": "0",
         "PLZ_Group_9400": "0",
         "PLZ_Group_9500": "0",
         "PLZ_Group_9600": "0",
         "PLZ_Group_9700": "0",
         "PLZ_Group_9800": "0",
         "PLZ_Group_9900": "0",
         "_deepnote_index_column": "5"
        },
        {
         "price": "720000.0",
         "zip_code": "5022",
         "living_space": "93.0",
         "rooms": "2.5",
         "type_attic-flat": "0",
         "type_attic-room": "0",
         "type_castle": "0",
         "type_chalet": "0",
         "type_detached-house": "0",
         "type_detached-secondary-suite": "0",
         "type_duplex-maisonette": "0",
         "type_farmhouse": "0",
         "type_flat": "0",
         "type_furnished-residential-property": "0",
         "type_loft": "0",
         "type_penthouse": "1",
         "type_rustico": "0",
         "type_secondary-suite": "0",
         "type_semi-detached-house": "0",
         "type_single-room": "0",
         "type_stepped-apartment": "0",
         "type_stepped-house": "0",
         "type_studio": "0",
         "type_terrace-house": "0",
         "type_villa": "0",
         "gde_politics_sp": "20.4595244456",
         "RiversAndLakesM": "0.1414731975610172",
         "gde_politics_glp": "6.5028052364",
         "RiversAndLakesS": "0.0918054478813124",
         "gde_politics_pda": "0.3870439760946096",
         "gde_politics_svp": "27.5901683142",
         "RiversAndLakesL": "0.1095861846724958",
         "gde_area_forest_percentage": "49.7056349874",
         "gde_politics_gps": "7.4779588565",
         "gde_area_agriculture_percentage": "33.1370899916",
         "NoisePollutionRoadM": "0.1329330885658624",
         "gde_private_apartments": "2638.0",
         "Latitude": "47.404870447",
         "gde_population": "6081.0",
         "WorkplaceDensityM": "0.038007938007938",
         "NoisePollutionRailwayS": "0.0",
         "gde_politics_evp": "5.0066791344",
         "gde_workers_sector1": "65.0",
         "NoisePollutionRoadL": "0.1334981288523627",
         "PopulationDensityM": "0.1369843339269058",
         "gde_empty_apartments": "0.6915629322",
         "gde_workers_sector3": "941.0",
         "ForestDensityM": "0.2792762060976747",
         "WorkplaceDensityS": "0.0555090071219103",
         "gde_area_settlement_percentage": "15.9798149706",
         "WorkplaceDensityL": "0.0469499064774209",
         "ForestDensityL": "0.3338645858292834",
         "gde_average_house_hold": "2.28",
         "NoisePollutionRailwayM": "0.0",
         "gde_workers_sector2": "349.0",
         "Longitude": "8.052780535",
         "NoisePollutionRailwayL": "0.0",
         "gde_politics_fdp": "19.1584290676",
         "gde_social_help_quota": "1.7081260365000002",
         "gde_area_nonproductive_percentage": "1.1774600505",
         "gde_foreigners_percentage": "15.9019898",
         "NoisePollutionRoadS": "0.2359174567763524",
         "gde_pop_per_km2": "511.008403361",
         "distanceToTrainStation": "1.4602445707934362",
         "gde_politics_cvp": "5.7280256479",
         "ForestDensityS": "0.1458351747563474",
         "gde_new_homes_per_1000": "1.1608623549",
         "gde_workers_total": "1355.0",
         "PopulationDensityL": "0.1909856542889402",
         "PopulationDensityS": "0.2045486700622524",
         "gde_politics_rights": "0.8923323537000001",
         "gde_politics_bdp": "5.2177397809",
         "gde_tax": "6.3",
         "PLZ_Group_1000": "0",
         "PLZ_Group_1100": "0",
         "PLZ_Group_1200": "0",
         "PLZ_Group_1300": "0",
         "PLZ_Group_1400": "0",
         "PLZ_Group_1500": "0",
         "PLZ_Group_1600": "0",
         "PLZ_Group_1700": "0",
         "PLZ_Group_1800": "0",
         "PLZ_Group_1900": "0",
         "PLZ_Group_2000": "0",
         "PLZ_Group_2100": "0",
         "PLZ_Group_2200": "0",
         "PLZ_Group_2300": "0",
         "PLZ_Group_2400": "0",
         "PLZ_Group_2500": "0",
         "PLZ_Group_2600": "0",
         "PLZ_Group_2700": "0",
         "PLZ_Group_2800": "0",
         "PLZ_Group_2900": "0",
         "PLZ_Group_3000": "0",
         "PLZ_Group_3100": "0",
         "PLZ_Group_3200": "0",
         "PLZ_Group_3300": "0",
         "PLZ_Group_3400": "0",
         "PLZ_Group_3500": "0",
         "PLZ_Group_3600": "0",
         "PLZ_Group_3700": "0",
         "PLZ_Group_3800": "0",
         "PLZ_Group_3900": "0",
         "PLZ_Group_4000": "0",
         "PLZ_Group_4100": "0",
         "PLZ_Group_4200": "0",
         "PLZ_Group_4300": "0",
         "PLZ_Group_4400": "0",
         "PLZ_Group_4500": "0",
         "PLZ_Group_4600": "0",
         "PLZ_Group_4700": "0",
         "PLZ_Group_4800": "0",
         "PLZ_Group_4900": "0",
         "PLZ_Group_5000": "1",
         "PLZ_Group_5100": "0",
         "PLZ_Group_5200": "0",
         "PLZ_Group_5300": "0",
         "PLZ_Group_5400": "0",
         "PLZ_Group_5500": "0",
         "PLZ_Group_5600": "0",
         "PLZ_Group_5700": "0",
         "PLZ_Group_5800": "0",
         "PLZ_Group_5900": "0",
         "PLZ_Group_6000": "0",
         "PLZ_Group_6100": "0",
         "PLZ_Group_6200": "0",
         "PLZ_Group_6300": "0",
         "PLZ_Group_6400": "0",
         "PLZ_Group_6500": "0",
         "PLZ_Group_6600": "0",
         "PLZ_Group_6700": "0",
         "PLZ_Group_6800": "0",
         "PLZ_Group_6900": "0",
         "PLZ_Group_7000": "0",
         "PLZ_Group_7100": "0",
         "PLZ_Group_7200": "0",
         "PLZ_Group_7300": "0",
         "PLZ_Group_7400": "0",
         "PLZ_Group_7500": "0",
         "PLZ_Group_7600": "0",
         "PLZ_Group_7700": "0",
         "PLZ_Group_7800": "0",
         "PLZ_Group_7900": "0",
         "PLZ_Group_8000": "0",
         "PLZ_Group_8100": "0",
         "PLZ_Group_8200": "0",
         "PLZ_Group_8300": "0",
         "PLZ_Group_8400": "0",
         "PLZ_Group_8500": "0",
         "PLZ_Group_8600": "0",
         "PLZ_Group_8700": "0",
         "PLZ_Group_8800": "0",
         "PLZ_Group_8900": "0",
         "PLZ_Group_9000": "0",
         "PLZ_Group_9100": "0",
         "PLZ_Group_9200": "0",
         "PLZ_Group_9300": "0",
         "PLZ_Group_9400": "0",
         "PLZ_Group_9500": "0",
         "PLZ_Group_9600": "0",
         "PLZ_Group_9700": "0",
         "PLZ_Group_9800": "0",
         "PLZ_Group_9900": "0",
         "_deepnote_index_column": "6"
        },
        {
         "price": "2400000.0",
         "zip_code": "5022",
         "living_space": "225.0",
         "rooms": "6.5",
         "type_attic-flat": "0",
         "type_attic-room": "0",
         "type_castle": "0",
         "type_chalet": "0",
         "type_detached-house": "0",
         "type_detached-secondary-suite": "0",
         "type_duplex-maisonette": "0",
         "type_farmhouse": "0",
         "type_flat": "0",
         "type_furnished-residential-property": "0",
         "type_loft": "0",
         "type_penthouse": "1",
         "type_rustico": "0",
         "type_secondary-suite": "0",
         "type_semi-detached-house": "0",
         "type_single-room": "0",
         "type_stepped-apartment": "0",
         "type_stepped-house": "0",
         "type_studio": "0",
         "type_terrace-house": "0",
         "type_villa": "0",
         "gde_politics_sp": "20.4595244456",
         "RiversAndLakesM": "0.1414731975610172",
         "gde_politics_glp": "6.5028052364",
         "RiversAndLakesS": "0.0918054478813124",
         "gde_politics_pda": "0.3870439760946096",
         "gde_politics_svp": "27.5901683142",
         "RiversAndLakesL": "0.1095861846724958",
         "gde_area_forest_percentage": "49.7056349874",
         "gde_politics_gps": "7.4779588565",
         "gde_area_agriculture_percentage": "33.1370899916",
         "NoisePollutionRoadM": "0.1329330885658624",
         "gde_private_apartments": "2638.0",
         "Latitude": "47.404870447",
         "gde_population": "6081.0",
         "WorkplaceDensityM": "0.038007938007938",
         "NoisePollutionRailwayS": "0.0",
         "gde_politics_evp": "5.0066791344",
         "gde_workers_sector1": "65.0",
         "NoisePollutionRoadL": "0.1334981288523627",
         "PopulationDensityM": "0.1369843339269058",
         "gde_empty_apartments": "0.6915629322",
         "gde_workers_sector3": "941.0",
         "ForestDensityM": "0.2792762060976747",
         "WorkplaceDensityS": "0.0555090071219103",
         "gde_area_settlement_percentage": "15.9798149706",
         "WorkplaceDensityL": "0.0469499064774209",
         "ForestDensityL": "0.3338645858292834",
         "gde_average_house_hold": "2.28",
         "NoisePollutionRailwayM": "0.0",
         "gde_workers_sector2": "349.0",
         "Longitude": "8.052780535",
         "NoisePollutionRailwayL": "0.0",
         "gde_politics_fdp": "19.1584290676",
         "gde_social_help_quota": "1.7081260365000002",
         "gde_area_nonproductive_percentage": "1.1774600505",
         "gde_foreigners_percentage": "15.9019898",
         "NoisePollutionRoadS": "0.2359174567763524",
         "gde_pop_per_km2": "511.008403361",
         "distanceToTrainStation": "1.4602445707934362",
         "gde_politics_cvp": "5.7280256479",
         "ForestDensityS": "0.1458351747563474",
         "gde_new_homes_per_1000": "1.1608623549",
         "gde_workers_total": "1355.0",
         "PopulationDensityL": "0.1909856542889402",
         "PopulationDensityS": "0.2045486700622524",
         "gde_politics_rights": "0.8923323537000001",
         "gde_politics_bdp": "5.2177397809",
         "gde_tax": "6.3",
         "PLZ_Group_1000": "0",
         "PLZ_Group_1100": "0",
         "PLZ_Group_1200": "0",
         "PLZ_Group_1300": "0",
         "PLZ_Group_1400": "0",
         "PLZ_Group_1500": "0",
         "PLZ_Group_1600": "0",
         "PLZ_Group_1700": "0",
         "PLZ_Group_1800": "0",
         "PLZ_Group_1900": "0",
         "PLZ_Group_2000": "0",
         "PLZ_Group_2100": "0",
         "PLZ_Group_2200": "0",
         "PLZ_Group_2300": "0",
         "PLZ_Group_2400": "0",
         "PLZ_Group_2500": "0",
         "PLZ_Group_2600": "0",
         "PLZ_Group_2700": "0",
         "PLZ_Group_2800": "0",
         "PLZ_Group_2900": "0",
         "PLZ_Group_3000": "0",
         "PLZ_Group_3100": "0",
         "PLZ_Group_3200": "0",
         "PLZ_Group_3300": "0",
         "PLZ_Group_3400": "0",
         "PLZ_Group_3500": "0",
         "PLZ_Group_3600": "0",
         "PLZ_Group_3700": "0",
         "PLZ_Group_3800": "0",
         "PLZ_Group_3900": "0",
         "PLZ_Group_4000": "0",
         "PLZ_Group_4100": "0",
         "PLZ_Group_4200": "0",
         "PLZ_Group_4300": "0",
         "PLZ_Group_4400": "0",
         "PLZ_Group_4500": "0",
         "PLZ_Group_4600": "0",
         "PLZ_Group_4700": "0",
         "PLZ_Group_4800": "0",
         "PLZ_Group_4900": "0",
         "PLZ_Group_5000": "1",
         "PLZ_Group_5100": "0",
         "PLZ_Group_5200": "0",
         "PLZ_Group_5300": "0",
         "PLZ_Group_5400": "0",
         "PLZ_Group_5500": "0",
         "PLZ_Group_5600": "0",
         "PLZ_Group_5700": "0",
         "PLZ_Group_5800": "0",
         "PLZ_Group_5900": "0",
         "PLZ_Group_6000": "0",
         "PLZ_Group_6100": "0",
         "PLZ_Group_6200": "0",
         "PLZ_Group_6300": "0",
         "PLZ_Group_6400": "0",
         "PLZ_Group_6500": "0",
         "PLZ_Group_6600": "0",
         "PLZ_Group_6700": "0",
         "PLZ_Group_6800": "0",
         "PLZ_Group_6900": "0",
         "PLZ_Group_7000": "0",
         "PLZ_Group_7100": "0",
         "PLZ_Group_7200": "0",
         "PLZ_Group_7300": "0",
         "PLZ_Group_7400": "0",
         "PLZ_Group_7500": "0",
         "PLZ_Group_7600": "0",
         "PLZ_Group_7700": "0",
         "PLZ_Group_7800": "0",
         "PLZ_Group_7900": "0",
         "PLZ_Group_8000": "0",
         "PLZ_Group_8100": "0",
         "PLZ_Group_8200": "0",
         "PLZ_Group_8300": "0",
         "PLZ_Group_8400": "0",
         "PLZ_Group_8500": "0",
         "PLZ_Group_8600": "0",
         "PLZ_Group_8700": "0",
         "PLZ_Group_8800": "0",
         "PLZ_Group_8900": "0",
         "PLZ_Group_9000": "0",
         "PLZ_Group_9100": "0",
         "PLZ_Group_9200": "0",
         "PLZ_Group_9300": "0",
         "PLZ_Group_9400": "0",
         "PLZ_Group_9500": "0",
         "PLZ_Group_9600": "0",
         "PLZ_Group_9700": "0",
         "PLZ_Group_9800": "0",
         "PLZ_Group_9900": "0",
         "_deepnote_index_column": "7"
        },
        {
         "price": "665000.0",
         "zip_code": "5022",
         "living_space": "82.0",
         "rooms": "2.5",
         "type_attic-flat": "0",
         "type_attic-room": "0",
         "type_castle": "0",
         "type_chalet": "0",
         "type_detached-house": "0",
         "type_detached-secondary-suite": "0",
         "type_duplex-maisonette": "0",
         "type_farmhouse": "0",
         "type_flat": "1",
         "type_furnished-residential-property": "0",
         "type_loft": "0",
         "type_penthouse": "0",
         "type_rustico": "0",
         "type_secondary-suite": "0",
         "type_semi-detached-house": "0",
         "type_single-room": "0",
         "type_stepped-apartment": "0",
         "type_stepped-house": "0",
         "type_studio": "0",
         "type_terrace-house": "0",
         "type_villa": "0",
         "gde_politics_sp": "20.4595244456",
         "RiversAndLakesM": "0.1414731975610172",
         "gde_politics_glp": "6.5028052364",
         "RiversAndLakesS": "0.0918054478813124",
         "gde_politics_pda": "0.3870439760946096",
         "gde_politics_svp": "27.5901683142",
         "RiversAndLakesL": "0.1095861846724958",
         "gde_area_forest_percentage": "49.7056349874",
         "gde_politics_gps": "7.4779588565",
         "gde_area_agriculture_percentage": "33.1370899916",
         "NoisePollutionRoadM": "0.1329330885658624",
         "gde_private_apartments": "2638.0",
         "Latitude": "47.404870447",
         "gde_population": "6081.0",
         "WorkplaceDensityM": "0.038007938007938",
         "NoisePollutionRailwayS": "0.0",
         "gde_politics_evp": "5.0066791344",
         "gde_workers_sector1": "65.0",
         "NoisePollutionRoadL": "0.1334981288523627",
         "PopulationDensityM": "0.1369843339269058",
         "gde_empty_apartments": "0.6915629322",
         "gde_workers_sector3": "941.0",
         "ForestDensityM": "0.2792762060976747",
         "WorkplaceDensityS": "0.0555090071219103",
         "gde_area_settlement_percentage": "15.9798149706",
         "WorkplaceDensityL": "0.0469499064774209",
         "ForestDensityL": "0.3338645858292834",
         "gde_average_house_hold": "2.28",
         "NoisePollutionRailwayM": "0.0",
         "gde_workers_sector2": "349.0",
         "Longitude": "8.052780535",
         "NoisePollutionRailwayL": "0.0",
         "gde_politics_fdp": "19.1584290676",
         "gde_social_help_quota": "1.7081260365000002",
         "gde_area_nonproductive_percentage": "1.1774600505",
         "gde_foreigners_percentage": "15.9019898",
         "NoisePollutionRoadS": "0.2359174567763524",
         "gde_pop_per_km2": "511.008403361",
         "distanceToTrainStation": "1.4602445707934362",
         "gde_politics_cvp": "5.7280256479",
         "ForestDensityS": "0.1458351747563474",
         "gde_new_homes_per_1000": "1.1608623549",
         "gde_workers_total": "1355.0",
         "PopulationDensityL": "0.1909856542889402",
         "PopulationDensityS": "0.2045486700622524",
         "gde_politics_rights": "0.8923323537000001",
         "gde_politics_bdp": "5.2177397809",
         "gde_tax": "6.3",
         "PLZ_Group_1000": "0",
         "PLZ_Group_1100": "0",
         "PLZ_Group_1200": "0",
         "PLZ_Group_1300": "0",
         "PLZ_Group_1400": "0",
         "PLZ_Group_1500": "0",
         "PLZ_Group_1600": "0",
         "PLZ_Group_1700": "0",
         "PLZ_Group_1800": "0",
         "PLZ_Group_1900": "0",
         "PLZ_Group_2000": "0",
         "PLZ_Group_2100": "0",
         "PLZ_Group_2200": "0",
         "PLZ_Group_2300": "0",
         "PLZ_Group_2400": "0",
         "PLZ_Group_2500": "0",
         "PLZ_Group_2600": "0",
         "PLZ_Group_2700": "0",
         "PLZ_Group_2800": "0",
         "PLZ_Group_2900": "0",
         "PLZ_Group_3000": "0",
         "PLZ_Group_3100": "0",
         "PLZ_Group_3200": "0",
         "PLZ_Group_3300": "0",
         "PLZ_Group_3400": "0",
         "PLZ_Group_3500": "0",
         "PLZ_Group_3600": "0",
         "PLZ_Group_3700": "0",
         "PLZ_Group_3800": "0",
         "PLZ_Group_3900": "0",
         "PLZ_Group_4000": "0",
         "PLZ_Group_4100": "0",
         "PLZ_Group_4200": "0",
         "PLZ_Group_4300": "0",
         "PLZ_Group_4400": "0",
         "PLZ_Group_4500": "0",
         "PLZ_Group_4600": "0",
         "PLZ_Group_4700": "0",
         "PLZ_Group_4800": "0",
         "PLZ_Group_4900": "0",
         "PLZ_Group_5000": "1",
         "PLZ_Group_5100": "0",
         "PLZ_Group_5200": "0",
         "PLZ_Group_5300": "0",
         "PLZ_Group_5400": "0",
         "PLZ_Group_5500": "0",
         "PLZ_Group_5600": "0",
         "PLZ_Group_5700": "0",
         "PLZ_Group_5800": "0",
         "PLZ_Group_5900": "0",
         "PLZ_Group_6000": "0",
         "PLZ_Group_6100": "0",
         "PLZ_Group_6200": "0",
         "PLZ_Group_6300": "0",
         "PLZ_Group_6400": "0",
         "PLZ_Group_6500": "0",
         "PLZ_Group_6600": "0",
         "PLZ_Group_6700": "0",
         "PLZ_Group_6800": "0",
         "PLZ_Group_6900": "0",
         "PLZ_Group_7000": "0",
         "PLZ_Group_7100": "0",
         "PLZ_Group_7200": "0",
         "PLZ_Group_7300": "0",
         "PLZ_Group_7400": "0",
         "PLZ_Group_7500": "0",
         "PLZ_Group_7600": "0",
         "PLZ_Group_7700": "0",
         "PLZ_Group_7800": "0",
         "PLZ_Group_7900": "0",
         "PLZ_Group_8000": "0",
         "PLZ_Group_8100": "0",
         "PLZ_Group_8200": "0",
         "PLZ_Group_8300": "0",
         "PLZ_Group_8400": "0",
         "PLZ_Group_8500": "0",
         "PLZ_Group_8600": "0",
         "PLZ_Group_8700": "0",
         "PLZ_Group_8800": "0",
         "PLZ_Group_8900": "0",
         "PLZ_Group_9000": "0",
         "PLZ_Group_9100": "0",
         "PLZ_Group_9200": "0",
         "PLZ_Group_9300": "0",
         "PLZ_Group_9400": "0",
         "PLZ_Group_9500": "0",
         "PLZ_Group_9600": "0",
         "PLZ_Group_9700": "0",
         "PLZ_Group_9800": "0",
         "PLZ_Group_9900": "0",
         "_deepnote_index_column": "8"
        },
        {
         "price": "995000.0",
         "zip_code": "5022",
         "living_space": "123.0",
         "rooms": "4.5",
         "type_attic-flat": "0",
         "type_attic-room": "0",
         "type_castle": "0",
         "type_chalet": "0",
         "type_detached-house": "0",
         "type_detached-secondary-suite": "0",
         "type_duplex-maisonette": "0",
         "type_farmhouse": "0",
         "type_flat": "1",
         "type_furnished-residential-property": "0",
         "type_loft": "0",
         "type_penthouse": "0",
         "type_rustico": "0",
         "type_secondary-suite": "0",
         "type_semi-detached-house": "0",
         "type_single-room": "0",
         "type_stepped-apartment": "0",
         "type_stepped-house": "0",
         "type_studio": "0",
         "type_terrace-house": "0",
         "type_villa": "0",
         "gde_politics_sp": "20.4595244456",
         "RiversAndLakesM": "0.1414731975610172",
         "gde_politics_glp": "6.5028052364",
         "RiversAndLakesS": "0.0918054478813124",
         "gde_politics_pda": "0.3870439760946096",
         "gde_politics_svp": "27.5901683142",
         "RiversAndLakesL": "0.1095861846724958",
         "gde_area_forest_percentage": "49.7056349874",
         "gde_politics_gps": "7.4779588565",
         "gde_area_agriculture_percentage": "33.1370899916",
         "NoisePollutionRoadM": "0.1329330885658624",
         "gde_private_apartments": "2638.0",
         "Latitude": "47.404870447",
         "gde_population": "6081.0",
         "WorkplaceDensityM": "0.038007938007938",
         "NoisePollutionRailwayS": "0.0",
         "gde_politics_evp": "5.0066791344",
         "gde_workers_sector1": "65.0",
         "NoisePollutionRoadL": "0.1334981288523627",
         "PopulationDensityM": "0.1369843339269058",
         "gde_empty_apartments": "0.6915629322",
         "gde_workers_sector3": "941.0",
         "ForestDensityM": "0.2792762060976747",
         "WorkplaceDensityS": "0.0555090071219103",
         "gde_area_settlement_percentage": "15.9798149706",
         "WorkplaceDensityL": "0.0469499064774209",
         "ForestDensityL": "0.3338645858292834",
         "gde_average_house_hold": "2.28",
         "NoisePollutionRailwayM": "0.0",
         "gde_workers_sector2": "349.0",
         "Longitude": "8.052780535",
         "NoisePollutionRailwayL": "0.0",
         "gde_politics_fdp": "19.1584290676",
         "gde_social_help_quota": "1.7081260365000002",
         "gde_area_nonproductive_percentage": "1.1774600505",
         "gde_foreigners_percentage": "15.9019898",
         "NoisePollutionRoadS": "0.2359174567763524",
         "gde_pop_per_km2": "511.008403361",
         "distanceToTrainStation": "1.4602445707934362",
         "gde_politics_cvp": "5.7280256479",
         "ForestDensityS": "0.1458351747563474",
         "gde_new_homes_per_1000": "1.1608623549",
         "gde_workers_total": "1355.0",
         "PopulationDensityL": "0.1909856542889402",
         "PopulationDensityS": "0.2045486700622524",
         "gde_politics_rights": "0.8923323537000001",
         "gde_politics_bdp": "5.2177397809",
         "gde_tax": "6.3",
         "PLZ_Group_1000": "0",
         "PLZ_Group_1100": "0",
         "PLZ_Group_1200": "0",
         "PLZ_Group_1300": "0",
         "PLZ_Group_1400": "0",
         "PLZ_Group_1500": "0",
         "PLZ_Group_1600": "0",
         "PLZ_Group_1700": "0",
         "PLZ_Group_1800": "0",
         "PLZ_Group_1900": "0",
         "PLZ_Group_2000": "0",
         "PLZ_Group_2100": "0",
         "PLZ_Group_2200": "0",
         "PLZ_Group_2300": "0",
         "PLZ_Group_2400": "0",
         "PLZ_Group_2500": "0",
         "PLZ_Group_2600": "0",
         "PLZ_Group_2700": "0",
         "PLZ_Group_2800": "0",
         "PLZ_Group_2900": "0",
         "PLZ_Group_3000": "0",
         "PLZ_Group_3100": "0",
         "PLZ_Group_3200": "0",
         "PLZ_Group_3300": "0",
         "PLZ_Group_3400": "0",
         "PLZ_Group_3500": "0",
         "PLZ_Group_3600": "0",
         "PLZ_Group_3700": "0",
         "PLZ_Group_3800": "0",
         "PLZ_Group_3900": "0",
         "PLZ_Group_4000": "0",
         "PLZ_Group_4100": "0",
         "PLZ_Group_4200": "0",
         "PLZ_Group_4300": "0",
         "PLZ_Group_4400": "0",
         "PLZ_Group_4500": "0",
         "PLZ_Group_4600": "0",
         "PLZ_Group_4700": "0",
         "PLZ_Group_4800": "0",
         "PLZ_Group_4900": "0",
         "PLZ_Group_5000": "1",
         "PLZ_Group_5100": "0",
         "PLZ_Group_5200": "0",
         "PLZ_Group_5300": "0",
         "PLZ_Group_5400": "0",
         "PLZ_Group_5500": "0",
         "PLZ_Group_5600": "0",
         "PLZ_Group_5700": "0",
         "PLZ_Group_5800": "0",
         "PLZ_Group_5900": "0",
         "PLZ_Group_6000": "0",
         "PLZ_Group_6100": "0",
         "PLZ_Group_6200": "0",
         "PLZ_Group_6300": "0",
         "PLZ_Group_6400": "0",
         "PLZ_Group_6500": "0",
         "PLZ_Group_6600": "0",
         "PLZ_Group_6700": "0",
         "PLZ_Group_6800": "0",
         "PLZ_Group_6900": "0",
         "PLZ_Group_7000": "0",
         "PLZ_Group_7100": "0",
         "PLZ_Group_7200": "0",
         "PLZ_Group_7300": "0",
         "PLZ_Group_7400": "0",
         "PLZ_Group_7500": "0",
         "PLZ_Group_7600": "0",
         "PLZ_Group_7700": "0",
         "PLZ_Group_7800": "0",
         "PLZ_Group_7900": "0",
         "PLZ_Group_8000": "0",
         "PLZ_Group_8100": "0",
         "PLZ_Group_8200": "0",
         "PLZ_Group_8300": "0",
         "PLZ_Group_8400": "0",
         "PLZ_Group_8500": "0",
         "PLZ_Group_8600": "0",
         "PLZ_Group_8700": "0",
         "PLZ_Group_8800": "0",
         "PLZ_Group_8900": "0",
         "PLZ_Group_9000": "0",
         "PLZ_Group_9100": "0",
         "PLZ_Group_9200": "0",
         "PLZ_Group_9300": "0",
         "PLZ_Group_9400": "0",
         "PLZ_Group_9500": "0",
         "PLZ_Group_9600": "0",
         "PLZ_Group_9700": "0",
         "PLZ_Group_9800": "0",
         "PLZ_Group_9900": "0",
         "_deepnote_index_column": "9"
        }
       ]
      },
      "text/plain": "           price  zip_code  living_space  rooms  type_attic-flat  \\\n0      1150000.0      5023         100.0    3.5                0   \n1      1420000.0      5023         156.0    4.5                0   \n2      1430000.0      5023         154.0    4.5                0   \n3       550000.0      5023         124.0    4.5                0   \n4       720000.0      5022          93.0    2.5                0   \n...          ...       ...           ...    ...              ...   \n13063   895000.0      8405         130.0    4.5                0   \n13064  1090000.0      8405         147.0    5.5                0   \n13065  2750000.0      8405         385.0    7.5                0   \n13066  1415000.0      8472         150.0    6.5                0   \n13067  1465000.0      8483         145.0    6.0                0   \n\n       type_attic-room  type_castle  type_chalet  type_detached-house  \\\n0                    0            0            0                    0   \n1                    0            0            0                    0   \n2                    0            0            0                    1   \n3                    0            0            0                    0   \n4                    0            0            0                    0   \n...                ...          ...          ...                  ...   \n13063                0            0            0                    0   \n13064                0            0            0                    0   \n13065                0            0            0                    1   \n13066                0            0            0                    0   \n13067                0            0            0                    1   \n\n       type_detached-secondary-suite  ...  PLZ_Group_9000  PLZ_Group_9100  \\\n0                                  0  ...               0               0   \n1                                  0  ...               0               0   \n2                                  0  ...               0               0   \n3                                  0  ...               0               0   \n4                                  0  ...               0               0   \n...                              ...  ...             ...             ...   \n13063                              0  ...               0               0   \n13064                              0  ...               0               0   \n13065                              0  ...               0               0   \n13066                              0  ...               0               0   \n13067                              0  ...               0               0   \n\n       PLZ_Group_9200  PLZ_Group_9300  PLZ_Group_9400  PLZ_Group_9500  \\\n0                   0               0               0               0   \n1                   0               0               0               0   \n2                   0               0               0               0   \n3                   0               0               0               0   \n4                   0               0               0               0   \n...               ...             ...             ...             ...   \n13063               0               0               0               0   \n13064               0               0               0               0   \n13065               0               0               0               0   \n13066               0               0               0               0   \n13067               0               0               0               0   \n\n       PLZ_Group_9600  PLZ_Group_9700  PLZ_Group_9800  PLZ_Group_9900  \n0                   0               0               0               0  \n1                   0               0               0               0  \n2                   0               0               0               0  \n3                   0               0               0               0  \n4                   0               0               0               0  \n...               ...             ...             ...             ...  \n13063               0               0               0               0  \n13064               0               0               0               0  \n13065               0               0               0               0  \n13066               0               0               0               0  \n13067               0               0               0               0  \n\n[13068 rows x 163 columns]",
      "text/html": "<div>\n<style scoped>\n    .dataframe tbody tr th:only-of-type {\n        vertical-align: middle;\n    }\n\n    .dataframe tbody tr th {\n        vertical-align: top;\n    }\n\n    .dataframe thead th {\n        text-align: right;\n    }\n</style>\n<table border=\"1\" class=\"dataframe\">\n  <thead>\n    <tr style=\"text-align: right;\">\n      <th></th>\n      <th>price</th>\n      <th>zip_code</th>\n      <th>living_space</th>\n      <th>rooms</th>\n      <th>type_attic-flat</th>\n      <th>type_attic-room</th>\n      <th>type_castle</th>\n      <th>type_chalet</th>\n      <th>type_detached-house</th>\n      <th>type_detached-secondary-suite</th>\n      <th>...</th>\n      <th>PLZ_Group_9000</th>\n      <th>PLZ_Group_9100</th>\n      <th>PLZ_Group_9200</th>\n      <th>PLZ_Group_9300</th>\n      <th>PLZ_Group_9400</th>\n      <th>PLZ_Group_9500</th>\n      <th>PLZ_Group_9600</th>\n      <th>PLZ_Group_9700</th>\n      <th>PLZ_Group_9800</th>\n      <th>PLZ_Group_9900</th>\n    </tr>\n  </thead>\n  <tbody>\n    <tr>\n      <th>0</th>\n      <td>1150000.0</td>\n      <td>5023</td>\n      <td>100.0</td>\n      <td>3.5</td>\n      <td>0</td>\n      <td>0</td>\n      <td>0</td>\n      <td>0</td>\n      <td>0</td>\n      <td>0</td>\n      <td>...</td>\n      <td>0</td>\n      <td>0</td>\n      <td>0</td>\n      <td>0</td>\n      <td>0</td>\n      <td>0</td>\n      <td>0</td>\n      <td>0</td>\n      <td>0</td>\n      <td>0</td>\n    </tr>\n    <tr>\n      <th>1</th>\n      <td>1420000.0</td>\n      <td>5023</td>\n      <td>156.0</td>\n      <td>4.5</td>\n      <td>0</td>\n      <td>0</td>\n      <td>0</td>\n      <td>0</td>\n      <td>0</td>\n      <td>0</td>\n      <td>...</td>\n      <td>0</td>\n      <td>0</td>\n      <td>0</td>\n      <td>0</td>\n      <td>0</td>\n      <td>0</td>\n      <td>0</td>\n      <td>0</td>\n      <td>0</td>\n      <td>0</td>\n    </tr>\n    <tr>\n      <th>2</th>\n      <td>1430000.0</td>\n      <td>5023</td>\n      <td>154.0</td>\n      <td>4.5</td>\n      <td>0</td>\n      <td>0</td>\n      <td>0</td>\n      <td>0</td>\n      <td>1</td>\n      <td>0</td>\n      <td>...</td>\n      <td>0</td>\n      <td>0</td>\n      <td>0</td>\n      <td>0</td>\n      <td>0</td>\n      <td>0</td>\n      <td>0</td>\n      <td>0</td>\n      <td>0</td>\n      <td>0</td>\n    </tr>\n    <tr>\n      <th>3</th>\n      <td>550000.0</td>\n      <td>5023</td>\n      <td>124.0</td>\n      <td>4.5</td>\n      <td>0</td>\n      <td>0</td>\n      <td>0</td>\n      <td>0</td>\n      <td>0</td>\n      <td>0</td>\n      <td>...</td>\n      <td>0</td>\n      <td>0</td>\n      <td>0</td>\n      <td>0</td>\n      <td>0</td>\n      <td>0</td>\n      <td>0</td>\n      <td>0</td>\n      <td>0</td>\n      <td>0</td>\n    </tr>\n    <tr>\n      <th>4</th>\n      <td>720000.0</td>\n      <td>5022</td>\n      <td>93.0</td>\n      <td>2.5</td>\n      <td>0</td>\n      <td>0</td>\n      <td>0</td>\n      <td>0</td>\n      <td>0</td>\n      <td>0</td>\n      <td>...</td>\n      <td>0</td>\n      <td>0</td>\n      <td>0</td>\n      <td>0</td>\n      <td>0</td>\n      <td>0</td>\n      <td>0</td>\n      <td>0</td>\n      <td>0</td>\n      <td>0</td>\n    </tr>\n    <tr>\n      <th>...</th>\n      <td>...</td>\n      <td>...</td>\n      <td>...</td>\n      <td>...</td>\n      <td>...</td>\n      <td>...</td>\n      <td>...</td>\n      <td>...</td>\n      <td>...</td>\n      <td>...</td>\n      <td>...</td>\n      <td>...</td>\n      <td>...</td>\n      <td>...</td>\n      <td>...</td>\n      <td>...</td>\n      <td>...</td>\n      <td>...</td>\n      <td>...</td>\n      <td>...</td>\n      <td>...</td>\n    </tr>\n    <tr>\n      <th>13063</th>\n      <td>895000.0</td>\n      <td>8405</td>\n      <td>130.0</td>\n      <td>4.5</td>\n      <td>0</td>\n      <td>0</td>\n      <td>0</td>\n      <td>0</td>\n      <td>0</td>\n      <td>0</td>\n      <td>...</td>\n      <td>0</td>\n      <td>0</td>\n      <td>0</td>\n      <td>0</td>\n      <td>0</td>\n      <td>0</td>\n      <td>0</td>\n      <td>0</td>\n      <td>0</td>\n      <td>0</td>\n    </tr>\n    <tr>\n      <th>13064</th>\n      <td>1090000.0</td>\n      <td>8405</td>\n      <td>147.0</td>\n      <td>5.5</td>\n      <td>0</td>\n      <td>0</td>\n      <td>0</td>\n      <td>0</td>\n      <td>0</td>\n      <td>0</td>\n      <td>...</td>\n      <td>0</td>\n      <td>0</td>\n      <td>0</td>\n      <td>0</td>\n      <td>0</td>\n      <td>0</td>\n      <td>0</td>\n      <td>0</td>\n      <td>0</td>\n      <td>0</td>\n    </tr>\n    <tr>\n      <th>13065</th>\n      <td>2750000.0</td>\n      <td>8405</td>\n      <td>385.0</td>\n      <td>7.5</td>\n      <td>0</td>\n      <td>0</td>\n      <td>0</td>\n      <td>0</td>\n      <td>1</td>\n      <td>0</td>\n      <td>...</td>\n      <td>0</td>\n      <td>0</td>\n      <td>0</td>\n      <td>0</td>\n      <td>0</td>\n      <td>0</td>\n      <td>0</td>\n      <td>0</td>\n      <td>0</td>\n      <td>0</td>\n    </tr>\n    <tr>\n      <th>13066</th>\n      <td>1415000.0</td>\n      <td>8472</td>\n      <td>150.0</td>\n      <td>6.5</td>\n      <td>0</td>\n      <td>0</td>\n      <td>0</td>\n      <td>0</td>\n      <td>0</td>\n      <td>0</td>\n      <td>...</td>\n      <td>0</td>\n      <td>0</td>\n      <td>0</td>\n      <td>0</td>\n      <td>0</td>\n      <td>0</td>\n      <td>0</td>\n      <td>0</td>\n      <td>0</td>\n      <td>0</td>\n    </tr>\n    <tr>\n      <th>13067</th>\n      <td>1465000.0</td>\n      <td>8483</td>\n      <td>145.0</td>\n      <td>6.0</td>\n      <td>0</td>\n      <td>0</td>\n      <td>0</td>\n      <td>0</td>\n      <td>1</td>\n      <td>0</td>\n      <td>...</td>\n      <td>0</td>\n      <td>0</td>\n      <td>0</td>\n      <td>0</td>\n      <td>0</td>\n      <td>0</td>\n      <td>0</td>\n      <td>0</td>\n      <td>0</td>\n      <td>0</td>\n    </tr>\n  </tbody>\n</table>\n<p>13068 rows × 163 columns</p>\n</div>"
     },
     "metadata": {}
    }
   ]
  },
  {
   "cell_type": "code",
   "source": "data.isna().sum().sort_values(ascending = False)",
   "metadata": {
    "cell_id": "fcd49562de5448a79b6b7be0ad451d3f",
    "tags": [],
    "deepnote_to_be_reexecuted": false,
    "source_hash": "27835d78",
    "execution_start": 1666355027834,
    "execution_millis": 6,
    "deepnote_cell_type": "code",
    "deepnote_cell_height": 321,
    "deepnote_output_heights": [
     229
    ]
   },
   "outputs": [
    {
     "output_type": "execute_result",
     "execution_count": 5,
     "data": {
      "text/plain": "price                                1011\nliving_space                          692\nrooms                                 582\nPLZ_Group_5000                          0\nPLZ_Group_4200                          0\n                                     ... \ngde_politics_fdp                        0\ngde_social_help_quota                   0\ngde_area_nonproductive_percentage       0\ngde_foreigners_percentage               0\nPLZ_Group_9900                          0\nLength: 163, dtype: int64"
     },
     "metadata": {}
    }
   ],
   "execution_count": 5
  },
  {
   "cell_type": "code",
   "metadata": {
    "cell_id": "3452170aaf3a4c8ea5d5cdbefe0895c4",
    "tags": [],
    "deepnote_to_be_reexecuted": false,
    "source_hash": "7e7d9889",
    "execution_start": 1666355027883,
    "execution_millis": 2,
    "deepnote_cell_type": "code",
    "deepnote_cell_height": 130,
    "deepnote_output_heights": [
     20
    ]
   },
   "source": "data = data.dropna()\nlen(data)",
   "execution_count": 6,
   "outputs": [
    {
     "output_type": "execute_result",
     "execution_count": 6,
     "data": {
      "text/plain": "11263"
     },
     "metadata": {}
    }
   ]
  },
  {
   "cell_type": "code",
   "metadata": {
    "cell_id": "00008-956099e5-782e-4e8a-865b-e923f2147947",
    "deepnote_to_be_reexecuted": false,
    "source_hash": "cb6f131b",
    "execution_start": 1666355027884,
    "execution_millis": 0,
    "deepnote_cell_type": "code",
    "deepnote_cell_height": 148
   },
   "source": "y_cols = data.columns[data.columns.str.startswith(\"type_\")]\nX_cols = list(set(data._get_numeric_data().columns) - set(y_cols))\n\nX = data[X_cols]\ny = data[y_cols]",
   "execution_count": 7,
   "outputs": []
  },
  {
   "cell_type": "code",
   "metadata": {
    "cell_id": "00011-323c4c4d-d773-497f-9854-c40bb318c7c9",
    "deepnote_to_be_reexecuted": false,
    "source_hash": "9010a866",
    "execution_start": 1666355027884,
    "execution_millis": 43,
    "deepnote_cell_type": "code",
    "deepnote_cell_height": 94
   },
   "source": "X = normalize(X, axis=-1, order=2)\nX_train, X_test, y_train, y_test = train_test_split(X, y, test_size=0.2)",
   "execution_count": 8,
   "outputs": []
  },
  {
   "cell_type": "code",
   "source": "n_epochs = 500\nbatchsize = 256\n\nn_inputs = X_train.shape[1]\nn_outputs = y_train.shape[1]\n\nn_hiddenlayers = 8\nn_nodes_per_layer = 128\n\nmodel = Sequential()\n\nmodel.add(\n        Dense(n_nodes_per_layer, activation='relu', input_shape=(n_inputs,))\n    )\n\nfor i in range(n_hiddenlayers):\n    model.add(\n        Dense(n_nodes_per_layer, activation='relu')\n    )\n\nmodel.add(\n        Dense(n_outputs, activation='softmax')\n)\n\nmodel.compile(\n        optimizer='adam', \n        loss='binary_crossentropy', \n        metrics=['accuracy', 'AUC']\n)\n\nearly_stop = EarlyStopping(\n        monitor='val_loss', \n        mode='min', \n        verbose=1, \n        patience=50\n)\n\nhistory = model.fit(\n        X_train, \n        y_train, \n        epochs=n_epochs, \n        batch_size=batchsize, \n        validation_data=(X_test, y_test),\n        callbacks=[early_stop],\n        use_multiprocessing=True\n)",
   "metadata": {
    "cell_id": "c5d8d11166354339863f731c25349546",
    "tags": [],
    "deepnote_to_be_reexecuted": false,
    "source_hash": "90c9c827",
    "execution_start": 1666355027927,
    "execution_millis": 89708,
    "deepnote_cell_type": "code",
    "deepnote_cell_height": 1506
   },
   "execution_count": 9,
   "outputs": [
    {
     "name": "stdout",
     "text": "Epoch 1/500\n2022-10-21 12:23:47.905798: E tensorflow/stream_executor/cuda/cuda_driver.cc:271] failed call to cuInit: UNKNOWN ERROR (34)\n2022-10-21 12:23:47.905835: I tensorflow/stream_executor/cuda/cuda_diagnostics.cc:156] kernel driver does not appear to be running on this host (p-985da17b-3a43-4cd2-aed4-b3aeabe863c4): /proc/driver/nvidia/version does not exist\n2022-10-21 12:23:47.906037: I tensorflow/core/platform/cpu_feature_guard.cc:193] This TensorFlow binary is optimized with oneAPI Deep Neural Network Library (oneDNN) to use the following CPU instructions in performance-critical operations:  AVX2 AVX512F AVX512_VNNI FMA\nTo enable them in other operations, rebuild TensorFlow with the appropriate compiler flags.\n36/36 [==============================] - 1s 17ms/step - loss: 0.3988 - accuracy: 0.1604 - auc: 0.7124 - val_loss: 0.1301 - val_accuracy: 0.4643 - val_auc: 0.8954\nEpoch 2/500\n36/36 [==============================] - 0s 11ms/step - loss: 0.1247 - accuracy: 0.4597 - auc: 0.9067 - val_loss: 0.1208 - val_accuracy: 0.4643 - val_auc: 0.9147\nEpoch 3/500\n36/36 [==============================] - 0s 11ms/step - loss: 0.1208 - accuracy: 0.4597 - auc: 0.9116 - val_loss: 0.1198 - val_accuracy: 0.4643 - val_auc: 0.9143\nEpoch 4/500\n36/36 [==============================] - 0s 11ms/step - loss: 0.1206 - accuracy: 0.4597 - auc: 0.9116 - val_loss: 0.1198 - val_accuracy: 0.4643 - val_auc: 0.9138\nEpoch 5/500\n36/36 [==============================] - 0s 10ms/step - loss: 0.1205 - accuracy: 0.4597 - auc: 0.9116 - val_loss: 0.1199 - val_accuracy: 0.4643 - val_auc: 0.9149\nEpoch 6/500\n36/36 [==============================] - 0s 10ms/step - loss: 0.1206 - accuracy: 0.4597 - auc: 0.9116 - val_loss: 0.1201 - val_accuracy: 0.4643 - val_auc: 0.9133\nEpoch 7/500\n36/36 [==============================] - 0s 11ms/step - loss: 0.1204 - accuracy: 0.4597 - auc: 0.9127 - val_loss: 0.1196 - val_accuracy: 0.4643 - val_auc: 0.9150\nEpoch 8/500\n36/36 [==============================] - 0s 10ms/step - loss: 0.1204 - accuracy: 0.4597 - auc: 0.9119 - val_loss: 0.1197 - val_accuracy: 0.4643 - val_auc: 0.9148\nEpoch 9/500\n36/36 [==============================] - 0s 11ms/step - loss: 0.1204 - accuracy: 0.4597 - auc: 0.9134 - val_loss: 0.1199 - val_accuracy: 0.4643 - val_auc: 0.9139\nEpoch 10/500\n36/36 [==============================] - 0s 11ms/step - loss: 0.1205 - accuracy: 0.4597 - auc: 0.9119 - val_loss: 0.1199 - val_accuracy: 0.4643 - val_auc: 0.9166\nEpoch 11/500\n36/36 [==============================] - 0s 9ms/step - loss: 0.1205 - accuracy: 0.4597 - auc: 0.9119 - val_loss: 0.1199 - val_accuracy: 0.4643 - val_auc: 0.9160\nEpoch 12/500\n36/36 [==============================] - 0s 10ms/step - loss: 0.1207 - accuracy: 0.4597 - auc: 0.9120 - val_loss: 0.1197 - val_accuracy: 0.4643 - val_auc: 0.9156\nEpoch 13/500\n36/36 [==============================] - 0s 11ms/step - loss: 0.1204 - accuracy: 0.4597 - auc: 0.9126 - val_loss: 0.1197 - val_accuracy: 0.4643 - val_auc: 0.9157\nEpoch 14/500\n36/36 [==============================] - 0s 11ms/step - loss: 0.1204 - accuracy: 0.4597 - auc: 0.9130 - val_loss: 0.1197 - val_accuracy: 0.4643 - val_auc: 0.9144\nEpoch 15/500\n36/36 [==============================] - 0s 11ms/step - loss: 0.1204 - accuracy: 0.4597 - auc: 0.9122 - val_loss: 0.1196 - val_accuracy: 0.4643 - val_auc: 0.9167\nEpoch 16/500\n36/36 [==============================] - 0s 10ms/step - loss: 0.1205 - accuracy: 0.4597 - auc: 0.9122 - val_loss: 0.1195 - val_accuracy: 0.4643 - val_auc: 0.9176\nEpoch 17/500\n36/36 [==============================] - 0s 11ms/step - loss: 0.1203 - accuracy: 0.4597 - auc: 0.9133 - val_loss: 0.1196 - val_accuracy: 0.4643 - val_auc: 0.9164\nEpoch 18/500\n36/36 [==============================] - 0s 12ms/step - loss: 0.1199 - accuracy: 0.4597 - auc: 0.9134 - val_loss: 0.1189 - val_accuracy: 0.4643 - val_auc: 0.9159\nEpoch 19/500\n36/36 [==============================] - 0s 10ms/step - loss: 0.1193 - accuracy: 0.4597 - auc: 0.9140 - val_loss: 0.1184 - val_accuracy: 0.4643 - val_auc: 0.9167\nEpoch 20/500\n36/36 [==============================] - 0s 11ms/step - loss: 0.1188 - accuracy: 0.4632 - auc: 0.9143 - val_loss: 0.1185 - val_accuracy: 0.4958 - val_auc: 0.9182\nEpoch 21/500\n36/36 [==============================] - 0s 9ms/step - loss: 0.1187 - accuracy: 0.4705 - auc: 0.9148 - val_loss: 0.1196 - val_accuracy: 0.4643 - val_auc: 0.9139\nEpoch 22/500\n36/36 [==============================] - 0s 11ms/step - loss: 0.1182 - accuracy: 0.4731 - auc: 0.9151 - val_loss: 0.1190 - val_accuracy: 0.4465 - val_auc: 0.9156\nEpoch 23/500\n36/36 [==============================] - 0s 11ms/step - loss: 0.1174 - accuracy: 0.4725 - auc: 0.9176 - val_loss: 0.1166 - val_accuracy: 0.4936 - val_auc: 0.9183\nEpoch 24/500\n36/36 [==============================] - 0s 11ms/step - loss: 0.1167 - accuracy: 0.4912 - auc: 0.9181 - val_loss: 0.1189 - val_accuracy: 0.4643 - val_auc: 0.9166\nEpoch 25/500\n36/36 [==============================] - 0s 9ms/step - loss: 0.1173 - accuracy: 0.4806 - auc: 0.9174 - val_loss: 0.1169 - val_accuracy: 0.4767 - val_auc: 0.9190\nEpoch 26/500\n36/36 [==============================] - 0s 10ms/step - loss: 0.1170 - accuracy: 0.4826 - auc: 0.9183 - val_loss: 0.1176 - val_accuracy: 0.4714 - val_auc: 0.9166\nEpoch 27/500\n36/36 [==============================] - 0s 11ms/step - loss: 0.1166 - accuracy: 0.4920 - auc: 0.9181 - val_loss: 0.1161 - val_accuracy: 0.4905 - val_auc: 0.9195\nEpoch 28/500\n36/36 [==============================] - 0s 11ms/step - loss: 0.1162 - accuracy: 0.4923 - auc: 0.9194 - val_loss: 0.1158 - val_accuracy: 0.4900 - val_auc: 0.9197\nEpoch 29/500\n36/36 [==============================] - 0s 10ms/step - loss: 0.1164 - accuracy: 0.4896 - auc: 0.9190 - val_loss: 0.1168 - val_accuracy: 0.4838 - val_auc: 0.9166\nEpoch 30/500\n36/36 [==============================] - 0s 10ms/step - loss: 0.1167 - accuracy: 0.4842 - auc: 0.9178 - val_loss: 0.1156 - val_accuracy: 0.4962 - val_auc: 0.9205\nEpoch 31/500\n36/36 [==============================] - 0s 10ms/step - loss: 0.1160 - accuracy: 0.4912 - auc: 0.9201 - val_loss: 0.1189 - val_accuracy: 0.4638 - val_auc: 0.9167\nEpoch 32/500\n36/36 [==============================] - 0s 11ms/step - loss: 0.1170 - accuracy: 0.4853 - auc: 0.9180 - val_loss: 0.1157 - val_accuracy: 0.4971 - val_auc: 0.9199\nEpoch 33/500\n36/36 [==============================] - 0s 12ms/step - loss: 0.1159 - accuracy: 0.4958 - auc: 0.9194 - val_loss: 0.1156 - val_accuracy: 0.4905 - val_auc: 0.9190\nEpoch 34/500\n36/36 [==============================] - 0s 10ms/step - loss: 0.1157 - accuracy: 0.4930 - auc: 0.9198 - val_loss: 0.1161 - val_accuracy: 0.4905 - val_auc: 0.9170\nEpoch 35/500\n36/36 [==============================] - 0s 10ms/step - loss: 0.1156 - accuracy: 0.4966 - auc: 0.9202 - val_loss: 0.1164 - val_accuracy: 0.4936 - val_auc: 0.9205\nEpoch 36/500\n36/36 [==============================] - 0s 10ms/step - loss: 0.1158 - accuracy: 0.4915 - auc: 0.9204 - val_loss: 0.1161 - val_accuracy: 0.4900 - val_auc: 0.9180\nEpoch 37/500\n36/36 [==============================] - 0s 11ms/step - loss: 0.1155 - accuracy: 0.4956 - auc: 0.9201 - val_loss: 0.1162 - val_accuracy: 0.4936 - val_auc: 0.9208\nEpoch 38/500\n36/36 [==============================] - 0s 11ms/step - loss: 0.1154 - accuracy: 0.4981 - auc: 0.9205 - val_loss: 0.1173 - val_accuracy: 0.4780 - val_auc: 0.9173\nEpoch 39/500\n36/36 [==============================] - 0s 9ms/step - loss: 0.1158 - accuracy: 0.4892 - auc: 0.9201 - val_loss: 0.1155 - val_accuracy: 0.4922 - val_auc: 0.9190\nEpoch 40/500\n36/36 [==============================] - 0s 10ms/step - loss: 0.1155 - accuracy: 0.4969 - auc: 0.9202 - val_loss: 0.1170 - val_accuracy: 0.4931 - val_auc: 0.9177\nEpoch 41/500\n36/36 [==============================] - 0s 12ms/step - loss: 0.1156 - accuracy: 0.4903 - auc: 0.9205 - val_loss: 0.1162 - val_accuracy: 0.4945 - val_auc: 0.9194\nEpoch 42/500\n36/36 [==============================] - 0s 10ms/step - loss: 0.1152 - accuracy: 0.4940 - auc: 0.9210 - val_loss: 0.1162 - val_accuracy: 0.4856 - val_auc: 0.9170\nEpoch 43/500\n36/36 [==============================] - 0s 11ms/step - loss: 0.1158 - accuracy: 0.4909 - auc: 0.9195 - val_loss: 0.1155 - val_accuracy: 0.4958 - val_auc: 0.9189\nEpoch 44/500\n36/36 [==============================] - 0s 10ms/step - loss: 0.1151 - accuracy: 0.4941 - auc: 0.9207 - val_loss: 0.1155 - val_accuracy: 0.4949 - val_auc: 0.9215\nEpoch 45/500\n36/36 [==============================] - 0s 11ms/step - loss: 0.1156 - accuracy: 0.4976 - auc: 0.9204 - val_loss: 0.1160 - val_accuracy: 0.4922 - val_auc: 0.9198\nEpoch 46/500\n36/36 [==============================] - 0s 11ms/step - loss: 0.1153 - accuracy: 0.4910 - auc: 0.9205 - val_loss: 0.1171 - val_accuracy: 0.4856 - val_auc: 0.9207\nEpoch 47/500\n36/36 [==============================] - 0s 11ms/step - loss: 0.1157 - accuracy: 0.4932 - auc: 0.9202 - val_loss: 0.1152 - val_accuracy: 0.4953 - val_auc: 0.9204\nEpoch 48/500\n36/36 [==============================] - 0s 11ms/step - loss: 0.1151 - accuracy: 0.4983 - auc: 0.9205 - val_loss: 0.1151 - val_accuracy: 0.4958 - val_auc: 0.9196\nEpoch 49/500\n36/36 [==============================] - 0s 10ms/step - loss: 0.1151 - accuracy: 0.4988 - auc: 0.9206 - val_loss: 0.1158 - val_accuracy: 0.4949 - val_auc: 0.9209\nEpoch 50/500\n36/36 [==============================] - 0s 10ms/step - loss: 0.1151 - accuracy: 0.4984 - auc: 0.9204 - val_loss: 0.1152 - val_accuracy: 0.4940 - val_auc: 0.9206\nEpoch 51/500\n36/36 [==============================] - 0s 11ms/step - loss: 0.1149 - accuracy: 0.4972 - auc: 0.9216 - val_loss: 0.1153 - val_accuracy: 0.4976 - val_auc: 0.9182\nEpoch 52/500\n36/36 [==============================] - 0s 11ms/step - loss: 0.1148 - accuracy: 0.4974 - auc: 0.9209 - val_loss: 0.1150 - val_accuracy: 0.4980 - val_auc: 0.9207\nEpoch 53/500\n36/36 [==============================] - 0s 11ms/step - loss: 0.1147 - accuracy: 0.4969 - auc: 0.9215 - val_loss: 0.1147 - val_accuracy: 0.4993 - val_auc: 0.9222\nEpoch 54/500\n36/36 [==============================] - 0s 11ms/step - loss: 0.1155 - accuracy: 0.4928 - auc: 0.9201 - val_loss: 0.1162 - val_accuracy: 0.4958 - val_auc: 0.9174\nEpoch 55/500\n36/36 [==============================] - 0s 10ms/step - loss: 0.1153 - accuracy: 0.4967 - auc: 0.9201 - val_loss: 0.1158 - val_accuracy: 0.4962 - val_auc: 0.9224\nEpoch 56/500\n36/36 [==============================] - 0s 10ms/step - loss: 0.1147 - accuracy: 0.4987 - auc: 0.9216 - val_loss: 0.1152 - val_accuracy: 0.5016 - val_auc: 0.9202\nEpoch 57/500\n36/36 [==============================] - 0s 11ms/step - loss: 0.1145 - accuracy: 0.4997 - auc: 0.9215 - val_loss: 0.1159 - val_accuracy: 0.4931 - val_auc: 0.9198\nEpoch 58/500\n36/36 [==============================] - 0s 11ms/step - loss: 0.1147 - accuracy: 0.4994 - auc: 0.9212 - val_loss: 0.1148 - val_accuracy: 0.5002 - val_auc: 0.9221\nEpoch 59/500\n36/36 [==============================] - 0s 11ms/step - loss: 0.1144 - accuracy: 0.5022 - auc: 0.9212 - val_loss: 0.1182 - val_accuracy: 0.4674 - val_auc: 0.9187\nEpoch 60/500\n36/36 [==============================] - 0s 12ms/step - loss: 0.1153 - accuracy: 0.4963 - auc: 0.9193 - val_loss: 0.1179 - val_accuracy: 0.4816 - val_auc: 0.9208\nEpoch 61/500\n36/36 [==============================] - 0s 10ms/step - loss: 0.1146 - accuracy: 0.5032 - auc: 0.9212 - val_loss: 0.1164 - val_accuracy: 0.4971 - val_auc: 0.9194\nEpoch 62/500\n36/36 [==============================] - 0s 11ms/step - loss: 0.1138 - accuracy: 0.5074 - auc: 0.9220 - val_loss: 0.1145 - val_accuracy: 0.5064 - val_auc: 0.9206\nEpoch 63/500\n36/36 [==============================] - 0s 9ms/step - loss: 0.1134 - accuracy: 0.5112 - auc: 0.9229 - val_loss: 0.1149 - val_accuracy: 0.5033 - val_auc: 0.9211\nEpoch 64/500\n36/36 [==============================] - 0s 10ms/step - loss: 0.1135 - accuracy: 0.5094 - auc: 0.9223 - val_loss: 0.1139 - val_accuracy: 0.5051 - val_auc: 0.9233\nEpoch 65/500\n36/36 [==============================] - 0s 11ms/step - loss: 0.1142 - accuracy: 0.5007 - auc: 0.9211 - val_loss: 0.1142 - val_accuracy: 0.5029 - val_auc: 0.9226\nEpoch 66/500\n36/36 [==============================] - 0s 11ms/step - loss: 0.1131 - accuracy: 0.5080 - auc: 0.9229 - val_loss: 0.1139 - val_accuracy: 0.5051 - val_auc: 0.9232\nEpoch 67/500\n36/36 [==============================] - 0s 11ms/step - loss: 0.1137 - accuracy: 0.5041 - auc: 0.9228 - val_loss: 0.1139 - val_accuracy: 0.5091 - val_auc: 0.9232\nEpoch 68/500\n36/36 [==============================] - 0s 10ms/step - loss: 0.1125 - accuracy: 0.5098 - auc: 0.9243 - val_loss: 0.1172 - val_accuracy: 0.4700 - val_auc: 0.9202\nEpoch 69/500\n36/36 [==============================] - 0s 10ms/step - loss: 0.1133 - accuracy: 0.5059 - auc: 0.9228 - val_loss: 0.1147 - val_accuracy: 0.5078 - val_auc: 0.9180\nEpoch 70/500\n36/36 [==============================] - 0s 10ms/step - loss: 0.1122 - accuracy: 0.5131 - auc: 0.9244 - val_loss: 0.1140 - val_accuracy: 0.5042 - val_auc: 0.9227\nEpoch 71/500\n36/36 [==============================] - 0s 11ms/step - loss: 0.1123 - accuracy: 0.5084 - auc: 0.9240 - val_loss: 0.1134 - val_accuracy: 0.5055 - val_auc: 0.9247\nEpoch 72/500\n36/36 [==============================] - 0s 11ms/step - loss: 0.1120 - accuracy: 0.5113 - auc: 0.9244 - val_loss: 0.1134 - val_accuracy: 0.5073 - val_auc: 0.9238\nEpoch 73/500\n36/36 [==============================] - 0s 11ms/step - loss: 0.1122 - accuracy: 0.5111 - auc: 0.9248 - val_loss: 0.1135 - val_accuracy: 0.5042 - val_auc: 0.9222\nEpoch 74/500\n36/36 [==============================] - 0s 9ms/step - loss: 0.1122 - accuracy: 0.5070 - auc: 0.9244 - val_loss: 0.1130 - val_accuracy: 0.5113 - val_auc: 0.9240\nEpoch 75/500\n36/36 [==============================] - 0s 11ms/step - loss: 0.1124 - accuracy: 0.5094 - auc: 0.9242 - val_loss: 0.1155 - val_accuracy: 0.4989 - val_auc: 0.9185\nEpoch 76/500\n36/36 [==============================] - 0s 10ms/step - loss: 0.1126 - accuracy: 0.5026 - auc: 0.9242 - val_loss: 0.1135 - val_accuracy: 0.5104 - val_auc: 0.9227\nEpoch 77/500\n36/36 [==============================] - 0s 11ms/step - loss: 0.1113 - accuracy: 0.5150 - auc: 0.9259 - val_loss: 0.1125 - val_accuracy: 0.5073 - val_auc: 0.9253\nEpoch 78/500\n36/36 [==============================] - 0s 11ms/step - loss: 0.1110 - accuracy: 0.5131 - auc: 0.9264 - val_loss: 0.1131 - val_accuracy: 0.5051 - val_auc: 0.9236\nEpoch 79/500\n36/36 [==============================] - 0s 10ms/step - loss: 0.1117 - accuracy: 0.5137 - auc: 0.9243 - val_loss: 0.1136 - val_accuracy: 0.5011 - val_auc: 0.9256\nEpoch 80/500\n36/36 [==============================] - 0s 11ms/step - loss: 0.1116 - accuracy: 0.5129 - auc: 0.9257 - val_loss: 0.1175 - val_accuracy: 0.4629 - val_auc: 0.9185\nEpoch 81/500\n36/36 [==============================] - 0s 12ms/step - loss: 0.1121 - accuracy: 0.5100 - auc: 0.9244 - val_loss: 0.1133 - val_accuracy: 0.5042 - val_auc: 0.9228\nEpoch 82/500\n36/36 [==============================] - 0s 10ms/step - loss: 0.1113 - accuracy: 0.5128 - auc: 0.9245 - val_loss: 0.1128 - val_accuracy: 0.5087 - val_auc: 0.9255\nEpoch 83/500\n36/36 [==============================] - 0s 10ms/step - loss: 0.1119 - accuracy: 0.5114 - auc: 0.9247 - val_loss: 0.1128 - val_accuracy: 0.5135 - val_auc: 0.9254\nEpoch 84/500\n36/36 [==============================] - 0s 10ms/step - loss: 0.1111 - accuracy: 0.5143 - auc: 0.9261 - val_loss: 0.1122 - val_accuracy: 0.5091 - val_auc: 0.9260\nEpoch 85/500\n36/36 [==============================] - 0s 11ms/step - loss: 0.1119 - accuracy: 0.5124 - auc: 0.9248 - val_loss: 0.1141 - val_accuracy: 0.5016 - val_auc: 0.9191\nEpoch 86/500\n36/36 [==============================] - 0s 11ms/step - loss: 0.1121 - accuracy: 0.5113 - auc: 0.9237 - val_loss: 0.1129 - val_accuracy: 0.5060 - val_auc: 0.9258\nEpoch 87/500\n36/36 [==============================] - 0s 9ms/step - loss: 0.1109 - accuracy: 0.5169 - auc: 0.9263 - val_loss: 0.1148 - val_accuracy: 0.5042 - val_auc: 0.9173\nEpoch 88/500\n36/36 [==============================] - 0s 10ms/step - loss: 0.1110 - accuracy: 0.5156 - auc: 0.9260 - val_loss: 0.1143 - val_accuracy: 0.4993 - val_auc: 0.9208\nEpoch 89/500\n36/36 [==============================] - 0s 12ms/step - loss: 0.1126 - accuracy: 0.5067 - auc: 0.9230 - val_loss: 0.1121 - val_accuracy: 0.5162 - val_auc: 0.9265\nEpoch 90/500\n36/36 [==============================] - 0s 10ms/step - loss: 0.1113 - accuracy: 0.5117 - auc: 0.9262 - val_loss: 0.1123 - val_accuracy: 0.5171 - val_auc: 0.9262\nEpoch 91/500\n36/36 [==============================] - 0s 11ms/step - loss: 0.1105 - accuracy: 0.5220 - auc: 0.9268 - val_loss: 0.1120 - val_accuracy: 0.5131 - val_auc: 0.9277\nEpoch 92/500\n36/36 [==============================] - 0s 9ms/step - loss: 0.1106 - accuracy: 0.5188 - auc: 0.9268 - val_loss: 0.1150 - val_accuracy: 0.5020 - val_auc: 0.9189\nEpoch 93/500\n36/36 [==============================] - 0s 11ms/step - loss: 0.1114 - accuracy: 0.5161 - auc: 0.9251 - val_loss: 0.1117 - val_accuracy: 0.5184 - val_auc: 0.9260\nEpoch 94/500\n36/36 [==============================] - 0s 11ms/step - loss: 0.1102 - accuracy: 0.5228 - auc: 0.9264 - val_loss: 0.1137 - val_accuracy: 0.5055 - val_auc: 0.9204\nEpoch 95/500\n36/36 [==============================] - 0s 11ms/step - loss: 0.1119 - accuracy: 0.5085 - auc: 0.9246 - val_loss: 0.1119 - val_accuracy: 0.5189 - val_auc: 0.9252\nEpoch 96/500\n36/36 [==============================] - 0s 9ms/step - loss: 0.1103 - accuracy: 0.5253 - auc: 0.9270 - val_loss: 0.1119 - val_accuracy: 0.5237 - val_auc: 0.9251\nEpoch 97/500\n36/36 [==============================] - 0s 10ms/step - loss: 0.1101 - accuracy: 0.5267 - auc: 0.9263 - val_loss: 0.1113 - val_accuracy: 0.5166 - val_auc: 0.9271\nEpoch 98/500\n36/36 [==============================] - 0s 11ms/step - loss: 0.1100 - accuracy: 0.5244 - auc: 0.9268 - val_loss: 0.1127 - val_accuracy: 0.5171 - val_auc: 0.9238\nEpoch 99/500\n36/36 [==============================] - 0s 10ms/step - loss: 0.1105 - accuracy: 0.5221 - auc: 0.9264 - val_loss: 0.1120 - val_accuracy: 0.5149 - val_auc: 0.9264\nEpoch 100/500\n36/36 [==============================] - 0s 9ms/step - loss: 0.1102 - accuracy: 0.5238 - auc: 0.9271 - val_loss: 0.1127 - val_accuracy: 0.5069 - val_auc: 0.9248\nEpoch 101/500\n36/36 [==============================] - 0s 10ms/step - loss: 0.1099 - accuracy: 0.5256 - auc: 0.9270 - val_loss: 0.1115 - val_accuracy: 0.5149 - val_auc: 0.9260\nEpoch 102/500\n36/36 [==============================] - 0s 11ms/step - loss: 0.1095 - accuracy: 0.5291 - auc: 0.9270 - val_loss: 0.1113 - val_accuracy: 0.5246 - val_auc: 0.9241\nEpoch 103/500\n36/36 [==============================] - 0s 11ms/step - loss: 0.1092 - accuracy: 0.5332 - auc: 0.9275 - val_loss: 0.1114 - val_accuracy: 0.5202 - val_auc: 0.9277\nEpoch 104/500\n36/36 [==============================] - 0s 11ms/step - loss: 0.1090 - accuracy: 0.5323 - auc: 0.9279 - val_loss: 0.1115 - val_accuracy: 0.5149 - val_auc: 0.9251\nEpoch 105/500\n36/36 [==============================] - 0s 10ms/step - loss: 0.1096 - accuracy: 0.5306 - auc: 0.9271 - val_loss: 0.1108 - val_accuracy: 0.5295 - val_auc: 0.9275\nEpoch 106/500\n36/36 [==============================] - 0s 10ms/step - loss: 0.1092 - accuracy: 0.5299 - auc: 0.9277 - val_loss: 0.1111 - val_accuracy: 0.5251 - val_auc: 0.9267\nEpoch 107/500\n36/36 [==============================] - 0s 11ms/step - loss: 0.1101 - accuracy: 0.5251 - auc: 0.9263 - val_loss: 0.1129 - val_accuracy: 0.5082 - val_auc: 0.9224\nEpoch 108/500\n36/36 [==============================] - 0s 11ms/step - loss: 0.1104 - accuracy: 0.5228 - auc: 0.9259 - val_loss: 0.1113 - val_accuracy: 0.5277 - val_auc: 0.9235\nEpoch 109/500\n36/36 [==============================] - 0s 11ms/step - loss: 0.1088 - accuracy: 0.5337 - auc: 0.9275 - val_loss: 0.1127 - val_accuracy: 0.5113 - val_auc: 0.9232\nEpoch 110/500\n36/36 [==============================] - 0s 10ms/step - loss: 0.1094 - accuracy: 0.5319 - auc: 0.9273 - val_loss: 0.1110 - val_accuracy: 0.5282 - val_auc: 0.9249\nEpoch 111/500\n36/36 [==============================] - 0s 11ms/step - loss: 0.1089 - accuracy: 0.5310 - auc: 0.9274 - val_loss: 0.1109 - val_accuracy: 0.5273 - val_auc: 0.9269\nEpoch 112/500\n36/36 [==============================] - 0s 11ms/step - loss: 0.1091 - accuracy: 0.5321 - auc: 0.9278 - val_loss: 0.1150 - val_accuracy: 0.4913 - val_auc: 0.9219\nEpoch 113/500\n36/36 [==============================] - 0s 10ms/step - loss: 0.1116 - accuracy: 0.5163 - auc: 0.9243 - val_loss: 0.1120 - val_accuracy: 0.5308 - val_auc: 0.9255\nEpoch 114/500\n36/36 [==============================] - 0s 11ms/step - loss: 0.1095 - accuracy: 0.5305 - auc: 0.9273 - val_loss: 0.1134 - val_accuracy: 0.5016 - val_auc: 0.9255\nEpoch 115/500\n36/36 [==============================] - 0s 10ms/step - loss: 0.1094 - accuracy: 0.5295 - auc: 0.9273 - val_loss: 0.1108 - val_accuracy: 0.5264 - val_auc: 0.9259\nEpoch 116/500\n36/36 [==============================] - 0s 11ms/step - loss: 0.1094 - accuracy: 0.5297 - auc: 0.9272 - val_loss: 0.1129 - val_accuracy: 0.5100 - val_auc: 0.9256\nEpoch 117/500\n36/36 [==============================] - 0s 11ms/step - loss: 0.1099 - accuracy: 0.5279 - auc: 0.9260 - val_loss: 0.1141 - val_accuracy: 0.5060 - val_auc: 0.9211\nEpoch 118/500\n36/36 [==============================] - 0s 11ms/step - loss: 0.1100 - accuracy: 0.5261 - auc: 0.9272 - val_loss: 0.1106 - val_accuracy: 0.5317 - val_auc: 0.9259\nEpoch 119/500\n36/36 [==============================] - 0s 9ms/step - loss: 0.1086 - accuracy: 0.5362 - auc: 0.9274 - val_loss: 0.1114 - val_accuracy: 0.5162 - val_auc: 0.9279\nEpoch 120/500\n36/36 [==============================] - 0s 12ms/step - loss: 0.1087 - accuracy: 0.5393 - auc: 0.9287 - val_loss: 0.1109 - val_accuracy: 0.5282 - val_auc: 0.9251\nEpoch 121/500\n36/36 [==============================] - 0s 10ms/step - loss: 0.1079 - accuracy: 0.5435 - auc: 0.9283 - val_loss: 0.1309 - val_accuracy: 0.4288 - val_auc: 0.8942\nEpoch 122/500\n36/36 [==============================] - 0s 11ms/step - loss: 0.1127 - accuracy: 0.5175 - auc: 0.9231 - val_loss: 0.1120 - val_accuracy: 0.5313 - val_auc: 0.9237\nEpoch 123/500\n36/36 [==============================] - 0s 10ms/step - loss: 0.1099 - accuracy: 0.5213 - auc: 0.9267 - val_loss: 0.1125 - val_accuracy: 0.5109 - val_auc: 0.9258\nEpoch 124/500\n36/36 [==============================] - 0s 10ms/step - loss: 0.1094 - accuracy: 0.5279 - auc: 0.9277 - val_loss: 0.1109 - val_accuracy: 0.5242 - val_auc: 0.9280\nEpoch 125/500\n36/36 [==============================] - 0s 11ms/step - loss: 0.1083 - accuracy: 0.5417 - auc: 0.9288 - val_loss: 0.1102 - val_accuracy: 0.5344 - val_auc: 0.9262\nEpoch 126/500\n36/36 [==============================] - 0s 11ms/step - loss: 0.1090 - accuracy: 0.5366 - auc: 0.9273 - val_loss: 0.1115 - val_accuracy: 0.5322 - val_auc: 0.9263\nEpoch 127/500\n36/36 [==============================] - 0s 11ms/step - loss: 0.1087 - accuracy: 0.5390 - auc: 0.9279 - val_loss: 0.1124 - val_accuracy: 0.5180 - val_auc: 0.9242\nEpoch 128/500\n36/36 [==============================] - 0s 10ms/step - loss: 0.1083 - accuracy: 0.5378 - auc: 0.9285 - val_loss: 0.1128 - val_accuracy: 0.5140 - val_auc: 0.9253\nEpoch 129/500\n36/36 [==============================] - 0s 10ms/step - loss: 0.1082 - accuracy: 0.5415 - auc: 0.9284 - val_loss: 0.1118 - val_accuracy: 0.5229 - val_auc: 0.9266\nEpoch 130/500\n36/36 [==============================] - 0s 11ms/step - loss: 0.1076 - accuracy: 0.5438 - auc: 0.9291 - val_loss: 0.1134 - val_accuracy: 0.5109 - val_auc: 0.9226\nEpoch 131/500\n36/36 [==============================] - 0s 11ms/step - loss: 0.1086 - accuracy: 0.5331 - auc: 0.9278 - val_loss: 0.1098 - val_accuracy: 0.5384 - val_auc: 0.9290\nEpoch 132/500\n36/36 [==============================] - 0s 11ms/step - loss: 0.1070 - accuracy: 0.5485 - auc: 0.9294 - val_loss: 0.1104 - val_accuracy: 0.5366 - val_auc: 0.9265\nEpoch 133/500\n36/36 [==============================] - 0s 10ms/step - loss: 0.1073 - accuracy: 0.5489 - auc: 0.9296 - val_loss: 0.1166 - val_accuracy: 0.4936 - val_auc: 0.9162\nEpoch 134/500\n36/36 [==============================] - 0s 10ms/step - loss: 0.1079 - accuracy: 0.5444 - auc: 0.9287 - val_loss: 0.1097 - val_accuracy: 0.5379 - val_auc: 0.9270\nEpoch 135/500\n36/36 [==============================] - 0s 10ms/step - loss: 0.1075 - accuracy: 0.5451 - auc: 0.9285 - val_loss: 0.1091 - val_accuracy: 0.5433 - val_auc: 0.9290\nEpoch 136/500\n36/36 [==============================] - 0s 11ms/step - loss: 0.1081 - accuracy: 0.5401 - auc: 0.9292 - val_loss: 0.1094 - val_accuracy: 0.5388 - val_auc: 0.9286\nEpoch 137/500\n36/36 [==============================] - 0s 11ms/step - loss: 0.1073 - accuracy: 0.5471 - auc: 0.9299 - val_loss: 0.1112 - val_accuracy: 0.5229 - val_auc: 0.9251\nEpoch 138/500\n36/36 [==============================] - 1s 14ms/step - loss: 0.1080 - accuracy: 0.5436 - auc: 0.9285 - val_loss: 0.1122 - val_accuracy: 0.5184 - val_auc: 0.9250\nEpoch 139/500\n36/36 [==============================] - 0s 11ms/step - loss: 0.1078 - accuracy: 0.5392 - auc: 0.9295 - val_loss: 0.1102 - val_accuracy: 0.5348 - val_auc: 0.9255\nEpoch 140/500\n36/36 [==============================] - 0s 11ms/step - loss: 0.1068 - accuracy: 0.5488 - auc: 0.9308 - val_loss: 0.1097 - val_accuracy: 0.5371 - val_auc: 0.9268\nEpoch 141/500\n36/36 [==============================] - 0s 11ms/step - loss: 0.1065 - accuracy: 0.5505 - auc: 0.9290 - val_loss: 0.1134 - val_accuracy: 0.5135 - val_auc: 0.9224\nEpoch 142/500\n36/36 [==============================] - 0s 11ms/step - loss: 0.1067 - accuracy: 0.5502 - auc: 0.9305 - val_loss: 0.1117 - val_accuracy: 0.5264 - val_auc: 0.9239\nEpoch 143/500\n36/36 [==============================] - 0s 11ms/step - loss: 0.1080 - accuracy: 0.5394 - auc: 0.9292 - val_loss: 0.1117 - val_accuracy: 0.5260 - val_auc: 0.9243\nEpoch 144/500\n36/36 [==============================] - 0s 12ms/step - loss: 0.1095 - accuracy: 0.5277 - auc: 0.9271 - val_loss: 0.1095 - val_accuracy: 0.5379 - val_auc: 0.9304\nEpoch 145/500\n36/36 [==============================] - 0s 11ms/step - loss: 0.1083 - accuracy: 0.5390 - auc: 0.9289 - val_loss: 0.1093 - val_accuracy: 0.5451 - val_auc: 0.9285\nEpoch 146/500\n36/36 [==============================] - 0s 10ms/step - loss: 0.1067 - accuracy: 0.5523 - auc: 0.9297 - val_loss: 0.1097 - val_accuracy: 0.5379 - val_auc: 0.9286\nEpoch 147/500\n36/36 [==============================] - 0s 11ms/step - loss: 0.1078 - accuracy: 0.5396 - auc: 0.9296 - val_loss: 0.1094 - val_accuracy: 0.5459 - val_auc: 0.9291\nEpoch 148/500\n36/36 [==============================] - 0s 11ms/step - loss: 0.1079 - accuracy: 0.5445 - auc: 0.9295 - val_loss: 0.1098 - val_accuracy: 0.5371 - val_auc: 0.9281\nEpoch 149/500\n36/36 [==============================] - 0s 12ms/step - loss: 0.1076 - accuracy: 0.5407 - auc: 0.9287 - val_loss: 0.1120 - val_accuracy: 0.5095 - val_auc: 0.9262\nEpoch 150/500\n36/36 [==============================] - 0s 11ms/step - loss: 0.1076 - accuracy: 0.5438 - auc: 0.9294 - val_loss: 0.1098 - val_accuracy: 0.5442 - val_auc: 0.9244\nEpoch 151/500\n36/36 [==============================] - 0s 9ms/step - loss: 0.1061 - accuracy: 0.5578 - auc: 0.9292 - val_loss: 0.1145 - val_accuracy: 0.5042 - val_auc: 0.9206\nEpoch 152/500\n36/36 [==============================] - 0s 10ms/step - loss: 0.1067 - accuracy: 0.5508 - auc: 0.9306 - val_loss: 0.1082 - val_accuracy: 0.5553 - val_auc: 0.9285\nEpoch 153/500\n36/36 [==============================] - 0s 11ms/step - loss: 0.1075 - accuracy: 0.5456 - auc: 0.9286 - val_loss: 0.1105 - val_accuracy: 0.5211 - val_auc: 0.9268\nEpoch 154/500\n36/36 [==============================] - 0s 11ms/step - loss: 0.1072 - accuracy: 0.5472 - auc: 0.9302 - val_loss: 0.1085 - val_accuracy: 0.5566 - val_auc: 0.9304\nEpoch 155/500\n36/36 [==============================] - 0s 11ms/step - loss: 0.1066 - accuracy: 0.5521 - auc: 0.9291 - val_loss: 0.1089 - val_accuracy: 0.5517 - val_auc: 0.9299\nEpoch 156/500\n36/36 [==============================] - 0s 12ms/step - loss: 0.1058 - accuracy: 0.5569 - auc: 0.9308 - val_loss: 0.1101 - val_accuracy: 0.5331 - val_auc: 0.9242\nEpoch 157/500\n36/36 [==============================] - 0s 11ms/step - loss: 0.1068 - accuracy: 0.5475 - auc: 0.9294 - val_loss: 0.1081 - val_accuracy: 0.5548 - val_auc: 0.9292\nEpoch 158/500\n36/36 [==============================] - 0s 10ms/step - loss: 0.1068 - accuracy: 0.5481 - auc: 0.9298 - val_loss: 0.1085 - val_accuracy: 0.5473 - val_auc: 0.9288\nEpoch 159/500\n36/36 [==============================] - 0s 11ms/step - loss: 0.1064 - accuracy: 0.5504 - auc: 0.9294 - val_loss: 0.1182 - val_accuracy: 0.4931 - val_auc: 0.9173\nEpoch 160/500\n36/36 [==============================] - 0s 11ms/step - loss: 0.1072 - accuracy: 0.5483 - auc: 0.9297 - val_loss: 0.1088 - val_accuracy: 0.5495 - val_auc: 0.9271\nEpoch 161/500\n36/36 [==============================] - 0s 11ms/step - loss: 0.1053 - accuracy: 0.5605 - auc: 0.9307 - val_loss: 0.1223 - val_accuracy: 0.4692 - val_auc: 0.9097\nEpoch 162/500\n36/36 [==============================] - 0s 11ms/step - loss: 0.1063 - accuracy: 0.5529 - auc: 0.9302 - val_loss: 0.1111 - val_accuracy: 0.5326 - val_auc: 0.9253\nEpoch 163/500\n36/36 [==============================] - 0s 12ms/step - loss: 0.1055 - accuracy: 0.5588 - auc: 0.9304 - val_loss: 0.1085 - val_accuracy: 0.5557 - val_auc: 0.9271\nEpoch 164/500\n36/36 [==============================] - 0s 9ms/step - loss: 0.1058 - accuracy: 0.5553 - auc: 0.9304 - val_loss: 0.1078 - val_accuracy: 0.5539 - val_auc: 0.9304\nEpoch 165/500\n36/36 [==============================] - 0s 10ms/step - loss: 0.1062 - accuracy: 0.5505 - auc: 0.9307 - val_loss: 0.1103 - val_accuracy: 0.5224 - val_auc: 0.9241\nEpoch 166/500\n36/36 [==============================] - 0s 11ms/step - loss: 0.1062 - accuracy: 0.5522 - auc: 0.9297 - val_loss: 0.1081 - val_accuracy: 0.5535 - val_auc: 0.9276\nEpoch 167/500\n36/36 [==============================] - 0s 11ms/step - loss: 0.1056 - accuracy: 0.5553 - auc: 0.9316 - val_loss: 0.1136 - val_accuracy: 0.5051 - val_auc: 0.9208\nEpoch 168/500\n36/36 [==============================] - 0s 11ms/step - loss: 0.1066 - accuracy: 0.5476 - auc: 0.9289 - val_loss: 0.1083 - val_accuracy: 0.5553 - val_auc: 0.9305\nEpoch 169/500\n36/36 [==============================] - 0s 12ms/step - loss: 0.1051 - accuracy: 0.5638 - auc: 0.9306 - val_loss: 0.1074 - val_accuracy: 0.5628 - val_auc: 0.9268\nEpoch 170/500\n36/36 [==============================] - 0s 10ms/step - loss: 0.1049 - accuracy: 0.5646 - auc: 0.9320 - val_loss: 0.1104 - val_accuracy: 0.5397 - val_auc: 0.9208\nEpoch 171/500\n36/36 [==============================] - 0s 11ms/step - loss: 0.1052 - accuracy: 0.5647 - auc: 0.9307 - val_loss: 0.1073 - val_accuracy: 0.5597 - val_auc: 0.9292\nEpoch 172/500\n36/36 [==============================] - 0s 11ms/step - loss: 0.1044 - accuracy: 0.5675 - auc: 0.9316 - val_loss: 0.1071 - val_accuracy: 0.5690 - val_auc: 0.9287\nEpoch 173/500\n36/36 [==============================] - 0s 11ms/step - loss: 0.1072 - accuracy: 0.5431 - auc: 0.9295 - val_loss: 0.1076 - val_accuracy: 0.5628 - val_auc: 0.9312\nEpoch 174/500\n36/36 [==============================] - 0s 11ms/step - loss: 0.1044 - accuracy: 0.5671 - auc: 0.9315 - val_loss: 0.1083 - val_accuracy: 0.5499 - val_auc: 0.9263\nEpoch 175/500\n36/36 [==============================] - 0s 11ms/step - loss: 0.1042 - accuracy: 0.5653 - auc: 0.9318 - val_loss: 0.1167 - val_accuracy: 0.5020 - val_auc: 0.9139\nEpoch 176/500\n36/36 [==============================] - 0s 11ms/step - loss: 0.1049 - accuracy: 0.5608 - auc: 0.9311 - val_loss: 0.1102 - val_accuracy: 0.5379 - val_auc: 0.9221\nEpoch 177/500\n36/36 [==============================] - 0s 11ms/step - loss: 0.1056 - accuracy: 0.5541 - auc: 0.9300 - val_loss: 0.1077 - val_accuracy: 0.5570 - val_auc: 0.9271\nEpoch 178/500\n36/36 [==============================] - 0s 11ms/step - loss: 0.1047 - accuracy: 0.5646 - auc: 0.9311 - val_loss: 0.1119 - val_accuracy: 0.5313 - val_auc: 0.9188\nEpoch 179/500\n36/36 [==============================] - 0s 11ms/step - loss: 0.1069 - accuracy: 0.5428 - auc: 0.9295 - val_loss: 0.1081 - val_accuracy: 0.5588 - val_auc: 0.9260\nEpoch 180/500\n36/36 [==============================] - 0s 11ms/step - loss: 0.1045 - accuracy: 0.5649 - auc: 0.9310 - val_loss: 0.1069 - val_accuracy: 0.5677 - val_auc: 0.9296\nEpoch 181/500\n36/36 [==============================] - 0s 10ms/step - loss: 0.1058 - accuracy: 0.5513 - auc: 0.9311 - val_loss: 0.1082 - val_accuracy: 0.5553 - val_auc: 0.9269\nEpoch 182/500\n36/36 [==============================] - 0s 10ms/step - loss: 0.1039 - accuracy: 0.5705 - auc: 0.9316 - val_loss: 0.1079 - val_accuracy: 0.5566 - val_auc: 0.9285\nEpoch 183/500\n36/36 [==============================] - 0s 11ms/step - loss: 0.1038 - accuracy: 0.5685 - auc: 0.9324 - val_loss: 0.1073 - val_accuracy: 0.5615 - val_auc: 0.9302\nEpoch 184/500\n36/36 [==============================] - 0s 11ms/step - loss: 0.1044 - accuracy: 0.5629 - auc: 0.9321 - val_loss: 0.1088 - val_accuracy: 0.5486 - val_auc: 0.9268\nEpoch 185/500\n36/36 [==============================] - 0s 12ms/step - loss: 0.1047 - accuracy: 0.5569 - auc: 0.9316 - val_loss: 0.1081 - val_accuracy: 0.5539 - val_auc: 0.9301\nEpoch 186/500\n36/36 [==============================] - 0s 9ms/step - loss: 0.1046 - accuracy: 0.5642 - auc: 0.9325 - val_loss: 0.1072 - val_accuracy: 0.5637 - val_auc: 0.9284\nEpoch 187/500\n36/36 [==============================] - 0s 10ms/step - loss: 0.1047 - accuracy: 0.5608 - auc: 0.9310 - val_loss: 0.1080 - val_accuracy: 0.5579 - val_auc: 0.9318\nEpoch 188/500\n36/36 [==============================] - 0s 10ms/step - loss: 0.1038 - accuracy: 0.5695 - auc: 0.9329 - val_loss: 0.1071 - val_accuracy: 0.5650 - val_auc: 0.9318\nEpoch 189/500\n36/36 [==============================] - 0s 11ms/step - loss: 0.1034 - accuracy: 0.5709 - auc: 0.9329 - val_loss: 0.1072 - val_accuracy: 0.5659 - val_auc: 0.9304\nEpoch 190/500\n36/36 [==============================] - 0s 11ms/step - loss: 0.1052 - accuracy: 0.5543 - auc: 0.9319 - val_loss: 0.1083 - val_accuracy: 0.5486 - val_auc: 0.9269\nEpoch 191/500\n36/36 [==============================] - 0s 10ms/step - loss: 0.1039 - accuracy: 0.5678 - auc: 0.9324 - val_loss: 0.1080 - val_accuracy: 0.5637 - val_auc: 0.9300\nEpoch 192/500\n36/36 [==============================] - 0s 10ms/step - loss: 0.1045 - accuracy: 0.5563 - auc: 0.9317 - val_loss: 0.1096 - val_accuracy: 0.5442 - val_auc: 0.9247\nEpoch 193/500\n36/36 [==============================] - 0s 12ms/step - loss: 0.1040 - accuracy: 0.5639 - auc: 0.9326 - val_loss: 0.1077 - val_accuracy: 0.5628 - val_auc: 0.9258\nEpoch 194/500\n36/36 [==============================] - 0s 11ms/step - loss: 0.1055 - accuracy: 0.5570 - auc: 0.9303 - val_loss: 0.1169 - val_accuracy: 0.5016 - val_auc: 0.9184\nEpoch 195/500\n36/36 [==============================] - 0s 10ms/step - loss: 0.1057 - accuracy: 0.5557 - auc: 0.9318 - val_loss: 0.1071 - val_accuracy: 0.5672 - val_auc: 0.9285\nEpoch 196/500\n36/36 [==============================] - 0s 11ms/step - loss: 0.1037 - accuracy: 0.5659 - auc: 0.9315 - val_loss: 0.1069 - val_accuracy: 0.5601 - val_auc: 0.9307\nEpoch 197/500\n36/36 [==============================] - 0s 10ms/step - loss: 0.1044 - accuracy: 0.5597 - auc: 0.9324 - val_loss: 0.1141 - val_accuracy: 0.5118 - val_auc: 0.9214\nEpoch 198/500\n36/36 [==============================] - 0s 10ms/step - loss: 0.1049 - accuracy: 0.5589 - auc: 0.9314 - val_loss: 0.1077 - val_accuracy: 0.5717 - val_auc: 0.9283\nEpoch 199/500\n36/36 [==============================] - 0s 11ms/step - loss: 0.1042 - accuracy: 0.5615 - auc: 0.9324 - val_loss: 0.1087 - val_accuracy: 0.5593 - val_auc: 0.9260\nEpoch 200/500\n36/36 [==============================] - 0s 12ms/step - loss: 0.1032 - accuracy: 0.5709 - auc: 0.9327 - val_loss: 0.1072 - val_accuracy: 0.5748 - val_auc: 0.9296\nEpoch 201/500\n36/36 [==============================] - 0s 10ms/step - loss: 0.1035 - accuracy: 0.5713 - auc: 0.9330 - val_loss: 0.1080 - val_accuracy: 0.5717 - val_auc: 0.9291\nEpoch 202/500\n36/36 [==============================] - 0s 11ms/step - loss: 0.1029 - accuracy: 0.5715 - auc: 0.9322 - val_loss: 0.1099 - val_accuracy: 0.5459 - val_auc: 0.9254\nEpoch 203/500\n36/36 [==============================] - 0s 10ms/step - loss: 0.1033 - accuracy: 0.5700 - auc: 0.9329 - val_loss: 0.1079 - val_accuracy: 0.5632 - val_auc: 0.9290\nEpoch 204/500\n36/36 [==============================] - 0s 10ms/step - loss: 0.1034 - accuracy: 0.5700 - auc: 0.9336 - val_loss: 0.1144 - val_accuracy: 0.5229 - val_auc: 0.9163\nEpoch 205/500\n36/36 [==============================] - 0s 11ms/step - loss: 0.1056 - accuracy: 0.5503 - auc: 0.9306 - val_loss: 0.1104 - val_accuracy: 0.5375 - val_auc: 0.9279\nEpoch 206/500\n36/36 [==============================] - 0s 12ms/step - loss: 0.1042 - accuracy: 0.5577 - auc: 0.9324 - val_loss: 0.1095 - val_accuracy: 0.5442 - val_auc: 0.9286\nEpoch 207/500\n36/36 [==============================] - 0s 11ms/step - loss: 0.1034 - accuracy: 0.5684 - auc: 0.9334 - val_loss: 0.1113 - val_accuracy: 0.5402 - val_auc: 0.9216\nEpoch 208/500\n36/36 [==============================] - 0s 11ms/step - loss: 0.1038 - accuracy: 0.5654 - auc: 0.9323 - val_loss: 0.1081 - val_accuracy: 0.5699 - val_auc: 0.9306\nEpoch 209/500\n36/36 [==============================] - 0s 10ms/step - loss: 0.1037 - accuracy: 0.5622 - auc: 0.9329 - val_loss: 0.1081 - val_accuracy: 0.5646 - val_auc: 0.9322\nEpoch 210/500\n36/36 [==============================] - 0s 11ms/step - loss: 0.1035 - accuracy: 0.5671 - auc: 0.9334 - val_loss: 0.1092 - val_accuracy: 0.5482 - val_auc: 0.9285\nEpoch 211/500\n36/36 [==============================] - 0s 12ms/step - loss: 0.1031 - accuracy: 0.5679 - auc: 0.9336 - val_loss: 0.1072 - val_accuracy: 0.5739 - val_auc: 0.9287\nEpoch 212/500\n36/36 [==============================] - 0s 11ms/step - loss: 0.1020 - accuracy: 0.5750 - auc: 0.9337 - val_loss: 0.1080 - val_accuracy: 0.5708 - val_auc: 0.9269\nEpoch 213/500\n36/36 [==============================] - 0s 10ms/step - loss: 0.1033 - accuracy: 0.5649 - auc: 0.9327 - val_loss: 0.1074 - val_accuracy: 0.5721 - val_auc: 0.9313\nEpoch 214/500\n36/36 [==============================] - 0s 10ms/step - loss: 0.1044 - accuracy: 0.5554 - auc: 0.9328 - val_loss: 0.1078 - val_accuracy: 0.5708 - val_auc: 0.9321\nEpoch 215/500\n36/36 [==============================] - 0s 11ms/step - loss: 0.1021 - accuracy: 0.5769 - auc: 0.9341 - val_loss: 0.1124 - val_accuracy: 0.5322 - val_auc: 0.9192\nEpoch 216/500\n36/36 [==============================] - 0s 11ms/step - loss: 0.1047 - accuracy: 0.5593 - auc: 0.9317 - val_loss: 0.1075 - val_accuracy: 0.5748 - val_auc: 0.9309\nEpoch 217/500\n36/36 [==============================] - 0s 11ms/step - loss: 0.1027 - accuracy: 0.5748 - auc: 0.9329 - val_loss: 0.1075 - val_accuracy: 0.5726 - val_auc: 0.9303\nEpoch 218/500\n36/36 [==============================] - 0s 12ms/step - loss: 0.1028 - accuracy: 0.5685 - auc: 0.9345 - val_loss: 0.1075 - val_accuracy: 0.5752 - val_auc: 0.9309\nEpoch 219/500\n36/36 [==============================] - 0s 11ms/step - loss: 0.1035 - accuracy: 0.5630 - auc: 0.9341 - val_loss: 0.1075 - val_accuracy: 0.5677 - val_auc: 0.9299\nEpoch 220/500\n36/36 [==============================] - 0s 11ms/step - loss: 0.1028 - accuracy: 0.5715 - auc: 0.9335 - val_loss: 0.1078 - val_accuracy: 0.5730 - val_auc: 0.9298\nEpoch 221/500\n36/36 [==============================] - 0s 10ms/step - loss: 0.1027 - accuracy: 0.5699 - auc: 0.9345 - val_loss: 0.1076 - val_accuracy: 0.5695 - val_auc: 0.9298\nEpoch 222/500\n36/36 [==============================] - 0s 10ms/step - loss: 0.1036 - accuracy: 0.5629 - auc: 0.9335 - val_loss: 0.1078 - val_accuracy: 0.5704 - val_auc: 0.9302\nEpoch 223/500\n36/36 [==============================] - 0s 11ms/step - loss: 0.1026 - accuracy: 0.5730 - auc: 0.9334 - val_loss: 0.1076 - val_accuracy: 0.5770 - val_auc: 0.9307\nEpoch 224/500\n36/36 [==============================] - 0s 11ms/step - loss: 0.1028 - accuracy: 0.5643 - auc: 0.9342 - val_loss: 0.1114 - val_accuracy: 0.5357 - val_auc: 0.9265\nEpoch 225/500\n36/36 [==============================] - 0s 11ms/step - loss: 0.1038 - accuracy: 0.5619 - auc: 0.9326 - val_loss: 0.1081 - val_accuracy: 0.5699 - val_auc: 0.9312\nEpoch 226/500\n36/36 [==============================] - 0s 11ms/step - loss: 0.1021 - accuracy: 0.5727 - auc: 0.9350 - val_loss: 0.1085 - val_accuracy: 0.5775 - val_auc: 0.9279\nEpoch 227/500\n36/36 [==============================] - 0s 11ms/step - loss: 0.1024 - accuracy: 0.5724 - auc: 0.9336 - val_loss: 0.1083 - val_accuracy: 0.5743 - val_auc: 0.9306\nEpoch 228/500\n36/36 [==============================] - 0s 10ms/step - loss: 0.1036 - accuracy: 0.5620 - auc: 0.9336 - val_loss: 0.1099 - val_accuracy: 0.5539 - val_auc: 0.9295\nEpoch 229/500\n36/36 [==============================] - 0s 11ms/step - loss: 0.1020 - accuracy: 0.5739 - auc: 0.9341 - val_loss: 0.1095 - val_accuracy: 0.5646 - val_auc: 0.9303\nEpoch 230/500\n36/36 [==============================] - 0s 11ms/step - loss: 0.1029 - accuracy: 0.5697 - auc: 0.9327 - val_loss: 0.1120 - val_accuracy: 0.5308 - val_auc: 0.9271\nEpoch 230: early stopping\n",
     "output_type": "stream"
    }
   ]
  },
  {
   "cell_type": "code",
   "source": "for i, val in enumerate(model.predict(X_test)[5]):\n    print(f'{y.columns[i]}: {val:.2f}')",
   "metadata": {
    "cell_id": "551568440b374e0a9dfbe1ca5f4298f3",
    "tags": [],
    "deepnote_to_be_reexecuted": false,
    "source_hash": "87b75f0",
    "execution_start": 1666355117228,
    "execution_millis": 414,
    "deepnote_cell_type": "code",
    "deepnote_cell_height": 545
   },
   "execution_count": 10,
   "outputs": [
    {
     "name": "stdout",
     "text": "71/71 [==============================] - 0s 1ms/step\ntype_attic-flat: 0.01\ntype_attic-room: 0.00\ntype_castle: 0.00\ntype_chalet: 0.01\ntype_detached-house: 0.42\ntype_detached-secondary-suite: 0.00\ntype_duplex-maisonette: 0.03\ntype_farmhouse: 0.01\ntype_flat: 0.27\ntype_furnished-residential-property: 0.00\ntype_loft: 0.00\ntype_penthouse: 0.05\ntype_rustico: 0.00\ntype_secondary-suite: 0.00\ntype_semi-detached-house: 0.08\ntype_single-room: 0.00\ntype_stepped-apartment: 0.03\ntype_stepped-house: 0.01\ntype_studio: 0.00\ntype_terrace-house: 0.06\ntype_villa: 0.02\n",
     "output_type": "stream"
    }
   ]
  },
  {
   "cell_type": "code",
   "source": "for i, val in enumerate(y_test.values[5]):\n    print(f'{y.columns[i]}: {val:.0f}')",
   "metadata": {
    "cell_id": "2e0a6e717b0c4929a4cb92684738b78f",
    "tags": [],
    "deepnote_to_be_reexecuted": false,
    "source_hash": "c839055d",
    "execution_start": 1666355117407,
    "execution_millis": 249,
    "deepnote_cell_type": "code",
    "deepnote_cell_height": 525
   },
   "execution_count": 11,
   "outputs": [
    {
     "name": "stdout",
     "text": "type_attic-flat: 0\ntype_attic-room: 0\ntype_castle: 0\ntype_chalet: 0\ntype_detached-house: 1\ntype_detached-secondary-suite: 0\ntype_duplex-maisonette: 0\ntype_farmhouse: 0\ntype_flat: 0\ntype_furnished-residential-property: 0\ntype_loft: 0\ntype_penthouse: 0\ntype_rustico: 0\ntype_secondary-suite: 0\ntype_semi-detached-house: 0\ntype_single-room: 0\ntype_stepped-apartment: 0\ntype_stepped-house: 0\ntype_studio: 0\ntype_terrace-house: 0\ntype_villa: 0\n",
     "output_type": "stream"
    }
   ]
  },
  {
   "cell_type": "code",
   "metadata": {
    "cell_id": "6adf725ef0034d71bd97aea1a8996327",
    "tags": [],
    "deepnote_to_be_reexecuted": false,
    "source_hash": "ef7ab4e3",
    "execution_start": 1666355117415,
    "execution_millis": 271,
    "deepnote_cell_type": "code",
    "deepnote_cell_height": 158,
    "deepnote_output_heights": [
     20,
     20
    ]
   },
   "source": "model.evaluate(X_test, y_test)",
   "execution_count": 12,
   "outputs": [
    {
     "name": "stdout",
     "text": "71/71 [==============================] - 0s 2ms/step - loss: 0.1120 - accuracy: 0.5308 - auc: 0.9271\n",
     "output_type": "stream"
    },
    {
     "output_type": "execute_result",
     "execution_count": 12,
     "data": {
      "text/plain": "[0.11201939731836319, 0.5308477878570557, 0.9271179437637329]"
     },
     "metadata": {}
    }
   ]
  },
  {
   "cell_type": "markdown",
   "source": "<a style='text-decoration:none;line-height:16px;display:flex;color:#5B5B62;padding:10px;justify-content:end;' href='https://deepnote.com?utm_source=created-in-deepnote-cell&projectId=985da17b-3a43-4cd2-aed4-b3aeabe863c4' target=\"_blank\">\n<img alt='Created in deepnote.com' style='display:inline;max-height:16px;margin:0px;margin-right:7.5px;' src='data:image/svg+xml;base64,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' > </img>\nCreated in <span style='font-weight:600;margin-left:4px;'>Deepnote</span></a>",
   "metadata": {
    "tags": [],
    "created_in_deepnote_cell": true,
    "deepnote_cell_type": "markdown"
   }
  }
 ],
 "nbformat": 4,
 "nbformat_minor": 2,
 "metadata": {
  "kernelspec": {
   "display_name": "Python 3.9.7 ('base')",
   "language": "python",
   "name": "python3"
  },
  "language_info": {
   "codemirror_mode": {
    "name": "ipython",
    "version": 3
   },
   "file_extension": ".py",
   "mimetype": "text/x-python",
   "name": "python",
   "nbconvert_exporter": "python",
   "pygments_lexer": "ipython3",
   "version": "3.9.7"
  },
  "orig_nbformat": 4,
  "vscode": {
   "interpreter": {
    "hash": "f46e390ebb1ddf5491fd89d9ad6ad07bce30ede12b9a11821d34b748251f6923"
   }
  },
  "deepnote_notebook_id": "6c26fc27-bbb2-493c-9413-b94209517f23",
  "deepnote": {},
  "deepnote_persisted_session": {
   "createdAt": "2022-10-14T15:00:36.060Z"
  },
  "deepnote_execution_queue": []
 }
}