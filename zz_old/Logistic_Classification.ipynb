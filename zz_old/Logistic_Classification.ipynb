{
 "cells": [
  {
   "cell_type": "code",
   "execution_count": 25,
   "metadata": {},
   "outputs": [],
   "source": [
    "from sklearn.model_selection import train_test_split\n",
    "from sklearn.metrics import accuracy_score\n",
    "import matplotlib.pyplot as plt\n",
    "import numpy as np\n",
    "import pandas as pd\n",
    "import utils.remove_cols as remove_cols\n",
    "from sklearn.multiclass import OneVsRestClassifier\n",
    "from sklearn.svm import SVC\n",
    "from sklearn.linear_model import LogisticRegression\n",
    "from sklearn.neighbors import KNeighborsClassifier\n",
    "from sklearn.ensemble import RandomForestClassifier\n",
    "from sklearn.ensemble import BaggingClassifier"
   ]
  },
  {
   "cell_type": "code",
   "execution_count": 2,
   "metadata": {},
   "outputs": [],
   "source": [
    "class LogisticClassification:\n",
    "\n",
    "    def __init__(self, lr=0.001, n_iters=1000):\n",
    "        self.lr = lr\n",
    "        self.n_iters = n_iters\n",
    "        self.n_samples = None\n",
    "        self.n_features = None\n",
    "        self.weights = None\n",
    "        self.bias = None\n",
    "        self.cost_hist = []\n",
    "\n",
    "\n",
    "    def fit(self, X, y):\n",
    "        self.n_samples, self.n_features = X.shape\n",
    "        self.weights = np.zeros(self.n_features)[:, np.newaxis]\n",
    "        self.bias = 0\n",
    "        for _ in range(self.n_iters):\n",
    "            y_pred = self.sigmoid(X @ self.weights + self.bias)\n",
    "            derivative_loss = self.derivative_loss(y, y_pred)\n",
    "            dw, db = self.gradient(X, y_pred, derivative_loss)\n",
    "            self.update_params(dw, db)\n",
    "            self.cost_hist.append(self.cost(y, y_pred))\n",
    "    \n",
    "\n",
    "    def gradient(self, X, y_pred, derivative_loss):\n",
    "        derivative_weights = X.T @ (derivative_loss * y_pred * (1 - y_pred)) / self.n_samples\n",
    "        derivative_bias = np.mean(derivative_loss * y_pred * (1 - y_pred)) / self.n_samples\n",
    "        return derivative_weights, derivative_bias\n",
    "\n",
    "\n",
    "    def cost(self, y, y_pred):\n",
    "        return -(1 / self.n_samples) * np.sum(y * np.log(y_pred) + (1 - y) * np.log(1 - y_pred))\n",
    "\n",
    "\n",
    "    def derivative_loss(self, y, y_pred):\n",
    "        return -y / y_pred + (1 - y)/(1 - y_pred)\n",
    "\n",
    "\n",
    "    def update_params(self, dw, db):\n",
    "        self.weights -= self.lr * dw\n",
    "        self.bias -= self.lr * db\n",
    "\n",
    "\n",
    "    def predict(self, X):\n",
    "        y_pred = self.sigmoid(X @ self.weights + self.bias)\n",
    "        return np.array([1 if i > 0.5 else 0 for i in y_pred])\n",
    "\n",
    "\n",
    "    def predict_proba(self, X):\n",
    "        y_pred = X @ self.weights + self.bias\n",
    "        return y_pred\n",
    "\n",
    "    \n",
    "    def sigmoid(self, x):\n",
    "        return 1 / (1 + np.exp(-x))\n",
    "\n",
    "    "
   ]
  },
  {
   "cell_type": "markdown",
   "metadata": {},
   "source": [
    "\\begin{align}\n",
    "\\hat{y} & = \\sigma(Xw + b) \\\\ \\\\\n",
    "\\ L(\\hat{y}, y) & =  -y * \\ln({\\hat{y}}) + (1-y) * \\ln({1 - \\hat{y}}) \\\\ \\\\\n",
    "\\ C(\\theta) & = \\frac{1}{N} * \\sum_{i=1}^N L \\left( \\hat{y} (x^{(i)}, \\theta), y^{(i)} \\right) \\\\ \\\\\n",
    "\\ \\nabla C & = (\\frac{\\partial C}{\\partial w}, \\frac{\\partial C}{\\partial b})^T \\\\ \\\\\n",
    "\\frac{\\partial C}{\\partial w} & = X^T \\left(\\frac{\\partial C}{\\partial L} * \\hat{y} * (1 - \\hat{y}) \\right) * \\frac{1}{N} \\\\ \\\\\n",
    "\\frac{\\partial C}{\\partial b} & = \\frac{1}{N} * \\sum_{\\hat{y}} \\left(\\frac{\\partial C}{\\partial L} * \\hat{y} * (1 - \\hat{y}) \\right)\n",
    "\\end{align}"
   ]
  },
  {
   "cell_type": "markdown",
   "metadata": {},
   "source": [
    "# IMPORTIEREN"
   ]
  },
  {
   "cell_type": "code",
   "execution_count": 3,
   "metadata": {},
   "outputs": [
    {
     "name": "stderr",
     "output_type": "stream",
     "text": [
      "/tmp/ipykernel_80110/2143901549.py:1: DtypeWarning: Columns (33) have mixed types. Specify dtype option on import or set low_memory=False.\n",
      "  df = pd.read_csv(\"immoscout_cleaned_lat_lon_fixed_v7.csv\")\n"
     ]
    }
   ],
   "source": [
    "df = pd.read_csv(\"immoscout_cleaned_lat_lon_fixed_v7.csv\")"
   ]
  },
  {
   "cell_type": "markdown",
   "metadata": {},
   "source": [
    "# BEREINIGEN / IMPUTIEREN"
   ]
  },
  {
   "cell_type": "code",
   "execution_count": null,
   "metadata": {},
   "outputs": [],
   "source": []
  },
  {
   "cell_type": "markdown",
   "metadata": {},
   "source": [
    "# TRANSFORMIEREN"
   ]
  },
  {
   "cell_type": "code",
   "execution_count": 4,
   "metadata": {},
   "outputs": [
    {
     "name": "stdout",
     "output_type": "stream",
     "text": [
      "{0: 'penthouse', 1: 'terrace-house', 2: 'detached-house', 3: 'flat', 4: 'stepped-house', 5: 'farmhouse', 6: 'semi-detached-house', 7: 'stepped-apartment', 8: 'duplex-maisonette', 9: 'attic-flat', 10: 'loft', 11: 'chalet', 12: 'villa', 13: 'attic-room', 14: 'secondary-suite', 15: 'castle', 16: 'detached-secondary-suite', 17: 'studio', 18: 'furnished-residential-property', 19: 'rustico', 20: 'single-room'} {'penthouse': 0, 'terrace-house': 1, 'detached-house': 2, 'flat': 3, 'stepped-house': 4, 'farmhouse': 5, 'semi-detached-house': 6, 'stepped-apartment': 7, 'duplex-maisonette': 8, 'attic-flat': 9, 'loft': 10, 'chalet': 11, 'villa': 12, 'attic-room': 13, 'secondary-suite': 14, 'castle': 15, 'detached-secondary-suite': 16, 'studio': 17, 'furnished-residential-property': 18, 'rustico': 19, 'single-room': 20}\n"
     ]
    }
   ],
   "source": [
    "# create dictionary with object-type information\n",
    "types_nrs = dict(enumerate(df[\"type\"].unique()))\n",
    "types_name = {v: k for k, v in types_nrs.items()}\n",
    "print(types_nrs, types_name)\n",
    "# change object-type to numeric value\n",
    "df[\"type\"] = df[\"type\"].map(types_name)\n",
    "\n",
    "# keep only cols with type int or float\n",
    "df = df.select_dtypes(include=[\"int64\", \"float64\"])\n",
    "# remove specific columns\n",
    "df_remove = pd.read_excel(\"fixtures/remove_cols.xlsx\")\n",
    "df_remove = remove_cols.remove_chars_space(df_remove, \"feature\")\n",
    "dct = remove_cols.get_dct_from_df(df_remove)\n",
    "assert len(dct) == len(df.columns)\n",
    "df = df[[k for k, v in dct.items() if v == 1]]\n",
    "\n",
    "# test\n",
    "assert len(df.columns) == 30\n",
    "assert df.values.shape[0] != 0"
   ]
  },
  {
   "cell_type": "markdown",
   "metadata": {},
   "source": [
    "# MODEL (PREPARE DATA)"
   ]
  },
  {
   "cell_type": "code",
   "execution_count": 5,
   "metadata": {},
   "outputs": [],
   "source": [
    "# drop nan because the model can't handle them\n",
    "df = df.dropna() # 1016 / 13378 = 7.6% of data is lost\n",
    "# make Matrix y as target with column type\n",
    "y = df[\"type\"].values[:, np.newaxis]\n",
    "# make Matrix X as features with all columns except type\n",
    "X = df.drop([\"type\"], axis=1).values\n",
    "assert type(y) == np.ndarray\n",
    "assert type(X) == np.ndarray\n",
    "# standardize X\n",
    "X = (X - X.mean(axis=0)) / X.std(axis=0)\n",
    "# split data into train and test\n",
    "X_train, X_test, y_train, y_test = train_test_split(X, y, test_size=0.2)"
   ]
  },
  {
   "cell_type": "markdown",
   "metadata": {},
   "source": [
    "# MODEL (PREPARE MODEL)"
   ]
  },
  {
   "cell_type": "code",
   "execution_count": 6,
   "metadata": {},
   "outputs": [],
   "source": [
    "# create 20 models and store them in a list\n",
    "models = [LogisticClassification(lr=0.01, n_iters=2000) for _ in range(21)]\n",
    "# create a dictionary with the models as keys and the predictions as values\n",
    "y_preds = dict.fromkeys(range(0, 21), 0)\n",
    "# create a dictionary with the models as keys and the accuracy as values\n",
    "model_accuracies = dict.fromkeys(range(0, 21), 0)\n",
    "#print(\" models := {}\\n models_pred := {}\\n accuracy_dict := {}\\n\".format(models, y_preds, model_accuracies))"
   ]
  },
  {
   "cell_type": "code",
   "execution_count": 7,
   "metadata": {},
   "outputs": [
    {
     "name": "stdout",
     "output_type": "stream",
     "text": [
      "Accuracy: 0.530934088152042\n"
     ]
    }
   ],
   "source": [
    "# fit one model and see what the accuracy is\n",
    "models[0].fit(X_train, np.where(y_train == 0, 1, 0))\n",
    "# predict one model\n",
    "y_pred = models[0].predict(X_test)\n",
    "# calculate accuracy\n",
    "accuracy = accuracy_score(np.where(y_test == 0, 1, 0), y_pred)\n",
    "print(\"Accuracy: {}\".format(accuracy))"
   ]
  },
  {
   "cell_type": "code",
   "execution_count": 8,
   "metadata": {},
   "outputs": [
    {
     "data": {
      "text/plain": [
       "[<matplotlib.lines.Line2D at 0xffff5a7545b0>]"
      ]
     },
     "execution_count": 8,
     "metadata": {},
     "output_type": "execute_result"
    },
    {
     "data": {
      "image/png": "[encoded data removed]",
      "text/plain": [
       "<Figure size 640x480 with 1 Axes>"
      ]
     },
     "metadata": {},
     "output_type": "display_data"
    }
   ],
   "source": [
    "# plost cost_hist\n",
    "plt.plot(models[0].cost_hist)"
   ]
  },
  {
   "cell_type": "code",
   "execution_count": null,
   "metadata": {},
   "outputs": [],
   "source": []
  }
 ],
 "metadata": {
  "kernelspec": {
   "display_name": "Python 3.10.6 64-bit",
   "language": "python",
   "name": "python3"
  },
  "language_info": {
   "codemirror_mode": {
    "name": "ipython",
    "version": 3
   },
   "file_extension": ".py",
   "mimetype": "text/x-python",
   "name": "python",
   "nbconvert_exporter": "python",
   "pygments_lexer": "ipython3",
   "version": "3.10.6"
  },
  "orig_nbformat": 4,
  "vscode": {
   "interpreter": {
    "hash": "7e1998ff7f8aa20ada591c520b972326324e5ea05489af9e422744c7c09f6dad"
   }
  }
 },
 "nbformat": 4,
 "nbformat_minor": 2
}
