{
 "cells": [
  {
   "cell_type": "code",
   "execution_count": 1,
   "metadata": {},
   "outputs": [],
   "source": [
    "from sklearn.model_selection import train_test_split\n",
    "from sklearn.metrics import accuracy_score\n",
    "import matplotlib.pyplot as plt\n",
    "import numpy as np\n",
    "import pandas as pd\n",
    "import utils.remove_cols as remove_cols\n",
    "from sklearn.multiclass import OneVsRestClassifier\n",
    "from sklearn.svm import SVC\n",
    "from sklearn.linear_model import LogisticRegression\n",
    "from sklearn.neighbors import KNeighborsClassifier\n",
    "from sklearn.ensemble import RandomForestClassifier\n",
    "from sklearn.ensemble import BaggingClassifier\n",
    "from sklearn.preprocessing import StandardScaler"
   ]
  },
  {
   "cell_type": "markdown",
   "metadata": {},
   "source": [
    "# IMPORTIEREN"
   ]
  },
  {
   "cell_type": "code",
   "execution_count": 2,
   "metadata": {},
   "outputs": [
    {
     "name": "stderr",
     "output_type": "stream",
     "text": [
      "/var/folders/mw/x398f5s545bffd989r6xpm100000gp/T/ipykernel_3028/2143901549.py:1: DtypeWarning: Columns (33) have mixed types. Specify dtype option on import or set low_memory=False.\n",
      "  df = pd.read_csv(\"immoscout_cleaned_lat_lon_fixed_v7.csv\")\n"
     ]
    }
   ],
   "source": [
    "df = pd.read_csv(\"immoscout_cleaned_lat_lon_fixed_v7.csv\")"
   ]
  },
  {
   "cell_type": "markdown",
   "metadata": {},
   "source": [
    "# BEREINIGEN / IMPUTIEREN"
   ]
  },
  {
   "cell_type": "code",
   "execution_count": null,
   "metadata": {},
   "outputs": [],
   "source": []
  },
  {
   "cell_type": "markdown",
   "metadata": {},
   "source": [
    "# TRANSFORMIEREN"
   ]
  },
  {
   "cell_type": "code",
   "execution_count": 3,
   "metadata": {},
   "outputs": [
    {
     "data": {
      "text/html": [
       "<div>\n",
       "<style scoped>\n",
       "    .dataframe tbody tr th:only-of-type {\n",
       "        vertical-align: middle;\n",
       "    }\n",
       "\n",
       "    .dataframe tbody tr th {\n",
       "        vertical-align: top;\n",
       "    }\n",
       "\n",
       "    .dataframe thead th {\n",
       "        text-align: right;\n",
       "    }\n",
       "</style>\n",
       "<table border=\"1\" class=\"dataframe\">\n",
       "  <thead>\n",
       "    <tr style=\"text-align: right;\">\n",
       "      <th></th>\n",
       "      <th>ForestDensityL</th>\n",
       "      <th>ForestDensityM</th>\n",
       "      <th>ForestDensityS</th>\n",
       "      <th>NoisePollutionRailwayL</th>\n",
       "      <th>NoisePollutionRailwayM</th>\n",
       "      <th>NoisePollutionRailwayS</th>\n",
       "      <th>NoisePollutionRoadL</th>\n",
       "      <th>NoisePollutionRoadM</th>\n",
       "      <th>NoisePollutionRoadS</th>\n",
       "      <th>PopulationDensityL</th>\n",
       "      <th>...</th>\n",
       "      <th>gde_area_forest_percentage</th>\n",
       "      <th>gde_area_nonproductive_percentage</th>\n",
       "      <th>gde_area_settlement_percentage</th>\n",
       "      <th>gde_foreigners_percentage</th>\n",
       "      <th>gde_pop_per_km2</th>\n",
       "      <th>gde_population</th>\n",
       "      <th>gde_private_apartments</th>\n",
       "      <th>gde_tax</th>\n",
       "      <th>price_cleaned</th>\n",
       "      <th>type</th>\n",
       "    </tr>\n",
       "  </thead>\n",
       "  <tbody>\n",
       "    <tr>\n",
       "      <th>0</th>\n",
       "      <td>0.511176</td>\n",
       "      <td>0.286451</td>\n",
       "      <td>0.090908</td>\n",
       "      <td>0.0</td>\n",
       "      <td>0.0</td>\n",
       "      <td>0.0</td>\n",
       "      <td>0.058298</td>\n",
       "      <td>0.067048</td>\n",
       "      <td>0.103850</td>\n",
       "      <td>0.092914</td>\n",
       "      <td>...</td>\n",
       "      <td>51.449275</td>\n",
       "      <td>4.589372</td>\n",
       "      <td>13.285024</td>\n",
       "      <td>9.255663</td>\n",
       "      <td>376.829268</td>\n",
       "      <td>1545.0</td>\n",
       "      <td>686.0</td>\n",
       "      <td>5.89</td>\n",
       "      <td>1150000.0</td>\n",
       "      <td>0</td>\n",
       "    </tr>\n",
       "    <tr>\n",
       "      <th>1</th>\n",
       "      <td>0.511176</td>\n",
       "      <td>0.286451</td>\n",
       "      <td>0.090908</td>\n",
       "      <td>0.0</td>\n",
       "      <td>0.0</td>\n",
       "      <td>0.0</td>\n",
       "      <td>0.058298</td>\n",
       "      <td>0.067048</td>\n",
       "      <td>0.103850</td>\n",
       "      <td>0.092914</td>\n",
       "      <td>...</td>\n",
       "      <td>51.449275</td>\n",
       "      <td>4.589372</td>\n",
       "      <td>13.285024</td>\n",
       "      <td>9.255663</td>\n",
       "      <td>376.829268</td>\n",
       "      <td>1545.0</td>\n",
       "      <td>686.0</td>\n",
       "      <td>5.89</td>\n",
       "      <td>1420000.0</td>\n",
       "      <td>1</td>\n",
       "    </tr>\n",
       "    <tr>\n",
       "      <th>2</th>\n",
       "      <td>0.163362</td>\n",
       "      <td>0.095877</td>\n",
       "      <td>0.001911</td>\n",
       "      <td>0.0</td>\n",
       "      <td>0.0</td>\n",
       "      <td>0.0</td>\n",
       "      <td>0.334957</td>\n",
       "      <td>0.381257</td>\n",
       "      <td>0.297575</td>\n",
       "      <td>0.325887</td>\n",
       "      <td>...</td>\n",
       "      <td>32.197891</td>\n",
       "      <td>7.137064</td>\n",
       "      <td>49.310624</td>\n",
       "      <td>21.358623</td>\n",
       "      <td>1704.700162</td>\n",
       "      <td>21036.0</td>\n",
       "      <td>10149.0</td>\n",
       "      <td>6.05</td>\n",
       "      <td>720000.0</td>\n",
       "      <td>0</td>\n",
       "    </tr>\n",
       "    <tr>\n",
       "      <th>3</th>\n",
       "      <td>0.511176</td>\n",
       "      <td>0.286451</td>\n",
       "      <td>0.090908</td>\n",
       "      <td>0.0</td>\n",
       "      <td>0.0</td>\n",
       "      <td>0.0</td>\n",
       "      <td>0.058298</td>\n",
       "      <td>0.067048</td>\n",
       "      <td>0.103850</td>\n",
       "      <td>0.092914</td>\n",
       "      <td>...</td>\n",
       "      <td>51.449275</td>\n",
       "      <td>4.589372</td>\n",
       "      <td>13.285024</td>\n",
       "      <td>9.255663</td>\n",
       "      <td>376.829268</td>\n",
       "      <td>1545.0</td>\n",
       "      <td>686.0</td>\n",
       "      <td>5.89</td>\n",
       "      <td>1430000.0</td>\n",
       "      <td>2</td>\n",
       "    </tr>\n",
       "    <tr>\n",
       "      <th>4</th>\n",
       "      <td>0.333865</td>\n",
       "      <td>0.279276</td>\n",
       "      <td>0.145835</td>\n",
       "      <td>0.0</td>\n",
       "      <td>0.0</td>\n",
       "      <td>0.0</td>\n",
       "      <td>0.133498</td>\n",
       "      <td>0.132933</td>\n",
       "      <td>0.235917</td>\n",
       "      <td>0.190986</td>\n",
       "      <td>...</td>\n",
       "      <td>49.705635</td>\n",
       "      <td>1.177460</td>\n",
       "      <td>15.979815</td>\n",
       "      <td>15.901990</td>\n",
       "      <td>511.008403</td>\n",
       "      <td>6081.0</td>\n",
       "      <td>2638.0</td>\n",
       "      <td>6.30</td>\n",
       "      <td>995000.0</td>\n",
       "      <td>3</td>\n",
       "    </tr>\n",
       "  </tbody>\n",
       "</table>\n",
       "<p>5 rows × 30 columns</p>\n",
       "</div>"
      ],
      "text/plain": [
       "   ForestDensityL  ForestDensityM  ForestDensityS  NoisePollutionRailwayL  \\\n",
       "0        0.511176        0.286451        0.090908                     0.0   \n",
       "1        0.511176        0.286451        0.090908                     0.0   \n",
       "2        0.163362        0.095877        0.001911                     0.0   \n",
       "3        0.511176        0.286451        0.090908                     0.0   \n",
       "4        0.333865        0.279276        0.145835                     0.0   \n",
       "\n",
       "   NoisePollutionRailwayM  NoisePollutionRailwayS  NoisePollutionRoadL  \\\n",
       "0                     0.0                     0.0             0.058298   \n",
       "1                     0.0                     0.0             0.058298   \n",
       "2                     0.0                     0.0             0.334957   \n",
       "3                     0.0                     0.0             0.058298   \n",
       "4                     0.0                     0.0             0.133498   \n",
       "\n",
       "   NoisePollutionRoadM  NoisePollutionRoadS  PopulationDensityL  ...  \\\n",
       "0             0.067048             0.103850            0.092914  ...   \n",
       "1             0.067048             0.103850            0.092914  ...   \n",
       "2             0.381257             0.297575            0.325887  ...   \n",
       "3             0.067048             0.103850            0.092914  ...   \n",
       "4             0.132933             0.235917            0.190986  ...   \n",
       "\n",
       "   gde_area_forest_percentage  gde_area_nonproductive_percentage  \\\n",
       "0                   51.449275                           4.589372   \n",
       "1                   51.449275                           4.589372   \n",
       "2                   32.197891                           7.137064   \n",
       "3                   51.449275                           4.589372   \n",
       "4                   49.705635                           1.177460   \n",
       "\n",
       "   gde_area_settlement_percentage  gde_foreigners_percentage  gde_pop_per_km2  \\\n",
       "0                       13.285024                   9.255663       376.829268   \n",
       "1                       13.285024                   9.255663       376.829268   \n",
       "2                       49.310624                  21.358623      1704.700162   \n",
       "3                       13.285024                   9.255663       376.829268   \n",
       "4                       15.979815                  15.901990       511.008403   \n",
       "\n",
       "   gde_population  gde_private_apartments  gde_tax  price_cleaned  type  \n",
       "0          1545.0                   686.0     5.89      1150000.0     0  \n",
       "1          1545.0                   686.0     5.89      1420000.0     1  \n",
       "2         21036.0                 10149.0     6.05       720000.0     0  \n",
       "3          1545.0                   686.0     5.89      1430000.0     2  \n",
       "4          6081.0                  2638.0     6.30       995000.0     3  \n",
       "\n",
       "[5 rows x 30 columns]"
      ]
     },
     "execution_count": 3,
     "metadata": {},
     "output_type": "execute_result"
    }
   ],
   "source": [
    "# create dictionary with object-type information\n",
    "types_nrs = dict(enumerate(df[\"type\"].unique()))\n",
    "types_name = {v: k for k, v in types_nrs.items()}\n",
    "\n",
    "# change object-type to numeric value\n",
    "df[\"type\"] = df[\"type\"].map(types_name)\n",
    "\n",
    "# keep only cols with type int or float\n",
    "df = df.select_dtypes(include=[\"int64\", \"float64\"])\n",
    "\n",
    "# remove specific columns (manually choosen in an excel file which columns to remove)\n",
    "df_remove = pd.read_excel(\"fixtures/remove_cols.xlsx\")\n",
    "df_remove = remove_cols.remove_chars_space(df_remove, \"feature\")\n",
    "dct = remove_cols.get_dct_from_df(df_remove)\n",
    "# test if dct has same amount of columns as df\n",
    "assert len(dct) == len(df.columns)\n",
    "df = df[[k for k, v in dct.items() if v == 1]]\n",
    "\n",
    "# test if amount of columns match with expectation\n",
    "assert len(df.columns) == sum(dct.values())\n",
    "assert df.values.shape[0] != 0\n",
    "\n",
    "# print df\n",
    "df.head()"
   ]
  },
  {
   "cell_type": "markdown",
   "metadata": {},
   "source": [
    "# PREPARE DATA"
   ]
  },
  {
   "cell_type": "code",
   "execution_count": 4,
   "metadata": {},
   "outputs": [
    {
     "data": {
      "text/plain": [
       "array([[ 2.64194273,  3.32482523,  3.30198419, ..., -0.42010596,\n",
       "        -1.04271332, -0.64676889],\n",
       "       [-0.60338065, -0.76531049, -0.50523966, ..., -0.42055213,\n",
       "        -1.36713496, -0.43886317],\n",
       "       [-0.22362949, -0.61969113, -0.50150005, ..., -0.2916091 ,\n",
       "        -1.31137499,  0.19970442],\n",
       "       ...,\n",
       "       [ 0.28376289,  0.63366458, -0.06385166, ..., -0.42867242,\n",
       "        -1.31137499, -0.62449328],\n",
       "       [-0.95165389, -0.65312147, -0.50523966, ..., -0.25939565,\n",
       "        -1.12381873,  0.35563371],\n",
       "       [-1.03847093, -0.76531049, -0.50523966, ...,  1.16067314,\n",
       "         2.13053587, -0.66904451]])"
      ]
     },
     "execution_count": 4,
     "metadata": {},
     "output_type": "execute_result"
    }
   ],
   "source": [
    "# drop nan because the model can't handle them\n",
    "df = df.dropna() # 1016 / 13378 = 7.6% of data is lost\n",
    "# make Matrix y as target with column type\n",
    "y = df[\"type\"].values[:, np.newaxis]\n",
    "# make Matrix X as features with all columns except type\n",
    "X = df.drop([\"type\"], axis=1).values\n",
    "assert type(y) == np.ndarray\n",
    "assert type(X) == np.ndarray\n",
    "# standardize X\n",
    "scaler = StandardScaler().fit(X)\n",
    "X = scaler.transform(X)\n",
    "# split data into train and test\n",
    "X_train, X_test, y_train, y_test = train_test_split(X, y, test_size=0.2)\n",
    "X_train"
   ]
  },
  {
   "cell_type": "markdown",
   "metadata": {},
   "source": [
    "# FIT, PREDICT, SCORE"
   ]
  },
  {
   "cell_type": "code",
   "execution_count": 5,
   "metadata": {},
   "outputs": [],
   "source": [
    "# define which models to use\n",
    "models = [\n",
    "    SVC(),\n",
    "    LogisticRegression(),\n",
    "    KNeighborsClassifier(),\n",
    "    RandomForestClassifier(),\n",
    "    BaggingClassifier()\n",
    "]"
   ]
  },
  {
   "cell_type": "code",
   "execution_count": 6,
   "metadata": {},
   "outputs": [],
   "source": [
    "model_accuracies = {\n",
    "    \"SVC\" : 0, \n",
    "    \"LogisticRegression\" : 0,\n",
    "    \"KNeighborsClassifier\" : 0,\n",
    "    \"RandomForestClassifier\" : 0,\n",
    "    \"BaggingClassifier\" : 0\n",
    "}"
   ]
  },
  {
   "cell_type": "code",
   "execution_count": 7,
   "metadata": {},
   "outputs": [
    {
     "name": "stderr",
     "output_type": "stream",
     "text": [
      "/Library/Frameworks/Python.framework/Versions/3.10/lib/python3.10/site-packages/sklearn/linear_model/_logistic.py:444: ConvergenceWarning: lbfgs failed to converge (status=1):\n",
      "STOP: TOTAL NO. of ITERATIONS REACHED LIMIT.\n",
      "\n",
      "Increase the number of iterations (max_iter) or scale the data as shown in:\n",
      "    https://scikit-learn.org/stable/modules/preprocessing.html\n",
      "Please also refer to the documentation for alternative solver options:\n",
      "    https://scikit-learn.org/stable/modules/linear_model.html#logistic-regression\n",
      "  n_iter_i = _check_optimize_result(\n"
     ]
    }
   ],
   "source": [
    "for model in models:\n",
    "    # get classifier for one of the models e.g. SVC or LogisticRegression etc..\n",
    "    clf = OneVsRestClassifier(model).fit(X_train.copy(), y_train.copy())\n",
    "    # predict y\n",
    "    y_pred = clf.predict(X_test.copy())\n",
    "    # add accuracy score of y_pred vs y_true to accuracy dictionary\n",
    "    model_accuracies[model.__class__.__name__] = accuracy_score(y_test, y_pred)"
   ]
  },
  {
   "cell_type": "code",
   "execution_count": 8,
   "metadata": {},
   "outputs": [
    {
     "data": {
      "text/plain": [
       "{'SVC': 0.5438738374443995,\n",
       " 'LogisticRegression': 0.5050545895673272,\n",
       " 'KNeighborsClassifier': 0.5216336433481601,\n",
       " 'RandomForestClassifier': 0.5640921957137081,\n",
       " 'BaggingClassifier': 0.5653052972098666}"
      ]
     },
     "execution_count": 8,
     "metadata": {},
     "output_type": "execute_result"
    }
   ],
   "source": [
    "# print accuracies of all models\n",
    "model_accuracies"
   ]
  },
  {
   "cell_type": "code",
   "execution_count": null,
   "metadata": {},
   "outputs": [],
   "source": []
  }
 ],
 "metadata": {
  "kernelspec": {
   "display_name": "Python 3.10.6 ('base')",
   "language": "python",
   "name": "python3"
  },
  "language_info": {
   "codemirror_mode": {
    "name": "ipython",
    "version": 3
   },
   "file_extension": ".py",
   "mimetype": "text/x-python",
   "name": "python",
   "nbconvert_exporter": "python",
   "pygments_lexer": "ipython3",
   "version": "3.10.6"
  },
  "orig_nbformat": 4,
  "vscode": {
   "interpreter": {
    "hash": "d4d1e4263499bec80672ea0156c357c1ee493ec2b1c70f0acce89fc37c4a6abe"
   }
  }
 },
 "nbformat": 4,
 "nbformat_minor": 2
}
