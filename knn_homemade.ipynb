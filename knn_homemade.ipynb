{
 "cells": [
  {
   "cell_type": "code",
   "execution_count": null,
   "metadata": {},
   "outputs": [],
   "source": [
    "import os\n",
    "import pandas as pd\n",
    "from scipy.stats import mode\n",
    "from sklearn.impute import SimpleImputer\n",
    "from sklearn.impute import KNNImputer\n",
    "from sklearn.neighbors import KNeighborsClassifier\n",
    "import matplotlib.pyplot as plt\n",
    "import seaborn as sns\n",
    "from sklearn.model_selection import train_test_split\n",
    "import numpy as np\n",
    "from sklearn.metrics import accuracy_score\n",
    "import sys"
   ]
  },
  {
   "cell_type": "code",
   "execution_count": null,
   "metadata": {},
   "outputs": [],
   "source": [
    "class KNearestNeighbour:\n",
    "    def __init__(self, k):\n",
    "        self.k = k\n",
    "    \n",
    "    \n",
    "    def fit(self, X_train, y_train):\n",
    "        self.X_train = X_train\n",
    "        self.y_train = y_train\n",
    "\n",
    "\n",
    "    def predict(self, X_test):\n",
    "        labels_pred = []\n",
    "        for x_test in X_test:\n",
    "            distances = []\n",
    "            for x_train in self.X_train:\n",
    "                distance = np.linalg.norm(x_train - x_test)\n",
    "                distances.append(distance)\n",
    "            distances = np.array(distances)\n",
    "            k_nearest = np.argsort(distances)[:self.k]\n",
    "            labels = self.y_train[k_nearest]\n",
    "            most_common = mode(labels, keepdims=True)\n",
    "            majority = most_common.mode[0]\n",
    "            labels_pred.append(majority)\n",
    "        return np.array(labels_pred)"
   ]
  },
  {
   "cell_type": "code",
   "execution_count": null,
   "metadata": {},
   "outputs": [],
   "source": [
    "df = pd.read_csv('/home/jovyan/work/3-semester/3-semester-cml1/data/clean.csv')\n",
    "# create df only with column \"type\"\n",
    "df_y = df[['type']]"
   ]
  },
  {
   "cell_type": "code",
   "execution_count": null,
   "metadata": {},
   "outputs": [],
   "source": [
    "# get only numerical columns and drop column Unnamed: 0\n",
    "df = df.select_dtypes(include=['float64', 'int64'])\n",
    "# exclude column floor and Unnamed: 0\n",
    "df = df.drop(columns=['Unnamed: 0', 'floor', 'zip_code'])"
   ]
  },
  {
   "cell_type": "code",
   "execution_count": null,
   "metadata": {},
   "outputs": [],
   "source": [
    "df.isna().sum()"
   ]
  },
  {
   "cell_type": "code",
   "execution_count": null,
   "metadata": {},
   "outputs": [],
   "source": [
    "# impute missing values with knn\n",
    "df_imp = df.copy(deep=True)\n",
    "median_imputer = KNNImputer(n_neighbors=5)\n",
    "df_imp.iloc[:, :] = median_imputer.fit_transform(df_imp)"
   ]
  },
  {
   "cell_type": "code",
   "execution_count": null,
   "metadata": {},
   "outputs": [],
   "source": [
    "df_imp.isna().sum()"
   ]
  },
  {
   "cell_type": "code",
   "execution_count": null,
   "metadata": {},
   "outputs": [],
   "source": [
    "df_imp.head()"
   ]
  },
  {
   "cell_type": "code",
   "execution_count": null,
   "metadata": {},
   "outputs": [],
   "source": [
    "# show correlation matrix\n",
    "corr = df_imp.corr()\n",
    "plt.figure(figsize=(10, 10))\n",
    "sns.heatmap(corr, annot=True, fmt='.2f', cmap='coolwarm')\n",
    "plt.show()"
   ]
  },
  {
   "cell_type": "code",
   "execution_count": null,
   "metadata": {},
   "outputs": [],
   "source": [
    "types_nrs = dict(enumerate(df_y[\"type\"].unique()))\n",
    "types_name = {v: k for k, v in types_nrs.items()}\n",
    "df_y[\"type\"] = df_y[\"type\"].map(types_name)"
   ]
  },
  {
   "cell_type": "code",
   "execution_count": null,
   "metadata": {},
   "outputs": [],
   "source": [
    "X = df_imp.values\n",
    "# standardize X\n",
    "X = (X - X.mean(axis=0)) / X.std(axis=0)\n",
    "y = df_y.values"
   ]
  },
  {
   "cell_type": "code",
   "execution_count": null,
   "metadata": {},
   "outputs": [],
   "source": [
    "X_train, X_test, y_train, y_test = train_test_split(X, y, test_size=0.2, random_state=42)"
   ]
  },
  {
   "cell_type": "code",
   "execution_count": null,
   "metadata": {},
   "outputs": [],
   "source": [
    "models = [KNearestNeighbour(7) for _ in range(21)]"
   ]
  },
  {
   "cell_type": "code",
   "execution_count": null,
   "metadata": {},
   "outputs": [],
   "source": [
    "models_pred = dict.fromkeys(range(0, 21), 0)"
   ]
  },
  {
   "cell_type": "code",
   "execution_count": null,
   "metadata": {},
   "outputs": [],
   "source": [
    "for i in range(0, 21):\n",
    "    models[i].fit(X_train, np.where(y_train == i, 1, 0))\n",
    "    models_pred[i] = models[i].predict(X_test)"
   ]
  },
  {
   "cell_type": "code",
   "execution_count": null,
   "metadata": {},
   "outputs": [],
   "source": [
    "for i in range(0, 21):\n",
    "    y_pred = models_pred[i]\n",
    "    print(accuracy_score(np.where(y_test == i, 1, 0), y_pred))"
   ]
  },
  {
   "cell_type": "code",
   "execution_count": null,
   "metadata": {},
   "outputs": [],
   "source": [
    "models_sklearn = [KNeighborsClassifier(n_neighbors=7) for _ in range(21)]"
   ]
  },
  {
   "cell_type": "code",
   "execution_count": null,
   "metadata": {},
   "outputs": [],
   "source": [
    "models_pred_sklearn = dict.fromkeys(range(0, 21), 0)"
   ]
  },
  {
   "cell_type": "code",
   "execution_count": null,
   "metadata": {},
   "outputs": [],
   "source": [
    "for i in range(0, 21):\n",
    "    models_sklearn[i].fit(X_train, np.where(y_train == i, 1, 0))\n",
    "    models_pred_sklearn[i] = models[i].predict(X_test)"
   ]
  },
  {
   "cell_type": "code",
   "execution_count": null,
   "metadata": {},
   "outputs": [],
   "source": [
    "for i in range(0, 21):\n",
    "    y_pred = models_pred[i]\n",
    "    print(accuracy_score(np.where(y_test == i, 1, 0), y_pred))"
   ]
  }
 ],
 "metadata": {
  "kernelspec": {
   "display_name": "Python 3.10.6 ('base')",
   "language": "python",
   "name": "python3"
  },
  "language_info": {
   "codemirror_mode": {
    "name": "ipython",
    "version": 3
   },
   "file_extension": ".py",
   "mimetype": "text/x-python",
   "name": "python",
   "nbconvert_exporter": "python",
   "pygments_lexer": "ipython3",
   "version": "3.10.6"
  },
  "orig_nbformat": 4,
  "vscode": {
   "interpreter": {
    "hash": "d4d1e4263499bec80672ea0156c357c1ee493ec2b1c70f0acce89fc37c4a6abe"
   }
  }
 },
 "nbformat": 4,
 "nbformat_minor": 2
}
