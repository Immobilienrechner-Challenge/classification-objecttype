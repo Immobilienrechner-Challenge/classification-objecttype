{
 "cells": [
  {
   "cell_type": "code",
   "source": "import numpy as np\nimport pandas as pd\nimport seaborn as sns\nimport matplotlib.pyplot as plt\n\nfrom sklearn.model_selection import train_test_split\n\nfrom keras.utils import normalize\nfrom keras.models import Sequential\nfrom keras.layers import Dense\nfrom keras.metrics import BinaryAccuracy, AUC\nfrom keras.regularizers import l1_l2\n\nfrom tensorflow.keras.callbacks import EarlyStopping",
   "metadata": {
    "cell_id": "30a8a31271d943e3810720b68a433c99",
    "tags": [],
    "deepnote_to_be_reexecuted": false,
    "source_hash": "54b48820",
    "execution_start": 1664872700875,
    "execution_millis": 2077,
    "deepnote_cell_type": "code",
    "deepnote_cell_height": 345
   },
   "outputs": [
    {
     "name": "stderr",
     "text": "2022-10-04 08:38:21.877056: I tensorflow/core/util/util.cc:169] oneDNN custom operations are on. You may see slightly different numerical results due to floating-point round-off errors from different computation orders. To turn them off, set the environment variable `TF_ENABLE_ONEDNN_OPTS=0`.\n",
     "output_type": "stream"
    }
   ],
   "execution_count": 1
  },
  {
   "cell_type": "code",
   "source": "data = pd.read_csv(\"https://raw.githubusercontent.com/Immobilienrechner-Challenge/data/main/immoscout_cleaned_lat_lon_fixed_v9.csv\")\ndata",
   "metadata": {
    "cell_id": "00002-ed06f97a-4428-4307-a24a-409601fb792a",
    "deepnote_to_be_reexecuted": false,
    "source_hash": "1c87951f",
    "execution_start": 1664872702955,
    "execution_millis": 1317,
    "deepnote_cell_type": "code",
    "deepnote_cell_height": 688
   },
   "execution_count": 2,
   "outputs": [
    {
     "name": "stderr",
     "text": "/shared-libs/python3.8/py-core/lib/python3.8/site-packages/IPython/core/interactiveshell.py:3139: DtypeWarning: Columns (34) have mixed types.Specify dtype option on import or set low_memory=False.\n  has_raised = await self.run_ast_nodes(code_ast.body, cell_name,\n",
     "output_type": "stream"
    },
    {
     "output_type": "execute_result",
     "execution_count": 2,
     "data": {
      "application/vnd.deepnote.dataframe.v3+json": {
       "column_count": 108,
       "row_count": 13378,
       "columns": [
        {
         "name": "Unnamed: 0",
         "dtype": "int64",
         "stats": {
          "unique_count": 13378,
          "nan_count": 0,
          "min": "0",
          "max": "13377",
          "histogram": [
           {
            "bin_start": 0,
            "bin_end": 1337.7,
            "count": 1338
           },
           {
            "bin_start": 1337.7,
            "bin_end": 2675.4,
            "count": 1338
           },
           {
            "bin_start": 2675.4,
            "bin_end": 4013.1000000000004,
            "count": 1338
           },
           {
            "bin_start": 4013.1000000000004,
            "bin_end": 5350.8,
            "count": 1337
           },
           {
            "bin_start": 5350.8,
            "bin_end": 6688.5,
            "count": 1338
           },
           {
            "bin_start": 6688.5,
            "bin_end": 8026.200000000001,
            "count": 1338
           },
           {
            "bin_start": 8026.200000000001,
            "bin_end": 9363.9,
            "count": 1337
           },
           {
            "bin_start": 9363.9,
            "bin_end": 10701.6,
            "count": 1338
           },
           {
            "bin_start": 10701.6,
            "bin_end": 12039.300000000001,
            "count": 1338
           },
           {
            "bin_start": 12039.300000000001,
            "bin_end": 13377,
            "count": 1338
           }
          ]
         }
        },
        {
         "name": "Unnamed: 0.1",
         "dtype": "int64",
         "stats": {
          "unique_count": 13378,
          "nan_count": 0,
          "min": "0",
          "max": "13377",
          "histogram": [
           {
            "bin_start": 0,
            "bin_end": 1337.7,
            "count": 1338
           },
           {
            "bin_start": 1337.7,
            "bin_end": 2675.4,
            "count": 1338
           },
           {
            "bin_start": 2675.4,
            "bin_end": 4013.1000000000004,
            "count": 1338
           },
           {
            "bin_start": 4013.1000000000004,
            "bin_end": 5350.8,
            "count": 1337
           },
           {
            "bin_start": 5350.8,
            "bin_end": 6688.5,
            "count": 1338
           },
           {
            "bin_start": 6688.5,
            "bin_end": 8026.200000000001,
            "count": 1338
           },
           {
            "bin_start": 8026.200000000001,
            "bin_end": 9363.9,
            "count": 1337
           },
           {
            "bin_start": 9363.9,
            "bin_end": 10701.6,
            "count": 1338
           },
           {
            "bin_start": 10701.6,
            "bin_end": 12039.300000000001,
            "count": 1338
           },
           {
            "bin_start": 12039.300000000001,
            "bin_end": 13377,
            "count": 1338
           }
          ]
         }
        },
        {
         "name": "Municipality",
         "dtype": "object",
         "stats": {
          "unique_count": 1505,
          "nan_count": 932,
          "categories": [
           {
            "name": "Lugano",
            "count": 339
           },
           {
            "name": "1504 others",
            "count": 12107
           },
           {
            "name": "Missing",
            "count": 932
           }
          ]
         }
        },
        {
         "name": "Living space",
         "dtype": "object",
         "stats": {
          "unique_count": 531,
          "nan_count": 1744,
          "categories": [
           {
            "name": "120 m²",
            "count": 262
           },
           {
            "name": "530 others",
            "count": 11372
           },
           {
            "name": "Missing",
            "count": 1744
           }
          ]
         }
        },
        {
         "name": "Plot area",
         "dtype": "object",
         "stats": {
          "unique_count": 1706,
          "nan_count": 8682,
          "categories": [
           {
            "name": "1000 m²",
            "count": 44
           },
           {
            "name": "1705 others",
            "count": 4652
           },
           {
            "name": "Missing",
            "count": 8682
           }
          ]
         }
        },
        {
         "name": "Floor space",
         "dtype": "object",
         "stats": {
          "unique_count": 493,
          "nan_count": 10598,
          "categories": [
           {
            "name": "150 m²",
            "count": 39
           },
           {
            "name": "492 others",
            "count": 2741
           },
           {
            "name": "Missing",
            "count": 10598
           }
          ]
         }
        },
        {
         "name": "Availability",
         "dtype": "object",
         "stats": {
          "unique_count": 110,
          "nan_count": 715,
          "categories": [
           {
            "name": "On request",
            "count": 9120
           },
           {
            "name": "109 others",
            "count": 3543
           },
           {
            "name": "Missing",
            "count": 715
           }
          ]
         }
        },
        {
         "name": "location",
         "dtype": "object"
        },
        {
         "name": "description",
         "dtype": "object"
        },
        {
         "name": "detailed_description",
         "dtype": "object"
        },
        {
         "name": "url",
         "dtype": "object"
        },
        {
         "name": "table",
         "dtype": "object"
        },
        {
         "name": "Floor",
         "dtype": "object"
        },
        {
         "name": "detail_responsive#municipality",
         "dtype": "object"
        },
        {
         "name": "detail_responsive#surface_living",
         "dtype": "object"
        },
        {
         "name": "detail_responsive#floor",
         "dtype": "object"
        },
        {
         "name": "detail_responsive#available_from",
         "dtype": "object"
        },
        {
         "name": "Gemeinde",
         "dtype": "object"
        },
        {
         "name": "Wohnfläche",
         "dtype": "object"
        },
        {
         "name": "Stockwerk",
         "dtype": "object"
        },
        {
         "name": "Nutzfläche",
         "dtype": "object"
        },
        {
         "name": "Verfügbarkeit",
         "dtype": "object"
        },
        {
         "name": "Grundstücksfläche",
         "dtype": "object"
        },
        {
         "name": "detail_responsive#surface_property",
         "dtype": "object"
        },
        {
         "name": "detail_responsive#surface_usable",
         "dtype": "object"
        },
        {
         "name": "Commune",
         "dtype": "object"
        },
        {
         "name": "Surface habitable",
         "dtype": "object"
        },
        {
         "name": "Surface du terrain",
         "dtype": "object"
        },
        {
         "name": "Surface utile",
         "dtype": "object"
        },
        {
         "name": "Disponibilité",
         "dtype": "object"
        },
        {
         "name": "Étage",
         "dtype": "object"
        },
        {
         "name": "Comune",
         "dtype": "object"
        },
        {
         "name": "Superficie abitabile",
         "dtype": "object"
        },
        {
         "name": "Disponibilità",
         "dtype": "object"
        },
        {
         "name": "Gross return",
         "dtype": "object"
        },
        {
         "name": "Piano",
         "dtype": "object"
        },
        {
         "name": "Superficie del terreno",
         "dtype": "object"
        },
        {
         "name": "Superficie utile",
         "dtype": "object"
        },
        {
         "name": "Municipality_merged",
         "dtype": "object"
        },
        {
         "name": "Floor_merged",
         "dtype": "object"
        },
        {
         "name": "Living_space_merged",
         "dtype": "object"
        },
        {
         "name": "Floor_space_merged",
         "dtype": "object"
        },
        {
         "name": "Plot_area_merged",
         "dtype": "object"
        },
        {
         "name": "Availability_merged",
         "dtype": "object"
        },
        {
         "name": "location_parsed",
         "dtype": "object"
        },
        {
         "name": "title",
         "dtype": "object"
        },
        {
         "name": "details",
         "dtype": "object"
        },
        {
         "name": "address",
         "dtype": "object"
        },
        {
         "name": "price",
         "dtype": "object"
        },
        {
         "name": "link",
         "dtype": "object"
        },
        {
         "name": "details_structured",
         "dtype": "object"
        },
        {
         "name": "lat",
         "dtype": "float64"
        },
        {
         "name": "lon",
         "dtype": "float64"
        },
        {
         "name": "index",
         "dtype": "int64"
        },
        {
         "name": "ForestDensityL",
         "dtype": "float64"
        },
        {
         "name": "ForestDensityM",
         "dtype": "float64"
        },
        {
         "name": "ForestDensityS",
         "dtype": "float64"
        },
        {
         "name": "Latitude",
         "dtype": "float64"
        },
        {
         "name": "Locality",
         "dtype": "object"
        },
        {
         "name": "Longitude",
         "dtype": "float64"
        },
        {
         "name": "NoisePollutionRailwayL",
         "dtype": "float64"
        },
        {
         "name": "NoisePollutionRailwayM",
         "dtype": "float64"
        },
        {
         "name": "NoisePollutionRailwayS",
         "dtype": "float64"
        },
        {
         "name": "NoisePollutionRoadL",
         "dtype": "float64"
        },
        {
         "name": "NoisePollutionRoadM",
         "dtype": "float64"
        },
        {
         "name": "NoisePollutionRoadS",
         "dtype": "float64"
        },
        {
         "name": "PopulationDensityL",
         "dtype": "float64"
        },
        {
         "name": "PopulationDensityM",
         "dtype": "float64"
        },
        {
         "name": "PopulationDensityS",
         "dtype": "float64"
        },
        {
         "name": "RiversAndLakesL",
         "dtype": "float64"
        },
        {
         "name": "RiversAndLakesM",
         "dtype": "float64"
        },
        {
         "name": "RiversAndLakesS",
         "dtype": "float64"
        },
        {
         "name": "WorkplaceDensityL",
         "dtype": "float64"
        },
        {
         "name": "WorkplaceDensityM",
         "dtype": "float64"
        },
        {
         "name": "WorkplaceDensityS",
         "dtype": "float64"
        },
        {
         "name": "Zip",
         "dtype": "int64"
        },
        {
         "name": "distanceToTrainStation",
         "dtype": "float64"
        },
        {
         "name": "gde_area_agriculture_percentage",
         "dtype": "float64"
        },
        {
         "name": "gde_area_forest_percentage",
         "dtype": "float64"
        },
        {
         "name": "gde_area_nonproductive_percentage",
         "dtype": "float64"
        },
        {
         "name": "gde_area_settlement_percentage",
         "dtype": "float64"
        },
        {
         "name": "gde_average_house_hold",
         "dtype": "float64"
        },
        {
         "name": "gde_empty_apartments",
         "dtype": "float64"
        },
        {
         "name": "gde_foreigners_percentage",
         "dtype": "float64"
        },
        {
         "name": "gde_new_homes_per_1000",
         "dtype": "float64"
        },
        {
         "name": "gde_politics_bdp",
         "dtype": "float64"
        },
        {
         "name": "gde_politics_cvp",
         "dtype": "float64"
        },
        {
         "name": "gde_politics_evp",
         "dtype": "float64"
        },
        {
         "name": "gde_politics_fdp",
         "dtype": "float64"
        },
        {
         "name": "gde_politics_glp",
         "dtype": "float64"
        },
        {
         "name": "gde_politics_gps",
         "dtype": "float64"
        },
        {
         "name": "gde_politics_pda",
         "dtype": "float64"
        },
        {
         "name": "gde_politics_rights",
         "dtype": "float64"
        },
        {
         "name": "gde_politics_sp",
         "dtype": "float64"
        },
        {
         "name": "gde_politics_svp",
         "dtype": "float64"
        },
        {
         "name": "gde_pop_per_km2",
         "dtype": "float64"
        },
        {
         "name": "gde_population",
         "dtype": "float64"
        },
        {
         "name": "gde_private_apartments",
         "dtype": "float64"
        },
        {
         "name": "gde_social_help_quota",
         "dtype": "float64"
        },
        {
         "name": "gde_tax",
         "dtype": "float64"
        },
        {
         "name": "gde_workers_sector1",
         "dtype": "float64"
        },
        {
         "name": "gde_workers_sector2",
         "dtype": "float64"
        },
        {
         "name": "gde_workers_sector3",
         "dtype": "float64"
        },
        {
         "name": "gde_workers_total",
         "dtype": "float64"
        },
        {
         "name": "price_cleaned",
         "dtype": "float64"
        },
        {
         "name": "type",
         "dtype": "object"
        },
        {
         "name": "Space extracted",
         "dtype": "float64"
        },
        {
         "name": "rooms",
         "dtype": "float64"
        },
        {
         "name": "_deepnote_index_column",
         "dtype": "int64"
        }
       ],
       "rows": [
        {
         "Unnamed: 0": "0",
         "Unnamed: 0.1": "0",
         "Municipality": "Biberstein",
         "Living space": "100 m²",
         "Plot area": "nan",
         "Floor space": "nan",
         "Availability": "On request",
         "location": "5023 Biberstein, AG",
         "description": "3.5 rooms, 100 m²«Luxuriöse Attika-Wohnung mit herrlicher Aussicht»CHF 1,150,000.—Favourite",
         "detailed_description": "DescriptionLuxuriöse Attika-Wohnung direkt an der Aare und angrenzend an die Landwirtschaftszone, mit unverbaubarer Weitsicht, grosszügiger Garage und Option auf ein zusätzliches Zimmer.Einzigartige Lage, top Aussicht und hochwertige Innenausstattung? Das alles bietet diese charmante Eigentumswohnung auf 100m2 im steuergünstigen Biberstein. Stadtnah gelegen und mit direktem Naturzugang sorgt sie für ein rundum angenehmes Wohngefühl.In der ganzen Wohnung sind hochwertige Materialien mit einem südländischen Touch verbaut. Der Boden ist mit einem Jurastein und die beiden Zimmer mit Holz versehen (mit Bodenheizung).In die Wohnung gelangt man über einen separaten Eingang, ein halbes Stockwerk vom gewachsenen Boden erhöht (kein gemeinsames Treppenhaus). Die grosse Terrasse (rund 70m2) öffnet nach Süden ein einzigartiges Panorama mit einem herrlichen Blick auf Natur, Aare und Alpen.Naturfreunde können von der Haustür direkt an die Aare oder in die Wälder gelangen. Zur Arbeit ist die Bushalte…",
         "url": "https://www.immoscout24.ch//en/d/penthouse-buy-biberstein/7255200",
         "table": "b <article class=####Box-cYFBPY hKrxoH####><h2 class=####Box-cYFBPY gZLPvm####>Main information</h2><table class=####DataTable__StyledTable-sc-1o2xig5-1 jbXaEC####><tbody><tr><td class=####DataTable__SimpleCell-sc-1o2xig5-2 DataTable__Cell-sc-1o2xig5-4 edrNfG dGBatU####>Municipality</td><td class=####DataTable__SimpleCell-sc-1o2xig5-2 DataTable__CellValue-sc-1o2xig5-3 edrNfG rJZBK####>Biberstein</td></tr><tr><td class=####DataTable__SimpleCell-sc-1o2xig5-2 DataTable__Cell-sc-1o2xig5-4 edrNfG dGBatU####>Living space</td><td class=####DataTable__SimpleCell-sc-1o2xig5-2 DataTable__CellValue-sc-1o2xig5-3 edrNfG rJZBK####>100 m&#178;</td></tr><tr><td class=####DataTable__SimpleCell-sc-1o2xig5-2 DataTable__Cell-sc-1o2xig5-4 edrNfG dGBatU####>Floor</td><td class=####DataTable__SimpleCell-sc-1o2xig5-2 DataTable__CellValue-sc-1o2xig5-3 edrNfG rJZBK####>4. floor</td></tr><tr><td class=####DataTable__SimpleCell-sc-1o2xig5-2 DataTable__Cell-sc-1o2xig5-4 edrNfG dGBatU####>Availability</td><td clas…",
         "Floor": "4. floor",
         "detail_responsive#municipality": "nan",
         "detail_responsive#surface_living": "nan",
         "detail_responsive#floor": "nan",
         "detail_responsive#available_from": "nan",
         "Gemeinde": "nan",
         "Wohnfläche": "nan",
         "Stockwerk": "nan",
         "Nutzfläche": "nan",
         "Verfügbarkeit": "nan",
         "Grundstücksfläche": "nan",
         "detail_responsive#surface_property": "nan",
         "detail_responsive#surface_usable": "nan",
         "Commune": "nan",
         "Surface habitable": "nan",
         "Surface du terrain": "nan",
         "Surface utile": "nan",
         "Disponibilité": "nan",
         "Étage": "nan",
         "Comune": "nan",
         "Superficie abitabile": "nan",
         "Disponibilità": "nan",
         "Gross return": "nan",
         "Piano": "nan",
         "Superficie del terreno": "nan",
         "Superficie utile": "nan",
         "Municipality_merged": "Biberstein",
         "Floor_merged": "4. floor",
         "Living_space_merged": "100 m²",
         "Floor_space_merged": "nan",
         "Plot_area_merged": "nan",
         "Availability_merged": "On request",
         "location_parsed": "Strasse:  plz:5023 Stadt: Biberstein Kanton: AG",
         "title": "Luxuriöse Attika-Wohnung mit herrlicher Aussicht",
         "details": "3.5 rooms, 100 m², ",
         "address": "5023 Biberstein, AG",
         "price": "CHF 1,150,000.—",
         "link": "/en/d/penthouse-buy-biberstein/7255200",
         "details_structured": "{'Municipality': 'Biberstein', 'Living space': '100 m²', 'Floor': '4. floor', 'Availability': 'On request', 'location': '5023 Biberstein, AG', 'description': '3.5 rooms, 100 m²«Luxuriöse Attika-Wohnung mit herrlicher Aussicht»CHF 1,150,000.—Favourite', 'detailed_description': 'DescriptionLuxuriöse Attika-Wohnung direkt an der Aare und angrenzend an die Landwirtschaftszone, mit unverbaubarer Weitsicht, grosszügiger Garage und Option auf ein zusätzliches Zimmer.Einzigartige Lage, top Aussicht und hochwertige Innenausstattung? Das alles bietet diese charmante Eigentumswohnung auf 100m2 im steuergünstigen Biberstein. Stadtnah gelegen und mit direktem Naturzugang sorgt sie für ein rundum angenehmes Wohngefühl.In der ganzen Wohnung sind hochwertige Materialien mit einem südländischen Touch verbaut. Der Boden ist mit einem Jurastein und die beiden Zimmer mit Holz versehen (mit Bodenheizung).In die Wohnung gelangt man über einen separaten Eingang, ein halbes Stockwerk vom gewachsenen Boden er…",
         "lat": "47.4171",
         "lon": "8.0856",
         "index": "16620",
         "ForestDensityL": "0.5111756483642033",
         "ForestDensityM": "0.2864510208821959",
         "ForestDensityS": "0.0909078094589692",
         "Latitude": "47.4159269",
         "Locality": "Biberstein",
         "Longitude": "8.0858398",
         "NoisePollutionRailwayL": "0.0",
         "NoisePollutionRailwayM": "0.0",
         "NoisePollutionRailwayS": "0.0",
         "NoisePollutionRoadL": "0.0582979379946271",
         "NoisePollutionRoadM": "0.067047626047332",
         "NoisePollutionRoadS": "0.1038503253796095",
         "PopulationDensityL": "0.0929137474087486",
         "PopulationDensityM": "0.2095297398560906",
         "PopulationDensityS": "0.3666736198025309",
         "RiversAndLakesL": "0.0821698280693361",
         "RiversAndLakesM": "0.0018113817490726",
         "RiversAndLakesS": "0.0118710714307242",
         "WorkplaceDensityL": "0.0301693757471317",
         "WorkplaceDensityM": "0.0521201856730648",
         "WorkplaceDensityS": "0.0989513422818792",
         "Zip": "5023",
         "distanceToTrainStation": "3.0384665928009302",
         "gde_area_agriculture_percentage": "30.6763285024",
         "gde_area_forest_percentage": "51.44927536229999",
         "gde_area_nonproductive_percentage": "4.5893719807",
         "gde_area_settlement_percentage": "13.2850241546",
         "gde_average_house_hold": "2.23",
         "gde_empty_apartments": "1.9946808511",
         "gde_foreigners_percentage": "9.25566343",
         "gde_new_homes_per_1000": "4.739336492900001",
         "gde_politics_bdp": "5.8737151248",
         "gde_politics_cvp": "4.5796622614",
         "gde_politics_evp": "3.359030837",
         "gde_politics_fdp": "18.3553597651",
         "gde_politics_glp": "6.0572687225",
         "gde_politics_gps": "7.0668135095",
         "gde_politics_pda": "nan",
         "gde_politics_rights": "0.2202643172",
         "gde_politics_sp": "20.392804699000003",
         "gde_politics_svp": "30.8094713656",
         "gde_pop_per_km2": "376.829268293",
         "gde_population": "1545.0",
         "gde_private_apartments": "686.0",
         "gde_social_help_quota": "2.2342586324",
         "gde_tax": "5.89",
         "gde_workers_sector1": "14.0",
         "gde_workers_sector2": "9.0",
         "gde_workers_sector3": "308.0",
         "gde_workers_total": "331.0",
         "price_cleaned": "1150000.0",
         "type": "penthouse",
         "Space extracted": "100.0",
         "rooms": "5.0",
         "_deepnote_index_column": "0"
        },
        {
         "Unnamed: 0": "1",
         "Unnamed: 0.1": "1",
         "Municipality": "Biberstein",
         "Living space": "156 m²",
         "Plot area": "222 m²",
         "Floor space": "242 m²",
         "Availability": "On request",
         "location": "Buhldenstrasse 8d5023 Biberstein, AG",
         "description": "4.5 rooms, 156 m²«Stilvolle Liegenschaft - ruhige Lage, unverbaubare Aussicht»CHF 1,420,000.—Favourite",
         "detailed_description": "DescriptionStilvolle Liegenschaft an ruhiger Lage mit unverbaubarer Aussicht in den JuraDiese hochwertige Liegenschaft mit Baujahr 2013 liegt an ruhiger Aussichtslage im steuergünstigen Biberstein. Die Liegenschaft präsentiert sich in neuwertigem Zustand. Die Materialisierung ist sehr stilvoll und der Ausbaustandard sehr hoch. Das ganze Haus verfügt über einen hochwertigen Eichenparkett (Echtholz) sowie Wände mit Gipsglattstrich und Küchengeräte der Marke V-Zug. Die Liegenschaft ist im Minergie Standard erstellt und zertifiziert.Das Haus eignet sich bestens für eine Familie oder ein Paar in Kombination mit Homeoffice. Es verfügt über eine Nettogeschossfläche (beheizte Wohnfläche) von 156.50m2 und eine Nutzfläche (inkl. Garage, Hobbyraum und Waschen/Trocknen/Technik) von 242.00m2.Erdgeschoss  Sie betreten das Haus über einen grosszügigen Eingangsbereich. Der grosse Garderobenschrank bietet Platz für die ganze Familie, Sporttaschen und vieles mehr.Vom Eingangsbereich gelangen Sie direkt…",
         "url": "https://www.immoscout24.ch//en/d/terrace-house-buy-biberstein/7266694",
         "table": "b <article class=####Box-cYFBPY hKrxoH####><h2 class=####Box-cYFBPY gZLPvm####>Main information</h2><table class=####DataTable__StyledTable-sc-1o2xig5-1 jbXaEC####><tbody><tr><td class=####DataTable__SimpleCell-sc-1o2xig5-2 DataTable__Cell-sc-1o2xig5-4 edrNfG dGBatU####>Municipality</td><td class=####DataTable__SimpleCell-sc-1o2xig5-2 DataTable__CellValue-sc-1o2xig5-3 edrNfG rJZBK####>Biberstein</td></tr><tr><td class=####DataTable__SimpleCell-sc-1o2xig5-2 DataTable__Cell-sc-1o2xig5-4 edrNfG dGBatU####>Living space</td><td class=####DataTable__SimpleCell-sc-1o2xig5-2 DataTable__CellValue-sc-1o2xig5-3 edrNfG rJZBK####>156 m&#178;</td></tr><tr><td class=####DataTable__SimpleCell-sc-1o2xig5-2 DataTable__Cell-sc-1o2xig5-4 edrNfG dGBatU####>Plot area</td><td class=####DataTable__SimpleCell-sc-1o2xig5-2 DataTable__CellValue-sc-1o2xig5-3 edrNfG rJZBK####>222 m&#178;</td></tr><tr><td class=####DataTable__SimpleCell-sc-1o2xig5-2 DataTable__Cell-sc-1o2xig5-4 edrNfG dGBatU####>Floor space</td><t…",
         "Floor": "nan",
         "detail_responsive#municipality": "nan",
         "detail_responsive#surface_living": "nan",
         "detail_responsive#floor": "nan",
         "detail_responsive#available_from": "nan",
         "Gemeinde": "nan",
         "Wohnfläche": "nan",
         "Stockwerk": "nan",
         "Nutzfläche": "nan",
         "Verfügbarkeit": "nan",
         "Grundstücksfläche": "nan",
         "detail_responsive#surface_property": "nan",
         "detail_responsive#surface_usable": "nan",
         "Commune": "nan",
         "Surface habitable": "nan",
         "Surface du terrain": "nan",
         "Surface utile": "nan",
         "Disponibilité": "nan",
         "Étage": "nan",
         "Comune": "nan",
         "Superficie abitabile": "nan",
         "Disponibilità": "nan",
         "Gross return": "nan",
         "Piano": "nan",
         "Superficie del terreno": "nan",
         "Superficie utile": "nan",
         "Municipality_merged": "Biberstein",
         "Floor_merged": "nan",
         "Living_space_merged": "156 m²",
         "Floor_space_merged": "242 m²",
         "Plot_area_merged": "222 m²",
         "Availability_merged": "On request",
         "location_parsed": "Strasse:Buhldenstrasse  8d plz:5023 Stadt: Biberstein Kanton: AG",
         "title": "Stilvolle Liegenschaft - ruhige Lage, unverbaubare Aussicht",
         "details": "4.5 rooms, 156 m², ",
         "address": "Buhldenstrasse 8d, 5023 Biberstein, AG",
         "price": "CHF 1,420,000.—",
         "link": "/en/d/terrace-house-buy-biberstein/7266694",
         "details_structured": "{'Municipality': 'Biberstein', 'Living space': '156 m²', 'Plot area': '222 m²', 'Floor space': '242 m²', 'Availability': 'On request', 'location': 'Buhldenstrasse 8d5023 Biberstein, AG', 'description': '4.5 rooms, 156 m²«Stilvolle Liegenschaft - ruhige Lage, unverbaubare Aussicht»CHF 1,420,000.—Favourite', 'detailed_description': 'DescriptionStilvolle Liegenschaft an ruhiger Lage mit unverbaubarer Aussicht in den JuraDiese hochwertige Liegenschaft mit Baujahr 2013 liegt an ruhiger Aussichtslage im steuergünstigen Biberstein. Die Liegenschaft präsentiert sich in neuwertigem Zustand. Die Materialisierung ist sehr stilvoll und der Ausbaustandard sehr hoch. Das ganze Haus verfügt über einen hochwertigen Eichenparkett (Echtholz) sowie Wände mit Gipsglattstrich und Küchengeräte der Marke V-Zug. Die Liegenschaft ist im Minergie Standard erstellt und zertifiziert.Das Haus eignet sich bestens für eine Familie oder ein Paar in Kombination mit Homeoffice. Es verfügt über eine Nettogeschossfläche…",
         "lat": "47.4195",
         "lon": "8.0827",
         "index": "16620",
         "ForestDensityL": "0.5111756483642033",
         "ForestDensityM": "0.2864510208821959",
         "ForestDensityS": "0.0909078094589692",
         "Latitude": "47.4159269",
         "Locality": "Biberstein",
         "Longitude": "8.0858398",
         "NoisePollutionRailwayL": "0.0",
         "NoisePollutionRailwayM": "0.0",
         "NoisePollutionRailwayS": "0.0",
         "NoisePollutionRoadL": "0.0582979379946271",
         "NoisePollutionRoadM": "0.067047626047332",
         "NoisePollutionRoadS": "0.1038503253796095",
         "PopulationDensityL": "0.0929137474087486",
         "PopulationDensityM": "0.2095297398560906",
         "PopulationDensityS": "0.3666736198025309",
         "RiversAndLakesL": "0.0821698280693361",
         "RiversAndLakesM": "0.0018113817490726",
         "RiversAndLakesS": "0.0118710714307242",
         "WorkplaceDensityL": "0.0301693757471317",
         "WorkplaceDensityM": "0.0521201856730648",
         "WorkplaceDensityS": "0.0989513422818792",
         "Zip": "5023",
         "distanceToTrainStation": "3.0384665928009302",
         "gde_area_agriculture_percentage": "30.6763285024",
         "gde_area_forest_percentage": "51.44927536229999",
         "gde_area_nonproductive_percentage": "4.5893719807",
         "gde_area_settlement_percentage": "13.2850241546",
         "gde_average_house_hold": "2.23",
         "gde_empty_apartments": "1.9946808511",
         "gde_foreigners_percentage": "9.25566343",
         "gde_new_homes_per_1000": "4.739336492900001",
         "gde_politics_bdp": "5.8737151248",
         "gde_politics_cvp": "4.5796622614",
         "gde_politics_evp": "3.359030837",
         "gde_politics_fdp": "18.3553597651",
         "gde_politics_glp": "6.0572687225",
         "gde_politics_gps": "7.0668135095",
         "gde_politics_pda": "nan",
         "gde_politics_rights": "0.2202643172",
         "gde_politics_sp": "20.392804699000003",
         "gde_politics_svp": "30.8094713656",
         "gde_pop_per_km2": "376.829268293",
         "gde_population": "1545.0",
         "gde_private_apartments": "686.0",
         "gde_social_help_quota": "2.2342586324",
         "gde_tax": "5.89",
         "gde_workers_sector1": "14.0",
         "gde_workers_sector2": "9.0",
         "gde_workers_sector3": "308.0",
         "gde_workers_total": "331.0",
         "price_cleaned": "1420000.0",
         "type": "terrace-house",
         "Space extracted": "156.0",
         "rooms": "5.0",
         "_deepnote_index_column": "1"
        },
        {
         "Unnamed: 0": "2",
         "Unnamed: 0.1": "2",
         "Municipality": "nan",
         "Living space": "nan",
         "Plot area": "nan",
         "Floor space": "nan",
         "Availability": "nan",
         "location": "5022 Rombach, AG",
         "description": "2.5 rooms, 93 m²«Moderne, lichtdurchflutete Attikawohnung mit Erdwärmeheizung»CHF 720,000.—detail_responsive#bookmark",
         "detailed_description": "detail_responsive#description_title2,5 Zimmerwohnung mit 93 m2 Wohnfläche und 28 m2 Südbalkon über die gesamte Länge der Wohnung, teilweise überdacht, mit hübsch gestaltetem Balkongarten (u.a. Säulenobst, Kräuter, Blumenstauden) und herrlichem Blick über das Aaretal bis hin zu Alpengipfeln bei klarer Sicht.Grosszügiger Wohn-Essbereich, Einbauküche mit Kücheninsel, moderne Elektrogeräte (z.B. Backofen mit Steamerfunktion, Induktionsherd)2 Duschbäder, mit begehbarer Dusche im 1. Bad und Wasch-/Trockenturm im 2. Bad.Raumhohe Fenster im gesamten Wohnbereich; Spotlights und Galerieleisten in allen Räumen; Schränke in Eingangsbereich, Schlafzimmer und Bädern6-Parteien Haus, Baujahr 2010, hoher Standard auf nachhaltiger Grundlage, Holzparkett und Fliesenboden, Fußbodenheizung mit Erdwärme und Solarthermie (unabhängig von Gas und Öl).Barrierefreier Zugang mit Lift bis in die Tiefgarage; Kellerabteil mit grosszügigem Stauraum in Regalen. Tiefgaragenstellplatz 25000 SFr. Ein zusätzlicher Keller…",
         "url": "https://www.immoscout24.ch//en/d/penthouse-buy-rombach/7261389",
         "table": "b <article class=####Box-cYFBPY hKrxoH####><h2 class=####Box-cYFBPY gZLPvm####>detail_responsive#base_info_title</h2><table class=####DataTable__StyledTable-sc-1o2xig5-1 jbXaEC####><tbody><tr><td class=####DataTable__SimpleCell-sc-1o2xig5-2 DataTable__Cell-sc-1o2xig5-4 edrNfG dGBatU####>detail_responsive#municipality</td><td class=####DataTable__SimpleCell-sc-1o2xig5-2 DataTable__CellValue-sc-1o2xig5-3 edrNfG rJZBK####>K&#252;ttigen</td></tr><tr><td class=####DataTable__SimpleCell-sc-1o2xig5-2 DataTable__Cell-sc-1o2xig5-4 edrNfG dGBatU####>detail_responsive#surface_living</td><td class=####DataTable__SimpleCell-sc-1o2xig5-2 DataTable__CellValue-sc-1o2xig5-3 edrNfG rJZBK####>93 m&#178;</td></tr><tr><td class=####DataTable__SimpleCell-sc-1o2xig5-2 DataTable__Cell-sc-1o2xig5-4 edrNfG dGBatU####>detail_responsive#floor</td><td class=####DataTable__SimpleCell-sc-1o2xig5-2 DataTable__CellValue-sc-1o2xig5-3 edrNfG rJZBK####>2. floor</td></tr><tr><td class=####DataTable__SimpleCell-sc-1o2xig5…",
         "Floor": "nan",
         "detail_responsive#municipality": "Küttigen",
         "detail_responsive#surface_living": "93 m²",
         "detail_responsive#floor": "2. floor",
         "detail_responsive#available_from": "Immediately",
         "Gemeinde": "nan",
         "Wohnfläche": "nan",
         "Stockwerk": "nan",
         "Nutzfläche": "nan",
         "Verfügbarkeit": "nan",
         "Grundstücksfläche": "nan",
         "detail_responsive#surface_property": "nan",
         "detail_responsive#surface_usable": "nan",
         "Commune": "nan",
         "Surface habitable": "nan",
         "Surface du terrain": "nan",
         "Surface utile": "nan",
         "Disponibilité": "nan",
         "Étage": "nan",
         "Comune": "nan",
         "Superficie abitabile": "nan",
         "Disponibilità": "nan",
         "Gross return": "nan",
         "Piano": "nan",
         "Superficie del terreno": "nan",
         "Superficie utile": "nan",
         "Municipality_merged": "nan",
         "Floor_merged": "nan",
         "Living_space_merged": "nan",
         "Floor_space_merged": "nan",
         "Plot_area_merged": "nan",
         "Availability_merged": "nan",
         "location_parsed": "Strasse:  plz:5022 Stadt: Rombach Kanton: AG",
         "title": "Moderne, lichtdurchflutete Attikawohnung mit Erdwärmeheizung",
         "details": "2.5 rooms, 93 m², ",
         "address": "5022 Rombach, AG",
         "price": "CHF 720,000.—",
         "link": "/en/d/penthouse-buy-rombach/7261389",
         "details_structured": "{'detail_responsive#municipality': 'Küttigen', 'detail_responsive#surface_living': '93 m²', 'detail_responsive#floor': '2. floor', 'detail_responsive#available_from': 'Immediately', 'location': '5022 Rombach, AG', 'description': '2.5 rooms, 93 m²«Moderne, lichtdurchflutete Attikawohnung mit Erdwärmeheizung»CHF 720,000.—detail_responsive#bookmark', 'detailed_description': 'detail_responsive#description_title2,5 Zimmerwohnung mit 93 m2 Wohnfläche und 28 m2 Südbalkon über die gesamte Länge der Wohnung, teilweise überdacht, mit hübsch gestaltetem Balkongarten (u.a. Säulenobst, Kräuter, Blumenstauden) und herrlichem Blick über das Aaretal bis hin zu Alpengipfeln bei klarer Sicht.Grosszügiger Wohn-Essbereich, Einbauküche mit Kücheninsel, moderne Elektrogeräte (z.B. Backofen mit Steamerfunktion, Induktionsherd)2 Duschbäder, mit begehbarer Dusche im 1. Bad und Wasch-/Trockenturm im 2. Bad.Raumhohe Fenster im gesamten Wohnbereich; Spotlights und Galerieleisten in allen Räumen; Schränke in Eing…",
         "lat": "47.4033",
         "lon": "8.033",
         "index": "17812",
         "ForestDensityL": "0.16336188225881",
         "ForestDensityM": "0.0958773699050547",
         "ForestDensityS": "0.0019109210075159",
         "Latitude": "47.3974158",
         "Locality": "Aarau",
         "Longitude": "8.0431495",
         "NoisePollutionRailwayL": "0.0",
         "NoisePollutionRailwayM": "0.0",
         "NoisePollutionRailwayS": "0.0",
         "NoisePollutionRoadL": "0.3349569875500661",
         "NoisePollutionRoadM": "0.3812569632341239",
         "NoisePollutionRoadS": "0.2975746268656715",
         "PopulationDensityL": "0.32588711964344",
         "PopulationDensityM": "0.3937832998986173",
         "PopulationDensityS": "0.6351943076081007",
         "RiversAndLakesL": "0.1542744194052519",
         "RiversAndLakesM": "0.1882285081314232",
         "RiversAndLakesS": "0.0",
         "WorkplaceDensityL": "0.1726464485235435",
         "WorkplaceDensityM": "0.1638498867680362",
         "WorkplaceDensityS": "0.1658304498269896",
         "Zip": "5000",
         "distanceToTrainStation": "0.9095874149023138",
         "gde_area_agriculture_percentage": "11.3544201135",
         "gde_area_forest_percentage": "32.197891322",
         "gde_area_nonproductive_percentage": "7.1370640714",
         "gde_area_settlement_percentage": "49.31062449310001",
         "gde_average_house_hold": "2.01",
         "gde_empty_apartments": "2.0237991835",
         "gde_foreigners_percentage": "21.35862331",
         "gde_new_homes_per_1000": "3.8145823274",
         "gde_politics_bdp": "3.6331343118",
         "gde_politics_cvp": "5.324420974200001",
         "gde_politics_evp": "3.7822022408",
         "gde_politics_fdp": "18.0895517654",
         "gde_politics_glp": "7.899807321799999",
         "gde_politics_gps": "8.8513047408",
         "gde_politics_pda": "nan",
         "gde_politics_rights": "0.7350317562",
         "gde_politics_sp": "26.5158543257",
         "gde_politics_svp": "22.6622897785",
         "gde_pop_per_km2": "1704.70016207",
         "gde_population": "21036.0",
         "gde_private_apartments": "10149.0",
         "gde_social_help_quota": "3.54901014",
         "gde_tax": "6.05",
         "gde_workers_sector1": "37.0",
         "gde_workers_sector2": "3092.0",
         "gde_workers_sector3": "30364.0",
         "gde_workers_total": "33493.0",
         "price_cleaned": "720000.0",
         "type": "penthouse",
         "Space extracted": "93.0",
         "rooms": "5.0",
         "_deepnote_index_column": "2"
        },
        {
         "Unnamed: 0": "3",
         "Unnamed: 0.1": "3",
         "Municipality": "Biberstein",
         "Living space": "154 m²",
         "Plot area": "370 m²",
         "Floor space": "257 m²",
         "Availability": "On request",
         "location": "Buhaldenstrasse 8A5023 Biberstein, AG",
         "description": "4.5 rooms, 154 m²«AgentSelly - Luxuriöses Eckhaus an toller Süd-West Lage»CHF 1,430,000.—Favourite",
         "detailed_description": "DescriptionDieses äusserst grosszügige Minergie-Eckhaus mit Süd-West Ausrichtung wird Sie mit einer luxuriösen Ausstattung, einer tollen Grundrissgestaltung und schönen Aussenräumen begeistern. Auf drei mit einem Lift verbundenen Etagen erwarten Sie ein grosszügiger Wohn- und Essbereich mit moderner Küche und Zugang zu Terrasse und Sitzplatz, zwei Schlafzimmer, ein Masterbedroom mit Ankleide und Bad en-Suite sowie viel Stauraum dank dem Keller und einer grossen Garage.Für weitere Informationen besuchen Sie uns auf:https://www.agentselly.ch/kaufen/objekt/XieWpo7jvqQj2n25jFurther information",
         "url": "https://www.immoscout24.ch//en/d/detached-house-buy-biberstein/7047212",
         "table": "b <article class=####Box-cYFBPY hKrxoH####><h2 class=####Box-cYFBPY gZLPvm####>Main information</h2><table class=####DataTable__StyledTable-sc-1o2xig5-1 jbXaEC####><tbody><tr><td class=####DataTable__SimpleCell-sc-1o2xig5-2 DataTable__Cell-sc-1o2xig5-4 edrNfG dGBatU####>Municipality</td><td class=####DataTable__SimpleCell-sc-1o2xig5-2 DataTable__CellValue-sc-1o2xig5-3 edrNfG rJZBK####>Biberstein</td></tr><tr><td class=####DataTable__SimpleCell-sc-1o2xig5-2 DataTable__Cell-sc-1o2xig5-4 edrNfG dGBatU####>Living space</td><td class=####DataTable__SimpleCell-sc-1o2xig5-2 DataTable__CellValue-sc-1o2xig5-3 edrNfG rJZBK####>154 m&#178;</td></tr><tr><td class=####DataTable__SimpleCell-sc-1o2xig5-2 DataTable__Cell-sc-1o2xig5-4 edrNfG dGBatU####>Plot area</td><td class=####DataTable__SimpleCell-sc-1o2xig5-2 DataTable__CellValue-sc-1o2xig5-3 edrNfG rJZBK####>370 m&#178;</td></tr><tr><td class=####DataTable__SimpleCell-sc-1o2xig5-2 DataTable__Cell-sc-1o2xig5-4 edrNfG dGBatU####>Floor space</td><t…",
         "Floor": "nan",
         "detail_responsive#municipality": "nan",
         "detail_responsive#surface_living": "nan",
         "detail_responsive#floor": "nan",
         "detail_responsive#available_from": "nan",
         "Gemeinde": "nan",
         "Wohnfläche": "nan",
         "Stockwerk": "nan",
         "Nutzfläche": "nan",
         "Verfügbarkeit": "nan",
         "Grundstücksfläche": "nan",
         "detail_responsive#surface_property": "nan",
         "detail_responsive#surface_usable": "nan",
         "Commune": "nan",
         "Surface habitable": "nan",
         "Surface du terrain": "nan",
         "Surface utile": "nan",
         "Disponibilité": "nan",
         "Étage": "nan",
         "Comune": "nan",
         "Superficie abitabile": "nan",
         "Disponibilità": "nan",
         "Gross return": "nan",
         "Piano": "nan",
         "Superficie del terreno": "nan",
         "Superficie utile": "nan",
         "Municipality_merged": "Biberstein",
         "Floor_merged": "nan",
         "Living_space_merged": "154 m²",
         "Floor_space_merged": "257 m²",
         "Plot_area_merged": "370 m²",
         "Availability_merged": "On request",
         "location_parsed": "Strasse:Buhaldenstrasse  8A plz:5023 Stadt: Biberstein Kanton: AG",
         "title": "AgentSelly - Luxuriöses Eckhaus an toller Süd-West Lage",
         "details": "4.5 rooms, 154 m², ",
         "address": "Buhaldenstrasse 8A, 5023 Biberstein, AG",
         "price": "CHF 1,430,000.—",
         "link": "/en/d/detached-house-buy-biberstein/7047212",
         "details_structured": "{'Municipality': 'Biberstein', 'Living space': '154 m²', 'Plot area': '370 m²', 'Floor space': '257 m²', 'Availability': 'On request', 'location': 'Buhaldenstrasse 8A5023 Biberstein, AG', 'description': '4.5 rooms, 154 m²«AgentSelly - Luxuriöses Eckhaus an toller Süd-West Lage»CHF 1,430,000.—Favourite', 'detailed_description': 'DescriptionDieses äusserst grosszügige Minergie-Eckhaus mit Süd-West Ausrichtung wird Sie mit einer luxuriösen Ausstattung, einer tollen Grundrissgestaltung und schönen Aussenräumen begeistern. Auf drei mit einem Lift verbundenen Etagen erwarten Sie ein grosszügiger Wohn- und Essbereich mit moderner Küche und Zugang zu Terrasse und Sitzplatz, zwei Schlafzimmer, ein Masterbedroom mit Ankleide und Bad en-Suite sowie viel Stauraum dank dem Keller und einer grossen Garage.Für weitere Informationen besuchen Sie uns auf:https://www.agentselly.ch/kaufen/objekt/XieWpo7jvqQj2n25jFurther information', 'url': 'https://www.immoscout24.ch//en/d/detached-house-buy-biberstein…",
         "lat": "47.415643",
         "lon": "8.0854228",
         "index": "16620",
         "ForestDensityL": "0.5111756483642033",
         "ForestDensityM": "0.2864510208821959",
         "ForestDensityS": "0.0909078094589692",
         "Latitude": "47.4159269",
         "Locality": "Biberstein",
         "Longitude": "8.0858398",
         "NoisePollutionRailwayL": "0.0",
         "NoisePollutionRailwayM": "0.0",
         "NoisePollutionRailwayS": "0.0",
         "NoisePollutionRoadL": "0.0582979379946271",
         "NoisePollutionRoadM": "0.067047626047332",
         "NoisePollutionRoadS": "0.1038503253796095",
         "PopulationDensityL": "0.0929137474087486",
         "PopulationDensityM": "0.2095297398560906",
         "PopulationDensityS": "0.3666736198025309",
         "RiversAndLakesL": "0.0821698280693361",
         "RiversAndLakesM": "0.0018113817490726",
         "RiversAndLakesS": "0.0118710714307242",
         "WorkplaceDensityL": "0.0301693757471317",
         "WorkplaceDensityM": "0.0521201856730648",
         "WorkplaceDensityS": "0.0989513422818792",
         "Zip": "5023",
         "distanceToTrainStation": "3.0384665928009302",
         "gde_area_agriculture_percentage": "30.6763285024",
         "gde_area_forest_percentage": "51.44927536229999",
         "gde_area_nonproductive_percentage": "4.5893719807",
         "gde_area_settlement_percentage": "13.2850241546",
         "gde_average_house_hold": "2.23",
         "gde_empty_apartments": "1.9946808511",
         "gde_foreigners_percentage": "9.25566343",
         "gde_new_homes_per_1000": "4.739336492900001",
         "gde_politics_bdp": "5.8737151248",
         "gde_politics_cvp": "4.5796622614",
         "gde_politics_evp": "3.359030837",
         "gde_politics_fdp": "18.3553597651",
         "gde_politics_glp": "6.0572687225",
         "gde_politics_gps": "7.0668135095",
         "gde_politics_pda": "nan",
         "gde_politics_rights": "0.2202643172",
         "gde_politics_sp": "20.392804699000003",
         "gde_politics_svp": "30.8094713656",
         "gde_pop_per_km2": "376.829268293",
         "gde_population": "1545.0",
         "gde_private_apartments": "686.0",
         "gde_social_help_quota": "2.2342586324",
         "gde_tax": "5.89",
         "gde_workers_sector1": "14.0",
         "gde_workers_sector2": "9.0",
         "gde_workers_sector3": "308.0",
         "gde_workers_total": "331.0",
         "price_cleaned": "1430000.0",
         "type": "detached-house",
         "Space extracted": "154.0",
         "rooms": "5.0",
         "_deepnote_index_column": "3"
        },
        {
         "Unnamed: 0": "4",
         "Unnamed: 0.1": "4",
         "Municipality": "Küttigen",
         "Living space": "142 m²",
         "Plot area": "nan",
         "Floor space": "nan",
         "Availability": "On request",
         "location": "5022 Rombach, AG",
         "description": "4.5 rooms, 142 m²«MIT GARTENSITZPLATZ UND VIELEN EXTRAS»CHF 995,000.—Favourite",
         "detailed_description": "DescriptionAus ehemals zwei Wohnungen wurde eine wunderschöne, grosszügige und helle Wohnung kreiert. Die Wohnung hat nebst ihren grossen und lichtdurchfluteten Räumlichkeiten einiges zu bieten; wie eine offene und moderne Küche mit grossem Wohn- und Essbereich, Terrasse mit eigenem Sitzplatz und pflegeleichtem Garten sowie einen grossen, beheizten Hobbyraum.Dieses BETTERHOMES-Angebot zeichnet sich durch folgende Vorteile aus:grosser, beheizter Hobbyraum (32 qm2)offene Küche mit grossem Wohn- und Essbereichhelle und grosszügige Zimmerzwei Nasszelleninsgesamt 3 Balkone und eine Terrasse mit Gartendreifach-verglaste Fensterweiterer Tiefgaragenplatz zur Miete optional96m2 Grundstückfläche zur Eigennutzungzzgl. CHF 40 000.- für 1 x Tiefgaragenplatz und 1 x Aussenparkplatzund, und, und...Interessiert? Kontaktieren Sie uns für eine unverbindliche Besichtigung auch Online-Besichtigung möglich!Nichts Passendes gefunden? Über 2 300 weitere Angebote unter: www.betterhomes.ch - der Immobilienfai…",
         "url": "https://www.immoscout24.ch//en/d/flat-buy-rombach/7293107",
         "table": "b <article class=####Box-cYFBPY hKrxoH####><h2 class=####Box-cYFBPY gZLPvm####>Main information</h2><table class=####DataTable__StyledTable-sc-1o2xig5-1 jbXaEC####><tbody><tr><td class=####DataTable__SimpleCell-sc-1o2xig5-2 DataTable__Cell-sc-1o2xig5-4 edrNfG dGBatU####>Municipality</td><td class=####DataTable__SimpleCell-sc-1o2xig5-2 DataTable__CellValue-sc-1o2xig5-3 edrNfG rJZBK####>K&#252;ttigen</td></tr><tr><td class=####DataTable__SimpleCell-sc-1o2xig5-2 DataTable__Cell-sc-1o2xig5-4 edrNfG dGBatU####>Living space</td><td class=####DataTable__SimpleCell-sc-1o2xig5-2 DataTable__CellValue-sc-1o2xig5-3 edrNfG rJZBK####>142 m&#178;</td></tr><tr><td class=####DataTable__SimpleCell-sc-1o2xig5-2 DataTable__Cell-sc-1o2xig5-4 edrNfG dGBatU####>Floor</td><td class=####DataTable__SimpleCell-sc-1o2xig5-2 DataTable__CellValue-sc-1o2xig5-3 edrNfG rJZBK####>Ground floor</td></tr><tr><td class=####DataTable__SimpleCell-sc-1o2xig5-2 DataTable__Cell-sc-1o2xig5-4 edrNfG dGBatU####>Availability</td><…",
         "Floor": "Ground floor",
         "detail_responsive#municipality": "nan",
         "detail_responsive#surface_living": "nan",
         "detail_responsive#floor": "nan",
         "detail_responsive#available_from": "nan",
         "Gemeinde": "nan",
         "Wohnfläche": "nan",
         "Stockwerk": "nan",
         "Nutzfläche": "nan",
         "Verfügbarkeit": "nan",
         "Grundstücksfläche": "nan",
         "detail_responsive#surface_property": "nan",
         "detail_responsive#surface_usable": "nan",
         "Commune": "nan",
         "Surface habitable": "nan",
         "Surface du terrain": "nan",
         "Surface utile": "nan",
         "Disponibilité": "nan",
         "Étage": "nan",
         "Comune": "nan",
         "Superficie abitabile": "nan",
         "Disponibilità": "nan",
         "Gross return": "nan",
         "Piano": "nan",
         "Superficie del terreno": "nan",
         "Superficie utile": "nan",
         "Municipality_merged": "Küttigen",
         "Floor_merged": "Ground floor",
         "Living_space_merged": "142 m²",
         "Floor_space_merged": "nan",
         "Plot_area_merged": "nan",
         "Availability_merged": "On request",
         "location_parsed": "Strasse:  plz:5022 Stadt: Rombach Kanton: AG",
         "title": "MIT GARTENSITZPLATZ UND VIELEN EXTRAS",
         "details": "4.5 rooms, 142 m², ",
         "address": "5022 Rombach, AG",
         "price": "CHF 995,000.—",
         "link": "/en/d/flat-buy-rombach/7293107",
         "details_structured": "{'Municipality': 'Küttigen', 'Living space': '142 m²', 'Floor': 'Ground floor', 'Availability': 'On request', 'location': '5022 Rombach, AG', 'description': '4.5 rooms, 142 m²«MIT GARTENSITZPLATZ UND VIELEN EXTRAS»CHF 995,000.—Favourite', 'detailed_description': 'DescriptionAus ehemals zwei Wohnungen wurde eine wunderschöne, grosszügige und helle Wohnung kreiert. Die Wohnung hat nebst ihren grossen und lichtdurchfluteten Räumlichkeiten einiges zu bieten; wie eine offene und moderne Küche mit grossem Wohn- und Essbereich, Terrasse mit eigenem Sitzplatz und pflegeleichtem Garten sowie einen grossen, beheizten Hobbyraum.Dieses BETTERHOMES-Angebot zeichnet sich durch folgende Vorteile aus:grosser, beheizter Hobbyraum (32 qm2)offene Küche mit grossem Wohn- und Essbereichhelle und grosszügige Zimmerzwei Nasszelleninsgesamt 3 Balkone und eine Terrasse mit Gartendreifach-verglaste Fensterweiterer Tiefgaragenplatz zur Miete optional96m2 Grundstückfläche zur Eigennutzungzzgl. CHF 40\\'000.- für …",
         "lat": "47.4038235",
         "lon": "8.0482879",
         "index": "12716",
         "ForestDensityL": "0.3338645858292834",
         "ForestDensityM": "0.2792762060976747",
         "ForestDensityS": "0.1458351747563474",
         "Latitude": "47.404870447",
         "Locality": "Rombach",
         "Longitude": "8.052780535",
         "NoisePollutionRailwayL": "0.0",
         "NoisePollutionRailwayM": "0.0",
         "NoisePollutionRailwayS": "0.0",
         "NoisePollutionRoadL": "0.1334981288523627",
         "NoisePollutionRoadM": "0.1329330885658624",
         "NoisePollutionRoadS": "0.2359174567763524",
         "PopulationDensityL": "0.1909856542889402",
         "PopulationDensityM": "0.1369843339269058",
         "PopulationDensityS": "0.2045486700622524",
         "RiversAndLakesL": "0.1095861846724958",
         "RiversAndLakesM": "0.1414731975610172",
         "RiversAndLakesS": "0.0918054478813124",
         "WorkplaceDensityL": "0.0469499064774209",
         "WorkplaceDensityM": "0.038007938007938",
         "WorkplaceDensityS": "0.0555090071219103",
         "Zip": "5022",
         "distanceToTrainStation": "1.4602445707934362",
         "gde_area_agriculture_percentage": "33.1370899916",
         "gde_area_forest_percentage": "49.7056349874",
         "gde_area_nonproductive_percentage": "1.1774600505",
         "gde_area_settlement_percentage": "15.9798149706",
         "gde_average_house_hold": "2.28",
         "gde_empty_apartments": "0.6915629322",
         "gde_foreigners_percentage": "15.9019898",
         "gde_new_homes_per_1000": "1.1608623549",
         "gde_politics_bdp": "5.2177397809",
         "gde_politics_cvp": "5.7280256479",
         "gde_politics_evp": "5.0066791344",
         "gde_politics_fdp": "19.1584290676",
         "gde_politics_glp": "6.5028052364",
         "gde_politics_gps": "7.4779588565",
         "gde_politics_pda": "nan",
         "gde_politics_rights": "0.8923323537000001",
         "gde_politics_sp": "20.4595244456",
         "gde_politics_svp": "27.5901683142",
         "gde_pop_per_km2": "511.008403361",
         "gde_population": "6081.0",
         "gde_private_apartments": "2638.0",
         "gde_social_help_quota": "1.7081260365000002",
         "gde_tax": "6.3",
         "gde_workers_sector1": "65.0",
         "gde_workers_sector2": "349.0",
         "gde_workers_sector3": "941.0",
         "gde_workers_total": "1355.0",
         "price_cleaned": "995000.0",
         "type": "flat",
         "Space extracted": "142.0",
         "rooms": "5.0",
         "_deepnote_index_column": "4"
        },
        {
         "Unnamed: 0": "5",
         "Unnamed: 0.1": "5",
         "Municipality": "Erlinsbach (AG)",
         "Living space": "190 m²",
         "Plot area": "1063 m²",
         "Floor space": "220 m²",
         "Availability": "On request",
         "location": "Buchhalde 365018 Erlinsbach, AG",
         "description": "5.5 rooms, 190 m²«Modernes, grosszügiges Maisonette Terrassenhaus an Toplage»CHF 2,160,000.—Favourite",
         "detailed_description": "DescriptionDer Blick in die Weite vermittelt Ruhe, ermöglicht Konzentration auf das Wesentliche. Ein teilweise gedeckter Sitzplatz und grosszügige Sonnenterrassen bieten zusätzlichen Lebensraum in den Sommermonaten. Geniessen Sie das idyllische Leben an besonntem Westhang in Erlinsbach und profitieren Sie von der Nähe zu Aarau, mit den Annehmlichkeiten der Stadt, mit dem guten Anschluss an die Städte Bern, Zürich, Basel und Luzern.Moderner, hochwertiger Ausbaustandard, autonomer Zugang, durch Schrägaufzug rollstuhlgängig erschlossen, Nebenräume mit viel Stauraum, die Küche und Nasszellen können weitgehendst auf Ihre persönlichen Bedürfnisse angepasst werden. 2 Parkplätze in der Einstallhalle sind im Kaufpreis enthalten.",
         "url": "https://www.immoscout24.ch//en/d/detached-house-buy-erlinsbach/7257554",
         "table": "b <article class=####Box-cYFBPY hKrxoH####><h2 class=####Box-cYFBPY gZLPvm####>Main information</h2><table class=####DataTable__StyledTable-sc-1o2xig5-1 jbXaEC####><tbody><tr><td class=####DataTable__SimpleCell-sc-1o2xig5-2 DataTable__Cell-sc-1o2xig5-4 edrNfG dGBatU####>Municipality</td><td class=####DataTable__SimpleCell-sc-1o2xig5-2 DataTable__CellValue-sc-1o2xig5-3 edrNfG rJZBK####>Erlinsbach (AG)</td></tr><tr><td class=####DataTable__SimpleCell-sc-1o2xig5-2 DataTable__Cell-sc-1o2xig5-4 edrNfG dGBatU####>Living space</td><td class=####DataTable__SimpleCell-sc-1o2xig5-2 DataTable__CellValue-sc-1o2xig5-3 edrNfG rJZBK####>190 m&#178;</td></tr><tr><td class=####DataTable__SimpleCell-sc-1o2xig5-2 DataTable__Cell-sc-1o2xig5-4 edrNfG dGBatU####>Plot area</td><td class=####DataTable__SimpleCell-sc-1o2xig5-2 DataTable__CellValue-sc-1o2xig5-3 edrNfG rJZBK####>1063 m&#178;</td></tr><tr><td class=####DataTable__SimpleCell-sc-1o2xig5-2 DataTable__Cell-sc-1o2xig5-4 edrNfG dGBatU####>Floor space<…",
         "Floor": "nan",
         "detail_responsive#municipality": "nan",
         "detail_responsive#surface_living": "nan",
         "detail_responsive#floor": "nan",
         "detail_responsive#available_from": "nan",
         "Gemeinde": "nan",
         "Wohnfläche": "nan",
         "Stockwerk": "nan",
         "Nutzfläche": "nan",
         "Verfügbarkeit": "nan",
         "Grundstücksfläche": "nan",
         "detail_responsive#surface_property": "nan",
         "detail_responsive#surface_usable": "nan",
         "Commune": "nan",
         "Surface habitable": "nan",
         "Surface du terrain": "nan",
         "Surface utile": "nan",
         "Disponibilité": "nan",
         "Étage": "nan",
         "Comune": "nan",
         "Superficie abitabile": "nan",
         "Disponibilità": "nan",
         "Gross return": "nan",
         "Piano": "nan",
         "Superficie del terreno": "nan",
         "Superficie utile": "nan",
         "Municipality_merged": "Erlinsbach (AG)",
         "Floor_merged": "nan",
         "Living_space_merged": "190 m²",
         "Floor_space_merged": "220 m²",
         "Plot_area_merged": "1063 m²",
         "Availability_merged": "On request",
         "location_parsed": "Strasse:Buchhalde  36 plz:5018 Stadt: Erlinsbach Kanton: AG",
         "title": "Modernes, grosszügiges Maisonette Terrassenhaus an Toplage",
         "details": "5.5 rooms, 190 m², ",
         "address": "Buchhalde 36, 5018 Erlinsbach, AG",
         "price": "CHF 2,160,000.—",
         "link": "/en/d/detached-house-buy-erlinsbach/7257554",
         "details_structured": "{'Municipality': 'Erlinsbach (AG)', 'Living space': '190 m²', 'Plot area': '1063 m²', 'Floor space': '220 m²', 'Availability': 'On request', 'location': 'Buchhalde 365018 Erlinsbach, AG', 'description': '5.5 rooms, 190 m²«Modernes, grosszügiges Maisonette Terrassenhaus an Toplage»CHF 2,160,000.—Favourite', 'detailed_description': 'DescriptionDer Blick in die Weite vermittelt Ruhe, ermöglicht Konzentration auf das Wesentliche. Ein teilweise gedeckter Sitzplatz und grosszügige Sonnenterrassen bieten zusätzlichen Lebensraum in den Sommermonaten. Geniessen Sie das idyllische Leben an besonntem Westhang in Erlinsbach und profitieren Sie von der Nähe zu Aarau, mit den Annehmlichkeiten der Stadt, mit dem guten Anschluss an die Städte Bern, Zürich, Basel und Luzern.Moderner, hochwertiger Ausbaustandard, autonomer Zugang, durch Schrägaufzug rollstuhlgängig erschlossen, Nebenräume mit viel Stauraum, die Küche und Nasszellen können weitgehendst auf Ihre persönlichen Bedürfnisse angepasst werden.…",
         "lat": "47.4009351",
         "lon": "8.0124603",
         "index": "17534",
         "ForestDensityL": "0.1905808417774203",
         "ForestDensityM": "0.1628383005420189",
         "ForestDensityS": "0.0347592084717792",
         "Latitude": "47.401163",
         "Locality": "Erlinsbach",
         "Longitude": "8.0120337",
         "NoisePollutionRailwayL": "0.0",
         "NoisePollutionRailwayM": "0.0",
         "NoisePollutionRailwayS": "0.0",
         "NoisePollutionRoadL": "0.1942216040709375",
         "NoisePollutionRoadM": "0.1432054251980272",
         "NoisePollutionRoadS": "0.1375854214123007",
         "PopulationDensityL": "0.2513930938874369",
         "PopulationDensityM": "0.2391501152780421",
         "PopulationDensityS": "0.4620592779884815",
         "RiversAndLakesL": "0.0",
         "RiversAndLakesM": "0.0",
         "RiversAndLakesS": "0.0",
         "WorkplaceDensityL": "0.0712243551478211",
         "WorkplaceDensityM": "0.0591505937048438",
         "WorkplaceDensityS": "0.0766037735849056",
         "Zip": "5018",
         "distanceToTrainStation": "3.147978364758858",
         "gde_area_agriculture_percentage": "32.9949238579",
         "gde_area_forest_percentage": "53.1979695431",
         "gde_area_nonproductive_percentage": "1.2182741117",
         "gde_area_settlement_percentage": "12.5888324873",
         "gde_average_house_hold": "2.3",
         "gde_empty_apartments": "1.866251944",
         "gde_foreigners_percentage": "17.30628208",
         "gde_new_homes_per_1000": "7.047571105",
         "gde_politics_bdp": "4.098056209",
         "gde_politics_cvp": "7.1024720399",
         "gde_politics_evp": "2.7733069209",
         "gde_politics_fdp": "20.7378977343",
         "gde_politics_glp": "5.5342330073",
         "gde_politics_gps": "5.3155049317000005",
         "gde_politics_pda": "nan",
         "gde_politics_rights": "0.9657050885",
         "gde_politics_sp": "15.3935041888",
         "gde_politics_svp": "36.7586975362",
         "gde_pop_per_km2": "414.908722109",
         "gde_population": "4091.0",
         "gde_private_apartments": "1752.0",
         "gde_social_help_quota": "2.5421595771",
         "gde_tax": "6.16",
         "gde_workers_sector1": "64.0",
         "gde_workers_sector2": "73.0",
         "gde_workers_sector3": "829.0",
         "gde_workers_total": "966.0",
         "price_cleaned": "2160000.0",
         "type": "detached-house",
         "Space extracted": "190.0",
         "rooms": "5.0",
         "_deepnote_index_column": "5"
        },
        {
         "Unnamed: 0": "6",
         "Unnamed: 0.1": "6",
         "Municipality": "Biberstein",
         "Living space": "124 m²",
         "Plot area": "200 m²",
         "Floor space": "nan",
         "Availability": "Immediately",
         "location": "5023 Biberstein, AG",
         "description": "4.5 rooms, 124 m²«Kompakt, doch geräumiges 4½ Zimmer-Mittelhaus (sanierungsbedürftig)»CHF 550,000.—Favourite",
         "detailed_description": "DescriptionZum Objekt:Kompakt und doch sehr geräumiges 4½ Zi-DEFH in familienfreundlichem Quartier.Das Mittelhaus mit Charme, Grundstück ca. 200 m², das Baujahr ist 1978 und die Nettowohnfläche misst ca. 124 m².Der Eingangsbereich ist auf der mittleren Etage der Liegenschaft, dort befindet sich die Garderobe, Küche, Gäste/WC und das sehr helle und grosszügigem Ess/-Wohnzimmer.Vom Ess/-Wohnzimmer gelangen Sie zu dem idyllischen angelegten Balkon der für erholsame und zu entspannende Stunden einlädt.Im Obergeschoss befinden sich die zwei Schlafzimmer mit Blick ins Grüne, die separate Dusche mit Lavabo so wie das Badezimmer mit Badewanne, Lavabo und WC.In der Kelleretage befindet sich die Waschküche inklusiver Trockenraum und ein Kellerabteil zu Verfügung.Durch die Waschküche können Sie über eine Treppe in den Tiefgarage gelangen.Zu dieser Liegenschaft gehört auch einen Garagenplatz.Für wen eignet sich das Objekt?Das Haus dürften Familien mit Kindern (dank der Nähe zu Kindergarten und Sc…",
         "url": "https://www.immoscout24.ch//en/d/terrace-house-buy-biberstein/7048767",
         "table": "b <article class=####Box-cYFBPY hKrxoH####><h2 class=####Box-cYFBPY gZLPvm####>Main information</h2><table class=####DataTable__StyledTable-sc-1o2xig5-1 jbXaEC####><tbody><tr><td class=####DataTable__SimpleCell-sc-1o2xig5-2 DataTable__Cell-sc-1o2xig5-4 edrNfG dGBatU####>Municipality</td><td class=####DataTable__SimpleCell-sc-1o2xig5-2 DataTable__CellValue-sc-1o2xig5-3 edrNfG rJZBK####>Biberstein</td></tr><tr><td class=####DataTable__SimpleCell-sc-1o2xig5-2 DataTable__Cell-sc-1o2xig5-4 edrNfG dGBatU####>Living space</td><td class=####DataTable__SimpleCell-sc-1o2xig5-2 DataTable__CellValue-sc-1o2xig5-3 edrNfG rJZBK####>124 m&#178;</td></tr><tr><td class=####DataTable__SimpleCell-sc-1o2xig5-2 DataTable__Cell-sc-1o2xig5-4 edrNfG dGBatU####>Plot area</td><td class=####DataTable__SimpleCell-sc-1o2xig5-2 DataTable__CellValue-sc-1o2xig5-3 edrNfG rJZBK####>200 m&#178;</td></tr><tr><td class=####DataTable__SimpleCell-sc-1o2xig5-2 DataTable__Cell-sc-1o2xig5-4 edrNfG dGBatU####>Availability</td><…",
         "Floor": "nan",
         "detail_responsive#municipality": "nan",
         "detail_responsive#surface_living": "nan",
         "detail_responsive#floor": "nan",
         "detail_responsive#available_from": "nan",
         "Gemeinde": "nan",
         "Wohnfläche": "nan",
         "Stockwerk": "nan",
         "Nutzfläche": "nan",
         "Verfügbarkeit": "nan",
         "Grundstücksfläche": "nan",
         "detail_responsive#surface_property": "nan",
         "detail_responsive#surface_usable": "nan",
         "Commune": "nan",
         "Surface habitable": "nan",
         "Surface du terrain": "nan",
         "Surface utile": "nan",
         "Disponibilité": "nan",
         "Étage": "nan",
         "Comune": "nan",
         "Superficie abitabile": "nan",
         "Disponibilità": "nan",
         "Gross return": "nan",
         "Piano": "nan",
         "Superficie del terreno": "nan",
         "Superficie utile": "nan",
         "Municipality_merged": "Biberstein",
         "Floor_merged": "nan",
         "Living_space_merged": "124 m²",
         "Floor_space_merged": "nan",
         "Plot_area_merged": "200 m²",
         "Availability_merged": "Immediately",
         "location_parsed": "Strasse:  plz:5023 Stadt: Biberstein Kanton: AG",
         "title": "Kompakt, doch geräumiges 4½ Zimmer-Mittelhaus (sanierungsbedürftig)",
         "details": "4.5 rooms, 124 m², ",
         "address": "5023 Biberstein, AG",
         "price": "CHF 550,000.—",
         "link": "/en/d/terrace-house-buy-biberstein/7048767",
         "details_structured": "{'Municipality': 'Biberstein', 'Living space': '124 m²', 'Plot area': '200 m²', 'Availability': 'Immediately', 'location': '5023 Biberstein, AG', 'description': '4.5 rooms, 124 m²«Kompakt, doch geräumiges 4½ Zimmer-Mittelhaus (sanierungsbedürftig)»CHF 550,000.—Favourite', 'detailed_description': 'DescriptionZum Objekt:Kompakt und doch sehr geräumiges 4½ Zi-DEFH in familienfreundlichem Quartier.Das Mittelhaus mit Charme, Grundstück ca. 200 m², das Baujahr ist 1978 und die Nettowohnfläche misst ca. 124 m².Der Eingangsbereich ist auf der mittleren Etage der Liegenschaft, dort befindet sich die Garderobe, Küche, Gäste/WC und das sehr helle und grosszügigem Ess/-Wohnzimmer.Vom Ess/-Wohnzimmer gelangen Sie zu dem idyllischen angelegten Balkon der für erholsame und zu entspannende Stunden einlädt.Im Obergeschoss befinden sich die zwei Schlafzimmer mit Blick ins Grüne, die separate Dusche mit Lavabo so wie das Badezimmer mit Badewanne, Lavabo und WC.In der Kelleretage befindet sich die Waschk…",
         "lat": "47.4140667",
         "lon": "8.0821155",
         "index": "12716",
         "ForestDensityL": "0.5111756483642033",
         "ForestDensityM": "0.2864510208821959",
         "ForestDensityS": "0.0909078094589692",
         "Latitude": "47.4159269",
         "Locality": "Biberstein",
         "Longitude": "8.0858398",
         "NoisePollutionRailwayL": "0.0",
         "NoisePollutionRailwayM": "0.0",
         "NoisePollutionRailwayS": "0.0",
         "NoisePollutionRoadL": "0.0582979379946271",
         "NoisePollutionRoadM": "0.067047626047332",
         "NoisePollutionRoadS": "0.1038503253796095",
         "PopulationDensityL": "0.0929137474087486",
         "PopulationDensityM": "0.2095297398560906",
         "PopulationDensityS": "0.3666736198025309",
         "RiversAndLakesL": "0.0821698280693361",
         "RiversAndLakesM": "0.0018113817490726",
         "RiversAndLakesS": "0.0118710714307242",
         "WorkplaceDensityL": "0.0301693757471317",
         "WorkplaceDensityM": "0.0521201856730648",
         "WorkplaceDensityS": "0.0989513422818792",
         "Zip": "5023",
         "distanceToTrainStation": "3.0384665928009302",
         "gde_area_agriculture_percentage": "30.6763285024",
         "gde_area_forest_percentage": "51.44927536229999",
         "gde_area_nonproductive_percentage": "4.5893719807",
         "gde_area_settlement_percentage": "13.2850241546",
         "gde_average_house_hold": "2.23",
         "gde_empty_apartments": "1.9946808511",
         "gde_foreigners_percentage": "9.25566343",
         "gde_new_homes_per_1000": "4.739336492900001",
         "gde_politics_bdp": "5.8737151248",
         "gde_politics_cvp": "4.5796622614",
         "gde_politics_evp": "3.359030837",
         "gde_politics_fdp": "18.3553597651",
         "gde_politics_glp": "6.0572687225",
         "gde_politics_gps": "7.0668135095",
         "gde_politics_pda": "nan",
         "gde_politics_rights": "0.2202643172",
         "gde_politics_sp": "20.392804699000003",
         "gde_politics_svp": "30.8094713656",
         "gde_pop_per_km2": "376.829268293",
         "gde_population": "1545.0",
         "gde_private_apartments": "686.0",
         "gde_social_help_quota": "2.2342586324",
         "gde_tax": "5.89",
         "gde_workers_sector1": "14.0",
         "gde_workers_sector2": "9.0",
         "gde_workers_sector3": "308.0",
         "gde_workers_total": "331.0",
         "price_cleaned": "550000.0",
         "type": "terrace-house",
         "Space extracted": "124.0",
         "rooms": "5.0",
         "_deepnote_index_column": "6"
        },
        {
         "Unnamed: 0": "7",
         "Unnamed: 0.1": "7",
         "Municipality": "Aarau",
         "Living space": "nan",
         "Plot area": "nan",
         "Floor space": "nan",
         "Availability": "On request",
         "location": "5004 Aarau, AG",
         "description": "4.5 rooms«Preishit! Grossräumige Wohnung mitten in Aarau»CHF 590,000.—Favourite",
         "detailed_description": "DescriptionNaturnah und doch am Zentrum diese Wohnung lässt keine wünsche offen.Lichtdurchflutete grosszügige RäumeDer Wohnbereich und Zimmer haben LaminatbodenGrosser offener KorridorWaschmaschine und Tumbler in der Wohnung2 Balkone mit jeweils Morgen- und AbendsonneTiefgaragenplatz kann man für 30000 CHF. dazu kaufen - Grosser Spielplatz direkt vor dem hinteren Balkonund, und, und....Kommen Sie vorbei, wir öffnen Ihnen gerne die Tür.Further information",
         "url": "https://www.immoscout24.ch//en/d/flat-buy-aarau/7262713",
         "table": "b <article class=####Box-cYFBPY hKrxoH####><h2 class=####Box-cYFBPY gZLPvm####>Main information</h2><table class=####DataTable__StyledTable-sc-1o2xig5-1 jbXaEC####><tbody><tr><td class=####DataTable__SimpleCell-sc-1o2xig5-2 DataTable__Cell-sc-1o2xig5-4 edrNfG dGBatU####>Municipality</td><td class=####DataTable__SimpleCell-sc-1o2xig5-2 DataTable__CellValue-sc-1o2xig5-3 edrNfG rJZBK####>Aarau</td></tr><tr><td class=####DataTable__SimpleCell-sc-1o2xig5-2 DataTable__Cell-sc-1o2xig5-4 edrNfG dGBatU####>Floor</td><td class=####DataTable__SimpleCell-sc-1o2xig5-2 DataTable__CellValue-sc-1o2xig5-3 edrNfG rJZBK####>3. floor</td></tr><tr><td class=####DataTable__SimpleCell-sc-1o2xig5-2 DataTable__Cell-sc-1o2xig5-4 edrNfG dGBatU####>Availability</td><td class=####DataTable__SimpleCell-sc-1o2xig5-2 DataTable__CellValue-sc-1o2xig5-3 edrNfG rJZBK####>On request</td></tr></tbody></table><hr class=####Divider-iprSaI bBhTLQ####/></article> ",
         "Floor": "3. floor",
         "detail_responsive#municipality": "nan",
         "detail_responsive#surface_living": "nan",
         "detail_responsive#floor": "nan",
         "detail_responsive#available_from": "nan",
         "Gemeinde": "nan",
         "Wohnfläche": "nan",
         "Stockwerk": "nan",
         "Nutzfläche": "nan",
         "Verfügbarkeit": "nan",
         "Grundstücksfläche": "nan",
         "detail_responsive#surface_property": "nan",
         "detail_responsive#surface_usable": "nan",
         "Commune": "nan",
         "Surface habitable": "nan",
         "Surface du terrain": "nan",
         "Surface utile": "nan",
         "Disponibilité": "nan",
         "Étage": "nan",
         "Comune": "nan",
         "Superficie abitabile": "nan",
         "Disponibilità": "nan",
         "Gross return": "nan",
         "Piano": "nan",
         "Superficie del terreno": "nan",
         "Superficie utile": "nan",
         "Municipality_merged": "Aarau",
         "Floor_merged": "3. floor",
         "Living_space_merged": "nan",
         "Floor_space_merged": "nan",
         "Plot_area_merged": "nan",
         "Availability_merged": "On request",
         "location_parsed": "Strasse:  plz:5004 Stadt: Aarau Kanton: AG",
         "title": "Preishit! Grossräumige Wohnung mitten in Aarau",
         "details": "4.5 rooms, ",
         "address": "5004 Aarau, AG",
         "price": "CHF 590,000.—",
         "link": "/en/d/flat-buy-aarau/7262713",
         "details_structured": "{'Municipality': 'Aarau', 'Floor': '3. floor', 'Availability': 'On request', 'location': '5004 Aarau, AG', 'description': '4.5 rooms«Preishit! Grossräumige Wohnung mitten in Aarau»CHF 590,000.—Favourite', 'detailed_description': 'DescriptionNaturnah und doch am Zentrum diese Wohnung lässt keine wünsche offen.Lichtdurchflutete grosszügige RäumeDer Wohnbereich und Zimmer haben LaminatbodenGrosser offener KorridorWaschmaschine und Tumbler in der Wohnung2 Balkone mit jeweils Morgen- und AbendsonneTiefgaragenplatz kann man für 30000 CHF. dazu kaufen - Grosser Spielplatz direkt vor dem hinteren Balkonund, und, und....Kommen Sie vorbei, wir öffnen Ihnen gerne die Tür.Further information', 'url': 'https://www.immoscout24.ch//en/d/flat-buy-aarau/7262713', 'table': 'b\\'<article class=\"Box-cYFBPY hKrxoH\"><h2 class=\"Box-cYFBPY gZLPvm\">Main information</h2><table class=\"DataTable__StyledTable-sc-1o2xig5-1 jbXaEC\"><tbody><tr><td class=\"DataTable__SimpleCell-sc-1o2xig5-2 DataTable__Cell-sc-1o2xig5-4…",
         "lat": "47.3927146",
         "lon": "8.0444448",
         "index": "12716",
         "ForestDensityL": "0.0513337234944338",
         "ForestDensityM": "0.0",
         "ForestDensityS": "0.0",
         "Latitude": "47.3888213",
         "Locality": "Aarau",
         "Longitude": "8.042194",
         "NoisePollutionRailwayL": "0.0484502178738798",
         "NoisePollutionRailwayM": "0.057052752293578",
         "NoisePollutionRailwayS": "0.0518475750577367",
         "NoisePollutionRoadL": "0.3481245346239762",
         "NoisePollutionRoadM": "0.3747361310478764",
         "NoisePollutionRoadS": "0.4396603098927293",
         "PopulationDensityL": "0.2990176614636081",
         "PopulationDensityM": "0.2504281483389132",
         "PopulationDensityS": "0.2528155623811613",
         "RiversAndLakesL": "0.0002519716766244",
         "RiversAndLakesM": "0.0",
         "RiversAndLakesS": "0.0",
         "WorkplaceDensityL": "0.3148628756120196",
         "WorkplaceDensityM": "0.2945338458531501",
         "WorkplaceDensityS": "0.3015720524017467",
         "Zip": "5000",
         "distanceToTrainStation": "0.7388252098172226",
         "gde_area_agriculture_percentage": "11.3544201135",
         "gde_area_forest_percentage": "32.197891322",
         "gde_area_nonproductive_percentage": "7.1370640714",
         "gde_area_settlement_percentage": "49.31062449310001",
         "gde_average_house_hold": "2.01",
         "gde_empty_apartments": "2.0237991835",
         "gde_foreigners_percentage": "21.35862331",
         "gde_new_homes_per_1000": "3.8145823274",
         "gde_politics_bdp": "3.6331343118",
         "gde_politics_cvp": "5.324420974200001",
         "gde_politics_evp": "3.7822022408",
         "gde_politics_fdp": "18.0895517654",
         "gde_politics_glp": "7.899807321799999",
         "gde_politics_gps": "8.8513047408",
         "gde_politics_pda": "nan",
         "gde_politics_rights": "0.7350317562",
         "gde_politics_sp": "26.5158543257",
         "gde_politics_svp": "22.6622897785",
         "gde_pop_per_km2": "1704.70016207",
         "gde_population": "21036.0",
         "gde_private_apartments": "10149.0",
         "gde_social_help_quota": "3.54901014",
         "gde_tax": "6.05",
         "gde_workers_sector1": "37.0",
         "gde_workers_sector2": "3092.0",
         "gde_workers_sector3": "30364.0",
         "gde_workers_total": "33493.0",
         "price_cleaned": "590000.0",
         "type": "flat",
         "Space extracted": "nan",
         "rooms": "5.0",
         "_deepnote_index_column": "7"
        },
        {
         "Unnamed: 0": "8",
         "Unnamed: 0.1": "8",
         "Municipality": "Aarau",
         "Living space": "75 m²",
         "Plot area": "nan",
         "Floor space": "nan",
         "Availability": "On request",
         "location": "Siebenmatten 495032 Aarau Rohr, AG",
         "description": "3.5 rooms, 75 m²«Gepflegte 3.5 Zimmer Dachwohnung mit Balkon in Aarau / Rohr»CHF 547,000.—Favourite",
         "detailed_description": "DescriptionDie Überbauung Siebenmatten in Aarau/Rohr liegt an der Grenze zu Aarau. Die Suhre fliesst direkt hinter der grossen Wiese neben dem Haus. Eine eigene Tiefgarage sorgt für komfortable Parkmöglichkeiten und die Lage der Überbauung an einer Sackgasse reduziert den Verkehr im Quartier aufs absolute Minimum. Errichtet Mitte der Neunzigerjahre in bester schweizer Qualität wirkt dieses Ensemble keineswegs angestaubt. Die Fusswege mit den gelegten Platten und viel Grün in der Umgebung machen die Überbauung Siebenmatten zu einem gemütlichen Zuhause. Das Naherholungsgebiet an der Aare ist in nur 5 Gehminuten erreichbar und lädt mit seinen Waldwegen und Sandbuchten zum verweilen und baden ein.Eine Wohnung mit CharakterDie 3.5 Zimmer-Dachwohnung befindet sich im dritten Stockwerk. Die Wohnbereiche sind mit schönem Echtholzparkett ausgelegt und die verwinkelte Dachkonstruktion mit weissen Holzlatten vertäfelt was der Wohnung einen hellen und luftigen Charakter gibt. Die offene Küche wur…",
         "url": "https://www.immoscout24.ch//en/d/flat-buy-aarau-rohr/7269563",
         "table": "b <article class=####Box-cYFBPY hKrxoH####><h2 class=####Box-cYFBPY gZLPvm####>Main information</h2><table class=####DataTable__StyledTable-sc-1o2xig5-1 jbXaEC####><tbody><tr><td class=####DataTable__SimpleCell-sc-1o2xig5-2 DataTable__Cell-sc-1o2xig5-4 edrNfG dGBatU####>Municipality</td><td class=####DataTable__SimpleCell-sc-1o2xig5-2 DataTable__CellValue-sc-1o2xig5-3 edrNfG rJZBK####>Aarau</td></tr><tr><td class=####DataTable__SimpleCell-sc-1o2xig5-2 DataTable__Cell-sc-1o2xig5-4 edrNfG dGBatU####>Living space</td><td class=####DataTable__SimpleCell-sc-1o2xig5-2 DataTable__CellValue-sc-1o2xig5-3 edrNfG rJZBK####>75 m&#178;</td></tr><tr><td class=####DataTable__SimpleCell-sc-1o2xig5-2 DataTable__Cell-sc-1o2xig5-4 edrNfG dGBatU####>Availability</td><td class=####DataTable__SimpleCell-sc-1o2xig5-2 DataTable__CellValue-sc-1o2xig5-3 edrNfG rJZBK####>On request</td></tr></tbody></table><hr class=####Divider-iprSaI bBhTLQ####/></article> ",
         "Floor": "nan",
         "detail_responsive#municipality": "nan",
         "detail_responsive#surface_living": "nan",
         "detail_responsive#floor": "nan",
         "detail_responsive#available_from": "nan",
         "Gemeinde": "nan",
         "Wohnfläche": "nan",
         "Stockwerk": "nan",
         "Nutzfläche": "nan",
         "Verfügbarkeit": "nan",
         "Grundstücksfläche": "nan",
         "detail_responsive#surface_property": "nan",
         "detail_responsive#surface_usable": "nan",
         "Commune": "nan",
         "Surface habitable": "nan",
         "Surface du terrain": "nan",
         "Surface utile": "nan",
         "Disponibilité": "nan",
         "Étage": "nan",
         "Comune": "nan",
         "Superficie abitabile": "nan",
         "Disponibilità": "nan",
         "Gross return": "nan",
         "Piano": "nan",
         "Superficie del terreno": "nan",
         "Superficie utile": "nan",
         "Municipality_merged": "Aarau",
         "Floor_merged": "nan",
         "Living_space_merged": "75 m²",
         "Floor_space_merged": "nan",
         "Plot_area_merged": "nan",
         "Availability_merged": "On request",
         "location_parsed": "Strasse:Siebenmatten  49 plz:5032 Stadt: Aarau Rohr Kanton: AG",
         "title": "Gepflegte 3.5 Zimmer Dachwohnung mit Balkon in Aarau / Rohr",
         "details": "3.5 rooms, 75 m², ",
         "address": "Siebenmatten 49, 5032 Aarau Rohr, AG",
         "price": "CHF 547,000.—",
         "link": "/en/d/flat-buy-aarau-rohr/7269563",
         "details_structured": "{'Municipality': 'Aarau', 'Living space': '75 m²', 'Availability': 'On request', 'location': 'Siebenmatten 495032 Aarau Rohr, AG', 'description': '3.5 rooms, 75 m²«Gepflegte 3.5 Zimmer Dachwohnung mit Balkon in Aarau / Rohr»CHF 547,000.—Favourite', 'detailed_description': 'DescriptionDie Überbauung Siebenmatten in Aarau/Rohr liegt an der Grenze zu Aarau. Die Suhre fliesst direkt hinter der grossen Wiese neben dem Haus. Eine eigene Tiefgarage sorgt für komfortable Parkmöglichkeiten und die Lage der Überbauung an einer Sackgasse reduziert den Verkehr im Quartier aufs absolute Minimum. Errichtet Mitte der Neunzigerjahre in bester schweizer Qualität wirkt dieses Ensemble keineswegs angestaubt. Die Fusswege mit den gelegten Platten und viel Grün in der Umgebung machen die Überbauung Siebenmatten zu einem gemütlichen Zuhause. Das Naherholungsgebiet an der Aare ist in nur 5 Gehminuten erreichbar und lädt mit seinen Waldwegen und Sandbuchten zum verweilen und baden ein.Eine Wohnung mit Charak…",
         "lat": "47.4011231",
         "lon": "8.0706905",
         "index": "54202",
         "ForestDensityL": "0.2771490687670784",
         "ForestDensityM": "0.4383437265382463",
         "ForestDensityS": "0.3275279750760369",
         "Latitude": "47.4009293",
         "Locality": "Aarau Rohr",
         "Longitude": "8.070691199999999",
         "NoisePollutionRailwayL": "0.0229970385466588",
         "NoisePollutionRailwayM": "0.0037454929752579",
         "NoisePollutionRailwayS": "0.0",
         "NoisePollutionRoadL": "0.4007233747493487",
         "NoisePollutionRoadM": "0.4096356485604037",
         "NoisePollutionRoadS": "0.3005241345685032",
         "PopulationDensityL": "0.1382647083770688",
         "PopulationDensityM": "0.2400370538415003",
         "PopulationDensityS": "0.5617206982543641",
         "RiversAndLakesL": "0.0360129114557891",
         "RiversAndLakesM": "0.0389475283667383",
         "RiversAndLakesS": "0.0344016162188561",
         "WorkplaceDensityL": "0.0800284315274048",
         "WorkplaceDensityM": "0.071780629509034",
         "WorkplaceDensityS": "0.1207979626485568",
         "Zip": "5032",
         "distanceToTrainStation": "1.018877885980325",
         "gde_area_agriculture_percentage": "11.3544201135",
         "gde_area_forest_percentage": "32.197891322",
         "gde_area_nonproductive_percentage": "7.1370640714",
         "gde_area_settlement_percentage": "49.31062449310001",
         "gde_average_house_hold": "2.01",
         "gde_empty_apartments": "2.0237991835",
         "gde_foreigners_percentage": "21.35862331",
         "gde_new_homes_per_1000": "3.8145823274",
         "gde_politics_bdp": "3.6331343118",
         "gde_politics_cvp": "5.324420974200001",
         "gde_politics_evp": "3.7822022408",
         "gde_politics_fdp": "18.0895517654",
         "gde_politics_glp": "7.899807321799999",
         "gde_politics_gps": "8.8513047408",
         "gde_politics_pda": "nan",
         "gde_politics_rights": "0.7350317562",
         "gde_politics_sp": "26.5158543257",
         "gde_politics_svp": "22.6622897785",
         "gde_pop_per_km2": "1704.70016207",
         "gde_population": "21036.0",
         "gde_private_apartments": "10149.0",
         "gde_social_help_quota": "3.54901014",
         "gde_tax": "6.05",
         "gde_workers_sector1": "37.0",
         "gde_workers_sector2": "3092.0",
         "gde_workers_sector3": "30364.0",
         "gde_workers_total": "33493.0",
         "price_cleaned": "547000.0",
         "type": "flat",
         "Space extracted": "75.0",
         "rooms": "5.0",
         "_deepnote_index_column": "8"
        },
        {
         "Unnamed: 0": "9",
         "Unnamed: 0.1": "9",
         "Municipality": "Erlinsbach (AG)",
         "Living space": "110 m²",
         "Plot area": "2116 m²",
         "Floor space": "nan",
         "Availability": "On request",
         "location": "5018 Erlinsbach, AG",
         "description": "4.5 rooms, 110 m²«Renovierte 4.5 Zimmer Terrassenwohnung mit traumhafter Fernsicht»CHF 1,125,000.—Favourite",
         "detailed_description": "DescriptionTreten Sie ein, in Ihr neues, liebevoll renoviertes Schmuckstück - eine traumhafte Fernsicht an sonnenverwöhnter Lage erwartet Sie!Ruhig gelegen und doch ist die Kantonshauptstadt Aarau in Kürze erreicht - hier in Erlinsbach AG befindet sich diese charmante 4.5 Zimmer Terrassenwohnung.Über den Eingang gelangen Sie in das geräumige Entrée, welches Ihnen die Möglichkeit für einen Home-Office-Bereich bietet. Hier haben Ihre Gäste ausserdem den Zugang zu einem separaten Gäste-WC mit Dusche. Sie bewegen sich in den Essbereich und bemerken den renovierten Boden - ein Natur-Eichen-Parkett!Rechts angrenzend an den Essbereich befindet sich die ebenfalls frisch renovierte, schmuckvolle Küche.Gelangen Sie nun in das grosszügige, helle Wohnzimmer - von wo aus Sie direkten Zugang auf die komplett sanierte Terrasse erhalten. Auf der Terrasse geniessen Sie eine traumhafte, unverbaubare Fernsicht und profitieren von der ausserordentlich gut besonnten Lage.Vom Essbereich aus erreichen Sie d…",
         "url": "https://www.immoscout24.ch//en/d/stepped-house-buy-erlinsbach/7214319",
         "table": "b <article class=####Box-cYFBPY hKrxoH####><h2 class=####Box-cYFBPY gZLPvm####>Main information</h2><table class=####DataTable__StyledTable-sc-1o2xig5-1 jbXaEC####><tbody><tr><td class=####DataTable__SimpleCell-sc-1o2xig5-2 DataTable__Cell-sc-1o2xig5-4 edrNfG dGBatU####>Municipality</td><td class=####DataTable__SimpleCell-sc-1o2xig5-2 DataTable__CellValue-sc-1o2xig5-3 edrNfG rJZBK####>Erlinsbach (AG)</td></tr><tr><td class=####DataTable__SimpleCell-sc-1o2xig5-2 DataTable__Cell-sc-1o2xig5-4 edrNfG dGBatU####>Living space</td><td class=####DataTable__SimpleCell-sc-1o2xig5-2 DataTable__CellValue-sc-1o2xig5-3 edrNfG rJZBK####>110 m&#178;</td></tr><tr><td class=####DataTable__SimpleCell-sc-1o2xig5-2 DataTable__Cell-sc-1o2xig5-4 edrNfG dGBatU####>Plot area</td><td class=####DataTable__SimpleCell-sc-1o2xig5-2 DataTable__CellValue-sc-1o2xig5-3 edrNfG rJZBK####>2116 m&#178;</td></tr><tr><td class=####DataTable__SimpleCell-sc-1o2xig5-2 DataTable__Cell-sc-1o2xig5-4 edrNfG dGBatU####>Availability…",
         "Floor": "nan",
         "detail_responsive#municipality": "nan",
         "detail_responsive#surface_living": "nan",
         "detail_responsive#floor": "nan",
         "detail_responsive#available_from": "nan",
         "Gemeinde": "nan",
         "Wohnfläche": "nan",
         "Stockwerk": "nan",
         "Nutzfläche": "nan",
         "Verfügbarkeit": "nan",
         "Grundstücksfläche": "nan",
         "detail_responsive#surface_property": "nan",
         "detail_responsive#surface_usable": "nan",
         "Commune": "nan",
         "Surface habitable": "nan",
         "Surface du terrain": "nan",
         "Surface utile": "nan",
         "Disponibilité": "nan",
         "Étage": "nan",
         "Comune": "nan",
         "Superficie abitabile": "nan",
         "Disponibilità": "nan",
         "Gross return": "nan",
         "Piano": "nan",
         "Superficie del terreno": "nan",
         "Superficie utile": "nan",
         "Municipality_merged": "Erlinsbach (AG)",
         "Floor_merged": "nan",
         "Living_space_merged": "110 m²",
         "Floor_space_merged": "nan",
         "Plot_area_merged": "2116 m²",
         "Availability_merged": "On request",
         "location_parsed": "Strasse:  plz:5018 Stadt: Erlinsbach Kanton: AG",
         "title": "Renovierte 4.5 Zimmer Terrassenwohnung mit traumhafter Fernsicht",
         "details": "4.5 rooms, 110 m², ",
         "address": "5018 Erlinsbach, AG",
         "price": "CHF 1,125,000.—",
         "link": "/en/d/stepped-house-buy-erlinsbach/7214319",
         "details_structured": "{'Municipality': 'Erlinsbach (AG)', 'Living space': '110 m²', 'Plot area': '2116 m²', 'Availability': 'On request', 'location': '5018 Erlinsbach, AG', 'description': '4.5 rooms, 110 m²«Renovierte 4.5 Zimmer Terrassenwohnung mit traumhafter Fernsicht»CHF 1,125,000.—Favourite', 'detailed_description': \"DescriptionTreten Sie ein, in Ihr neues, liebevoll renoviertes Schmuckstück - eine traumhafte Fernsicht an sonnenverwöhnter Lage erwartet Sie!Ruhig gelegen und doch ist die Kantonshauptstadt Aarau in Kürze erreicht - hier in Erlinsbach AG befindet sich diese charmante 4.5 Zimmer Terrassenwohnung.Über den Eingang gelangen Sie in das geräumige Entrée, welches Ihnen die Möglichkeit für einen Home-Office-Bereich bietet. Hier haben Ihre Gäste ausserdem den Zugang zu einem separaten Gäste-WC mit Dusche. Sie bewegen sich in den Essbereich und bemerken den renovierten Boden - ein Natur-Eichen-Parkett!Rechts angrenzend an den Essbereich befindet sich die ebenfalls frisch renovierte, schmuckvolle K…",
         "lat": "47.3968661",
         "lon": "8.0133738",
         "index": "12716",
         "ForestDensityL": "0.1403725122516987",
         "ForestDensityM": "0.1400845843564291",
         "ForestDensityS": "0.1566497823100051",
         "Latitude": "47.3952951",
         "Locality": "Erlinsbach",
         "Longitude": "8.0127521",
         "NoisePollutionRailwayL": "0.0",
         "NoisePollutionRailwayM": "0.0",
         "NoisePollutionRailwayS": "0.0",
         "NoisePollutionRoadL": "0.200754294108784",
         "NoisePollutionRoadM": "0.2191866646415553",
         "NoisePollutionRoadS": "0.1551204819277108",
         "PopulationDensityL": "0.2225930391830216",
         "PopulationDensityM": "0.208932454905974",
         "PopulationDensityS": "0.2558662980292074",
         "RiversAndLakesL": "0.0",
         "RiversAndLakesM": "0.0",
         "RiversAndLakesS": "0.0",
         "WorkplaceDensityL": "0.0595320351758793",
         "WorkplaceDensityM": "0.0568003542510121",
         "WorkplaceDensityS": "0.0867059318468658",
         "Zip": "5018",
         "distanceToTrainStation": "2.8184856401545604",
         "gde_area_agriculture_percentage": "32.9949238579",
         "gde_area_forest_percentage": "53.1979695431",
         "gde_area_nonproductive_percentage": "1.2182741117",
         "gde_area_settlement_percentage": "12.5888324873",
         "gde_average_house_hold": "2.3",
         "gde_empty_apartments": "1.866251944",
         "gde_foreigners_percentage": "17.30628208",
         "gde_new_homes_per_1000": "7.047571105",
         "gde_politics_bdp": "4.098056209",
         "gde_politics_cvp": "7.1024720399",
         "gde_politics_evp": "2.7733069209",
         "gde_politics_fdp": "20.7378977343",
         "gde_politics_glp": "5.5342330073",
         "gde_politics_gps": "5.3155049317000005",
         "gde_politics_pda": "nan",
         "gde_politics_rights": "0.9657050885",
         "gde_politics_sp": "15.3935041888",
         "gde_politics_svp": "36.7586975362",
         "gde_pop_per_km2": "414.908722109",
         "gde_population": "4091.0",
         "gde_private_apartments": "1752.0",
         "gde_social_help_quota": "2.5421595771",
         "gde_tax": "6.16",
         "gde_workers_sector1": "64.0",
         "gde_workers_sector2": "73.0",
         "gde_workers_sector3": "829.0",
         "gde_workers_total": "966.0",
         "price_cleaned": "1125000.0",
         "type": "stepped-house",
         "Space extracted": "110.0",
         "rooms": "5.0",
         "_deepnote_index_column": "9"
        }
       ]
      },
      "text/plain": "       Unnamed: 0  Unnamed: 0.1 Municipality Living space Plot area  \\\n0               0             0   Biberstein       100 m²       NaN   \n1               1             1   Biberstein       156 m²    222 m²   \n2               2             2          NaN          NaN       NaN   \n3               3             3   Biberstein       154 m²    370 m²   \n4               4             4     Küttigen       142 m²       NaN   \n...           ...           ...          ...          ...       ...   \n13373       13373         13373        Uster        70 m²       NaN   \n13374       13374         13374   Volketswil          NaN    284 m²   \n13375       13375         13375      Seuzach       150 m²    160 m²   \n13376       13376         13376    Zell (ZH)       145 m²    853 m²   \n13377       13377         13377   Winterthur       385 m²   1306 m²   \n\n      Floor space Availability                                    location  \\\n0             NaN   On request                         5023 Biberstein, AG   \n1          242 m²   On request        Buhldenstrasse 8d5023 Biberstein, AG   \n2             NaN          NaN                            5022 Rombach, AG   \n3          257 m²   On request       Buhaldenstrasse 8A5023 Biberstein, AG   \n4             NaN   On request                            5022 Rombach, AG   \n...           ...          ...                                         ...   \n13373         NaN   On request          Tägerackerstrasse 138610 Uster, ZH   \n13374         NaN   On request                         8604 Volketswil, ZH   \n13375         NaN   On request                            8472 Seuzach, ZH   \n13376      140 m²  Immediately  Vordere Bähntalstrasse 18483 Kollbrunn, ZH   \n13377         NaN  Immediately           Im Eichbühl 508405 Winterthur, ZH   \n\n                                             description  \\\n0      3.5 rooms, 100 m²«Luxuriöse Attika-Wohnung mit...   \n1      4.5 rooms, 156 m²«Stilvolle Liegenschaft - ruh...   \n2      2.5 rooms, 93 m²«Moderne, lichtdurchflutete At...   \n3      4.5 rooms, 154 m²«AgentSelly - Luxuriöses Eckh...   \n4      4.5 rooms, 142 m²«MIT GARTENSITZPLATZ UND VIEL...   \n...                                                  ...   \n13373  2.5 rooms, 70 m²«Wunderschöne Attikawohnung an...   \n13374  8 rooms«Charmantes 2-Familienhaus im idyllisch...   \n13375  6.5 rooms, 150 m²«EIN PARADIES IM GRÜNEN FÜR G...   \n13376  6 rooms, 145 m²«Freistehendes 6.0 Zimmer . Ein...   \n13377  7.5 rooms, 385 m²«Wohnen an ruhiger, sonniger ...   \n\n                                    detailed_description  ...  \\\n0      DescriptionLuxuriöse Attika-Wohnung direkt an ...  ...   \n1      DescriptionStilvolle Liegenschaft an ruhiger L...  ...   \n2      detail_responsive#description_title2,5 Zimmerw...  ...   \n3      DescriptionDieses äusserst grosszügige Minergi...  ...   \n4      DescriptionAus ehemals zwei Wohnungen wurde ei...  ...   \n...                                                  ...  ...   \n13373  DescriptionIn einem der schönsten Quartiere Us...  ...   \n13374  DescriptionWillkommen im Herzen von Volketswil...  ...   \n13375  DescriptionWir verkaufen dieses unglaublich to...  ...   \n13376  Description####Freistehendes 6.0 Zimmer . Einf...  ...   \n13377  DescriptionDas freistehende Einfamilienhaus an...  ...   \n\n      gde_social_help_quota gde_tax gde_workers_sector1 gde_workers_sector2  \\\n0                  2.234259    5.89                14.0                 9.0   \n1                  2.234259    5.89                14.0                 9.0   \n2                  3.549010    6.05                37.0              3092.0   \n3                  2.234259    5.89                14.0                 9.0   \n4                  1.708126    6.30                65.0               349.0   \n...                     ...     ...                 ...                 ...   \n13373              1.567019    4.52               181.0              3218.0   \n13374              2.368364    4.23                74.0              3406.0   \n13375              1.991008    4.33                56.0               212.0   \n13376              1.257283    4.35                66.0               167.0   \n13377              5.510400    4.88               244.0             12090.0   \n\n      gde_workers_sector3 gde_workers_total price_cleaned  \\\n0                   308.0             331.0     1150000.0   \n1                   308.0             331.0     1420000.0   \n2                 30364.0           33493.0      720000.0   \n3                   308.0             331.0     1430000.0   \n4                   941.0            1355.0      995000.0   \n...                   ...               ...           ...   \n13373             12931.0           16330.0     1101000.0   \n13374              7644.0           11124.0     1750000.0   \n13375               358.0             626.0     1415000.0   \n13376               624.0             857.0     1465000.0   \n13377             58299.0           70633.0     2750000.0   \n\n                      type Space extracted rooms  \n0                penthouse           100.0   5.0  \n1            terrace-house           156.0   5.0  \n2                penthouse            93.0   5.0  \n3           detached-house           154.0   5.0  \n4                     flat           142.0   5.0  \n...                    ...             ...   ...  \n13373                 flat            70.0   5.0  \n13374  semi-detached-house             NaN   8.0  \n13375        terrace-house           150.0   5.0  \n13376       detached-house           145.0   6.0  \n13377       detached-house           385.0   5.0  \n\n[13378 rows x 108 columns]",
      "text/html": "<div>\n<style scoped>\n    .dataframe tbody tr th:only-of-type {\n        vertical-align: middle;\n    }\n\n    .dataframe tbody tr th {\n        vertical-align: top;\n    }\n\n    .dataframe thead th {\n        text-align: right;\n    }\n</style>\n<table border=\"1\" class=\"dataframe\">\n  <thead>\n    <tr style=\"text-align: right;\">\n      <th></th>\n      <th>Unnamed: 0</th>\n      <th>Unnamed: 0.1</th>\n      <th>Municipality</th>\n      <th>Living space</th>\n      <th>Plot area</th>\n      <th>Floor space</th>\n      <th>Availability</th>\n      <th>location</th>\n      <th>description</th>\n      <th>detailed_description</th>\n      <th>...</th>\n      <th>gde_social_help_quota</th>\n      <th>gde_tax</th>\n      <th>gde_workers_sector1</th>\n      <th>gde_workers_sector2</th>\n      <th>gde_workers_sector3</th>\n      <th>gde_workers_total</th>\n      <th>price_cleaned</th>\n      <th>type</th>\n      <th>Space extracted</th>\n      <th>rooms</th>\n    </tr>\n  </thead>\n  <tbody>\n    <tr>\n      <th>0</th>\n      <td>0</td>\n      <td>0</td>\n      <td>Biberstein</td>\n      <td>100 m²</td>\n      <td>NaN</td>\n      <td>NaN</td>\n      <td>On request</td>\n      <td>5023 Biberstein, AG</td>\n      <td>3.5 rooms, 100 m²«Luxuriöse Attika-Wohnung mit...</td>\n      <td>DescriptionLuxuriöse Attika-Wohnung direkt an ...</td>\n      <td>...</td>\n      <td>2.234259</td>\n      <td>5.89</td>\n      <td>14.0</td>\n      <td>9.0</td>\n      <td>308.0</td>\n      <td>331.0</td>\n      <td>1150000.0</td>\n      <td>penthouse</td>\n      <td>100.0</td>\n      <td>5.0</td>\n    </tr>\n    <tr>\n      <th>1</th>\n      <td>1</td>\n      <td>1</td>\n      <td>Biberstein</td>\n      <td>156 m²</td>\n      <td>222 m²</td>\n      <td>242 m²</td>\n      <td>On request</td>\n      <td>Buhldenstrasse 8d5023 Biberstein, AG</td>\n      <td>4.5 rooms, 156 m²«Stilvolle Liegenschaft - ruh...</td>\n      <td>DescriptionStilvolle Liegenschaft an ruhiger L...</td>\n      <td>...</td>\n      <td>2.234259</td>\n      <td>5.89</td>\n      <td>14.0</td>\n      <td>9.0</td>\n      <td>308.0</td>\n      <td>331.0</td>\n      <td>1420000.0</td>\n      <td>terrace-house</td>\n      <td>156.0</td>\n      <td>5.0</td>\n    </tr>\n    <tr>\n      <th>2</th>\n      <td>2</td>\n      <td>2</td>\n      <td>NaN</td>\n      <td>NaN</td>\n      <td>NaN</td>\n      <td>NaN</td>\n      <td>NaN</td>\n      <td>5022 Rombach, AG</td>\n      <td>2.5 rooms, 93 m²«Moderne, lichtdurchflutete At...</td>\n      <td>detail_responsive#description_title2,5 Zimmerw...</td>\n      <td>...</td>\n      <td>3.549010</td>\n      <td>6.05</td>\n      <td>37.0</td>\n      <td>3092.0</td>\n      <td>30364.0</td>\n      <td>33493.0</td>\n      <td>720000.0</td>\n      <td>penthouse</td>\n      <td>93.0</td>\n      <td>5.0</td>\n    </tr>\n    <tr>\n      <th>3</th>\n      <td>3</td>\n      <td>3</td>\n      <td>Biberstein</td>\n      <td>154 m²</td>\n      <td>370 m²</td>\n      <td>257 m²</td>\n      <td>On request</td>\n      <td>Buhaldenstrasse 8A5023 Biberstein, AG</td>\n      <td>4.5 rooms, 154 m²«AgentSelly - Luxuriöses Eckh...</td>\n      <td>DescriptionDieses äusserst grosszügige Minergi...</td>\n      <td>...</td>\n      <td>2.234259</td>\n      <td>5.89</td>\n      <td>14.0</td>\n      <td>9.0</td>\n      <td>308.0</td>\n      <td>331.0</td>\n      <td>1430000.0</td>\n      <td>detached-house</td>\n      <td>154.0</td>\n      <td>5.0</td>\n    </tr>\n    <tr>\n      <th>4</th>\n      <td>4</td>\n      <td>4</td>\n      <td>Küttigen</td>\n      <td>142 m²</td>\n      <td>NaN</td>\n      <td>NaN</td>\n      <td>On request</td>\n      <td>5022 Rombach, AG</td>\n      <td>4.5 rooms, 142 m²«MIT GARTENSITZPLATZ UND VIEL...</td>\n      <td>DescriptionAus ehemals zwei Wohnungen wurde ei...</td>\n      <td>...</td>\n      <td>1.708126</td>\n      <td>6.30</td>\n      <td>65.0</td>\n      <td>349.0</td>\n      <td>941.0</td>\n      <td>1355.0</td>\n      <td>995000.0</td>\n      <td>flat</td>\n      <td>142.0</td>\n      <td>5.0</td>\n    </tr>\n    <tr>\n      <th>...</th>\n      <td>...</td>\n      <td>...</td>\n      <td>...</td>\n      <td>...</td>\n      <td>...</td>\n      <td>...</td>\n      <td>...</td>\n      <td>...</td>\n      <td>...</td>\n      <td>...</td>\n      <td>...</td>\n      <td>...</td>\n      <td>...</td>\n      <td>...</td>\n      <td>...</td>\n      <td>...</td>\n      <td>...</td>\n      <td>...</td>\n      <td>...</td>\n      <td>...</td>\n      <td>...</td>\n    </tr>\n    <tr>\n      <th>13373</th>\n      <td>13373</td>\n      <td>13373</td>\n      <td>Uster</td>\n      <td>70 m²</td>\n      <td>NaN</td>\n      <td>NaN</td>\n      <td>On request</td>\n      <td>Tägerackerstrasse 138610 Uster, ZH</td>\n      <td>2.5 rooms, 70 m²«Wunderschöne Attikawohnung an...</td>\n      <td>DescriptionIn einem der schönsten Quartiere Us...</td>\n      <td>...</td>\n      <td>1.567019</td>\n      <td>4.52</td>\n      <td>181.0</td>\n      <td>3218.0</td>\n      <td>12931.0</td>\n      <td>16330.0</td>\n      <td>1101000.0</td>\n      <td>flat</td>\n      <td>70.0</td>\n      <td>5.0</td>\n    </tr>\n    <tr>\n      <th>13374</th>\n      <td>13374</td>\n      <td>13374</td>\n      <td>Volketswil</td>\n      <td>NaN</td>\n      <td>284 m²</td>\n      <td>NaN</td>\n      <td>On request</td>\n      <td>8604 Volketswil, ZH</td>\n      <td>8 rooms«Charmantes 2-Familienhaus im idyllisch...</td>\n      <td>DescriptionWillkommen im Herzen von Volketswil...</td>\n      <td>...</td>\n      <td>2.368364</td>\n      <td>4.23</td>\n      <td>74.0</td>\n      <td>3406.0</td>\n      <td>7644.0</td>\n      <td>11124.0</td>\n      <td>1750000.0</td>\n      <td>semi-detached-house</td>\n      <td>NaN</td>\n      <td>8.0</td>\n    </tr>\n    <tr>\n      <th>13375</th>\n      <td>13375</td>\n      <td>13375</td>\n      <td>Seuzach</td>\n      <td>150 m²</td>\n      <td>160 m²</td>\n      <td>NaN</td>\n      <td>On request</td>\n      <td>8472 Seuzach, ZH</td>\n      <td>6.5 rooms, 150 m²«EIN PARADIES IM GRÜNEN FÜR G...</td>\n      <td>DescriptionWir verkaufen dieses unglaublich to...</td>\n      <td>...</td>\n      <td>1.991008</td>\n      <td>4.33</td>\n      <td>56.0</td>\n      <td>212.0</td>\n      <td>358.0</td>\n      <td>626.0</td>\n      <td>1415000.0</td>\n      <td>terrace-house</td>\n      <td>150.0</td>\n      <td>5.0</td>\n    </tr>\n    <tr>\n      <th>13376</th>\n      <td>13376</td>\n      <td>13376</td>\n      <td>Zell (ZH)</td>\n      <td>145 m²</td>\n      <td>853 m²</td>\n      <td>140 m²</td>\n      <td>Immediately</td>\n      <td>Vordere Bähntalstrasse 18483 Kollbrunn, ZH</td>\n      <td>6 rooms, 145 m²«Freistehendes 6.0 Zimmer . Ein...</td>\n      <td>Description####Freistehendes 6.0 Zimmer . Einf...</td>\n      <td>...</td>\n      <td>1.257283</td>\n      <td>4.35</td>\n      <td>66.0</td>\n      <td>167.0</td>\n      <td>624.0</td>\n      <td>857.0</td>\n      <td>1465000.0</td>\n      <td>detached-house</td>\n      <td>145.0</td>\n      <td>6.0</td>\n    </tr>\n    <tr>\n      <th>13377</th>\n      <td>13377</td>\n      <td>13377</td>\n      <td>Winterthur</td>\n      <td>385 m²</td>\n      <td>1306 m²</td>\n      <td>NaN</td>\n      <td>Immediately</td>\n      <td>Im Eichbühl 508405 Winterthur, ZH</td>\n      <td>7.5 rooms, 385 m²«Wohnen an ruhiger, sonniger ...</td>\n      <td>DescriptionDas freistehende Einfamilienhaus an...</td>\n      <td>...</td>\n      <td>5.510400</td>\n      <td>4.88</td>\n      <td>244.0</td>\n      <td>12090.0</td>\n      <td>58299.0</td>\n      <td>70633.0</td>\n      <td>2750000.0</td>\n      <td>detached-house</td>\n      <td>385.0</td>\n      <td>5.0</td>\n    </tr>\n  </tbody>\n</table>\n<p>13378 rows × 108 columns</p>\n</div>"
     },
     "metadata": {}
    }
   ]
  },
  {
   "cell_type": "code",
   "source": "data[\"type\"].unique()",
   "metadata": {
    "cell_id": "00004-2e86e3f9-eb77-4fe4-89d2-15c3e9b7b8e1",
    "deepnote_to_be_reexecuted": false,
    "source_hash": "15e5de1b",
    "execution_start": 1664872704271,
    "execution_millis": 4,
    "deepnote_cell_type": "code",
    "deepnote_cell_height": 226,
    "deepnote_output_heights": [
     134
    ]
   },
   "execution_count": 3,
   "outputs": [
    {
     "output_type": "execute_result",
     "execution_count": 3,
     "data": {
      "text/plain": "array(['penthouse', 'terrace-house', 'detached-house', 'flat',\n       'stepped-house', 'farmhouse', 'semi-detached-house',\n       'stepped-apartment', 'duplex-maisonette', 'attic-flat', 'loft',\n       'chalet', 'villa', 'attic-room', 'secondary-suite', 'castle',\n       'detached-secondary-suite', 'studio',\n       'furnished-residential-property', 'rustico', 'single-room'],\n      dtype=object)"
     },
     "metadata": {}
    }
   ]
  },
  {
   "cell_type": "code",
   "source": "data = pd.get_dummies(data=data, columns=[\"type\"])\ndata",
   "metadata": {
    "cell_id": "00005-3a33e397-5441-4a1b-b403-08b6ac2b3cb6",
    "deepnote_to_be_reexecuted": false,
    "source_hash": "ece8348e",
    "execution_start": 1664872704276,
    "execution_millis": 118,
    "deepnote_cell_type": "code",
    "deepnote_cell_height": 613
   },
   "execution_count": 4,
   "outputs": [
    {
     "output_type": "execute_result",
     "execution_count": 4,
     "data": {
      "application/vnd.deepnote.dataframe.v3+json": {
       "column_count": 128,
       "row_count": 13378,
       "columns": [
        {
         "name": "Unnamed: 0",
         "dtype": "int64",
         "stats": {
          "unique_count": 13378,
          "nan_count": 0,
          "min": "0",
          "max": "13377",
          "histogram": [
           {
            "bin_start": 0,
            "bin_end": 1337.7,
            "count": 1338
           },
           {
            "bin_start": 1337.7,
            "bin_end": 2675.4,
            "count": 1338
           },
           {
            "bin_start": 2675.4,
            "bin_end": 4013.1000000000004,
            "count": 1338
           },
           {
            "bin_start": 4013.1000000000004,
            "bin_end": 5350.8,
            "count": 1337
           },
           {
            "bin_start": 5350.8,
            "bin_end": 6688.5,
            "count": 1338
           },
           {
            "bin_start": 6688.5,
            "bin_end": 8026.200000000001,
            "count": 1338
           },
           {
            "bin_start": 8026.200000000001,
            "bin_end": 9363.9,
            "count": 1337
           },
           {
            "bin_start": 9363.9,
            "bin_end": 10701.6,
            "count": 1338
           },
           {
            "bin_start": 10701.6,
            "bin_end": 12039.300000000001,
            "count": 1338
           },
           {
            "bin_start": 12039.300000000001,
            "bin_end": 13377,
            "count": 1338
           }
          ]
         }
        },
        {
         "name": "Unnamed: 0.1",
         "dtype": "int64",
         "stats": {
          "unique_count": 13378,
          "nan_count": 0,
          "min": "0",
          "max": "13377",
          "histogram": [
           {
            "bin_start": 0,
            "bin_end": 1337.7,
            "count": 1338
           },
           {
            "bin_start": 1337.7,
            "bin_end": 2675.4,
            "count": 1338
           },
           {
            "bin_start": 2675.4,
            "bin_end": 4013.1000000000004,
            "count": 1338
           },
           {
            "bin_start": 4013.1000000000004,
            "bin_end": 5350.8,
            "count": 1337
           },
           {
            "bin_start": 5350.8,
            "bin_end": 6688.5,
            "count": 1338
           },
           {
            "bin_start": 6688.5,
            "bin_end": 8026.200000000001,
            "count": 1338
           },
           {
            "bin_start": 8026.200000000001,
            "bin_end": 9363.9,
            "count": 1337
           },
           {
            "bin_start": 9363.9,
            "bin_end": 10701.6,
            "count": 1338
           },
           {
            "bin_start": 10701.6,
            "bin_end": 12039.300000000001,
            "count": 1338
           },
           {
            "bin_start": 12039.300000000001,
            "bin_end": 13377,
            "count": 1338
           }
          ]
         }
        },
        {
         "name": "Municipality",
         "dtype": "object",
         "stats": {
          "unique_count": 1505,
          "nan_count": 932,
          "categories": [
           {
            "name": "Lugano",
            "count": 339
           },
           {
            "name": "1504 others",
            "count": 12107
           },
           {
            "name": "Missing",
            "count": 932
           }
          ]
         }
        },
        {
         "name": "Living space",
         "dtype": "object",
         "stats": {
          "unique_count": 531,
          "nan_count": 1744,
          "categories": [
           {
            "name": "120 m²",
            "count": 262
           },
           {
            "name": "530 others",
            "count": 11372
           },
           {
            "name": "Missing",
            "count": 1744
           }
          ]
         }
        },
        {
         "name": "Plot area",
         "dtype": "object",
         "stats": {
          "unique_count": 1706,
          "nan_count": 8682,
          "categories": [
           {
            "name": "1000 m²",
            "count": 44
           },
           {
            "name": "1705 others",
            "count": 4652
           },
           {
            "name": "Missing",
            "count": 8682
           }
          ]
         }
        },
        {
         "name": "Floor space",
         "dtype": "object",
         "stats": {
          "unique_count": 493,
          "nan_count": 10598,
          "categories": [
           {
            "name": "150 m²",
            "count": 39
           },
           {
            "name": "492 others",
            "count": 2741
           },
           {
            "name": "Missing",
            "count": 10598
           }
          ]
         }
        },
        {
         "name": "Availability",
         "dtype": "object",
         "stats": {
          "unique_count": 110,
          "nan_count": 715,
          "categories": [
           {
            "name": "On request",
            "count": 9120
           },
           {
            "name": "109 others",
            "count": 3543
           },
           {
            "name": "Missing",
            "count": 715
           }
          ]
         }
        },
        {
         "name": "location",
         "dtype": "object"
        },
        {
         "name": "description",
         "dtype": "object"
        },
        {
         "name": "detailed_description",
         "dtype": "object"
        },
        {
         "name": "url",
         "dtype": "object"
        },
        {
         "name": "table",
         "dtype": "object"
        },
        {
         "name": "Floor",
         "dtype": "object"
        },
        {
         "name": "detail_responsive#municipality",
         "dtype": "object"
        },
        {
         "name": "detail_responsive#surface_living",
         "dtype": "object"
        },
        {
         "name": "detail_responsive#floor",
         "dtype": "object"
        },
        {
         "name": "detail_responsive#available_from",
         "dtype": "object"
        },
        {
         "name": "Gemeinde",
         "dtype": "object"
        },
        {
         "name": "Wohnfläche",
         "dtype": "object"
        },
        {
         "name": "Stockwerk",
         "dtype": "object"
        },
        {
         "name": "Nutzfläche",
         "dtype": "object"
        },
        {
         "name": "Verfügbarkeit",
         "dtype": "object"
        },
        {
         "name": "Grundstücksfläche",
         "dtype": "object"
        },
        {
         "name": "detail_responsive#surface_property",
         "dtype": "object"
        },
        {
         "name": "detail_responsive#surface_usable",
         "dtype": "object"
        },
        {
         "name": "Commune",
         "dtype": "object"
        },
        {
         "name": "Surface habitable",
         "dtype": "object"
        },
        {
         "name": "Surface du terrain",
         "dtype": "object"
        },
        {
         "name": "Surface utile",
         "dtype": "object"
        },
        {
         "name": "Disponibilité",
         "dtype": "object"
        },
        {
         "name": "Étage",
         "dtype": "object"
        },
        {
         "name": "Comune",
         "dtype": "object"
        },
        {
         "name": "Superficie abitabile",
         "dtype": "object"
        },
        {
         "name": "Disponibilità",
         "dtype": "object"
        },
        {
         "name": "Gross return",
         "dtype": "object"
        },
        {
         "name": "Piano",
         "dtype": "object"
        },
        {
         "name": "Superficie del terreno",
         "dtype": "object"
        },
        {
         "name": "Superficie utile",
         "dtype": "object"
        },
        {
         "name": "Municipality_merged",
         "dtype": "object"
        },
        {
         "name": "Floor_merged",
         "dtype": "object"
        },
        {
         "name": "Living_space_merged",
         "dtype": "object"
        },
        {
         "name": "Floor_space_merged",
         "dtype": "object"
        },
        {
         "name": "Plot_area_merged",
         "dtype": "object"
        },
        {
         "name": "Availability_merged",
         "dtype": "object"
        },
        {
         "name": "location_parsed",
         "dtype": "object"
        },
        {
         "name": "title",
         "dtype": "object"
        },
        {
         "name": "details",
         "dtype": "object"
        },
        {
         "name": "address",
         "dtype": "object"
        },
        {
         "name": "price",
         "dtype": "object"
        },
        {
         "name": "link",
         "dtype": "object"
        },
        {
         "name": "details_structured",
         "dtype": "object"
        },
        {
         "name": "lat",
         "dtype": "float64"
        },
        {
         "name": "lon",
         "dtype": "float64"
        },
        {
         "name": "index",
         "dtype": "int64"
        },
        {
         "name": "ForestDensityL",
         "dtype": "float64"
        },
        {
         "name": "ForestDensityM",
         "dtype": "float64"
        },
        {
         "name": "ForestDensityS",
         "dtype": "float64"
        },
        {
         "name": "Latitude",
         "dtype": "float64"
        },
        {
         "name": "Locality",
         "dtype": "object"
        },
        {
         "name": "Longitude",
         "dtype": "float64"
        },
        {
         "name": "NoisePollutionRailwayL",
         "dtype": "float64"
        },
        {
         "name": "NoisePollutionRailwayM",
         "dtype": "float64"
        },
        {
         "name": "NoisePollutionRailwayS",
         "dtype": "float64"
        },
        {
         "name": "NoisePollutionRoadL",
         "dtype": "float64"
        },
        {
         "name": "NoisePollutionRoadM",
         "dtype": "float64"
        },
        {
         "name": "NoisePollutionRoadS",
         "dtype": "float64"
        },
        {
         "name": "PopulationDensityL",
         "dtype": "float64"
        },
        {
         "name": "PopulationDensityM",
         "dtype": "float64"
        },
        {
         "name": "PopulationDensityS",
         "dtype": "float64"
        },
        {
         "name": "RiversAndLakesL",
         "dtype": "float64"
        },
        {
         "name": "RiversAndLakesM",
         "dtype": "float64"
        },
        {
         "name": "RiversAndLakesS",
         "dtype": "float64"
        },
        {
         "name": "WorkplaceDensityL",
         "dtype": "float64"
        },
        {
         "name": "WorkplaceDensityM",
         "dtype": "float64"
        },
        {
         "name": "WorkplaceDensityS",
         "dtype": "float64"
        },
        {
         "name": "Zip",
         "dtype": "int64"
        },
        {
         "name": "distanceToTrainStation",
         "dtype": "float64"
        },
        {
         "name": "gde_area_agriculture_percentage",
         "dtype": "float64"
        },
        {
         "name": "gde_area_forest_percentage",
         "dtype": "float64"
        },
        {
         "name": "gde_area_nonproductive_percentage",
         "dtype": "float64"
        },
        {
         "name": "gde_area_settlement_percentage",
         "dtype": "float64"
        },
        {
         "name": "gde_average_house_hold",
         "dtype": "float64"
        },
        {
         "name": "gde_empty_apartments",
         "dtype": "float64"
        },
        {
         "name": "gde_foreigners_percentage",
         "dtype": "float64"
        },
        {
         "name": "gde_new_homes_per_1000",
         "dtype": "float64"
        },
        {
         "name": "gde_politics_bdp",
         "dtype": "float64"
        },
        {
         "name": "gde_politics_cvp",
         "dtype": "float64"
        },
        {
         "name": "gde_politics_evp",
         "dtype": "float64"
        },
        {
         "name": "gde_politics_fdp",
         "dtype": "float64"
        },
        {
         "name": "gde_politics_glp",
         "dtype": "float64"
        },
        {
         "name": "gde_politics_gps",
         "dtype": "float64"
        },
        {
         "name": "gde_politics_pda",
         "dtype": "float64"
        },
        {
         "name": "gde_politics_rights",
         "dtype": "float64"
        },
        {
         "name": "gde_politics_sp",
         "dtype": "float64"
        },
        {
         "name": "gde_politics_svp",
         "dtype": "float64"
        },
        {
         "name": "gde_pop_per_km2",
         "dtype": "float64"
        },
        {
         "name": "gde_population",
         "dtype": "float64"
        },
        {
         "name": "gde_private_apartments",
         "dtype": "float64"
        },
        {
         "name": "gde_social_help_quota",
         "dtype": "float64"
        },
        {
         "name": "gde_tax",
         "dtype": "float64"
        },
        {
         "name": "gde_workers_sector1",
         "dtype": "float64"
        },
        {
         "name": "gde_workers_sector2",
         "dtype": "float64"
        },
        {
         "name": "gde_workers_sector3",
         "dtype": "float64"
        },
        {
         "name": "gde_workers_total",
         "dtype": "float64"
        },
        {
         "name": "price_cleaned",
         "dtype": "float64"
        },
        {
         "name": "Space extracted",
         "dtype": "float64"
        },
        {
         "name": "rooms",
         "dtype": "float64"
        },
        {
         "name": "type_attic-flat",
         "dtype": "uint8"
        },
        {
         "name": "type_attic-room",
         "dtype": "uint8"
        },
        {
         "name": "type_castle",
         "dtype": "uint8"
        },
        {
         "name": "type_chalet",
         "dtype": "uint8"
        },
        {
         "name": "type_detached-house",
         "dtype": "uint8"
        },
        {
         "name": "type_detached-secondary-suite",
         "dtype": "uint8"
        },
        {
         "name": "type_duplex-maisonette",
         "dtype": "uint8"
        },
        {
         "name": "type_farmhouse",
         "dtype": "uint8"
        },
        {
         "name": "type_flat",
         "dtype": "uint8"
        },
        {
         "name": "type_furnished-residential-property",
         "dtype": "uint8"
        },
        {
         "name": "type_loft",
         "dtype": "uint8"
        },
        {
         "name": "type_penthouse",
         "dtype": "uint8"
        },
        {
         "name": "type_rustico",
         "dtype": "uint8"
        },
        {
         "name": "type_secondary-suite",
         "dtype": "uint8"
        },
        {
         "name": "type_semi-detached-house",
         "dtype": "uint8"
        },
        {
         "name": "type_single-room",
         "dtype": "uint8"
        },
        {
         "name": "type_stepped-apartment",
         "dtype": "uint8"
        },
        {
         "name": "type_stepped-house",
         "dtype": "uint8"
        },
        {
         "name": "type_studio",
         "dtype": "uint8"
        },
        {
         "name": "type_terrace-house",
         "dtype": "uint8"
        },
        {
         "name": "type_villa",
         "dtype": "uint8"
        },
        {
         "name": "_deepnote_index_column",
         "dtype": "int64"
        }
       ],
       "rows": [
        {
         "Unnamed: 0": "0",
         "Unnamed: 0.1": "0",
         "Municipality": "Biberstein",
         "Living space": "100 m²",
         "Plot area": "nan",
         "Floor space": "nan",
         "Availability": "On request",
         "location": "5023 Biberstein, AG",
         "description": "3.5 rooms, 100 m²«Luxuriöse Attika-Wohnung mit herrlicher Aussicht»CHF 1,150,000.—Favourite",
         "detailed_description": "DescriptionLuxuriöse Attika-Wohnung direkt an der Aare und angrenzend an die Landwirtschaftszone, mit unverbaubarer Weitsicht, grosszügiger Garage und Option auf ein zusätzliches Zimmer.Einzigartige Lage, top Aussicht und hochwertige Innenausstattung? Das alles bietet diese charmante Eigentumswohnung auf 100m2 im steuergünstigen Biberstein. Stadtnah gelegen und mit direktem Naturzugang sorgt sie für ein rundum angenehmes Wohngefühl.In der ganzen Wohnung sind hochwertige Materialien mit einem südländischen Touch verbaut. Der Boden ist mit einem Jurastein und die beiden Zimmer mit Holz versehen (mit Bodenheizung).In die Wohnung gelangt man über einen separaten Eingang, ein halbes Stockwerk vom gewachsenen Boden erhöht (kein gemeinsames Treppenhaus). Die grosse Terrasse (rund 70m2) öffnet nach Süden ein einzigartiges Panorama mit einem herrlichen Blick auf Natur, Aare und Alpen.Naturfreunde können von der Haustür direkt an die Aare oder in die Wälder gelangen. Zur Arbeit ist die Bushalte…",
         "url": "https://www.immoscout24.ch//en/d/penthouse-buy-biberstein/7255200",
         "table": "b <article class=####Box-cYFBPY hKrxoH####><h2 class=####Box-cYFBPY gZLPvm####>Main information</h2><table class=####DataTable__StyledTable-sc-1o2xig5-1 jbXaEC####><tbody><tr><td class=####DataTable__SimpleCell-sc-1o2xig5-2 DataTable__Cell-sc-1o2xig5-4 edrNfG dGBatU####>Municipality</td><td class=####DataTable__SimpleCell-sc-1o2xig5-2 DataTable__CellValue-sc-1o2xig5-3 edrNfG rJZBK####>Biberstein</td></tr><tr><td class=####DataTable__SimpleCell-sc-1o2xig5-2 DataTable__Cell-sc-1o2xig5-4 edrNfG dGBatU####>Living space</td><td class=####DataTable__SimpleCell-sc-1o2xig5-2 DataTable__CellValue-sc-1o2xig5-3 edrNfG rJZBK####>100 m&#178;</td></tr><tr><td class=####DataTable__SimpleCell-sc-1o2xig5-2 DataTable__Cell-sc-1o2xig5-4 edrNfG dGBatU####>Floor</td><td class=####DataTable__SimpleCell-sc-1o2xig5-2 DataTable__CellValue-sc-1o2xig5-3 edrNfG rJZBK####>4. floor</td></tr><tr><td class=####DataTable__SimpleCell-sc-1o2xig5-2 DataTable__Cell-sc-1o2xig5-4 edrNfG dGBatU####>Availability</td><td clas…",
         "Floor": "4. floor",
         "detail_responsive#municipality": "nan",
         "detail_responsive#surface_living": "nan",
         "detail_responsive#floor": "nan",
         "detail_responsive#available_from": "nan",
         "Gemeinde": "nan",
         "Wohnfläche": "nan",
         "Stockwerk": "nan",
         "Nutzfläche": "nan",
         "Verfügbarkeit": "nan",
         "Grundstücksfläche": "nan",
         "detail_responsive#surface_property": "nan",
         "detail_responsive#surface_usable": "nan",
         "Commune": "nan",
         "Surface habitable": "nan",
         "Surface du terrain": "nan",
         "Surface utile": "nan",
         "Disponibilité": "nan",
         "Étage": "nan",
         "Comune": "nan",
         "Superficie abitabile": "nan",
         "Disponibilità": "nan",
         "Gross return": "nan",
         "Piano": "nan",
         "Superficie del terreno": "nan",
         "Superficie utile": "nan",
         "Municipality_merged": "Biberstein",
         "Floor_merged": "4. floor",
         "Living_space_merged": "100 m²",
         "Floor_space_merged": "nan",
         "Plot_area_merged": "nan",
         "Availability_merged": "On request",
         "location_parsed": "Strasse:  plz:5023 Stadt: Biberstein Kanton: AG",
         "title": "Luxuriöse Attika-Wohnung mit herrlicher Aussicht",
         "details": "3.5 rooms, 100 m², ",
         "address": "5023 Biberstein, AG",
         "price": "CHF 1,150,000.—",
         "link": "/en/d/penthouse-buy-biberstein/7255200",
         "details_structured": "{'Municipality': 'Biberstein', 'Living space': '100 m²', 'Floor': '4. floor', 'Availability': 'On request', 'location': '5023 Biberstein, AG', 'description': '3.5 rooms, 100 m²«Luxuriöse Attika-Wohnung mit herrlicher Aussicht»CHF 1,150,000.—Favourite', 'detailed_description': 'DescriptionLuxuriöse Attika-Wohnung direkt an der Aare und angrenzend an die Landwirtschaftszone, mit unverbaubarer Weitsicht, grosszügiger Garage und Option auf ein zusätzliches Zimmer.Einzigartige Lage, top Aussicht und hochwertige Innenausstattung? Das alles bietet diese charmante Eigentumswohnung auf 100m2 im steuergünstigen Biberstein. Stadtnah gelegen und mit direktem Naturzugang sorgt sie für ein rundum angenehmes Wohngefühl.In der ganzen Wohnung sind hochwertige Materialien mit einem südländischen Touch verbaut. Der Boden ist mit einem Jurastein und die beiden Zimmer mit Holz versehen (mit Bodenheizung).In die Wohnung gelangt man über einen separaten Eingang, ein halbes Stockwerk vom gewachsenen Boden er…",
         "lat": "47.4171",
         "lon": "8.0856",
         "index": "16620",
         "ForestDensityL": "0.5111756483642033",
         "ForestDensityM": "0.2864510208821959",
         "ForestDensityS": "0.0909078094589692",
         "Latitude": "47.4159269",
         "Locality": "Biberstein",
         "Longitude": "8.0858398",
         "NoisePollutionRailwayL": "0.0",
         "NoisePollutionRailwayM": "0.0",
         "NoisePollutionRailwayS": "0.0",
         "NoisePollutionRoadL": "0.0582979379946271",
         "NoisePollutionRoadM": "0.067047626047332",
         "NoisePollutionRoadS": "0.1038503253796095",
         "PopulationDensityL": "0.0929137474087486",
         "PopulationDensityM": "0.2095297398560906",
         "PopulationDensityS": "0.3666736198025309",
         "RiversAndLakesL": "0.0821698280693361",
         "RiversAndLakesM": "0.0018113817490726",
         "RiversAndLakesS": "0.0118710714307242",
         "WorkplaceDensityL": "0.0301693757471317",
         "WorkplaceDensityM": "0.0521201856730648",
         "WorkplaceDensityS": "0.0989513422818792",
         "Zip": "5023",
         "distanceToTrainStation": "3.0384665928009302",
         "gde_area_agriculture_percentage": "30.6763285024",
         "gde_area_forest_percentage": "51.44927536229999",
         "gde_area_nonproductive_percentage": "4.5893719807",
         "gde_area_settlement_percentage": "13.2850241546",
         "gde_average_house_hold": "2.23",
         "gde_empty_apartments": "1.9946808511",
         "gde_foreigners_percentage": "9.25566343",
         "gde_new_homes_per_1000": "4.739336492900001",
         "gde_politics_bdp": "5.8737151248",
         "gde_politics_cvp": "4.5796622614",
         "gde_politics_evp": "3.359030837",
         "gde_politics_fdp": "18.3553597651",
         "gde_politics_glp": "6.0572687225",
         "gde_politics_gps": "7.0668135095",
         "gde_politics_pda": "nan",
         "gde_politics_rights": "0.2202643172",
         "gde_politics_sp": "20.392804699000003",
         "gde_politics_svp": "30.8094713656",
         "gde_pop_per_km2": "376.829268293",
         "gde_population": "1545.0",
         "gde_private_apartments": "686.0",
         "gde_social_help_quota": "2.2342586324",
         "gde_tax": "5.89",
         "gde_workers_sector1": "14.0",
         "gde_workers_sector2": "9.0",
         "gde_workers_sector3": "308.0",
         "gde_workers_total": "331.0",
         "price_cleaned": "1150000.0",
         "Space extracted": "100.0",
         "rooms": "5.0",
         "type_attic-flat": "0",
         "type_attic-room": "0",
         "type_castle": "0",
         "type_chalet": "0",
         "type_detached-house": "0",
         "type_detached-secondary-suite": "0",
         "type_duplex-maisonette": "0",
         "type_farmhouse": "0",
         "type_flat": "0",
         "type_furnished-residential-property": "0",
         "type_loft": "0",
         "type_penthouse": "1",
         "type_rustico": "0",
         "type_secondary-suite": "0",
         "type_semi-detached-house": "0",
         "type_single-room": "0",
         "type_stepped-apartment": "0",
         "type_stepped-house": "0",
         "type_studio": "0",
         "type_terrace-house": "0",
         "type_villa": "0",
         "_deepnote_index_column": "0"
        },
        {
         "Unnamed: 0": "1",
         "Unnamed: 0.1": "1",
         "Municipality": "Biberstein",
         "Living space": "156 m²",
         "Plot area": "222 m²",
         "Floor space": "242 m²",
         "Availability": "On request",
         "location": "Buhldenstrasse 8d5023 Biberstein, AG",
         "description": "4.5 rooms, 156 m²«Stilvolle Liegenschaft - ruhige Lage, unverbaubare Aussicht»CHF 1,420,000.—Favourite",
         "detailed_description": "DescriptionStilvolle Liegenschaft an ruhiger Lage mit unverbaubarer Aussicht in den JuraDiese hochwertige Liegenschaft mit Baujahr 2013 liegt an ruhiger Aussichtslage im steuergünstigen Biberstein. Die Liegenschaft präsentiert sich in neuwertigem Zustand. Die Materialisierung ist sehr stilvoll und der Ausbaustandard sehr hoch. Das ganze Haus verfügt über einen hochwertigen Eichenparkett (Echtholz) sowie Wände mit Gipsglattstrich und Küchengeräte der Marke V-Zug. Die Liegenschaft ist im Minergie Standard erstellt und zertifiziert.Das Haus eignet sich bestens für eine Familie oder ein Paar in Kombination mit Homeoffice. Es verfügt über eine Nettogeschossfläche (beheizte Wohnfläche) von 156.50m2 und eine Nutzfläche (inkl. Garage, Hobbyraum und Waschen/Trocknen/Technik) von 242.00m2.Erdgeschoss  Sie betreten das Haus über einen grosszügigen Eingangsbereich. Der grosse Garderobenschrank bietet Platz für die ganze Familie, Sporttaschen und vieles mehr.Vom Eingangsbereich gelangen Sie direkt…",
         "url": "https://www.immoscout24.ch//en/d/terrace-house-buy-biberstein/7266694",
         "table": "b <article class=####Box-cYFBPY hKrxoH####><h2 class=####Box-cYFBPY gZLPvm####>Main information</h2><table class=####DataTable__StyledTable-sc-1o2xig5-1 jbXaEC####><tbody><tr><td class=####DataTable__SimpleCell-sc-1o2xig5-2 DataTable__Cell-sc-1o2xig5-4 edrNfG dGBatU####>Municipality</td><td class=####DataTable__SimpleCell-sc-1o2xig5-2 DataTable__CellValue-sc-1o2xig5-3 edrNfG rJZBK####>Biberstein</td></tr><tr><td class=####DataTable__SimpleCell-sc-1o2xig5-2 DataTable__Cell-sc-1o2xig5-4 edrNfG dGBatU####>Living space</td><td class=####DataTable__SimpleCell-sc-1o2xig5-2 DataTable__CellValue-sc-1o2xig5-3 edrNfG rJZBK####>156 m&#178;</td></tr><tr><td class=####DataTable__SimpleCell-sc-1o2xig5-2 DataTable__Cell-sc-1o2xig5-4 edrNfG dGBatU####>Plot area</td><td class=####DataTable__SimpleCell-sc-1o2xig5-2 DataTable__CellValue-sc-1o2xig5-3 edrNfG rJZBK####>222 m&#178;</td></tr><tr><td class=####DataTable__SimpleCell-sc-1o2xig5-2 DataTable__Cell-sc-1o2xig5-4 edrNfG dGBatU####>Floor space</td><t…",
         "Floor": "nan",
         "detail_responsive#municipality": "nan",
         "detail_responsive#surface_living": "nan",
         "detail_responsive#floor": "nan",
         "detail_responsive#available_from": "nan",
         "Gemeinde": "nan",
         "Wohnfläche": "nan",
         "Stockwerk": "nan",
         "Nutzfläche": "nan",
         "Verfügbarkeit": "nan",
         "Grundstücksfläche": "nan",
         "detail_responsive#surface_property": "nan",
         "detail_responsive#surface_usable": "nan",
         "Commune": "nan",
         "Surface habitable": "nan",
         "Surface du terrain": "nan",
         "Surface utile": "nan",
         "Disponibilité": "nan",
         "Étage": "nan",
         "Comune": "nan",
         "Superficie abitabile": "nan",
         "Disponibilità": "nan",
         "Gross return": "nan",
         "Piano": "nan",
         "Superficie del terreno": "nan",
         "Superficie utile": "nan",
         "Municipality_merged": "Biberstein",
         "Floor_merged": "nan",
         "Living_space_merged": "156 m²",
         "Floor_space_merged": "242 m²",
         "Plot_area_merged": "222 m²",
         "Availability_merged": "On request",
         "location_parsed": "Strasse:Buhldenstrasse  8d plz:5023 Stadt: Biberstein Kanton: AG",
         "title": "Stilvolle Liegenschaft - ruhige Lage, unverbaubare Aussicht",
         "details": "4.5 rooms, 156 m², ",
         "address": "Buhldenstrasse 8d, 5023 Biberstein, AG",
         "price": "CHF 1,420,000.—",
         "link": "/en/d/terrace-house-buy-biberstein/7266694",
         "details_structured": "{'Municipality': 'Biberstein', 'Living space': '156 m²', 'Plot area': '222 m²', 'Floor space': '242 m²', 'Availability': 'On request', 'location': 'Buhldenstrasse 8d5023 Biberstein, AG', 'description': '4.5 rooms, 156 m²«Stilvolle Liegenschaft - ruhige Lage, unverbaubare Aussicht»CHF 1,420,000.—Favourite', 'detailed_description': 'DescriptionStilvolle Liegenschaft an ruhiger Lage mit unverbaubarer Aussicht in den JuraDiese hochwertige Liegenschaft mit Baujahr 2013 liegt an ruhiger Aussichtslage im steuergünstigen Biberstein. Die Liegenschaft präsentiert sich in neuwertigem Zustand. Die Materialisierung ist sehr stilvoll und der Ausbaustandard sehr hoch. Das ganze Haus verfügt über einen hochwertigen Eichenparkett (Echtholz) sowie Wände mit Gipsglattstrich und Küchengeräte der Marke V-Zug. Die Liegenschaft ist im Minergie Standard erstellt und zertifiziert.Das Haus eignet sich bestens für eine Familie oder ein Paar in Kombination mit Homeoffice. Es verfügt über eine Nettogeschossfläche…",
         "lat": "47.4195",
         "lon": "8.0827",
         "index": "16620",
         "ForestDensityL": "0.5111756483642033",
         "ForestDensityM": "0.2864510208821959",
         "ForestDensityS": "0.0909078094589692",
         "Latitude": "47.4159269",
         "Locality": "Biberstein",
         "Longitude": "8.0858398",
         "NoisePollutionRailwayL": "0.0",
         "NoisePollutionRailwayM": "0.0",
         "NoisePollutionRailwayS": "0.0",
         "NoisePollutionRoadL": "0.0582979379946271",
         "NoisePollutionRoadM": "0.067047626047332",
         "NoisePollutionRoadS": "0.1038503253796095",
         "PopulationDensityL": "0.0929137474087486",
         "PopulationDensityM": "0.2095297398560906",
         "PopulationDensityS": "0.3666736198025309",
         "RiversAndLakesL": "0.0821698280693361",
         "RiversAndLakesM": "0.0018113817490726",
         "RiversAndLakesS": "0.0118710714307242",
         "WorkplaceDensityL": "0.0301693757471317",
         "WorkplaceDensityM": "0.0521201856730648",
         "WorkplaceDensityS": "0.0989513422818792",
         "Zip": "5023",
         "distanceToTrainStation": "3.0384665928009302",
         "gde_area_agriculture_percentage": "30.6763285024",
         "gde_area_forest_percentage": "51.44927536229999",
         "gde_area_nonproductive_percentage": "4.5893719807",
         "gde_area_settlement_percentage": "13.2850241546",
         "gde_average_house_hold": "2.23",
         "gde_empty_apartments": "1.9946808511",
         "gde_foreigners_percentage": "9.25566343",
         "gde_new_homes_per_1000": "4.739336492900001",
         "gde_politics_bdp": "5.8737151248",
         "gde_politics_cvp": "4.5796622614",
         "gde_politics_evp": "3.359030837",
         "gde_politics_fdp": "18.3553597651",
         "gde_politics_glp": "6.0572687225",
         "gde_politics_gps": "7.0668135095",
         "gde_politics_pda": "nan",
         "gde_politics_rights": "0.2202643172",
         "gde_politics_sp": "20.392804699000003",
         "gde_politics_svp": "30.8094713656",
         "gde_pop_per_km2": "376.829268293",
         "gde_population": "1545.0",
         "gde_private_apartments": "686.0",
         "gde_social_help_quota": "2.2342586324",
         "gde_tax": "5.89",
         "gde_workers_sector1": "14.0",
         "gde_workers_sector2": "9.0",
         "gde_workers_sector3": "308.0",
         "gde_workers_total": "331.0",
         "price_cleaned": "1420000.0",
         "Space extracted": "156.0",
         "rooms": "5.0",
         "type_attic-flat": "0",
         "type_attic-room": "0",
         "type_castle": "0",
         "type_chalet": "0",
         "type_detached-house": "0",
         "type_detached-secondary-suite": "0",
         "type_duplex-maisonette": "0",
         "type_farmhouse": "0",
         "type_flat": "0",
         "type_furnished-residential-property": "0",
         "type_loft": "0",
         "type_penthouse": "0",
         "type_rustico": "0",
         "type_secondary-suite": "0",
         "type_semi-detached-house": "0",
         "type_single-room": "0",
         "type_stepped-apartment": "0",
         "type_stepped-house": "0",
         "type_studio": "0",
         "type_terrace-house": "1",
         "type_villa": "0",
         "_deepnote_index_column": "1"
        },
        {
         "Unnamed: 0": "2",
         "Unnamed: 0.1": "2",
         "Municipality": "nan",
         "Living space": "nan",
         "Plot area": "nan",
         "Floor space": "nan",
         "Availability": "nan",
         "location": "5022 Rombach, AG",
         "description": "2.5 rooms, 93 m²«Moderne, lichtdurchflutete Attikawohnung mit Erdwärmeheizung»CHF 720,000.—detail_responsive#bookmark",
         "detailed_description": "detail_responsive#description_title2,5 Zimmerwohnung mit 93 m2 Wohnfläche und 28 m2 Südbalkon über die gesamte Länge der Wohnung, teilweise überdacht, mit hübsch gestaltetem Balkongarten (u.a. Säulenobst, Kräuter, Blumenstauden) und herrlichem Blick über das Aaretal bis hin zu Alpengipfeln bei klarer Sicht.Grosszügiger Wohn-Essbereich, Einbauküche mit Kücheninsel, moderne Elektrogeräte (z.B. Backofen mit Steamerfunktion, Induktionsherd)2 Duschbäder, mit begehbarer Dusche im 1. Bad und Wasch-/Trockenturm im 2. Bad.Raumhohe Fenster im gesamten Wohnbereich; Spotlights und Galerieleisten in allen Räumen; Schränke in Eingangsbereich, Schlafzimmer und Bädern6-Parteien Haus, Baujahr 2010, hoher Standard auf nachhaltiger Grundlage, Holzparkett und Fliesenboden, Fußbodenheizung mit Erdwärme und Solarthermie (unabhängig von Gas und Öl).Barrierefreier Zugang mit Lift bis in die Tiefgarage; Kellerabteil mit grosszügigem Stauraum in Regalen. Tiefgaragenstellplatz 25000 SFr. Ein zusätzlicher Keller…",
         "url": "https://www.immoscout24.ch//en/d/penthouse-buy-rombach/7261389",
         "table": "b <article class=####Box-cYFBPY hKrxoH####><h2 class=####Box-cYFBPY gZLPvm####>detail_responsive#base_info_title</h2><table class=####DataTable__StyledTable-sc-1o2xig5-1 jbXaEC####><tbody><tr><td class=####DataTable__SimpleCell-sc-1o2xig5-2 DataTable__Cell-sc-1o2xig5-4 edrNfG dGBatU####>detail_responsive#municipality</td><td class=####DataTable__SimpleCell-sc-1o2xig5-2 DataTable__CellValue-sc-1o2xig5-3 edrNfG rJZBK####>K&#252;ttigen</td></tr><tr><td class=####DataTable__SimpleCell-sc-1o2xig5-2 DataTable__Cell-sc-1o2xig5-4 edrNfG dGBatU####>detail_responsive#surface_living</td><td class=####DataTable__SimpleCell-sc-1o2xig5-2 DataTable__CellValue-sc-1o2xig5-3 edrNfG rJZBK####>93 m&#178;</td></tr><tr><td class=####DataTable__SimpleCell-sc-1o2xig5-2 DataTable__Cell-sc-1o2xig5-4 edrNfG dGBatU####>detail_responsive#floor</td><td class=####DataTable__SimpleCell-sc-1o2xig5-2 DataTable__CellValue-sc-1o2xig5-3 edrNfG rJZBK####>2. floor</td></tr><tr><td class=####DataTable__SimpleCell-sc-1o2xig5…",
         "Floor": "nan",
         "detail_responsive#municipality": "Küttigen",
         "detail_responsive#surface_living": "93 m²",
         "detail_responsive#floor": "2. floor",
         "detail_responsive#available_from": "Immediately",
         "Gemeinde": "nan",
         "Wohnfläche": "nan",
         "Stockwerk": "nan",
         "Nutzfläche": "nan",
         "Verfügbarkeit": "nan",
         "Grundstücksfläche": "nan",
         "detail_responsive#surface_property": "nan",
         "detail_responsive#surface_usable": "nan",
         "Commune": "nan",
         "Surface habitable": "nan",
         "Surface du terrain": "nan",
         "Surface utile": "nan",
         "Disponibilité": "nan",
         "Étage": "nan",
         "Comune": "nan",
         "Superficie abitabile": "nan",
         "Disponibilità": "nan",
         "Gross return": "nan",
         "Piano": "nan",
         "Superficie del terreno": "nan",
         "Superficie utile": "nan",
         "Municipality_merged": "nan",
         "Floor_merged": "nan",
         "Living_space_merged": "nan",
         "Floor_space_merged": "nan",
         "Plot_area_merged": "nan",
         "Availability_merged": "nan",
         "location_parsed": "Strasse:  plz:5022 Stadt: Rombach Kanton: AG",
         "title": "Moderne, lichtdurchflutete Attikawohnung mit Erdwärmeheizung",
         "details": "2.5 rooms, 93 m², ",
         "address": "5022 Rombach, AG",
         "price": "CHF 720,000.—",
         "link": "/en/d/penthouse-buy-rombach/7261389",
         "details_structured": "{'detail_responsive#municipality': 'Küttigen', 'detail_responsive#surface_living': '93 m²', 'detail_responsive#floor': '2. floor', 'detail_responsive#available_from': 'Immediately', 'location': '5022 Rombach, AG', 'description': '2.5 rooms, 93 m²«Moderne, lichtdurchflutete Attikawohnung mit Erdwärmeheizung»CHF 720,000.—detail_responsive#bookmark', 'detailed_description': 'detail_responsive#description_title2,5 Zimmerwohnung mit 93 m2 Wohnfläche und 28 m2 Südbalkon über die gesamte Länge der Wohnung, teilweise überdacht, mit hübsch gestaltetem Balkongarten (u.a. Säulenobst, Kräuter, Blumenstauden) und herrlichem Blick über das Aaretal bis hin zu Alpengipfeln bei klarer Sicht.Grosszügiger Wohn-Essbereich, Einbauküche mit Kücheninsel, moderne Elektrogeräte (z.B. Backofen mit Steamerfunktion, Induktionsherd)2 Duschbäder, mit begehbarer Dusche im 1. Bad und Wasch-/Trockenturm im 2. Bad.Raumhohe Fenster im gesamten Wohnbereich; Spotlights und Galerieleisten in allen Räumen; Schränke in Eing…",
         "lat": "47.4033",
         "lon": "8.033",
         "index": "17812",
         "ForestDensityL": "0.16336188225881",
         "ForestDensityM": "0.0958773699050547",
         "ForestDensityS": "0.0019109210075159",
         "Latitude": "47.3974158",
         "Locality": "Aarau",
         "Longitude": "8.0431495",
         "NoisePollutionRailwayL": "0.0",
         "NoisePollutionRailwayM": "0.0",
         "NoisePollutionRailwayS": "0.0",
         "NoisePollutionRoadL": "0.3349569875500661",
         "NoisePollutionRoadM": "0.3812569632341239",
         "NoisePollutionRoadS": "0.2975746268656715",
         "PopulationDensityL": "0.32588711964344",
         "PopulationDensityM": "0.3937832998986173",
         "PopulationDensityS": "0.6351943076081007",
         "RiversAndLakesL": "0.1542744194052519",
         "RiversAndLakesM": "0.1882285081314232",
         "RiversAndLakesS": "0.0",
         "WorkplaceDensityL": "0.1726464485235435",
         "WorkplaceDensityM": "0.1638498867680362",
         "WorkplaceDensityS": "0.1658304498269896",
         "Zip": "5000",
         "distanceToTrainStation": "0.9095874149023138",
         "gde_area_agriculture_percentage": "11.3544201135",
         "gde_area_forest_percentage": "32.197891322",
         "gde_area_nonproductive_percentage": "7.1370640714",
         "gde_area_settlement_percentage": "49.31062449310001",
         "gde_average_house_hold": "2.01",
         "gde_empty_apartments": "2.0237991835",
         "gde_foreigners_percentage": "21.35862331",
         "gde_new_homes_per_1000": "3.8145823274",
         "gde_politics_bdp": "3.6331343118",
         "gde_politics_cvp": "5.324420974200001",
         "gde_politics_evp": "3.7822022408",
         "gde_politics_fdp": "18.0895517654",
         "gde_politics_glp": "7.899807321799999",
         "gde_politics_gps": "8.8513047408",
         "gde_politics_pda": "nan",
         "gde_politics_rights": "0.7350317562",
         "gde_politics_sp": "26.5158543257",
         "gde_politics_svp": "22.6622897785",
         "gde_pop_per_km2": "1704.70016207",
         "gde_population": "21036.0",
         "gde_private_apartments": "10149.0",
         "gde_social_help_quota": "3.54901014",
         "gde_tax": "6.05",
         "gde_workers_sector1": "37.0",
         "gde_workers_sector2": "3092.0",
         "gde_workers_sector3": "30364.0",
         "gde_workers_total": "33493.0",
         "price_cleaned": "720000.0",
         "Space extracted": "93.0",
         "rooms": "5.0",
         "type_attic-flat": "0",
         "type_attic-room": "0",
         "type_castle": "0",
         "type_chalet": "0",
         "type_detached-house": "0",
         "type_detached-secondary-suite": "0",
         "type_duplex-maisonette": "0",
         "type_farmhouse": "0",
         "type_flat": "0",
         "type_furnished-residential-property": "0",
         "type_loft": "0",
         "type_penthouse": "1",
         "type_rustico": "0",
         "type_secondary-suite": "0",
         "type_semi-detached-house": "0",
         "type_single-room": "0",
         "type_stepped-apartment": "0",
         "type_stepped-house": "0",
         "type_studio": "0",
         "type_terrace-house": "0",
         "type_villa": "0",
         "_deepnote_index_column": "2"
        },
        {
         "Unnamed: 0": "3",
         "Unnamed: 0.1": "3",
         "Municipality": "Biberstein",
         "Living space": "154 m²",
         "Plot area": "370 m²",
         "Floor space": "257 m²",
         "Availability": "On request",
         "location": "Buhaldenstrasse 8A5023 Biberstein, AG",
         "description": "4.5 rooms, 154 m²«AgentSelly - Luxuriöses Eckhaus an toller Süd-West Lage»CHF 1,430,000.—Favourite",
         "detailed_description": "DescriptionDieses äusserst grosszügige Minergie-Eckhaus mit Süd-West Ausrichtung wird Sie mit einer luxuriösen Ausstattung, einer tollen Grundrissgestaltung und schönen Aussenräumen begeistern. Auf drei mit einem Lift verbundenen Etagen erwarten Sie ein grosszügiger Wohn- und Essbereich mit moderner Küche und Zugang zu Terrasse und Sitzplatz, zwei Schlafzimmer, ein Masterbedroom mit Ankleide und Bad en-Suite sowie viel Stauraum dank dem Keller und einer grossen Garage.Für weitere Informationen besuchen Sie uns auf:https://www.agentselly.ch/kaufen/objekt/XieWpo7jvqQj2n25jFurther information",
         "url": "https://www.immoscout24.ch//en/d/detached-house-buy-biberstein/7047212",
         "table": "b <article class=####Box-cYFBPY hKrxoH####><h2 class=####Box-cYFBPY gZLPvm####>Main information</h2><table class=####DataTable__StyledTable-sc-1o2xig5-1 jbXaEC####><tbody><tr><td class=####DataTable__SimpleCell-sc-1o2xig5-2 DataTable__Cell-sc-1o2xig5-4 edrNfG dGBatU####>Municipality</td><td class=####DataTable__SimpleCell-sc-1o2xig5-2 DataTable__CellValue-sc-1o2xig5-3 edrNfG rJZBK####>Biberstein</td></tr><tr><td class=####DataTable__SimpleCell-sc-1o2xig5-2 DataTable__Cell-sc-1o2xig5-4 edrNfG dGBatU####>Living space</td><td class=####DataTable__SimpleCell-sc-1o2xig5-2 DataTable__CellValue-sc-1o2xig5-3 edrNfG rJZBK####>154 m&#178;</td></tr><tr><td class=####DataTable__SimpleCell-sc-1o2xig5-2 DataTable__Cell-sc-1o2xig5-4 edrNfG dGBatU####>Plot area</td><td class=####DataTable__SimpleCell-sc-1o2xig5-2 DataTable__CellValue-sc-1o2xig5-3 edrNfG rJZBK####>370 m&#178;</td></tr><tr><td class=####DataTable__SimpleCell-sc-1o2xig5-2 DataTable__Cell-sc-1o2xig5-4 edrNfG dGBatU####>Floor space</td><t…",
         "Floor": "nan",
         "detail_responsive#municipality": "nan",
         "detail_responsive#surface_living": "nan",
         "detail_responsive#floor": "nan",
         "detail_responsive#available_from": "nan",
         "Gemeinde": "nan",
         "Wohnfläche": "nan",
         "Stockwerk": "nan",
         "Nutzfläche": "nan",
         "Verfügbarkeit": "nan",
         "Grundstücksfläche": "nan",
         "detail_responsive#surface_property": "nan",
         "detail_responsive#surface_usable": "nan",
         "Commune": "nan",
         "Surface habitable": "nan",
         "Surface du terrain": "nan",
         "Surface utile": "nan",
         "Disponibilité": "nan",
         "Étage": "nan",
         "Comune": "nan",
         "Superficie abitabile": "nan",
         "Disponibilità": "nan",
         "Gross return": "nan",
         "Piano": "nan",
         "Superficie del terreno": "nan",
         "Superficie utile": "nan",
         "Municipality_merged": "Biberstein",
         "Floor_merged": "nan",
         "Living_space_merged": "154 m²",
         "Floor_space_merged": "257 m²",
         "Plot_area_merged": "370 m²",
         "Availability_merged": "On request",
         "location_parsed": "Strasse:Buhaldenstrasse  8A plz:5023 Stadt: Biberstein Kanton: AG",
         "title": "AgentSelly - Luxuriöses Eckhaus an toller Süd-West Lage",
         "details": "4.5 rooms, 154 m², ",
         "address": "Buhaldenstrasse 8A, 5023 Biberstein, AG",
         "price": "CHF 1,430,000.—",
         "link": "/en/d/detached-house-buy-biberstein/7047212",
         "details_structured": "{'Municipality': 'Biberstein', 'Living space': '154 m²', 'Plot area': '370 m²', 'Floor space': '257 m²', 'Availability': 'On request', 'location': 'Buhaldenstrasse 8A5023 Biberstein, AG', 'description': '4.5 rooms, 154 m²«AgentSelly - Luxuriöses Eckhaus an toller Süd-West Lage»CHF 1,430,000.—Favourite', 'detailed_description': 'DescriptionDieses äusserst grosszügige Minergie-Eckhaus mit Süd-West Ausrichtung wird Sie mit einer luxuriösen Ausstattung, einer tollen Grundrissgestaltung und schönen Aussenräumen begeistern. Auf drei mit einem Lift verbundenen Etagen erwarten Sie ein grosszügiger Wohn- und Essbereich mit moderner Küche und Zugang zu Terrasse und Sitzplatz, zwei Schlafzimmer, ein Masterbedroom mit Ankleide und Bad en-Suite sowie viel Stauraum dank dem Keller und einer grossen Garage.Für weitere Informationen besuchen Sie uns auf:https://www.agentselly.ch/kaufen/objekt/XieWpo7jvqQj2n25jFurther information', 'url': 'https://www.immoscout24.ch//en/d/detached-house-buy-biberstein…",
         "lat": "47.415643",
         "lon": "8.0854228",
         "index": "16620",
         "ForestDensityL": "0.5111756483642033",
         "ForestDensityM": "0.2864510208821959",
         "ForestDensityS": "0.0909078094589692",
         "Latitude": "47.4159269",
         "Locality": "Biberstein",
         "Longitude": "8.0858398",
         "NoisePollutionRailwayL": "0.0",
         "NoisePollutionRailwayM": "0.0",
         "NoisePollutionRailwayS": "0.0",
         "NoisePollutionRoadL": "0.0582979379946271",
         "NoisePollutionRoadM": "0.067047626047332",
         "NoisePollutionRoadS": "0.1038503253796095",
         "PopulationDensityL": "0.0929137474087486",
         "PopulationDensityM": "0.2095297398560906",
         "PopulationDensityS": "0.3666736198025309",
         "RiversAndLakesL": "0.0821698280693361",
         "RiversAndLakesM": "0.0018113817490726",
         "RiversAndLakesS": "0.0118710714307242",
         "WorkplaceDensityL": "0.0301693757471317",
         "WorkplaceDensityM": "0.0521201856730648",
         "WorkplaceDensityS": "0.0989513422818792",
         "Zip": "5023",
         "distanceToTrainStation": "3.0384665928009302",
         "gde_area_agriculture_percentage": "30.6763285024",
         "gde_area_forest_percentage": "51.44927536229999",
         "gde_area_nonproductive_percentage": "4.5893719807",
         "gde_area_settlement_percentage": "13.2850241546",
         "gde_average_house_hold": "2.23",
         "gde_empty_apartments": "1.9946808511",
         "gde_foreigners_percentage": "9.25566343",
         "gde_new_homes_per_1000": "4.739336492900001",
         "gde_politics_bdp": "5.8737151248",
         "gde_politics_cvp": "4.5796622614",
         "gde_politics_evp": "3.359030837",
         "gde_politics_fdp": "18.3553597651",
         "gde_politics_glp": "6.0572687225",
         "gde_politics_gps": "7.0668135095",
         "gde_politics_pda": "nan",
         "gde_politics_rights": "0.2202643172",
         "gde_politics_sp": "20.392804699000003",
         "gde_politics_svp": "30.8094713656",
         "gde_pop_per_km2": "376.829268293",
         "gde_population": "1545.0",
         "gde_private_apartments": "686.0",
         "gde_social_help_quota": "2.2342586324",
         "gde_tax": "5.89",
         "gde_workers_sector1": "14.0",
         "gde_workers_sector2": "9.0",
         "gde_workers_sector3": "308.0",
         "gde_workers_total": "331.0",
         "price_cleaned": "1430000.0",
         "Space extracted": "154.0",
         "rooms": "5.0",
         "type_attic-flat": "0",
         "type_attic-room": "0",
         "type_castle": "0",
         "type_chalet": "0",
         "type_detached-house": "1",
         "type_detached-secondary-suite": "0",
         "type_duplex-maisonette": "0",
         "type_farmhouse": "0",
         "type_flat": "0",
         "type_furnished-residential-property": "0",
         "type_loft": "0",
         "type_penthouse": "0",
         "type_rustico": "0",
         "type_secondary-suite": "0",
         "type_semi-detached-house": "0",
         "type_single-room": "0",
         "type_stepped-apartment": "0",
         "type_stepped-house": "0",
         "type_studio": "0",
         "type_terrace-house": "0",
         "type_villa": "0",
         "_deepnote_index_column": "3"
        },
        {
         "Unnamed: 0": "4",
         "Unnamed: 0.1": "4",
         "Municipality": "Küttigen",
         "Living space": "142 m²",
         "Plot area": "nan",
         "Floor space": "nan",
         "Availability": "On request",
         "location": "5022 Rombach, AG",
         "description": "4.5 rooms, 142 m²«MIT GARTENSITZPLATZ UND VIELEN EXTRAS»CHF 995,000.—Favourite",
         "detailed_description": "DescriptionAus ehemals zwei Wohnungen wurde eine wunderschöne, grosszügige und helle Wohnung kreiert. Die Wohnung hat nebst ihren grossen und lichtdurchfluteten Räumlichkeiten einiges zu bieten; wie eine offene und moderne Küche mit grossem Wohn- und Essbereich, Terrasse mit eigenem Sitzplatz und pflegeleichtem Garten sowie einen grossen, beheizten Hobbyraum.Dieses BETTERHOMES-Angebot zeichnet sich durch folgende Vorteile aus:grosser, beheizter Hobbyraum (32 qm2)offene Küche mit grossem Wohn- und Essbereichhelle und grosszügige Zimmerzwei Nasszelleninsgesamt 3 Balkone und eine Terrasse mit Gartendreifach-verglaste Fensterweiterer Tiefgaragenplatz zur Miete optional96m2 Grundstückfläche zur Eigennutzungzzgl. CHF 40 000.- für 1 x Tiefgaragenplatz und 1 x Aussenparkplatzund, und, und...Interessiert? Kontaktieren Sie uns für eine unverbindliche Besichtigung auch Online-Besichtigung möglich!Nichts Passendes gefunden? Über 2 300 weitere Angebote unter: www.betterhomes.ch - der Immobilienfai…",
         "url": "https://www.immoscout24.ch//en/d/flat-buy-rombach/7293107",
         "table": "b <article class=####Box-cYFBPY hKrxoH####><h2 class=####Box-cYFBPY gZLPvm####>Main information</h2><table class=####DataTable__StyledTable-sc-1o2xig5-1 jbXaEC####><tbody><tr><td class=####DataTable__SimpleCell-sc-1o2xig5-2 DataTable__Cell-sc-1o2xig5-4 edrNfG dGBatU####>Municipality</td><td class=####DataTable__SimpleCell-sc-1o2xig5-2 DataTable__CellValue-sc-1o2xig5-3 edrNfG rJZBK####>K&#252;ttigen</td></tr><tr><td class=####DataTable__SimpleCell-sc-1o2xig5-2 DataTable__Cell-sc-1o2xig5-4 edrNfG dGBatU####>Living space</td><td class=####DataTable__SimpleCell-sc-1o2xig5-2 DataTable__CellValue-sc-1o2xig5-3 edrNfG rJZBK####>142 m&#178;</td></tr><tr><td class=####DataTable__SimpleCell-sc-1o2xig5-2 DataTable__Cell-sc-1o2xig5-4 edrNfG dGBatU####>Floor</td><td class=####DataTable__SimpleCell-sc-1o2xig5-2 DataTable__CellValue-sc-1o2xig5-3 edrNfG rJZBK####>Ground floor</td></tr><tr><td class=####DataTable__SimpleCell-sc-1o2xig5-2 DataTable__Cell-sc-1o2xig5-4 edrNfG dGBatU####>Availability</td><…",
         "Floor": "Ground floor",
         "detail_responsive#municipality": "nan",
         "detail_responsive#surface_living": "nan",
         "detail_responsive#floor": "nan",
         "detail_responsive#available_from": "nan",
         "Gemeinde": "nan",
         "Wohnfläche": "nan",
         "Stockwerk": "nan",
         "Nutzfläche": "nan",
         "Verfügbarkeit": "nan",
         "Grundstücksfläche": "nan",
         "detail_responsive#surface_property": "nan",
         "detail_responsive#surface_usable": "nan",
         "Commune": "nan",
         "Surface habitable": "nan",
         "Surface du terrain": "nan",
         "Surface utile": "nan",
         "Disponibilité": "nan",
         "Étage": "nan",
         "Comune": "nan",
         "Superficie abitabile": "nan",
         "Disponibilità": "nan",
         "Gross return": "nan",
         "Piano": "nan",
         "Superficie del terreno": "nan",
         "Superficie utile": "nan",
         "Municipality_merged": "Küttigen",
         "Floor_merged": "Ground floor",
         "Living_space_merged": "142 m²",
         "Floor_space_merged": "nan",
         "Plot_area_merged": "nan",
         "Availability_merged": "On request",
         "location_parsed": "Strasse:  plz:5022 Stadt: Rombach Kanton: AG",
         "title": "MIT GARTENSITZPLATZ UND VIELEN EXTRAS",
         "details": "4.5 rooms, 142 m², ",
         "address": "5022 Rombach, AG",
         "price": "CHF 995,000.—",
         "link": "/en/d/flat-buy-rombach/7293107",
         "details_structured": "{'Municipality': 'Küttigen', 'Living space': '142 m²', 'Floor': 'Ground floor', 'Availability': 'On request', 'location': '5022 Rombach, AG', 'description': '4.5 rooms, 142 m²«MIT GARTENSITZPLATZ UND VIELEN EXTRAS»CHF 995,000.—Favourite', 'detailed_description': 'DescriptionAus ehemals zwei Wohnungen wurde eine wunderschöne, grosszügige und helle Wohnung kreiert. Die Wohnung hat nebst ihren grossen und lichtdurchfluteten Räumlichkeiten einiges zu bieten; wie eine offene und moderne Küche mit grossem Wohn- und Essbereich, Terrasse mit eigenem Sitzplatz und pflegeleichtem Garten sowie einen grossen, beheizten Hobbyraum.Dieses BETTERHOMES-Angebot zeichnet sich durch folgende Vorteile aus:grosser, beheizter Hobbyraum (32 qm2)offene Küche mit grossem Wohn- und Essbereichhelle und grosszügige Zimmerzwei Nasszelleninsgesamt 3 Balkone und eine Terrasse mit Gartendreifach-verglaste Fensterweiterer Tiefgaragenplatz zur Miete optional96m2 Grundstückfläche zur Eigennutzungzzgl. CHF 40\\'000.- für …",
         "lat": "47.4038235",
         "lon": "8.0482879",
         "index": "12716",
         "ForestDensityL": "0.3338645858292834",
         "ForestDensityM": "0.2792762060976747",
         "ForestDensityS": "0.1458351747563474",
         "Latitude": "47.404870447",
         "Locality": "Rombach",
         "Longitude": "8.052780535",
         "NoisePollutionRailwayL": "0.0",
         "NoisePollutionRailwayM": "0.0",
         "NoisePollutionRailwayS": "0.0",
         "NoisePollutionRoadL": "0.1334981288523627",
         "NoisePollutionRoadM": "0.1329330885658624",
         "NoisePollutionRoadS": "0.2359174567763524",
         "PopulationDensityL": "0.1909856542889402",
         "PopulationDensityM": "0.1369843339269058",
         "PopulationDensityS": "0.2045486700622524",
         "RiversAndLakesL": "0.1095861846724958",
         "RiversAndLakesM": "0.1414731975610172",
         "RiversAndLakesS": "0.0918054478813124",
         "WorkplaceDensityL": "0.0469499064774209",
         "WorkplaceDensityM": "0.038007938007938",
         "WorkplaceDensityS": "0.0555090071219103",
         "Zip": "5022",
         "distanceToTrainStation": "1.4602445707934362",
         "gde_area_agriculture_percentage": "33.1370899916",
         "gde_area_forest_percentage": "49.7056349874",
         "gde_area_nonproductive_percentage": "1.1774600505",
         "gde_area_settlement_percentage": "15.9798149706",
         "gde_average_house_hold": "2.28",
         "gde_empty_apartments": "0.6915629322",
         "gde_foreigners_percentage": "15.9019898",
         "gde_new_homes_per_1000": "1.1608623549",
         "gde_politics_bdp": "5.2177397809",
         "gde_politics_cvp": "5.7280256479",
         "gde_politics_evp": "5.0066791344",
         "gde_politics_fdp": "19.1584290676",
         "gde_politics_glp": "6.5028052364",
         "gde_politics_gps": "7.4779588565",
         "gde_politics_pda": "nan",
         "gde_politics_rights": "0.8923323537000001",
         "gde_politics_sp": "20.4595244456",
         "gde_politics_svp": "27.5901683142",
         "gde_pop_per_km2": "511.008403361",
         "gde_population": "6081.0",
         "gde_private_apartments": "2638.0",
         "gde_social_help_quota": "1.7081260365000002",
         "gde_tax": "6.3",
         "gde_workers_sector1": "65.0",
         "gde_workers_sector2": "349.0",
         "gde_workers_sector3": "941.0",
         "gde_workers_total": "1355.0",
         "price_cleaned": "995000.0",
         "Space extracted": "142.0",
         "rooms": "5.0",
         "type_attic-flat": "0",
         "type_attic-room": "0",
         "type_castle": "0",
         "type_chalet": "0",
         "type_detached-house": "0",
         "type_detached-secondary-suite": "0",
         "type_duplex-maisonette": "0",
         "type_farmhouse": "0",
         "type_flat": "1",
         "type_furnished-residential-property": "0",
         "type_loft": "0",
         "type_penthouse": "0",
         "type_rustico": "0",
         "type_secondary-suite": "0",
         "type_semi-detached-house": "0",
         "type_single-room": "0",
         "type_stepped-apartment": "0",
         "type_stepped-house": "0",
         "type_studio": "0",
         "type_terrace-house": "0",
         "type_villa": "0",
         "_deepnote_index_column": "4"
        },
        {
         "Unnamed: 0": "5",
         "Unnamed: 0.1": "5",
         "Municipality": "Erlinsbach (AG)",
         "Living space": "190 m²",
         "Plot area": "1063 m²",
         "Floor space": "220 m²",
         "Availability": "On request",
         "location": "Buchhalde 365018 Erlinsbach, AG",
         "description": "5.5 rooms, 190 m²«Modernes, grosszügiges Maisonette Terrassenhaus an Toplage»CHF 2,160,000.—Favourite",
         "detailed_description": "DescriptionDer Blick in die Weite vermittelt Ruhe, ermöglicht Konzentration auf das Wesentliche. Ein teilweise gedeckter Sitzplatz und grosszügige Sonnenterrassen bieten zusätzlichen Lebensraum in den Sommermonaten. Geniessen Sie das idyllische Leben an besonntem Westhang in Erlinsbach und profitieren Sie von der Nähe zu Aarau, mit den Annehmlichkeiten der Stadt, mit dem guten Anschluss an die Städte Bern, Zürich, Basel und Luzern.Moderner, hochwertiger Ausbaustandard, autonomer Zugang, durch Schrägaufzug rollstuhlgängig erschlossen, Nebenräume mit viel Stauraum, die Küche und Nasszellen können weitgehendst auf Ihre persönlichen Bedürfnisse angepasst werden. 2 Parkplätze in der Einstallhalle sind im Kaufpreis enthalten.",
         "url": "https://www.immoscout24.ch//en/d/detached-house-buy-erlinsbach/7257554",
         "table": "b <article class=####Box-cYFBPY hKrxoH####><h2 class=####Box-cYFBPY gZLPvm####>Main information</h2><table class=####DataTable__StyledTable-sc-1o2xig5-1 jbXaEC####><tbody><tr><td class=####DataTable__SimpleCell-sc-1o2xig5-2 DataTable__Cell-sc-1o2xig5-4 edrNfG dGBatU####>Municipality</td><td class=####DataTable__SimpleCell-sc-1o2xig5-2 DataTable__CellValue-sc-1o2xig5-3 edrNfG rJZBK####>Erlinsbach (AG)</td></tr><tr><td class=####DataTable__SimpleCell-sc-1o2xig5-2 DataTable__Cell-sc-1o2xig5-4 edrNfG dGBatU####>Living space</td><td class=####DataTable__SimpleCell-sc-1o2xig5-2 DataTable__CellValue-sc-1o2xig5-3 edrNfG rJZBK####>190 m&#178;</td></tr><tr><td class=####DataTable__SimpleCell-sc-1o2xig5-2 DataTable__Cell-sc-1o2xig5-4 edrNfG dGBatU####>Plot area</td><td class=####DataTable__SimpleCell-sc-1o2xig5-2 DataTable__CellValue-sc-1o2xig5-3 edrNfG rJZBK####>1063 m&#178;</td></tr><tr><td class=####DataTable__SimpleCell-sc-1o2xig5-2 DataTable__Cell-sc-1o2xig5-4 edrNfG dGBatU####>Floor space<…",
         "Floor": "nan",
         "detail_responsive#municipality": "nan",
         "detail_responsive#surface_living": "nan",
         "detail_responsive#floor": "nan",
         "detail_responsive#available_from": "nan",
         "Gemeinde": "nan",
         "Wohnfläche": "nan",
         "Stockwerk": "nan",
         "Nutzfläche": "nan",
         "Verfügbarkeit": "nan",
         "Grundstücksfläche": "nan",
         "detail_responsive#surface_property": "nan",
         "detail_responsive#surface_usable": "nan",
         "Commune": "nan",
         "Surface habitable": "nan",
         "Surface du terrain": "nan",
         "Surface utile": "nan",
         "Disponibilité": "nan",
         "Étage": "nan",
         "Comune": "nan",
         "Superficie abitabile": "nan",
         "Disponibilità": "nan",
         "Gross return": "nan",
         "Piano": "nan",
         "Superficie del terreno": "nan",
         "Superficie utile": "nan",
         "Municipality_merged": "Erlinsbach (AG)",
         "Floor_merged": "nan",
         "Living_space_merged": "190 m²",
         "Floor_space_merged": "220 m²",
         "Plot_area_merged": "1063 m²",
         "Availability_merged": "On request",
         "location_parsed": "Strasse:Buchhalde  36 plz:5018 Stadt: Erlinsbach Kanton: AG",
         "title": "Modernes, grosszügiges Maisonette Terrassenhaus an Toplage",
         "details": "5.5 rooms, 190 m², ",
         "address": "Buchhalde 36, 5018 Erlinsbach, AG",
         "price": "CHF 2,160,000.—",
         "link": "/en/d/detached-house-buy-erlinsbach/7257554",
         "details_structured": "{'Municipality': 'Erlinsbach (AG)', 'Living space': '190 m²', 'Plot area': '1063 m²', 'Floor space': '220 m²', 'Availability': 'On request', 'location': 'Buchhalde 365018 Erlinsbach, AG', 'description': '5.5 rooms, 190 m²«Modernes, grosszügiges Maisonette Terrassenhaus an Toplage»CHF 2,160,000.—Favourite', 'detailed_description': 'DescriptionDer Blick in die Weite vermittelt Ruhe, ermöglicht Konzentration auf das Wesentliche. Ein teilweise gedeckter Sitzplatz und grosszügige Sonnenterrassen bieten zusätzlichen Lebensraum in den Sommermonaten. Geniessen Sie das idyllische Leben an besonntem Westhang in Erlinsbach und profitieren Sie von der Nähe zu Aarau, mit den Annehmlichkeiten der Stadt, mit dem guten Anschluss an die Städte Bern, Zürich, Basel und Luzern.Moderner, hochwertiger Ausbaustandard, autonomer Zugang, durch Schrägaufzug rollstuhlgängig erschlossen, Nebenräume mit viel Stauraum, die Küche und Nasszellen können weitgehendst auf Ihre persönlichen Bedürfnisse angepasst werden.…",
         "lat": "47.4009351",
         "lon": "8.0124603",
         "index": "17534",
         "ForestDensityL": "0.1905808417774203",
         "ForestDensityM": "0.1628383005420189",
         "ForestDensityS": "0.0347592084717792",
         "Latitude": "47.401163",
         "Locality": "Erlinsbach",
         "Longitude": "8.0120337",
         "NoisePollutionRailwayL": "0.0",
         "NoisePollutionRailwayM": "0.0",
         "NoisePollutionRailwayS": "0.0",
         "NoisePollutionRoadL": "0.1942216040709375",
         "NoisePollutionRoadM": "0.1432054251980272",
         "NoisePollutionRoadS": "0.1375854214123007",
         "PopulationDensityL": "0.2513930938874369",
         "PopulationDensityM": "0.2391501152780421",
         "PopulationDensityS": "0.4620592779884815",
         "RiversAndLakesL": "0.0",
         "RiversAndLakesM": "0.0",
         "RiversAndLakesS": "0.0",
         "WorkplaceDensityL": "0.0712243551478211",
         "WorkplaceDensityM": "0.0591505937048438",
         "WorkplaceDensityS": "0.0766037735849056",
         "Zip": "5018",
         "distanceToTrainStation": "3.147978364758858",
         "gde_area_agriculture_percentage": "32.9949238579",
         "gde_area_forest_percentage": "53.1979695431",
         "gde_area_nonproductive_percentage": "1.2182741117",
         "gde_area_settlement_percentage": "12.5888324873",
         "gde_average_house_hold": "2.3",
         "gde_empty_apartments": "1.866251944",
         "gde_foreigners_percentage": "17.30628208",
         "gde_new_homes_per_1000": "7.047571105",
         "gde_politics_bdp": "4.098056209",
         "gde_politics_cvp": "7.1024720399",
         "gde_politics_evp": "2.7733069209",
         "gde_politics_fdp": "20.7378977343",
         "gde_politics_glp": "5.5342330073",
         "gde_politics_gps": "5.3155049317000005",
         "gde_politics_pda": "nan",
         "gde_politics_rights": "0.9657050885",
         "gde_politics_sp": "15.3935041888",
         "gde_politics_svp": "36.7586975362",
         "gde_pop_per_km2": "414.908722109",
         "gde_population": "4091.0",
         "gde_private_apartments": "1752.0",
         "gde_social_help_quota": "2.5421595771",
         "gde_tax": "6.16",
         "gde_workers_sector1": "64.0",
         "gde_workers_sector2": "73.0",
         "gde_workers_sector3": "829.0",
         "gde_workers_total": "966.0",
         "price_cleaned": "2160000.0",
         "Space extracted": "190.0",
         "rooms": "5.0",
         "type_attic-flat": "0",
         "type_attic-room": "0",
         "type_castle": "0",
         "type_chalet": "0",
         "type_detached-house": "1",
         "type_detached-secondary-suite": "0",
         "type_duplex-maisonette": "0",
         "type_farmhouse": "0",
         "type_flat": "0",
         "type_furnished-residential-property": "0",
         "type_loft": "0",
         "type_penthouse": "0",
         "type_rustico": "0",
         "type_secondary-suite": "0",
         "type_semi-detached-house": "0",
         "type_single-room": "0",
         "type_stepped-apartment": "0",
         "type_stepped-house": "0",
         "type_studio": "0",
         "type_terrace-house": "0",
         "type_villa": "0",
         "_deepnote_index_column": "5"
        },
        {
         "Unnamed: 0": "6",
         "Unnamed: 0.1": "6",
         "Municipality": "Biberstein",
         "Living space": "124 m²",
         "Plot area": "200 m²",
         "Floor space": "nan",
         "Availability": "Immediately",
         "location": "5023 Biberstein, AG",
         "description": "4.5 rooms, 124 m²«Kompakt, doch geräumiges 4½ Zimmer-Mittelhaus (sanierungsbedürftig)»CHF 550,000.—Favourite",
         "detailed_description": "DescriptionZum Objekt:Kompakt und doch sehr geräumiges 4½ Zi-DEFH in familienfreundlichem Quartier.Das Mittelhaus mit Charme, Grundstück ca. 200 m², das Baujahr ist 1978 und die Nettowohnfläche misst ca. 124 m².Der Eingangsbereich ist auf der mittleren Etage der Liegenschaft, dort befindet sich die Garderobe, Küche, Gäste/WC und das sehr helle und grosszügigem Ess/-Wohnzimmer.Vom Ess/-Wohnzimmer gelangen Sie zu dem idyllischen angelegten Balkon der für erholsame und zu entspannende Stunden einlädt.Im Obergeschoss befinden sich die zwei Schlafzimmer mit Blick ins Grüne, die separate Dusche mit Lavabo so wie das Badezimmer mit Badewanne, Lavabo und WC.In der Kelleretage befindet sich die Waschküche inklusiver Trockenraum und ein Kellerabteil zu Verfügung.Durch die Waschküche können Sie über eine Treppe in den Tiefgarage gelangen.Zu dieser Liegenschaft gehört auch einen Garagenplatz.Für wen eignet sich das Objekt?Das Haus dürften Familien mit Kindern (dank der Nähe zu Kindergarten und Sc…",
         "url": "https://www.immoscout24.ch//en/d/terrace-house-buy-biberstein/7048767",
         "table": "b <article class=####Box-cYFBPY hKrxoH####><h2 class=####Box-cYFBPY gZLPvm####>Main information</h2><table class=####DataTable__StyledTable-sc-1o2xig5-1 jbXaEC####><tbody><tr><td class=####DataTable__SimpleCell-sc-1o2xig5-2 DataTable__Cell-sc-1o2xig5-4 edrNfG dGBatU####>Municipality</td><td class=####DataTable__SimpleCell-sc-1o2xig5-2 DataTable__CellValue-sc-1o2xig5-3 edrNfG rJZBK####>Biberstein</td></tr><tr><td class=####DataTable__SimpleCell-sc-1o2xig5-2 DataTable__Cell-sc-1o2xig5-4 edrNfG dGBatU####>Living space</td><td class=####DataTable__SimpleCell-sc-1o2xig5-2 DataTable__CellValue-sc-1o2xig5-3 edrNfG rJZBK####>124 m&#178;</td></tr><tr><td class=####DataTable__SimpleCell-sc-1o2xig5-2 DataTable__Cell-sc-1o2xig5-4 edrNfG dGBatU####>Plot area</td><td class=####DataTable__SimpleCell-sc-1o2xig5-2 DataTable__CellValue-sc-1o2xig5-3 edrNfG rJZBK####>200 m&#178;</td></tr><tr><td class=####DataTable__SimpleCell-sc-1o2xig5-2 DataTable__Cell-sc-1o2xig5-4 edrNfG dGBatU####>Availability</td><…",
         "Floor": "nan",
         "detail_responsive#municipality": "nan",
         "detail_responsive#surface_living": "nan",
         "detail_responsive#floor": "nan",
         "detail_responsive#available_from": "nan",
         "Gemeinde": "nan",
         "Wohnfläche": "nan",
         "Stockwerk": "nan",
         "Nutzfläche": "nan",
         "Verfügbarkeit": "nan",
         "Grundstücksfläche": "nan",
         "detail_responsive#surface_property": "nan",
         "detail_responsive#surface_usable": "nan",
         "Commune": "nan",
         "Surface habitable": "nan",
         "Surface du terrain": "nan",
         "Surface utile": "nan",
         "Disponibilité": "nan",
         "Étage": "nan",
         "Comune": "nan",
         "Superficie abitabile": "nan",
         "Disponibilità": "nan",
         "Gross return": "nan",
         "Piano": "nan",
         "Superficie del terreno": "nan",
         "Superficie utile": "nan",
         "Municipality_merged": "Biberstein",
         "Floor_merged": "nan",
         "Living_space_merged": "124 m²",
         "Floor_space_merged": "nan",
         "Plot_area_merged": "200 m²",
         "Availability_merged": "Immediately",
         "location_parsed": "Strasse:  plz:5023 Stadt: Biberstein Kanton: AG",
         "title": "Kompakt, doch geräumiges 4½ Zimmer-Mittelhaus (sanierungsbedürftig)",
         "details": "4.5 rooms, 124 m², ",
         "address": "5023 Biberstein, AG",
         "price": "CHF 550,000.—",
         "link": "/en/d/terrace-house-buy-biberstein/7048767",
         "details_structured": "{'Municipality': 'Biberstein', 'Living space': '124 m²', 'Plot area': '200 m²', 'Availability': 'Immediately', 'location': '5023 Biberstein, AG', 'description': '4.5 rooms, 124 m²«Kompakt, doch geräumiges 4½ Zimmer-Mittelhaus (sanierungsbedürftig)»CHF 550,000.—Favourite', 'detailed_description': 'DescriptionZum Objekt:Kompakt und doch sehr geräumiges 4½ Zi-DEFH in familienfreundlichem Quartier.Das Mittelhaus mit Charme, Grundstück ca. 200 m², das Baujahr ist 1978 und die Nettowohnfläche misst ca. 124 m².Der Eingangsbereich ist auf der mittleren Etage der Liegenschaft, dort befindet sich die Garderobe, Küche, Gäste/WC und das sehr helle und grosszügigem Ess/-Wohnzimmer.Vom Ess/-Wohnzimmer gelangen Sie zu dem idyllischen angelegten Balkon der für erholsame und zu entspannende Stunden einlädt.Im Obergeschoss befinden sich die zwei Schlafzimmer mit Blick ins Grüne, die separate Dusche mit Lavabo so wie das Badezimmer mit Badewanne, Lavabo und WC.In der Kelleretage befindet sich die Waschk…",
         "lat": "47.4140667",
         "lon": "8.0821155",
         "index": "12716",
         "ForestDensityL": "0.5111756483642033",
         "ForestDensityM": "0.2864510208821959",
         "ForestDensityS": "0.0909078094589692",
         "Latitude": "47.4159269",
         "Locality": "Biberstein",
         "Longitude": "8.0858398",
         "NoisePollutionRailwayL": "0.0",
         "NoisePollutionRailwayM": "0.0",
         "NoisePollutionRailwayS": "0.0",
         "NoisePollutionRoadL": "0.0582979379946271",
         "NoisePollutionRoadM": "0.067047626047332",
         "NoisePollutionRoadS": "0.1038503253796095",
         "PopulationDensityL": "0.0929137474087486",
         "PopulationDensityM": "0.2095297398560906",
         "PopulationDensityS": "0.3666736198025309",
         "RiversAndLakesL": "0.0821698280693361",
         "RiversAndLakesM": "0.0018113817490726",
         "RiversAndLakesS": "0.0118710714307242",
         "WorkplaceDensityL": "0.0301693757471317",
         "WorkplaceDensityM": "0.0521201856730648",
         "WorkplaceDensityS": "0.0989513422818792",
         "Zip": "5023",
         "distanceToTrainStation": "3.0384665928009302",
         "gde_area_agriculture_percentage": "30.6763285024",
         "gde_area_forest_percentage": "51.44927536229999",
         "gde_area_nonproductive_percentage": "4.5893719807",
         "gde_area_settlement_percentage": "13.2850241546",
         "gde_average_house_hold": "2.23",
         "gde_empty_apartments": "1.9946808511",
         "gde_foreigners_percentage": "9.25566343",
         "gde_new_homes_per_1000": "4.739336492900001",
         "gde_politics_bdp": "5.8737151248",
         "gde_politics_cvp": "4.5796622614",
         "gde_politics_evp": "3.359030837",
         "gde_politics_fdp": "18.3553597651",
         "gde_politics_glp": "6.0572687225",
         "gde_politics_gps": "7.0668135095",
         "gde_politics_pda": "nan",
         "gde_politics_rights": "0.2202643172",
         "gde_politics_sp": "20.392804699000003",
         "gde_politics_svp": "30.8094713656",
         "gde_pop_per_km2": "376.829268293",
         "gde_population": "1545.0",
         "gde_private_apartments": "686.0",
         "gde_social_help_quota": "2.2342586324",
         "gde_tax": "5.89",
         "gde_workers_sector1": "14.0",
         "gde_workers_sector2": "9.0",
         "gde_workers_sector3": "308.0",
         "gde_workers_total": "331.0",
         "price_cleaned": "550000.0",
         "Space extracted": "124.0",
         "rooms": "5.0",
         "type_attic-flat": "0",
         "type_attic-room": "0",
         "type_castle": "0",
         "type_chalet": "0",
         "type_detached-house": "0",
         "type_detached-secondary-suite": "0",
         "type_duplex-maisonette": "0",
         "type_farmhouse": "0",
         "type_flat": "0",
         "type_furnished-residential-property": "0",
         "type_loft": "0",
         "type_penthouse": "0",
         "type_rustico": "0",
         "type_secondary-suite": "0",
         "type_semi-detached-house": "0",
         "type_single-room": "0",
         "type_stepped-apartment": "0",
         "type_stepped-house": "0",
         "type_studio": "0",
         "type_terrace-house": "1",
         "type_villa": "0",
         "_deepnote_index_column": "6"
        },
        {
         "Unnamed: 0": "7",
         "Unnamed: 0.1": "7",
         "Municipality": "Aarau",
         "Living space": "nan",
         "Plot area": "nan",
         "Floor space": "nan",
         "Availability": "On request",
         "location": "5004 Aarau, AG",
         "description": "4.5 rooms«Preishit! Grossräumige Wohnung mitten in Aarau»CHF 590,000.—Favourite",
         "detailed_description": "DescriptionNaturnah und doch am Zentrum diese Wohnung lässt keine wünsche offen.Lichtdurchflutete grosszügige RäumeDer Wohnbereich und Zimmer haben LaminatbodenGrosser offener KorridorWaschmaschine und Tumbler in der Wohnung2 Balkone mit jeweils Morgen- und AbendsonneTiefgaragenplatz kann man für 30000 CHF. dazu kaufen - Grosser Spielplatz direkt vor dem hinteren Balkonund, und, und....Kommen Sie vorbei, wir öffnen Ihnen gerne die Tür.Further information",
         "url": "https://www.immoscout24.ch//en/d/flat-buy-aarau/7262713",
         "table": "b <article class=####Box-cYFBPY hKrxoH####><h2 class=####Box-cYFBPY gZLPvm####>Main information</h2><table class=####DataTable__StyledTable-sc-1o2xig5-1 jbXaEC####><tbody><tr><td class=####DataTable__SimpleCell-sc-1o2xig5-2 DataTable__Cell-sc-1o2xig5-4 edrNfG dGBatU####>Municipality</td><td class=####DataTable__SimpleCell-sc-1o2xig5-2 DataTable__CellValue-sc-1o2xig5-3 edrNfG rJZBK####>Aarau</td></tr><tr><td class=####DataTable__SimpleCell-sc-1o2xig5-2 DataTable__Cell-sc-1o2xig5-4 edrNfG dGBatU####>Floor</td><td class=####DataTable__SimpleCell-sc-1o2xig5-2 DataTable__CellValue-sc-1o2xig5-3 edrNfG rJZBK####>3. floor</td></tr><tr><td class=####DataTable__SimpleCell-sc-1o2xig5-2 DataTable__Cell-sc-1o2xig5-4 edrNfG dGBatU####>Availability</td><td class=####DataTable__SimpleCell-sc-1o2xig5-2 DataTable__CellValue-sc-1o2xig5-3 edrNfG rJZBK####>On request</td></tr></tbody></table><hr class=####Divider-iprSaI bBhTLQ####/></article> ",
         "Floor": "3. floor",
         "detail_responsive#municipality": "nan",
         "detail_responsive#surface_living": "nan",
         "detail_responsive#floor": "nan",
         "detail_responsive#available_from": "nan",
         "Gemeinde": "nan",
         "Wohnfläche": "nan",
         "Stockwerk": "nan",
         "Nutzfläche": "nan",
         "Verfügbarkeit": "nan",
         "Grundstücksfläche": "nan",
         "detail_responsive#surface_property": "nan",
         "detail_responsive#surface_usable": "nan",
         "Commune": "nan",
         "Surface habitable": "nan",
         "Surface du terrain": "nan",
         "Surface utile": "nan",
         "Disponibilité": "nan",
         "Étage": "nan",
         "Comune": "nan",
         "Superficie abitabile": "nan",
         "Disponibilità": "nan",
         "Gross return": "nan",
         "Piano": "nan",
         "Superficie del terreno": "nan",
         "Superficie utile": "nan",
         "Municipality_merged": "Aarau",
         "Floor_merged": "3. floor",
         "Living_space_merged": "nan",
         "Floor_space_merged": "nan",
         "Plot_area_merged": "nan",
         "Availability_merged": "On request",
         "location_parsed": "Strasse:  plz:5004 Stadt: Aarau Kanton: AG",
         "title": "Preishit! Grossräumige Wohnung mitten in Aarau",
         "details": "4.5 rooms, ",
         "address": "5004 Aarau, AG",
         "price": "CHF 590,000.—",
         "link": "/en/d/flat-buy-aarau/7262713",
         "details_structured": "{'Municipality': 'Aarau', 'Floor': '3. floor', 'Availability': 'On request', 'location': '5004 Aarau, AG', 'description': '4.5 rooms«Preishit! Grossräumige Wohnung mitten in Aarau»CHF 590,000.—Favourite', 'detailed_description': 'DescriptionNaturnah und doch am Zentrum diese Wohnung lässt keine wünsche offen.Lichtdurchflutete grosszügige RäumeDer Wohnbereich und Zimmer haben LaminatbodenGrosser offener KorridorWaschmaschine und Tumbler in der Wohnung2 Balkone mit jeweils Morgen- und AbendsonneTiefgaragenplatz kann man für 30000 CHF. dazu kaufen - Grosser Spielplatz direkt vor dem hinteren Balkonund, und, und....Kommen Sie vorbei, wir öffnen Ihnen gerne die Tür.Further information', 'url': 'https://www.immoscout24.ch//en/d/flat-buy-aarau/7262713', 'table': 'b\\'<article class=\"Box-cYFBPY hKrxoH\"><h2 class=\"Box-cYFBPY gZLPvm\">Main information</h2><table class=\"DataTable__StyledTable-sc-1o2xig5-1 jbXaEC\"><tbody><tr><td class=\"DataTable__SimpleCell-sc-1o2xig5-2 DataTable__Cell-sc-1o2xig5-4…",
         "lat": "47.3927146",
         "lon": "8.0444448",
         "index": "12716",
         "ForestDensityL": "0.0513337234944338",
         "ForestDensityM": "0.0",
         "ForestDensityS": "0.0",
         "Latitude": "47.3888213",
         "Locality": "Aarau",
         "Longitude": "8.042194",
         "NoisePollutionRailwayL": "0.0484502178738798",
         "NoisePollutionRailwayM": "0.057052752293578",
         "NoisePollutionRailwayS": "0.0518475750577367",
         "NoisePollutionRoadL": "0.3481245346239762",
         "NoisePollutionRoadM": "0.3747361310478764",
         "NoisePollutionRoadS": "0.4396603098927293",
         "PopulationDensityL": "0.2990176614636081",
         "PopulationDensityM": "0.2504281483389132",
         "PopulationDensityS": "0.2528155623811613",
         "RiversAndLakesL": "0.0002519716766244",
         "RiversAndLakesM": "0.0",
         "RiversAndLakesS": "0.0",
         "WorkplaceDensityL": "0.3148628756120196",
         "WorkplaceDensityM": "0.2945338458531501",
         "WorkplaceDensityS": "0.3015720524017467",
         "Zip": "5000",
         "distanceToTrainStation": "0.7388252098172226",
         "gde_area_agriculture_percentage": "11.3544201135",
         "gde_area_forest_percentage": "32.197891322",
         "gde_area_nonproductive_percentage": "7.1370640714",
         "gde_area_settlement_percentage": "49.31062449310001",
         "gde_average_house_hold": "2.01",
         "gde_empty_apartments": "2.0237991835",
         "gde_foreigners_percentage": "21.35862331",
         "gde_new_homes_per_1000": "3.8145823274",
         "gde_politics_bdp": "3.6331343118",
         "gde_politics_cvp": "5.324420974200001",
         "gde_politics_evp": "3.7822022408",
         "gde_politics_fdp": "18.0895517654",
         "gde_politics_glp": "7.899807321799999",
         "gde_politics_gps": "8.8513047408",
         "gde_politics_pda": "nan",
         "gde_politics_rights": "0.7350317562",
         "gde_politics_sp": "26.5158543257",
         "gde_politics_svp": "22.6622897785",
         "gde_pop_per_km2": "1704.70016207",
         "gde_population": "21036.0",
         "gde_private_apartments": "10149.0",
         "gde_social_help_quota": "3.54901014",
         "gde_tax": "6.05",
         "gde_workers_sector1": "37.0",
         "gde_workers_sector2": "3092.0",
         "gde_workers_sector3": "30364.0",
         "gde_workers_total": "33493.0",
         "price_cleaned": "590000.0",
         "Space extracted": "nan",
         "rooms": "5.0",
         "type_attic-flat": "0",
         "type_attic-room": "0",
         "type_castle": "0",
         "type_chalet": "0",
         "type_detached-house": "0",
         "type_detached-secondary-suite": "0",
         "type_duplex-maisonette": "0",
         "type_farmhouse": "0",
         "type_flat": "1",
         "type_furnished-residential-property": "0",
         "type_loft": "0",
         "type_penthouse": "0",
         "type_rustico": "0",
         "type_secondary-suite": "0",
         "type_semi-detached-house": "0",
         "type_single-room": "0",
         "type_stepped-apartment": "0",
         "type_stepped-house": "0",
         "type_studio": "0",
         "type_terrace-house": "0",
         "type_villa": "0",
         "_deepnote_index_column": "7"
        },
        {
         "Unnamed: 0": "8",
         "Unnamed: 0.1": "8",
         "Municipality": "Aarau",
         "Living space": "75 m²",
         "Plot area": "nan",
         "Floor space": "nan",
         "Availability": "On request",
         "location": "Siebenmatten 495032 Aarau Rohr, AG",
         "description": "3.5 rooms, 75 m²«Gepflegte 3.5 Zimmer Dachwohnung mit Balkon in Aarau / Rohr»CHF 547,000.—Favourite",
         "detailed_description": "DescriptionDie Überbauung Siebenmatten in Aarau/Rohr liegt an der Grenze zu Aarau. Die Suhre fliesst direkt hinter der grossen Wiese neben dem Haus. Eine eigene Tiefgarage sorgt für komfortable Parkmöglichkeiten und die Lage der Überbauung an einer Sackgasse reduziert den Verkehr im Quartier aufs absolute Minimum. Errichtet Mitte der Neunzigerjahre in bester schweizer Qualität wirkt dieses Ensemble keineswegs angestaubt. Die Fusswege mit den gelegten Platten und viel Grün in der Umgebung machen die Überbauung Siebenmatten zu einem gemütlichen Zuhause. Das Naherholungsgebiet an der Aare ist in nur 5 Gehminuten erreichbar und lädt mit seinen Waldwegen und Sandbuchten zum verweilen und baden ein.Eine Wohnung mit CharakterDie 3.5 Zimmer-Dachwohnung befindet sich im dritten Stockwerk. Die Wohnbereiche sind mit schönem Echtholzparkett ausgelegt und die verwinkelte Dachkonstruktion mit weissen Holzlatten vertäfelt was der Wohnung einen hellen und luftigen Charakter gibt. Die offene Küche wur…",
         "url": "https://www.immoscout24.ch//en/d/flat-buy-aarau-rohr/7269563",
         "table": "b <article class=####Box-cYFBPY hKrxoH####><h2 class=####Box-cYFBPY gZLPvm####>Main information</h2><table class=####DataTable__StyledTable-sc-1o2xig5-1 jbXaEC####><tbody><tr><td class=####DataTable__SimpleCell-sc-1o2xig5-2 DataTable__Cell-sc-1o2xig5-4 edrNfG dGBatU####>Municipality</td><td class=####DataTable__SimpleCell-sc-1o2xig5-2 DataTable__CellValue-sc-1o2xig5-3 edrNfG rJZBK####>Aarau</td></tr><tr><td class=####DataTable__SimpleCell-sc-1o2xig5-2 DataTable__Cell-sc-1o2xig5-4 edrNfG dGBatU####>Living space</td><td class=####DataTable__SimpleCell-sc-1o2xig5-2 DataTable__CellValue-sc-1o2xig5-3 edrNfG rJZBK####>75 m&#178;</td></tr><tr><td class=####DataTable__SimpleCell-sc-1o2xig5-2 DataTable__Cell-sc-1o2xig5-4 edrNfG dGBatU####>Availability</td><td class=####DataTable__SimpleCell-sc-1o2xig5-2 DataTable__CellValue-sc-1o2xig5-3 edrNfG rJZBK####>On request</td></tr></tbody></table><hr class=####Divider-iprSaI bBhTLQ####/></article> ",
         "Floor": "nan",
         "detail_responsive#municipality": "nan",
         "detail_responsive#surface_living": "nan",
         "detail_responsive#floor": "nan",
         "detail_responsive#available_from": "nan",
         "Gemeinde": "nan",
         "Wohnfläche": "nan",
         "Stockwerk": "nan",
         "Nutzfläche": "nan",
         "Verfügbarkeit": "nan",
         "Grundstücksfläche": "nan",
         "detail_responsive#surface_property": "nan",
         "detail_responsive#surface_usable": "nan",
         "Commune": "nan",
         "Surface habitable": "nan",
         "Surface du terrain": "nan",
         "Surface utile": "nan",
         "Disponibilité": "nan",
         "Étage": "nan",
         "Comune": "nan",
         "Superficie abitabile": "nan",
         "Disponibilità": "nan",
         "Gross return": "nan",
         "Piano": "nan",
         "Superficie del terreno": "nan",
         "Superficie utile": "nan",
         "Municipality_merged": "Aarau",
         "Floor_merged": "nan",
         "Living_space_merged": "75 m²",
         "Floor_space_merged": "nan",
         "Plot_area_merged": "nan",
         "Availability_merged": "On request",
         "location_parsed": "Strasse:Siebenmatten  49 plz:5032 Stadt: Aarau Rohr Kanton: AG",
         "title": "Gepflegte 3.5 Zimmer Dachwohnung mit Balkon in Aarau / Rohr",
         "details": "3.5 rooms, 75 m², ",
         "address": "Siebenmatten 49, 5032 Aarau Rohr, AG",
         "price": "CHF 547,000.—",
         "link": "/en/d/flat-buy-aarau-rohr/7269563",
         "details_structured": "{'Municipality': 'Aarau', 'Living space': '75 m²', 'Availability': 'On request', 'location': 'Siebenmatten 495032 Aarau Rohr, AG', 'description': '3.5 rooms, 75 m²«Gepflegte 3.5 Zimmer Dachwohnung mit Balkon in Aarau / Rohr»CHF 547,000.—Favourite', 'detailed_description': 'DescriptionDie Überbauung Siebenmatten in Aarau/Rohr liegt an der Grenze zu Aarau. Die Suhre fliesst direkt hinter der grossen Wiese neben dem Haus. Eine eigene Tiefgarage sorgt für komfortable Parkmöglichkeiten und die Lage der Überbauung an einer Sackgasse reduziert den Verkehr im Quartier aufs absolute Minimum. Errichtet Mitte der Neunzigerjahre in bester schweizer Qualität wirkt dieses Ensemble keineswegs angestaubt. Die Fusswege mit den gelegten Platten und viel Grün in der Umgebung machen die Überbauung Siebenmatten zu einem gemütlichen Zuhause. Das Naherholungsgebiet an der Aare ist in nur 5 Gehminuten erreichbar und lädt mit seinen Waldwegen und Sandbuchten zum verweilen und baden ein.Eine Wohnung mit Charak…",
         "lat": "47.4011231",
         "lon": "8.0706905",
         "index": "54202",
         "ForestDensityL": "0.2771490687670784",
         "ForestDensityM": "0.4383437265382463",
         "ForestDensityS": "0.3275279750760369",
         "Latitude": "47.4009293",
         "Locality": "Aarau Rohr",
         "Longitude": "8.070691199999999",
         "NoisePollutionRailwayL": "0.0229970385466588",
         "NoisePollutionRailwayM": "0.0037454929752579",
         "NoisePollutionRailwayS": "0.0",
         "NoisePollutionRoadL": "0.4007233747493487",
         "NoisePollutionRoadM": "0.4096356485604037",
         "NoisePollutionRoadS": "0.3005241345685032",
         "PopulationDensityL": "0.1382647083770688",
         "PopulationDensityM": "0.2400370538415003",
         "PopulationDensityS": "0.5617206982543641",
         "RiversAndLakesL": "0.0360129114557891",
         "RiversAndLakesM": "0.0389475283667383",
         "RiversAndLakesS": "0.0344016162188561",
         "WorkplaceDensityL": "0.0800284315274048",
         "WorkplaceDensityM": "0.071780629509034",
         "WorkplaceDensityS": "0.1207979626485568",
         "Zip": "5032",
         "distanceToTrainStation": "1.018877885980325",
         "gde_area_agriculture_percentage": "11.3544201135",
         "gde_area_forest_percentage": "32.197891322",
         "gde_area_nonproductive_percentage": "7.1370640714",
         "gde_area_settlement_percentage": "49.31062449310001",
         "gde_average_house_hold": "2.01",
         "gde_empty_apartments": "2.0237991835",
         "gde_foreigners_percentage": "21.35862331",
         "gde_new_homes_per_1000": "3.8145823274",
         "gde_politics_bdp": "3.6331343118",
         "gde_politics_cvp": "5.324420974200001",
         "gde_politics_evp": "3.7822022408",
         "gde_politics_fdp": "18.0895517654",
         "gde_politics_glp": "7.899807321799999",
         "gde_politics_gps": "8.8513047408",
         "gde_politics_pda": "nan",
         "gde_politics_rights": "0.7350317562",
         "gde_politics_sp": "26.5158543257",
         "gde_politics_svp": "22.6622897785",
         "gde_pop_per_km2": "1704.70016207",
         "gde_population": "21036.0",
         "gde_private_apartments": "10149.0",
         "gde_social_help_quota": "3.54901014",
         "gde_tax": "6.05",
         "gde_workers_sector1": "37.0",
         "gde_workers_sector2": "3092.0",
         "gde_workers_sector3": "30364.0",
         "gde_workers_total": "33493.0",
         "price_cleaned": "547000.0",
         "Space extracted": "75.0",
         "rooms": "5.0",
         "type_attic-flat": "0",
         "type_attic-room": "0",
         "type_castle": "0",
         "type_chalet": "0",
         "type_detached-house": "0",
         "type_detached-secondary-suite": "0",
         "type_duplex-maisonette": "0",
         "type_farmhouse": "0",
         "type_flat": "1",
         "type_furnished-residential-property": "0",
         "type_loft": "0",
         "type_penthouse": "0",
         "type_rustico": "0",
         "type_secondary-suite": "0",
         "type_semi-detached-house": "0",
         "type_single-room": "0",
         "type_stepped-apartment": "0",
         "type_stepped-house": "0",
         "type_studio": "0",
         "type_terrace-house": "0",
         "type_villa": "0",
         "_deepnote_index_column": "8"
        },
        {
         "Unnamed: 0": "9",
         "Unnamed: 0.1": "9",
         "Municipality": "Erlinsbach (AG)",
         "Living space": "110 m²",
         "Plot area": "2116 m²",
         "Floor space": "nan",
         "Availability": "On request",
         "location": "5018 Erlinsbach, AG",
         "description": "4.5 rooms, 110 m²«Renovierte 4.5 Zimmer Terrassenwohnung mit traumhafter Fernsicht»CHF 1,125,000.—Favourite",
         "detailed_description": "DescriptionTreten Sie ein, in Ihr neues, liebevoll renoviertes Schmuckstück - eine traumhafte Fernsicht an sonnenverwöhnter Lage erwartet Sie!Ruhig gelegen und doch ist die Kantonshauptstadt Aarau in Kürze erreicht - hier in Erlinsbach AG befindet sich diese charmante 4.5 Zimmer Terrassenwohnung.Über den Eingang gelangen Sie in das geräumige Entrée, welches Ihnen die Möglichkeit für einen Home-Office-Bereich bietet. Hier haben Ihre Gäste ausserdem den Zugang zu einem separaten Gäste-WC mit Dusche. Sie bewegen sich in den Essbereich und bemerken den renovierten Boden - ein Natur-Eichen-Parkett!Rechts angrenzend an den Essbereich befindet sich die ebenfalls frisch renovierte, schmuckvolle Küche.Gelangen Sie nun in das grosszügige, helle Wohnzimmer - von wo aus Sie direkten Zugang auf die komplett sanierte Terrasse erhalten. Auf der Terrasse geniessen Sie eine traumhafte, unverbaubare Fernsicht und profitieren von der ausserordentlich gut besonnten Lage.Vom Essbereich aus erreichen Sie d…",
         "url": "https://www.immoscout24.ch//en/d/stepped-house-buy-erlinsbach/7214319",
         "table": "b <article class=####Box-cYFBPY hKrxoH####><h2 class=####Box-cYFBPY gZLPvm####>Main information</h2><table class=####DataTable__StyledTable-sc-1o2xig5-1 jbXaEC####><tbody><tr><td class=####DataTable__SimpleCell-sc-1o2xig5-2 DataTable__Cell-sc-1o2xig5-4 edrNfG dGBatU####>Municipality</td><td class=####DataTable__SimpleCell-sc-1o2xig5-2 DataTable__CellValue-sc-1o2xig5-3 edrNfG rJZBK####>Erlinsbach (AG)</td></tr><tr><td class=####DataTable__SimpleCell-sc-1o2xig5-2 DataTable__Cell-sc-1o2xig5-4 edrNfG dGBatU####>Living space</td><td class=####DataTable__SimpleCell-sc-1o2xig5-2 DataTable__CellValue-sc-1o2xig5-3 edrNfG rJZBK####>110 m&#178;</td></tr><tr><td class=####DataTable__SimpleCell-sc-1o2xig5-2 DataTable__Cell-sc-1o2xig5-4 edrNfG dGBatU####>Plot area</td><td class=####DataTable__SimpleCell-sc-1o2xig5-2 DataTable__CellValue-sc-1o2xig5-3 edrNfG rJZBK####>2116 m&#178;</td></tr><tr><td class=####DataTable__SimpleCell-sc-1o2xig5-2 DataTable__Cell-sc-1o2xig5-4 edrNfG dGBatU####>Availability…",
         "Floor": "nan",
         "detail_responsive#municipality": "nan",
         "detail_responsive#surface_living": "nan",
         "detail_responsive#floor": "nan",
         "detail_responsive#available_from": "nan",
         "Gemeinde": "nan",
         "Wohnfläche": "nan",
         "Stockwerk": "nan",
         "Nutzfläche": "nan",
         "Verfügbarkeit": "nan",
         "Grundstücksfläche": "nan",
         "detail_responsive#surface_property": "nan",
         "detail_responsive#surface_usable": "nan",
         "Commune": "nan",
         "Surface habitable": "nan",
         "Surface du terrain": "nan",
         "Surface utile": "nan",
         "Disponibilité": "nan",
         "Étage": "nan",
         "Comune": "nan",
         "Superficie abitabile": "nan",
         "Disponibilità": "nan",
         "Gross return": "nan",
         "Piano": "nan",
         "Superficie del terreno": "nan",
         "Superficie utile": "nan",
         "Municipality_merged": "Erlinsbach (AG)",
         "Floor_merged": "nan",
         "Living_space_merged": "110 m²",
         "Floor_space_merged": "nan",
         "Plot_area_merged": "2116 m²",
         "Availability_merged": "On request",
         "location_parsed": "Strasse:  plz:5018 Stadt: Erlinsbach Kanton: AG",
         "title": "Renovierte 4.5 Zimmer Terrassenwohnung mit traumhafter Fernsicht",
         "details": "4.5 rooms, 110 m², ",
         "address": "5018 Erlinsbach, AG",
         "price": "CHF 1,125,000.—",
         "link": "/en/d/stepped-house-buy-erlinsbach/7214319",
         "details_structured": "{'Municipality': 'Erlinsbach (AG)', 'Living space': '110 m²', 'Plot area': '2116 m²', 'Availability': 'On request', 'location': '5018 Erlinsbach, AG', 'description': '4.5 rooms, 110 m²«Renovierte 4.5 Zimmer Terrassenwohnung mit traumhafter Fernsicht»CHF 1,125,000.—Favourite', 'detailed_description': \"DescriptionTreten Sie ein, in Ihr neues, liebevoll renoviertes Schmuckstück - eine traumhafte Fernsicht an sonnenverwöhnter Lage erwartet Sie!Ruhig gelegen und doch ist die Kantonshauptstadt Aarau in Kürze erreicht - hier in Erlinsbach AG befindet sich diese charmante 4.5 Zimmer Terrassenwohnung.Über den Eingang gelangen Sie in das geräumige Entrée, welches Ihnen die Möglichkeit für einen Home-Office-Bereich bietet. Hier haben Ihre Gäste ausserdem den Zugang zu einem separaten Gäste-WC mit Dusche. Sie bewegen sich in den Essbereich und bemerken den renovierten Boden - ein Natur-Eichen-Parkett!Rechts angrenzend an den Essbereich befindet sich die ebenfalls frisch renovierte, schmuckvolle K…",
         "lat": "47.3968661",
         "lon": "8.0133738",
         "index": "12716",
         "ForestDensityL": "0.1403725122516987",
         "ForestDensityM": "0.1400845843564291",
         "ForestDensityS": "0.1566497823100051",
         "Latitude": "47.3952951",
         "Locality": "Erlinsbach",
         "Longitude": "8.0127521",
         "NoisePollutionRailwayL": "0.0",
         "NoisePollutionRailwayM": "0.0",
         "NoisePollutionRailwayS": "0.0",
         "NoisePollutionRoadL": "0.200754294108784",
         "NoisePollutionRoadM": "0.2191866646415553",
         "NoisePollutionRoadS": "0.1551204819277108",
         "PopulationDensityL": "0.2225930391830216",
         "PopulationDensityM": "0.208932454905974",
         "PopulationDensityS": "0.2558662980292074",
         "RiversAndLakesL": "0.0",
         "RiversAndLakesM": "0.0",
         "RiversAndLakesS": "0.0",
         "WorkplaceDensityL": "0.0595320351758793",
         "WorkplaceDensityM": "0.0568003542510121",
         "WorkplaceDensityS": "0.0867059318468658",
         "Zip": "5018",
         "distanceToTrainStation": "2.8184856401545604",
         "gde_area_agriculture_percentage": "32.9949238579",
         "gde_area_forest_percentage": "53.1979695431",
         "gde_area_nonproductive_percentage": "1.2182741117",
         "gde_area_settlement_percentage": "12.5888324873",
         "gde_average_house_hold": "2.3",
         "gde_empty_apartments": "1.866251944",
         "gde_foreigners_percentage": "17.30628208",
         "gde_new_homes_per_1000": "7.047571105",
         "gde_politics_bdp": "4.098056209",
         "gde_politics_cvp": "7.1024720399",
         "gde_politics_evp": "2.7733069209",
         "gde_politics_fdp": "20.7378977343",
         "gde_politics_glp": "5.5342330073",
         "gde_politics_gps": "5.3155049317000005",
         "gde_politics_pda": "nan",
         "gde_politics_rights": "0.9657050885",
         "gde_politics_sp": "15.3935041888",
         "gde_politics_svp": "36.7586975362",
         "gde_pop_per_km2": "414.908722109",
         "gde_population": "4091.0",
         "gde_private_apartments": "1752.0",
         "gde_social_help_quota": "2.5421595771",
         "gde_tax": "6.16",
         "gde_workers_sector1": "64.0",
         "gde_workers_sector2": "73.0",
         "gde_workers_sector3": "829.0",
         "gde_workers_total": "966.0",
         "price_cleaned": "1125000.0",
         "Space extracted": "110.0",
         "rooms": "5.0",
         "type_attic-flat": "0",
         "type_attic-room": "0",
         "type_castle": "0",
         "type_chalet": "0",
         "type_detached-house": "0",
         "type_detached-secondary-suite": "0",
         "type_duplex-maisonette": "0",
         "type_farmhouse": "0",
         "type_flat": "0",
         "type_furnished-residential-property": "0",
         "type_loft": "0",
         "type_penthouse": "0",
         "type_rustico": "0",
         "type_secondary-suite": "0",
         "type_semi-detached-house": "0",
         "type_single-room": "0",
         "type_stepped-apartment": "0",
         "type_stepped-house": "1",
         "type_studio": "0",
         "type_terrace-house": "0",
         "type_villa": "0",
         "_deepnote_index_column": "9"
        }
       ]
      },
      "text/plain": "       Unnamed: 0  Unnamed: 0.1 Municipality Living space Plot area  \\\n0               0             0   Biberstein       100 m²       NaN   \n1               1             1   Biberstein       156 m²    222 m²   \n2               2             2          NaN          NaN       NaN   \n3               3             3   Biberstein       154 m²    370 m²   \n4               4             4     Küttigen       142 m²       NaN   \n...           ...           ...          ...          ...       ...   \n13373       13373         13373        Uster        70 m²       NaN   \n13374       13374         13374   Volketswil          NaN    284 m²   \n13375       13375         13375      Seuzach       150 m²    160 m²   \n13376       13376         13376    Zell (ZH)       145 m²    853 m²   \n13377       13377         13377   Winterthur       385 m²   1306 m²   \n\n      Floor space Availability                                    location  \\\n0             NaN   On request                         5023 Biberstein, AG   \n1          242 m²   On request        Buhldenstrasse 8d5023 Biberstein, AG   \n2             NaN          NaN                            5022 Rombach, AG   \n3          257 m²   On request       Buhaldenstrasse 8A5023 Biberstein, AG   \n4             NaN   On request                            5022 Rombach, AG   \n...           ...          ...                                         ...   \n13373         NaN   On request          Tägerackerstrasse 138610 Uster, ZH   \n13374         NaN   On request                         8604 Volketswil, ZH   \n13375         NaN   On request                            8472 Seuzach, ZH   \n13376      140 m²  Immediately  Vordere Bähntalstrasse 18483 Kollbrunn, ZH   \n13377         NaN  Immediately           Im Eichbühl 508405 Winterthur, ZH   \n\n                                             description  \\\n0      3.5 rooms, 100 m²«Luxuriöse Attika-Wohnung mit...   \n1      4.5 rooms, 156 m²«Stilvolle Liegenschaft - ruh...   \n2      2.5 rooms, 93 m²«Moderne, lichtdurchflutete At...   \n3      4.5 rooms, 154 m²«AgentSelly - Luxuriöses Eckh...   \n4      4.5 rooms, 142 m²«MIT GARTENSITZPLATZ UND VIEL...   \n...                                                  ...   \n13373  2.5 rooms, 70 m²«Wunderschöne Attikawohnung an...   \n13374  8 rooms«Charmantes 2-Familienhaus im idyllisch...   \n13375  6.5 rooms, 150 m²«EIN PARADIES IM GRÜNEN FÜR G...   \n13376  6 rooms, 145 m²«Freistehendes 6.0 Zimmer . Ein...   \n13377  7.5 rooms, 385 m²«Wohnen an ruhiger, sonniger ...   \n\n                                    detailed_description  ... type_penthouse  \\\n0      DescriptionLuxuriöse Attika-Wohnung direkt an ...  ...              1   \n1      DescriptionStilvolle Liegenschaft an ruhiger L...  ...              0   \n2      detail_responsive#description_title2,5 Zimmerw...  ...              1   \n3      DescriptionDieses äusserst grosszügige Minergi...  ...              0   \n4      DescriptionAus ehemals zwei Wohnungen wurde ei...  ...              0   \n...                                                  ...  ...            ...   \n13373  DescriptionIn einem der schönsten Quartiere Us...  ...              0   \n13374  DescriptionWillkommen im Herzen von Volketswil...  ...              0   \n13375  DescriptionWir verkaufen dieses unglaublich to...  ...              0   \n13376  Description####Freistehendes 6.0 Zimmer . Einf...  ...              0   \n13377  DescriptionDas freistehende Einfamilienhaus an...  ...              0   \n\n      type_rustico type_secondary-suite type_semi-detached-house  \\\n0                0                    0                        0   \n1                0                    0                        0   \n2                0                    0                        0   \n3                0                    0                        0   \n4                0                    0                        0   \n...            ...                  ...                      ...   \n13373            0                    0                        0   \n13374            0                    0                        1   \n13375            0                    0                        0   \n13376            0                    0                        0   \n13377            0                    0                        0   \n\n      type_single-room type_stepped-apartment type_stepped-house type_studio  \\\n0                    0                      0                  0           0   \n1                    0                      0                  0           0   \n2                    0                      0                  0           0   \n3                    0                      0                  0           0   \n4                    0                      0                  0           0   \n...                ...                    ...                ...         ...   \n13373                0                      0                  0           0   \n13374                0                      0                  0           0   \n13375                0                      0                  0           0   \n13376                0                      0                  0           0   \n13377                0                      0                  0           0   \n\n      type_terrace-house type_villa  \n0                      0          0  \n1                      1          0  \n2                      0          0  \n3                      0          0  \n4                      0          0  \n...                  ...        ...  \n13373                  0          0  \n13374                  0          0  \n13375                  1          0  \n13376                  0          0  \n13377                  0          0  \n\n[13378 rows x 128 columns]",
      "text/html": "<div>\n<style scoped>\n    .dataframe tbody tr th:only-of-type {\n        vertical-align: middle;\n    }\n\n    .dataframe tbody tr th {\n        vertical-align: top;\n    }\n\n    .dataframe thead th {\n        text-align: right;\n    }\n</style>\n<table border=\"1\" class=\"dataframe\">\n  <thead>\n    <tr style=\"text-align: right;\">\n      <th></th>\n      <th>Unnamed: 0</th>\n      <th>Unnamed: 0.1</th>\n      <th>Municipality</th>\n      <th>Living space</th>\n      <th>Plot area</th>\n      <th>Floor space</th>\n      <th>Availability</th>\n      <th>location</th>\n      <th>description</th>\n      <th>detailed_description</th>\n      <th>...</th>\n      <th>type_penthouse</th>\n      <th>type_rustico</th>\n      <th>type_secondary-suite</th>\n      <th>type_semi-detached-house</th>\n      <th>type_single-room</th>\n      <th>type_stepped-apartment</th>\n      <th>type_stepped-house</th>\n      <th>type_studio</th>\n      <th>type_terrace-house</th>\n      <th>type_villa</th>\n    </tr>\n  </thead>\n  <tbody>\n    <tr>\n      <th>0</th>\n      <td>0</td>\n      <td>0</td>\n      <td>Biberstein</td>\n      <td>100 m²</td>\n      <td>NaN</td>\n      <td>NaN</td>\n      <td>On request</td>\n      <td>5023 Biberstein, AG</td>\n      <td>3.5 rooms, 100 m²«Luxuriöse Attika-Wohnung mit...</td>\n      <td>DescriptionLuxuriöse Attika-Wohnung direkt an ...</td>\n      <td>...</td>\n      <td>1</td>\n      <td>0</td>\n      <td>0</td>\n      <td>0</td>\n      <td>0</td>\n      <td>0</td>\n      <td>0</td>\n      <td>0</td>\n      <td>0</td>\n      <td>0</td>\n    </tr>\n    <tr>\n      <th>1</th>\n      <td>1</td>\n      <td>1</td>\n      <td>Biberstein</td>\n      <td>156 m²</td>\n      <td>222 m²</td>\n      <td>242 m²</td>\n      <td>On request</td>\n      <td>Buhldenstrasse 8d5023 Biberstein, AG</td>\n      <td>4.5 rooms, 156 m²«Stilvolle Liegenschaft - ruh...</td>\n      <td>DescriptionStilvolle Liegenschaft an ruhiger L...</td>\n      <td>...</td>\n      <td>0</td>\n      <td>0</td>\n      <td>0</td>\n      <td>0</td>\n      <td>0</td>\n      <td>0</td>\n      <td>0</td>\n      <td>0</td>\n      <td>1</td>\n      <td>0</td>\n    </tr>\n    <tr>\n      <th>2</th>\n      <td>2</td>\n      <td>2</td>\n      <td>NaN</td>\n      <td>NaN</td>\n      <td>NaN</td>\n      <td>NaN</td>\n      <td>NaN</td>\n      <td>5022 Rombach, AG</td>\n      <td>2.5 rooms, 93 m²«Moderne, lichtdurchflutete At...</td>\n      <td>detail_responsive#description_title2,5 Zimmerw...</td>\n      <td>...</td>\n      <td>1</td>\n      <td>0</td>\n      <td>0</td>\n      <td>0</td>\n      <td>0</td>\n      <td>0</td>\n      <td>0</td>\n      <td>0</td>\n      <td>0</td>\n      <td>0</td>\n    </tr>\n    <tr>\n      <th>3</th>\n      <td>3</td>\n      <td>3</td>\n      <td>Biberstein</td>\n      <td>154 m²</td>\n      <td>370 m²</td>\n      <td>257 m²</td>\n      <td>On request</td>\n      <td>Buhaldenstrasse 8A5023 Biberstein, AG</td>\n      <td>4.5 rooms, 154 m²«AgentSelly - Luxuriöses Eckh...</td>\n      <td>DescriptionDieses äusserst grosszügige Minergi...</td>\n      <td>...</td>\n      <td>0</td>\n      <td>0</td>\n      <td>0</td>\n      <td>0</td>\n      <td>0</td>\n      <td>0</td>\n      <td>0</td>\n      <td>0</td>\n      <td>0</td>\n      <td>0</td>\n    </tr>\n    <tr>\n      <th>4</th>\n      <td>4</td>\n      <td>4</td>\n      <td>Küttigen</td>\n      <td>142 m²</td>\n      <td>NaN</td>\n      <td>NaN</td>\n      <td>On request</td>\n      <td>5022 Rombach, AG</td>\n      <td>4.5 rooms, 142 m²«MIT GARTENSITZPLATZ UND VIEL...</td>\n      <td>DescriptionAus ehemals zwei Wohnungen wurde ei...</td>\n      <td>...</td>\n      <td>0</td>\n      <td>0</td>\n      <td>0</td>\n      <td>0</td>\n      <td>0</td>\n      <td>0</td>\n      <td>0</td>\n      <td>0</td>\n      <td>0</td>\n      <td>0</td>\n    </tr>\n    <tr>\n      <th>...</th>\n      <td>...</td>\n      <td>...</td>\n      <td>...</td>\n      <td>...</td>\n      <td>...</td>\n      <td>...</td>\n      <td>...</td>\n      <td>...</td>\n      <td>...</td>\n      <td>...</td>\n      <td>...</td>\n      <td>...</td>\n      <td>...</td>\n      <td>...</td>\n      <td>...</td>\n      <td>...</td>\n      <td>...</td>\n      <td>...</td>\n      <td>...</td>\n      <td>...</td>\n      <td>...</td>\n    </tr>\n    <tr>\n      <th>13373</th>\n      <td>13373</td>\n      <td>13373</td>\n      <td>Uster</td>\n      <td>70 m²</td>\n      <td>NaN</td>\n      <td>NaN</td>\n      <td>On request</td>\n      <td>Tägerackerstrasse 138610 Uster, ZH</td>\n      <td>2.5 rooms, 70 m²«Wunderschöne Attikawohnung an...</td>\n      <td>DescriptionIn einem der schönsten Quartiere Us...</td>\n      <td>...</td>\n      <td>0</td>\n      <td>0</td>\n      <td>0</td>\n      <td>0</td>\n      <td>0</td>\n      <td>0</td>\n      <td>0</td>\n      <td>0</td>\n      <td>0</td>\n      <td>0</td>\n    </tr>\n    <tr>\n      <th>13374</th>\n      <td>13374</td>\n      <td>13374</td>\n      <td>Volketswil</td>\n      <td>NaN</td>\n      <td>284 m²</td>\n      <td>NaN</td>\n      <td>On request</td>\n      <td>8604 Volketswil, ZH</td>\n      <td>8 rooms«Charmantes 2-Familienhaus im idyllisch...</td>\n      <td>DescriptionWillkommen im Herzen von Volketswil...</td>\n      <td>...</td>\n      <td>0</td>\n      <td>0</td>\n      <td>0</td>\n      <td>1</td>\n      <td>0</td>\n      <td>0</td>\n      <td>0</td>\n      <td>0</td>\n      <td>0</td>\n      <td>0</td>\n    </tr>\n    <tr>\n      <th>13375</th>\n      <td>13375</td>\n      <td>13375</td>\n      <td>Seuzach</td>\n      <td>150 m²</td>\n      <td>160 m²</td>\n      <td>NaN</td>\n      <td>On request</td>\n      <td>8472 Seuzach, ZH</td>\n      <td>6.5 rooms, 150 m²«EIN PARADIES IM GRÜNEN FÜR G...</td>\n      <td>DescriptionWir verkaufen dieses unglaublich to...</td>\n      <td>...</td>\n      <td>0</td>\n      <td>0</td>\n      <td>0</td>\n      <td>0</td>\n      <td>0</td>\n      <td>0</td>\n      <td>0</td>\n      <td>0</td>\n      <td>1</td>\n      <td>0</td>\n    </tr>\n    <tr>\n      <th>13376</th>\n      <td>13376</td>\n      <td>13376</td>\n      <td>Zell (ZH)</td>\n      <td>145 m²</td>\n      <td>853 m²</td>\n      <td>140 m²</td>\n      <td>Immediately</td>\n      <td>Vordere Bähntalstrasse 18483 Kollbrunn, ZH</td>\n      <td>6 rooms, 145 m²«Freistehendes 6.0 Zimmer . Ein...</td>\n      <td>Description####Freistehendes 6.0 Zimmer . Einf...</td>\n      <td>...</td>\n      <td>0</td>\n      <td>0</td>\n      <td>0</td>\n      <td>0</td>\n      <td>0</td>\n      <td>0</td>\n      <td>0</td>\n      <td>0</td>\n      <td>0</td>\n      <td>0</td>\n    </tr>\n    <tr>\n      <th>13377</th>\n      <td>13377</td>\n      <td>13377</td>\n      <td>Winterthur</td>\n      <td>385 m²</td>\n      <td>1306 m²</td>\n      <td>NaN</td>\n      <td>Immediately</td>\n      <td>Im Eichbühl 508405 Winterthur, ZH</td>\n      <td>7.5 rooms, 385 m²«Wohnen an ruhiger, sonniger ...</td>\n      <td>DescriptionDas freistehende Einfamilienhaus an...</td>\n      <td>...</td>\n      <td>0</td>\n      <td>0</td>\n      <td>0</td>\n      <td>0</td>\n      <td>0</td>\n      <td>0</td>\n      <td>0</td>\n      <td>0</td>\n      <td>0</td>\n      <td>0</td>\n    </tr>\n  </tbody>\n</table>\n<p>13378 rows × 128 columns</p>\n</div>"
     },
     "metadata": {}
    }
   ]
  },
  {
   "cell_type": "code",
   "source": "unnamed_cols = data.columns[data.columns.str.startswith(\"Unnamed: \")]\ny_cols = data.columns[data.columns.str.startswith(\"type_\")]\nX_cols = list(set(data._get_numeric_data().columns) - set(y_cols) - set(unnamed_cols))\n\nX = data[X_cols]\ny = data[y_cols]",
   "metadata": {
    "cell_id": "00008-956099e5-782e-4e8a-865b-e923f2147947",
    "deepnote_to_be_reexecuted": false,
    "source_hash": "13174ef9",
    "execution_start": 1664872704395,
    "execution_millis": 14,
    "deepnote_cell_type": "code",
    "deepnote_cell_height": 166
   },
   "execution_count": 5,
   "outputs": []
  },
  {
   "cell_type": "code",
   "source": "X = normalize(X, axis=-1, order=2)\nX_train, X_test, y_train, y_test = train_test_split(X, y, test_size=0.2)",
   "metadata": {
    "cell_id": "00011-323c4c4d-d773-497f-9854-c40bb318c7c9",
    "deepnote_to_be_reexecuted": false,
    "source_hash": "9010a866",
    "execution_start": 1664872704412,
    "execution_millis": 17,
    "deepnote_cell_type": "code",
    "deepnote_cell_height": 94
   },
   "execution_count": 6,
   "outputs": []
  },
  {
   "cell_type": "code",
   "source": "n_epochs = 200\nbatchsize = 2 ** 8\n\nn_inputs = X_train.shape[1]\nn_outputs = y_train.shape[1]\n\nn_hiddenlayers = 2\nn_nodes_per_layer = 128\n\n\nmodel = Sequential()\n\nfor i in range(n_hiddenlayers):\n    model.add(\n        Dense(n_nodes_per_layer, activation='relu', input_shape=(n_inputs,))\n    )\n\nmodel.add(\n        Dense(n_outputs, activation='sigmoid')\n)\n\nmodel.compile(\n        optimizer='adam', \n        loss='binary_crossentropy', \n        metrics=['accuracy', 'AUC']\n)\n\nearly_stop = EarlyStopping(\n        monitor='val_loss', \n        mode='min', \n        verbose=1, \n        patience=25\n)\n\nhistory = model.fit(\n        X_train, \n        y_train, \n        epochs=n_epochs, \n        batch_size=batchsize, \n        validation_data=(X_test, y_test),\n        callbacks=[early_stop],\n        use_multiprocessing=True\n)",
   "metadata": {
    "cell_id": "c5d8d11166354339863f731c25349546",
    "tags": [],
    "deepnote_to_be_reexecuted": false,
    "source_hash": "b48921f1",
    "execution_start": 1664872704471,
    "execution_millis": 28579,
    "deepnote_cell_type": "code",
    "deepnote_cell_height": 1452
   },
   "outputs": [
    {
     "name": "stdout",
     "text": "Epoch 1/200\n2022-10-04 08:38:24.434838: E tensorflow/stream_executor/cuda/cuda_driver.cc:271] failed call to cuInit: UNKNOWN ERROR (34)\n2022-10-04 08:38:24.434872: I tensorflow/stream_executor/cuda/cuda_diagnostics.cc:156] kernel driver does not appear to be running on this host (p-985da17b-3a43-4cd2-aed4-b3aeabe863c4): /proc/driver/nvidia/version does not exist\n2022-10-04 08:38:24.435099: I tensorflow/core/platform/cpu_feature_guard.cc:193] This TensorFlow binary is optimized with oneAPI Deep Neural Network Library (oneDNN) to use the following CPU instructions in performance-critical operations:  AVX2 AVX512F AVX512_VNNI FMA\nTo enable them in other operations, rebuild TensorFlow with the appropriate compiler flags.\n42/42 [==============================] - 1s 11ms/step - loss: 0.6652 - accuracy: 0.4382 - auc: 0.5654 - val_loss: 0.6205 - val_accuracy: 0.4477 - val_auc: 0.6663\nEpoch 2/200\n42/42 [==============================] - 0s 6ms/step - loss: 0.5478 - accuracy: 0.4482 - auc: 0.6509 - val_loss: 0.4600 - val_accuracy: 0.4477 - val_auc: 0.7291\nEpoch 3/200\n42/42 [==============================] - 0s 5ms/step - loss: 0.3767 - accuracy: 0.4482 - auc: 0.7344 - val_loss: 0.2978 - val_accuracy: 0.4477 - val_auc: 0.8313\nEpoch 4/200\n42/42 [==============================] - 0s 7ms/step - loss: 0.2468 - accuracy: 0.4482 - auc: 0.8312 - val_loss: 0.2048 - val_accuracy: 0.4477 - val_auc: 0.8443\nEpoch 5/200\n42/42 [==============================] - 0s 5ms/step - loss: 0.1818 - accuracy: 0.4482 - auc: 0.8414 - val_loss: 0.1636 - val_accuracy: 0.4477 - val_auc: 0.8602\nEpoch 6/200\n42/42 [==============================] - 0s 6ms/step - loss: 0.1535 - accuracy: 0.4482 - auc: 0.8630 - val_loss: 0.1456 - val_accuracy: 0.4477 - val_auc: 0.8883\nEpoch 7/200\n42/42 [==============================] - 0s 5ms/step - loss: 0.1407 - accuracy: 0.4482 - auc: 0.8874 - val_loss: 0.1368 - val_accuracy: 0.4477 - val_auc: 0.8985\nEpoch 8/200\n42/42 [==============================] - 0s 5ms/step - loss: 0.1342 - accuracy: 0.4482 - auc: 0.9006 - val_loss: 0.1322 - val_accuracy: 0.4477 - val_auc: 0.9058\nEpoch 9/200\n42/42 [==============================] - 0s 6ms/step - loss: 0.1305 - accuracy: 0.4482 - auc: 0.9053 - val_loss: 0.1294 - val_accuracy: 0.4477 - val_auc: 0.9084\nEpoch 10/200\n42/42 [==============================] - 0s 4ms/step - loss: 0.1282 - accuracy: 0.4482 - auc: 0.9057 - val_loss: 0.1276 - val_accuracy: 0.4477 - val_auc: 0.9074\nEpoch 11/200\n42/42 [==============================] - 0s 6ms/step - loss: 0.1267 - accuracy: 0.4482 - auc: 0.9086 - val_loss: 0.1264 - val_accuracy: 0.4477 - val_auc: 0.9111\nEpoch 12/200\n42/42 [==============================] - 0s 5ms/step - loss: 0.1257 - accuracy: 0.4482 - auc: 0.9077 - val_loss: 0.1255 - val_accuracy: 0.4477 - val_auc: 0.9071\nEpoch 13/200\n42/42 [==============================] - 0s 6ms/step - loss: 0.1248 - accuracy: 0.4482 - auc: 0.9080 - val_loss: 0.1248 - val_accuracy: 0.4477 - val_auc: 0.9079\nEpoch 14/200\n42/42 [==============================] - 0s 5ms/step - loss: 0.1242 - accuracy: 0.4482 - auc: 0.9098 - val_loss: 0.1243 - val_accuracy: 0.4477 - val_auc: 0.9107\nEpoch 15/200\n42/42 [==============================] - 0s 5ms/step - loss: 0.1238 - accuracy: 0.4482 - auc: 0.9107 - val_loss: 0.1239 - val_accuracy: 0.4477 - val_auc: 0.9105\nEpoch 16/200\n42/42 [==============================] - 0s 6ms/step - loss: 0.1234 - accuracy: 0.4482 - auc: 0.9095 - val_loss: 0.1235 - val_accuracy: 0.4477 - val_auc: 0.9087\nEpoch 17/200\n42/42 [==============================] - 0s 6ms/step - loss: 0.1231 - accuracy: 0.4482 - auc: 0.9087 - val_loss: 0.1233 - val_accuracy: 0.4477 - val_auc: 0.9086\nEpoch 18/200\n42/42 [==============================] - 0s 5ms/step - loss: 0.1229 - accuracy: 0.4482 - auc: 0.9093 - val_loss: 0.1231 - val_accuracy: 0.4477 - val_auc: 0.9097\nEpoch 19/200\n42/42 [==============================] - 0s 5ms/step - loss: 0.1227 - accuracy: 0.4482 - auc: 0.9101 - val_loss: 0.1229 - val_accuracy: 0.4477 - val_auc: 0.9096\nEpoch 20/200\n42/42 [==============================] - 0s 6ms/step - loss: 0.1225 - accuracy: 0.4482 - auc: 0.9101 - val_loss: 0.1227 - val_accuracy: 0.4477 - val_auc: 0.9108\nEpoch 21/200\n42/42 [==============================] - 0s 6ms/step - loss: 0.1224 - accuracy: 0.4482 - auc: 0.9112 - val_loss: 0.1227 - val_accuracy: 0.4477 - val_auc: 0.9108\nEpoch 22/200\n42/42 [==============================] - 0s 6ms/step - loss: 0.1223 - accuracy: 0.4482 - auc: 0.9117 - val_loss: 0.1225 - val_accuracy: 0.4477 - val_auc: 0.9114\nEpoch 23/200\n42/42 [==============================] - 0s 6ms/step - loss: 0.1222 - accuracy: 0.4482 - auc: 0.9116 - val_loss: 0.1224 - val_accuracy: 0.4477 - val_auc: 0.9114\nEpoch 24/200\n42/42 [==============================] - 0s 6ms/step - loss: 0.1221 - accuracy: 0.4482 - auc: 0.9114 - val_loss: 0.1224 - val_accuracy: 0.4477 - val_auc: 0.9114\nEpoch 25/200\n42/42 [==============================] - 0s 5ms/step - loss: 0.1220 - accuracy: 0.4482 - auc: 0.9116 - val_loss: 0.1223 - val_accuracy: 0.4477 - val_auc: 0.9114\nEpoch 26/200\n42/42 [==============================] - 0s 7ms/step - loss: 0.1220 - accuracy: 0.4482 - auc: 0.9108 - val_loss: 0.1222 - val_accuracy: 0.4477 - val_auc: 0.9111\nEpoch 27/200\n42/42 [==============================] - 0s 4ms/step - loss: 0.1219 - accuracy: 0.4482 - auc: 0.9111 - val_loss: 0.1222 - val_accuracy: 0.4477 - val_auc: 0.9111\nEpoch 28/200\n42/42 [==============================] - 0s 5ms/step - loss: 0.1219 - accuracy: 0.4482 - auc: 0.9109 - val_loss: 0.1221 - val_accuracy: 0.4477 - val_auc: 0.9111\nEpoch 29/200\n42/42 [==============================] - 0s 6ms/step - loss: 0.1218 - accuracy: 0.4482 - auc: 0.9109 - val_loss: 0.1221 - val_accuracy: 0.4477 - val_auc: 0.9111\nEpoch 30/200\n42/42 [==============================] - 0s 5ms/step - loss: 0.1218 - accuracy: 0.4482 - auc: 0.9106 - val_loss: 0.1221 - val_accuracy: 0.4477 - val_auc: 0.9104\nEpoch 31/200\n42/42 [==============================] - 0s 5ms/step - loss: 0.1218 - accuracy: 0.4482 - auc: 0.9103 - val_loss: 0.1220 - val_accuracy: 0.4477 - val_auc: 0.9106\nEpoch 32/200\n42/42 [==============================] - 0s 5ms/step - loss: 0.1217 - accuracy: 0.4482 - auc: 0.9104 - val_loss: 0.1221 - val_accuracy: 0.4477 - val_auc: 0.9104\nEpoch 33/200\n42/42 [==============================] - 0s 7ms/step - loss: 0.1217 - accuracy: 0.4482 - auc: 0.9103 - val_loss: 0.1220 - val_accuracy: 0.4477 - val_auc: 0.9101\nEpoch 34/200\n42/42 [==============================] - 0s 5ms/step - loss: 0.1217 - accuracy: 0.4482 - auc: 0.9103 - val_loss: 0.1220 - val_accuracy: 0.4477 - val_auc: 0.9106\nEpoch 35/200\n42/42 [==============================] - 0s 5ms/step - loss: 0.1217 - accuracy: 0.4482 - auc: 0.9101 - val_loss: 0.1220 - val_accuracy: 0.4477 - val_auc: 0.9104\nEpoch 36/200\n42/42 [==============================] - 0s 5ms/step - loss: 0.1216 - accuracy: 0.4482 - auc: 0.9103 - val_loss: 0.1219 - val_accuracy: 0.4477 - val_auc: 0.9106\nEpoch 37/200\n42/42 [==============================] - 0s 5ms/step - loss: 0.1216 - accuracy: 0.4482 - auc: 0.9103 - val_loss: 0.1219 - val_accuracy: 0.4477 - val_auc: 0.9104\nEpoch 38/200\n42/42 [==============================] - 0s 6ms/step - loss: 0.1216 - accuracy: 0.4482 - auc: 0.9104 - val_loss: 0.1219 - val_accuracy: 0.4477 - val_auc: 0.9106\nEpoch 39/200\n42/42 [==============================] - 0s 5ms/step - loss: 0.1216 - accuracy: 0.4482 - auc: 0.9103 - val_loss: 0.1219 - val_accuracy: 0.4477 - val_auc: 0.9106\nEpoch 40/200\n42/42 [==============================] - 0s 5ms/step - loss: 0.1216 - accuracy: 0.4482 - auc: 0.9104 - val_loss: 0.1219 - val_accuracy: 0.4477 - val_auc: 0.9106\nEpoch 41/200\n42/42 [==============================] - 0s 6ms/step - loss: 0.1216 - accuracy: 0.4482 - auc: 0.9104 - val_loss: 0.1219 - val_accuracy: 0.4477 - val_auc: 0.9106\nEpoch 42/200\n42/42 [==============================] - 0s 6ms/step - loss: 0.1216 - accuracy: 0.4482 - auc: 0.9103 - val_loss: 0.1219 - val_accuracy: 0.4477 - val_auc: 0.9106\nEpoch 43/200\n42/42 [==============================] - 0s 6ms/step - loss: 0.1216 - accuracy: 0.4482 - auc: 0.9103 - val_loss: 0.1219 - val_accuracy: 0.4477 - val_auc: 0.9106\nEpoch 44/200\n42/42 [==============================] - 0s 5ms/step - loss: 0.1216 - accuracy: 0.4482 - auc: 0.9102 - val_loss: 0.1219 - val_accuracy: 0.4477 - val_auc: 0.9106\nEpoch 45/200\n42/42 [==============================] - 0s 5ms/step - loss: 0.1215 - accuracy: 0.4482 - auc: 0.9103 - val_loss: 0.1219 - val_accuracy: 0.4477 - val_auc: 0.9106\nEpoch 46/200\n42/42 [==============================] - 0s 7ms/step - loss: 0.1215 - accuracy: 0.4482 - auc: 0.9100 - val_loss: 0.1218 - val_accuracy: 0.4477 - val_auc: 0.9106\nEpoch 47/200\n42/42 [==============================] - 0s 5ms/step - loss: 0.1215 - accuracy: 0.4482 - auc: 0.9105 - val_loss: 0.1218 - val_accuracy: 0.4477 - val_auc: 0.9106\nEpoch 48/200\n42/42 [==============================] - 0s 6ms/step - loss: 0.1215 - accuracy: 0.4482 - auc: 0.9103 - val_loss: 0.1218 - val_accuracy: 0.4477 - val_auc: 0.9106\nEpoch 49/200\n42/42 [==============================] - 0s 6ms/step - loss: 0.1215 - accuracy: 0.4482 - auc: 0.9105 - val_loss: 0.1218 - val_accuracy: 0.4477 - val_auc: 0.9106\nEpoch 50/200\n42/42 [==============================] - 0s 6ms/step - loss: 0.1215 - accuracy: 0.4482 - auc: 0.9104 - val_loss: 0.1218 - val_accuracy: 0.4477 - val_auc: 0.9103\nEpoch 51/200\n42/42 [==============================] - 0s 5ms/step - loss: 0.1215 - accuracy: 0.4482 - auc: 0.9105 - val_loss: 0.1218 - val_accuracy: 0.4477 - val_auc: 0.9106\nEpoch 52/200\n42/42 [==============================] - 0s 6ms/step - loss: 0.1215 - accuracy: 0.4482 - auc: 0.9105 - val_loss: 0.1218 - val_accuracy: 0.4477 - val_auc: 0.9106\nEpoch 53/200\n42/42 [==============================] - 0s 6ms/step - loss: 0.1215 - accuracy: 0.4482 - auc: 0.9105 - val_loss: 0.1218 - val_accuracy: 0.4477 - val_auc: 0.9104\nEpoch 54/200\n42/42 [==============================] - 0s 5ms/step - loss: 0.1215 - accuracy: 0.4482 - auc: 0.9104 - val_loss: 0.1218 - val_accuracy: 0.4477 - val_auc: 0.9106\nEpoch 55/200\n42/42 [==============================] - 0s 6ms/step - loss: 0.1215 - accuracy: 0.4482 - auc: 0.9102 - val_loss: 0.1218 - val_accuracy: 0.4477 - val_auc: 0.9103\nEpoch 56/200\n42/42 [==============================] - 0s 5ms/step - loss: 0.1215 - accuracy: 0.4482 - auc: 0.9104 - val_loss: 0.1218 - val_accuracy: 0.4477 - val_auc: 0.9106\nEpoch 57/200\n42/42 [==============================] - 0s 5ms/step - loss: 0.1215 - accuracy: 0.4482 - auc: 0.9105 - val_loss: 0.1218 - val_accuracy: 0.4477 - val_auc: 0.9103\nEpoch 58/200\n42/42 [==============================] - 0s 7ms/step - loss: 0.1215 - accuracy: 0.4482 - auc: 0.9104 - val_loss: 0.1218 - val_accuracy: 0.4477 - val_auc: 0.9103\nEpoch 59/200\n42/42 [==============================] - 0s 5ms/step - loss: 0.1215 - accuracy: 0.4482 - auc: 0.9104 - val_loss: 0.1218 - val_accuracy: 0.4477 - val_auc: 0.9106\nEpoch 60/200\n42/42 [==============================] - 0s 6ms/step - loss: 0.1215 - accuracy: 0.4482 - auc: 0.9105 - val_loss: 0.1218 - val_accuracy: 0.4477 - val_auc: 0.9106\nEpoch 61/200\n42/42 [==============================] - 0s 5ms/step - loss: 0.1215 - accuracy: 0.4482 - auc: 0.9104 - val_loss: 0.1218 - val_accuracy: 0.4477 - val_auc: 0.9106\nEpoch 62/200\n42/42 [==============================] - 0s 5ms/step - loss: 0.1214 - accuracy: 0.4482 - auc: 0.9104 - val_loss: 0.1218 - val_accuracy: 0.4477 - val_auc: 0.9106\nEpoch 63/200\n42/42 [==============================] - 0s 7ms/step - loss: 0.1214 - accuracy: 0.4482 - auc: 0.9103 - val_loss: 0.1218 - val_accuracy: 0.4477 - val_auc: 0.9106\nEpoch 64/200\n42/42 [==============================] - 0s 5ms/step - loss: 0.1215 - accuracy: 0.4482 - auc: 0.9102 - val_loss: 0.1218 - val_accuracy: 0.4477 - val_auc: 0.9106\nEpoch 65/200\n42/42 [==============================] - 0s 6ms/step - loss: 0.1214 - accuracy: 0.4482 - auc: 0.9108 - val_loss: 0.1218 - val_accuracy: 0.4477 - val_auc: 0.9106\nEpoch 66/200\n42/42 [==============================] - 0s 5ms/step - loss: 0.1215 - accuracy: 0.4482 - auc: 0.9104 - val_loss: 0.1218 - val_accuracy: 0.4477 - val_auc: 0.9106\nEpoch 67/200\n42/42 [==============================] - 0s 6ms/step - loss: 0.1214 - accuracy: 0.4482 - auc: 0.9104 - val_loss: 0.1218 - val_accuracy: 0.4477 - val_auc: 0.9106\nEpoch 68/200\n42/42 [==============================] - 0s 5ms/step - loss: 0.1214 - accuracy: 0.4482 - auc: 0.9104 - val_loss: 0.1218 - val_accuracy: 0.4477 - val_auc: 0.9106\nEpoch 69/200\n42/42 [==============================] - 0s 5ms/step - loss: 0.1214 - accuracy: 0.4482 - auc: 0.9103 - val_loss: 0.1218 - val_accuracy: 0.4477 - val_auc: 0.9106\nEpoch 70/200\n42/42 [==============================] - 0s 6ms/step - loss: 0.1214 - accuracy: 0.4482 - auc: 0.9104 - val_loss: 0.1218 - val_accuracy: 0.4477 - val_auc: 0.9106\nEpoch 71/200\n42/42 [==============================] - 0s 6ms/step - loss: 0.1214 - accuracy: 0.4482 - auc: 0.9108 - val_loss: 0.1218 - val_accuracy: 0.4477 - val_auc: 0.9111\nEpoch 72/200\n42/42 [==============================] - 0s 5ms/step - loss: 0.1214 - accuracy: 0.4482 - auc: 0.9105 - val_loss: 0.1218 - val_accuracy: 0.4477 - val_auc: 0.9108\nEpoch 73/200\n42/42 [==============================] - 0s 6ms/step - loss: 0.1214 - accuracy: 0.4482 - auc: 0.9104 - val_loss: 0.1218 - val_accuracy: 0.4477 - val_auc: 0.9106\nEpoch 74/200\n42/42 [==============================] - 0s 6ms/step - loss: 0.1214 - accuracy: 0.4482 - auc: 0.9104 - val_loss: 0.1218 - val_accuracy: 0.4477 - val_auc: 0.9104\nEpoch 75/200\n42/42 [==============================] - 0s 6ms/step - loss: 0.1214 - accuracy: 0.4482 - auc: 0.9102 - val_loss: 0.1218 - val_accuracy: 0.4477 - val_auc: 0.9103\nEpoch 76/200\n42/42 [==============================] - 0s 6ms/step - loss: 0.1214 - accuracy: 0.4482 - auc: 0.9103 - val_loss: 0.1218 - val_accuracy: 0.4477 - val_auc: 0.9106\nEpoch 77/200\n42/42 [==============================] - 0s 5ms/step - loss: 0.1214 - accuracy: 0.4482 - auc: 0.9100 - val_loss: 0.1218 - val_accuracy: 0.4477 - val_auc: 0.9111\nEpoch 78/200\n42/42 [==============================] - 0s 7ms/step - loss: 0.1214 - accuracy: 0.4482 - auc: 0.9111 - val_loss: 0.1218 - val_accuracy: 0.4477 - val_auc: 0.9111\nEpoch 79/200\n42/42 [==============================] - 0s 5ms/step - loss: 0.1214 - accuracy: 0.4482 - auc: 0.9102 - val_loss: 0.1218 - val_accuracy: 0.4477 - val_auc: 0.9106\nEpoch 80/200\n42/42 [==============================] - 0s 7ms/step - loss: 0.1214 - accuracy: 0.4482 - auc: 0.9106 - val_loss: 0.1218 - val_accuracy: 0.4477 - val_auc: 0.9111\nEpoch 81/200\n42/42 [==============================] - 0s 5ms/step - loss: 0.1214 - accuracy: 0.4482 - auc: 0.9102 - val_loss: 0.1218 - val_accuracy: 0.4477 - val_auc: 0.9103\nEpoch 82/200\n42/42 [==============================] - 0s 7ms/step - loss: 0.1214 - accuracy: 0.4482 - auc: 0.9107 - val_loss: 0.1218 - val_accuracy: 0.4477 - val_auc: 0.9108\nEpoch 83/200\n42/42 [==============================] - 0s 4ms/step - loss: 0.1214 - accuracy: 0.4482 - auc: 0.9103 - val_loss: 0.1218 - val_accuracy: 0.4477 - val_auc: 0.9108\nEpoch 84/200\n42/42 [==============================] - 0s 5ms/step - loss: 0.1214 - accuracy: 0.4482 - auc: 0.9111 - val_loss: 0.1218 - val_accuracy: 0.4477 - val_auc: 0.9111\nEpoch 85/200\n42/42 [==============================] - 0s 6ms/step - loss: 0.1214 - accuracy: 0.4482 - auc: 0.9112 - val_loss: 0.1218 - val_accuracy: 0.4477 - val_auc: 0.9111\nEpoch 86/200\n42/42 [==============================] - 0s 5ms/step - loss: 0.1214 - accuracy: 0.4482 - auc: 0.9106 - val_loss: 0.1218 - val_accuracy: 0.4477 - val_auc: 0.9104\nEpoch 87/200\n42/42 [==============================] - 0s 5ms/step - loss: 0.1214 - accuracy: 0.4482 - auc: 0.9104 - val_loss: 0.1218 - val_accuracy: 0.4477 - val_auc: 0.9103\nEpoch 88/200\n42/42 [==============================] - 0s 7ms/step - loss: 0.1214 - accuracy: 0.4482 - auc: 0.9103 - val_loss: 0.1218 - val_accuracy: 0.4477 - val_auc: 0.9106\nEpoch 89/200\n42/42 [==============================] - 0s 5ms/step - loss: 0.1214 - accuracy: 0.4482 - auc: 0.9104 - val_loss: 0.1218 - val_accuracy: 0.4477 - val_auc: 0.9108\nEpoch 90/200\n42/42 [==============================] - 0s 6ms/step - loss: 0.1214 - accuracy: 0.4482 - auc: 0.9113 - val_loss: 0.1218 - val_accuracy: 0.4477 - val_auc: 0.9109\nEpoch 91/200\n42/42 [==============================] - 0s 5ms/step - loss: 0.1214 - accuracy: 0.4482 - auc: 0.9105 - val_loss: 0.1218 - val_accuracy: 0.4477 - val_auc: 0.9104\nEpoch 92/200\n42/42 [==============================] - 0s 6ms/step - loss: 0.1214 - accuracy: 0.4482 - auc: 0.9105 - val_loss: 0.1218 - val_accuracy: 0.4477 - val_auc: 0.9106\nEpoch 93/200\n42/42 [==============================] - 0s 6ms/step - loss: 0.1214 - accuracy: 0.4482 - auc: 0.9103 - val_loss: 0.1218 - val_accuracy: 0.4477 - val_auc: 0.9111\nEpoch 94/200\n42/42 [==============================] - 0s 5ms/step - loss: 0.1214 - accuracy: 0.4482 - auc: 0.9107 - val_loss: 0.1218 - val_accuracy: 0.4477 - val_auc: 0.9111\nEpoch 95/200\n42/42 [==============================] - 0s 6ms/step - loss: 0.1214 - accuracy: 0.4482 - auc: 0.9111 - val_loss: 0.1218 - val_accuracy: 0.4477 - val_auc: 0.9108\nEpoch 96/200\n42/42 [==============================] - 0s 6ms/step - loss: 0.1214 - accuracy: 0.4482 - auc: 0.9109 - val_loss: 0.1218 - val_accuracy: 0.4477 - val_auc: 0.9108\nEpoch 97/200\n42/42 [==============================] - 0s 5ms/step - loss: 0.1214 - accuracy: 0.4482 - auc: 0.9112 - val_loss: 0.1218 - val_accuracy: 0.4477 - val_auc: 0.9108\nEpoch 98/200\n42/42 [==============================] - 0s 6ms/step - loss: 0.1214 - accuracy: 0.4482 - auc: 0.9102 - val_loss: 0.1218 - val_accuracy: 0.4477 - val_auc: 0.9111\nEpoch 99/200\n42/42 [==============================] - 0s 6ms/step - loss: 0.1214 - accuracy: 0.4482 - auc: 0.9104 - val_loss: 0.1218 - val_accuracy: 0.4477 - val_auc: 0.9111\nEpoch 100/200\n42/42 [==============================] - 0s 5ms/step - loss: 0.1214 - accuracy: 0.4482 - auc: 0.9107 - val_loss: 0.1218 - val_accuracy: 0.4477 - val_auc: 0.9103\nEpoch 101/200\n42/42 [==============================] - 0s 7ms/step - loss: 0.1214 - accuracy: 0.4482 - auc: 0.9105 - val_loss: 0.1218 - val_accuracy: 0.4477 - val_auc: 0.9111\nEpoch 102/200\n42/42 [==============================] - 0s 4ms/step - loss: 0.1214 - accuracy: 0.4482 - auc: 0.9105 - val_loss: 0.1218 - val_accuracy: 0.4477 - val_auc: 0.9103\nEpoch 103/200\n42/42 [==============================] - 0s 7ms/step - loss: 0.1214 - accuracy: 0.4482 - auc: 0.9105 - val_loss: 0.1218 - val_accuracy: 0.4477 - val_auc: 0.9106\nEpoch 104/200\n42/42 [==============================] - 0s 6ms/step - loss: 0.1214 - accuracy: 0.4482 - auc: 0.9103 - val_loss: 0.1218 - val_accuracy: 0.4477 - val_auc: 0.9106\nEpoch 105/200\n42/42 [==============================] - 0s 5ms/step - loss: 0.1214 - accuracy: 0.4482 - auc: 0.9110 - val_loss: 0.1218 - val_accuracy: 0.4477 - val_auc: 0.9111\nEpoch 106/200\n42/42 [==============================] - 0s 6ms/step - loss: 0.1214 - accuracy: 0.4482 - auc: 0.9101 - val_loss: 0.1218 - val_accuracy: 0.4477 - val_auc: 0.9106\nEpoch 107/200\n42/42 [==============================] - 0s 5ms/step - loss: 0.1214 - accuracy: 0.4482 - auc: 0.9105 - val_loss: 0.1218 - val_accuracy: 0.4477 - val_auc: 0.9108\nEpoch 108/200\n42/42 [==============================] - 0s 7ms/step - loss: 0.1214 - accuracy: 0.4482 - auc: 0.9111 - val_loss: 0.1218 - val_accuracy: 0.4477 - val_auc: 0.9111\nEpoch 109/200\n42/42 [==============================] - 0s 5ms/step - loss: 0.1214 - accuracy: 0.4482 - auc: 0.9112 - val_loss: 0.1218 - val_accuracy: 0.4477 - val_auc: 0.9111\nEpoch 110/200\n42/42 [==============================] - 0s 5ms/step - loss: 0.1214 - accuracy: 0.4482 - auc: 0.9109 - val_loss: 0.1218 - val_accuracy: 0.4477 - val_auc: 0.9106\nEpoch 111/200\n42/42 [==============================] - 0s 5ms/step - loss: 0.1214 - accuracy: 0.4482 - auc: 0.9109 - val_loss: 0.1218 - val_accuracy: 0.4477 - val_auc: 0.9111\nEpoch 112/200\n42/42 [==============================] - 0s 5ms/step - loss: 0.1214 - accuracy: 0.4482 - auc: 0.9104 - val_loss: 0.1218 - val_accuracy: 0.4477 - val_auc: 0.9101\nEpoch 113/200\n42/42 [==============================] - 0s 6ms/step - loss: 0.1214 - accuracy: 0.4482 - auc: 0.9104 - val_loss: 0.1218 - val_accuracy: 0.4477 - val_auc: 0.9103\nEpoch 113: early stopping\n",
     "output_type": "stream"
    }
   ],
   "execution_count": 7
  },
  {
   "cell_type": "code",
   "source": "for i, val in enumerate(model.predict(X_test.head(1))[0]):\n    print(f'{y.columns[i]}: {val:.2f}')",
   "metadata": {
    "cell_id": "551568440b374e0a9dfbe1ca5f4298f3",
    "tags": [],
    "deepnote_to_be_reexecuted": false,
    "source_hash": "20e4abb3",
    "execution_start": 1664872732624,
    "execution_millis": 427,
    "deepnote_cell_type": "code",
    "deepnote_cell_height": 545,
    "deepnote_output_heights": [
     null,
     58
    ]
   },
   "outputs": [
    {
     "name": "stdout",
     "text": "1/1 [==============================] - 0s 64ms/step\ntype_attic-flat: 0.02\ntype_attic-room: 0.00\ntype_castle: 0.00\ntype_chalet: 0.02\ntype_detached-house: 0.27\ntype_detached-secondary-suite: 0.00\ntype_duplex-maisonette: 0.03\ntype_farmhouse: 0.01\ntype_flat: 0.44\ntype_furnished-residential-property: 0.00\ntype_loft: 0.00\ntype_penthouse: 0.04\ntype_rustico: 0.00\ntype_secondary-suite: 0.00\ntype_semi-detached-house: 0.04\ntype_single-room: 0.00\ntype_stepped-apartment: 0.01\ntype_stepped-house: 0.00\ntype_studio: 0.00\ntype_terrace-house: 0.04\ntype_villa: 0.05\n",
     "output_type": "stream"
    }
   ],
   "execution_count": 8
  },
  {
   "cell_type": "code",
   "source": "for i, val in enumerate(y_test.head(1).values[0]):\n    print(f'{y.columns[i]}: {val:.0f}')",
   "metadata": {
    "cell_id": "2e0a6e717b0c4929a4cb92684738b78f",
    "tags": [],
    "deepnote_to_be_reexecuted": false,
    "source_hash": "8a4da9ab",
    "execution_start": 1664872732684,
    "execution_millis": 368,
    "deepnote_cell_type": "code",
    "deepnote_cell_height": 525
   },
   "outputs": [
    {
     "name": "stdout",
     "text": "type_attic-flat: 0\ntype_attic-room: 0\ntype_castle: 0\ntype_chalet: 0\ntype_detached-house: 0\ntype_detached-secondary-suite: 0\ntype_duplex-maisonette: 0\ntype_farmhouse: 0\ntype_flat: 1\ntype_furnished-residential-property: 0\ntype_loft: 0\ntype_penthouse: 0\ntype_rustico: 0\ntype_secondary-suite: 0\ntype_semi-detached-house: 0\ntype_single-room: 0\ntype_stepped-apartment: 0\ntype_stepped-house: 0\ntype_studio: 0\ntype_terrace-house: 0\ntype_villa: 0\n",
     "output_type": "stream"
    }
   ],
   "execution_count": 9
  },
  {
   "cell_type": "markdown",
   "source": "<a style='text-decoration:none;line-height:16px;display:flex;color:#5B5B62;padding:10px;justify-content:end;' href='https://deepnote.com?utm_source=created-in-deepnote-cell&projectId=985da17b-3a43-4cd2-aed4-b3aeabe863c4' target=\"_blank\">\n<img alt='Created in deepnote.com' style='display:inline;max-height:16px;margin:0px;margin-right:7.5px;' src='data:image/svg+xml;base64,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' > </img>\nCreated in <span style='font-weight:600;margin-left:4px;'>Deepnote</span></a>",
   "metadata": {
    "tags": [],
    "created_in_deepnote_cell": true,
    "deepnote_cell_type": "markdown"
   }
  }
 ],
 "nbformat": 4,
 "nbformat_minor": 2,
 "metadata": {
  "kernelspec": {
   "display_name": "Python 3.9.7 ('base')",
   "language": "python",
   "name": "python3"
  },
  "language_info": {
   "codemirror_mode": {
    "name": "ipython",
    "version": 3
   },
   "file_extension": ".py",
   "mimetype": "text/x-python",
   "name": "python",
   "nbconvert_exporter": "python",
   "pygments_lexer": "ipython3",
   "version": "3.9.7"
  },
  "orig_nbformat": 4,
  "vscode": {
   "interpreter": {
    "hash": "f46e390ebb1ddf5491fd89d9ad6ad07bce30ede12b9a11821d34b748251f6923"
   }
  },
  "deepnote_notebook_id": "6c26fc27-bbb2-493c-9413-b94209517f23",
  "deepnote": {},
  "deepnote_persisted_session": {
   "createdAt": "2022-10-04T06:58:41.074Z"
  },
  "deepnote_execution_queue": []
 }
}