{
 "cells": [
  {
   "cell_type": "code",
   "execution_count": 36,
   "metadata": {},
   "outputs": [],
   "source": [
    "from sklearn.model_selection import train_test_split\n",
    "from sklearn.metrics import accuracy_score\n",
    "import matplotlib.pyplot as plt\n",
    "import numpy as np\n",
    "import pandas as pd\n",
    "import utils.remove_cols as remove_cols\n",
    "from sklearn.multiclass import OneVsRestClassifier\n",
    "from sklearn.svm import SVC\n",
    "from sklearn.linear_model import LogisticRegression\n",
    "from sklearn.neighbors import KNeighborsClassifier\n",
    "from sklearn.ensemble import RandomForestClassifier\n",
    "from sklearn.ensemble import BaggingClassifier\n",
    "from sklearn.preprocessing import StandardScaler"
   ]
  },
  {
   "cell_type": "markdown",
   "metadata": {},
   "source": [
    "# IMPORTIEREN"
   ]
  },
  {
   "cell_type": "code",
   "execution_count": 37,
   "metadata": {},
   "outputs": [
    {
     "name": "stderr",
     "output_type": "stream",
     "text": [
      "/tmp/ipykernel_98640/2143901549.py:1: DtypeWarning: Columns (33) have mixed types. Specify dtype option on import or set low_memory=False.\n",
      "  df = pd.read_csv(\"immoscout_cleaned_lat_lon_fixed_v7.csv\")\n"
     ]
    }
   ],
   "source": [
    "df = pd.read_csv(\"immoscout_cleaned_lat_lon_fixed_v7.csv\")"
   ]
  },
  {
   "cell_type": "markdown",
   "metadata": {},
   "source": [
    "# BEREINIGEN / IMPUTIEREN"
   ]
  },
  {
   "cell_type": "code",
   "execution_count": null,
   "metadata": {},
   "outputs": [],
   "source": []
  },
  {
   "cell_type": "markdown",
   "metadata": {},
   "source": [
    "# TRANSFORMIEREN"
   ]
  },
  {
   "cell_type": "code",
   "execution_count": 38,
   "metadata": {},
   "outputs": [
    {
     "name": "stdout",
     "output_type": "stream",
     "text": [
      "{0: 'penthouse', 1: 'terrace-house', 2: 'detached-house', 3: 'flat', 4: 'stepped-house', 5: 'farmhouse', 6: 'semi-detached-house', 7: 'stepped-apartment', 8: 'duplex-maisonette', 9: 'attic-flat', 10: 'loft', 11: 'chalet', 12: 'villa', 13: 'attic-room', 14: 'secondary-suite', 15: 'castle', 16: 'detached-secondary-suite', 17: 'studio', 18: 'furnished-residential-property', 19: 'rustico', 20: 'single-room'} {'penthouse': 0, 'terrace-house': 1, 'detached-house': 2, 'flat': 3, 'stepped-house': 4, 'farmhouse': 5, 'semi-detached-house': 6, 'stepped-apartment': 7, 'duplex-maisonette': 8, 'attic-flat': 9, 'loft': 10, 'chalet': 11, 'villa': 12, 'attic-room': 13, 'secondary-suite': 14, 'castle': 15, 'detached-secondary-suite': 16, 'studio': 17, 'furnished-residential-property': 18, 'rustico': 19, 'single-room': 20}\n"
     ]
    }
   ],
   "source": [
    "# create dictionary with object-type information\n",
    "types_nrs = dict(enumerate(df[\"type\"].unique()))\n",
    "types_name = {v: k for k, v in types_nrs.items()}\n",
    "print(types_nrs, types_name)\n",
    "# change object-type to numeric value\n",
    "df[\"type\"] = df[\"type\"].map(types_name)\n",
    "\n",
    "# keep only cols with type int or float\n",
    "df = df.select_dtypes(include=[\"int64\", \"float64\"])\n",
    "# remove specific columns\n",
    "df_remove = pd.read_excel(\"fixtures/remove_cols.xlsx\")\n",
    "df_remove = remove_cols.remove_chars_space(df_remove, \"feature\")\n",
    "dct = remove_cols.get_dct_from_df(df_remove)\n",
    "assert len(dct) == len(df.columns)\n",
    "df = df[[k for k, v in dct.items() if v == 1]]\n",
    "\n",
    "# test\n",
    "assert len(df.columns) == 30\n",
    "assert df.values.shape[0] != 0"
   ]
  },
  {
   "cell_type": "markdown",
   "metadata": {},
   "source": [
    "# PREPARE DATA"
   ]
  },
  {
   "cell_type": "code",
   "execution_count": 39,
   "metadata": {},
   "outputs": [],
   "source": [
    "# drop nan because the model can't handle them\n",
    "df = df.dropna() # 1016 / 13378 = 7.6% of data is lost\n",
    "# make Matrix y as target with column type\n",
    "y = df[\"type\"].values[:, np.newaxis]\n",
    "# make Matrix X as features with all columns except type\n",
    "X = df.drop([\"type\"], axis=1).values\n",
    "assert type(y) == np.ndarray\n",
    "assert type(X) == np.ndarray\n",
    "# standardize X\n",
    "scaler = StandardScaler().fit(X)\n",
    "X = scaler.transform(X)\n",
    "# split data into train and test\n",
    "X_train, X_test, y_train, y_test = train_test_split(X, y, test_size=0.2)"
   ]
  },
  {
   "cell_type": "markdown",
   "metadata": {},
   "source": [
    "# FIT, PREDICT, SCORE"
   ]
  },
  {
   "cell_type": "code",
   "execution_count": 40,
   "metadata": {},
   "outputs": [
    {
     "data": {
      "text/plain": [
       "((9889, 29), (2473, 29))"
      ]
     },
     "execution_count": 40,
     "metadata": {},
     "output_type": "execute_result"
    }
   ],
   "source": [
    "X_train.shape, X_test.shape"
   ]
  },
  {
   "cell_type": "code",
   "execution_count": 41,
   "metadata": {},
   "outputs": [],
   "source": [
    "import torch"
   ]
  },
  {
   "cell_type": "code",
   "execution_count": 42,
   "metadata": {},
   "outputs": [
    {
     "data": {
      "text/plain": [
       "torch.Size([9889, 29])"
      ]
     },
     "execution_count": 42,
     "metadata": {},
     "output_type": "execute_result"
    }
   ],
   "source": [
    "# create tensors from numpy arrays\n",
    "X_train = torch.from_numpy(X_train.astype(np.float32))\n",
    "X_test  = torch.from_numpy(X_test.astype(np.float32))\n",
    "y_train = torch.from_numpy(y_train.astype(np.float32))\n",
    "y_test  = torch.from_numpy(y_test.astype(np.float32))\n",
    "X_train.shape"
   ]
  },
  {
   "cell_type": "code",
   "execution_count": 43,
   "metadata": {},
   "outputs": [],
   "source": [
    "# Create Class AutoEncoder\n",
    "class AutoEncoder(torch.nn.Module):\n",
    "    def __init__(self, **kwargs):\n",
    "        super().__init__()\n",
    "        self.encoder_hidden_layer = torch.nn.Linear(\n",
    "            in_features=kwargs[\"n_features\"], out_features=128 # in_features = [n_samples, n_features]\n",
    "        )\n",
    "        self.encoder_output_layer = torch.nn.Linear(\n",
    "            in_features=128, out_features=128\n",
    "        )\n",
    "        self.decoder_hidden_layer = torch.nn.Linear(\n",
    "            in_features=128, out_features=128\n",
    "        )\n",
    "        self.decoder_output_layer = torch.nn.Linear(\n",
    "            in_features=128, out_features=kwargs[\"n_features\"]\n",
    "        )\n",
    "\n",
    "    def forward(self, features):\n",
    "        activation = self.encoder_hidden_layer(features)\n",
    "        activation = torch.relu(activation)\n",
    "        code = self.encoder_output_layer(activation)\n",
    "        code = torch.relu(code)\n",
    "        activation = self.decoder_hidden_layer(code)\n",
    "        activation = torch.relu(activation)\n",
    "        activation = self.decoder_output_layer(activation)\n",
    "        reconstructed = torch.relu(activation)\n",
    "        return reconstructed"
   ]
  },
  {
   "cell_type": "code",
   "execution_count": 45,
   "metadata": {},
   "outputs": [],
   "source": [
    "model = AutoEncoder(n_features=29)\n",
    "optimizer = torch.optim.Adam(model.parameters(), lr=0.003)\n",
    "criterion = torch.nn.MSELoss()"
   ]
  },
  {
   "cell_type": "code",
   "execution_count": null,
   "metadata": {},
   "outputs": [],
   "source": [
    "for epoch in range(1000):\n",
    "    optimizer.zero_grad()\n",
    "    outputs = model()"
   ]
  }
 ],
 "metadata": {
  "kernelspec": {
   "display_name": "Python 3.10.6 ('base')",
   "language": "python",
   "name": "python3"
  },
  "language_info": {
   "codemirror_mode": {
    "name": "ipython",
    "version": 3
   },
   "file_extension": ".py",
   "mimetype": "text/x-python",
   "name": "python",
   "nbconvert_exporter": "python",
   "pygments_lexer": "ipython3",
   "version": "3.10.6"
  },
  "orig_nbformat": 4,
  "vscode": {
   "interpreter": {
    "hash": "d4d1e4263499bec80672ea0156c357c1ee493ec2b1c70f0acce89fc37c4a6abe"
   }
  }
 },
 "nbformat": 4,
 "nbformat_minor": 2
}
